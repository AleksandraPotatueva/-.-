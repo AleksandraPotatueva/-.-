{
 "cells": [
  {
   "cell_type": "markdown",
   "metadata": {},
   "source": [
    "# Принятие решений в бизнесе интернет-магазина. \n",
    "\n",
    "**Описание проекта.**\n",
    "\n",
    "Командой аналитиков подготовлен список гипотез для увеличения выручки интернет-магазина. В проекте проведена\n",
    "приоритизация гипотез, анализ результатов A/B-теста.\n",
    "\n",
    "**Описание данных.**\n",
    "\n",
    "В распоряжении три датасета. Файл **hypothesis.csv** со списком гипотез, **orders.csv** — информация о заказах, а **visitors.csv** — информация о визитах пользователей.\n",
    "\n",
    "Список гипотез - **hypothesis.csv**\n",
    "\n",
    "Название столбца      | Расшифровка\n",
    ":-------------:       |:-------------:\n",
    "**Hypothesis**        | краткое описание гипотезы\n",
    "**Reach**             | охват пользователей по 10-балльной шкале\n",
    "**Impact**            |\tвлияние на пользователей по 10-балльной шкале\n",
    "**Confidence**        |\tуверенность в гипотезе по 10-балльной шкале\n",
    "**Efforts**           |\tзатраты ресурсов на проверку гипотезы по 10-балльной шкале\n",
    "\n",
    "\n",
    "Информация о заказах - **orders.csv**\n",
    "\n",
    "Название столбца      | Расшифровка\n",
    ":-------------:       |:-------------:\n",
    "**transactionId**     | идентификатор заказа\n",
    "**visitorId**         | идентификатор пользователя, совершившего заказ\n",
    "**date**              |\tдата, когда был совершён заказ\n",
    "**revenue**           | выручка заказа\n",
    "**group**             |\tгруппа A/B-теста, в которую попал заказ\n",
    "\n",
    "Информация о визитах пользователей - **visitors.csv**\n",
    "\n",
    "Название столбца | Расшифровка\n",
    ":-------------:  |:-------------:\n",
    "**date**         | дата\n",
    "**group**        | группа A/B-теста\n",
    "**visitors**     | количество пользователей в указанную дату в указанной группе A/B-теста\n",
    "\n",
    "**Цель исследования:**\n",
    "\n",
    "- выполнить приоритизацию гипотез;\n",
    "- выполнить анализ результатов проведенного А/В теста;\n",
    "- принять решение об остановке или продолжении теста.\n",
    "\n",
    "**Ход исследования:**\n",
    "\n",
    "1) Открытие файлов, изучение общей информации о полученных датафреймах, предобработка данных.\n",
    "\n",
    "2) Приоритизация гипотез с помощью фреймворков ICE и RICE;\n",
    "\n",
    "3) Анализ результатов А/В теста:\n",
    "\n",
    "    - анализ кумулятивных данных по группам;\n",
    "\n",
    "    - построение точечных графиков количества и стоимости заказов по пользователям;\n",
    "\n",
    "    - определение границ для аномальных данных с помощью подсчета перцентилей;\n",
    "\n",
    "    - подсчет статистической значимости различий между группами по «сырым» и «очищенным» данным.\n",
    "    \n",
    "4) Вывод по резульатам исследованных данных."
   ]
  },
  {
   "cell_type": "markdown",
   "metadata": {},
   "source": [
    "### Загрузка данных, подготовка к анализу"
   ]
  },
  {
   "cell_type": "markdown",
   "metadata": {},
   "source": [
    "#### Загрузка данных."
   ]
  },
  {
   "cell_type": "code",
   "execution_count": 1,
   "metadata": {},
   "outputs": [],
   "source": [
    "# импорт нужных библиотек\n",
    "import pandas as pd\n",
    "import matplotlib.pyplot as plt\n",
    "import numpy as np\n",
    "import datetime as dt\n",
    "import seaborn as sns\n",
    "import scipy.stats as stats"
   ]
  },
  {
   "cell_type": "code",
   "execution_count": 2,
   "metadata": {},
   "outputs": [],
   "source": [
    "# чтение файлов с данными\n",
    "hypothesis, orders, visitors = (\n",
    "    pd.read_csv('/datasets/hypothesis.csv'),  # список гипотез\n",
    "    pd.read_csv('/datasets/orders.csv'),  # заказы\n",
    "    pd.read_csv('/datasets/visitors.csv')  # визиты\n",
    ")"
   ]
  },
  {
   "cell_type": "code",
   "execution_count": 3,
   "metadata": {},
   "outputs": [],
   "source": [
    "# снятие ограничений на количество отображаемых столбцов и количество символов в записи\n",
    "pd.set_option('display.max_columns', None)\n",
    "pd.set_option('display.max_colwidth', None)"
   ]
  },
  {
   "cell_type": "markdown",
   "metadata": {},
   "source": [
    "#### Изучение общей информации."
   ]
  },
  {
   "cell_type": "markdown",
   "metadata": {},
   "source": [
    "Выведем первые строки таблиц и общую информацию о каждом датафрейме."
   ]
  },
  {
   "cell_type": "code",
   "execution_count": 4,
   "metadata": {},
   "outputs": [
    {
     "data": {
      "text/html": [
       "<div>\n",
       "<style scoped>\n",
       "    .dataframe tbody tr th:only-of-type {\n",
       "        vertical-align: middle;\n",
       "    }\n",
       "\n",
       "    .dataframe tbody tr th {\n",
       "        vertical-align: top;\n",
       "    }\n",
       "\n",
       "    .dataframe thead th {\n",
       "        text-align: right;\n",
       "    }\n",
       "</style>\n",
       "<table border=\"1\" class=\"dataframe\">\n",
       "  <thead>\n",
       "    <tr style=\"text-align: right;\">\n",
       "      <th></th>\n",
       "      <th>Hypothesis</th>\n",
       "      <th>Reach</th>\n",
       "      <th>Impact</th>\n",
       "      <th>Confidence</th>\n",
       "      <th>Efforts</th>\n",
       "    </tr>\n",
       "  </thead>\n",
       "  <tbody>\n",
       "    <tr>\n",
       "      <th>0</th>\n",
       "      <td>Добавить два новых канала привлечения трафика, что позволит привлекать на 30% больше пользователей</td>\n",
       "      <td>3</td>\n",
       "      <td>10</td>\n",
       "      <td>8</td>\n",
       "      <td>6</td>\n",
       "    </tr>\n",
       "    <tr>\n",
       "      <th>1</th>\n",
       "      <td>Запустить собственную службу доставки, что сократит срок доставки заказов</td>\n",
       "      <td>2</td>\n",
       "      <td>5</td>\n",
       "      <td>4</td>\n",
       "      <td>10</td>\n",
       "    </tr>\n",
       "    <tr>\n",
       "      <th>2</th>\n",
       "      <td>Добавить блоки рекомендаций товаров на сайт интернет магазина, чтобы повысить конверсию и средний чек заказа</td>\n",
       "      <td>8</td>\n",
       "      <td>3</td>\n",
       "      <td>7</td>\n",
       "      <td>3</td>\n",
       "    </tr>\n",
       "    <tr>\n",
       "      <th>3</th>\n",
       "      <td>Изменить структура категорий, что увеличит конверсию, т.к. пользователи быстрее найдут нужный товар</td>\n",
       "      <td>8</td>\n",
       "      <td>3</td>\n",
       "      <td>3</td>\n",
       "      <td>8</td>\n",
       "    </tr>\n",
       "    <tr>\n",
       "      <th>4</th>\n",
       "      <td>Изменить цвет фона главной страницы, чтобы увеличить вовлеченность пользователей</td>\n",
       "      <td>3</td>\n",
       "      <td>1</td>\n",
       "      <td>1</td>\n",
       "      <td>1</td>\n",
       "    </tr>\n",
       "    <tr>\n",
       "      <th>5</th>\n",
       "      <td>Добавить страницу отзывов клиентов о магазине, что позволит увеличить количество заказов</td>\n",
       "      <td>3</td>\n",
       "      <td>2</td>\n",
       "      <td>2</td>\n",
       "      <td>3</td>\n",
       "    </tr>\n",
       "    <tr>\n",
       "      <th>6</th>\n",
       "      <td>Показать на главной странице баннеры с актуальными акциями и распродажами, чтобы увеличить конверсию</td>\n",
       "      <td>5</td>\n",
       "      <td>3</td>\n",
       "      <td>8</td>\n",
       "      <td>3</td>\n",
       "    </tr>\n",
       "    <tr>\n",
       "      <th>7</th>\n",
       "      <td>Добавить форму подписки на все основные страницы, чтобы собрать базу клиентов для email-рассылок</td>\n",
       "      <td>10</td>\n",
       "      <td>7</td>\n",
       "      <td>8</td>\n",
       "      <td>5</td>\n",
       "    </tr>\n",
       "    <tr>\n",
       "      <th>8</th>\n",
       "      <td>Запустить акцию, дающую скидку на товар в день рождения</td>\n",
       "      <td>1</td>\n",
       "      <td>9</td>\n",
       "      <td>9</td>\n",
       "      <td>5</td>\n",
       "    </tr>\n",
       "  </tbody>\n",
       "</table>\n",
       "</div>"
      ],
      "text/plain": [
       "                                                                                                     Hypothesis  \\\n",
       "0            Добавить два новых канала привлечения трафика, что позволит привлекать на 30% больше пользователей   \n",
       "1                                     Запустить собственную службу доставки, что сократит срок доставки заказов   \n",
       "2  Добавить блоки рекомендаций товаров на сайт интернет магазина, чтобы повысить конверсию и средний чек заказа   \n",
       "3           Изменить структура категорий, что увеличит конверсию, т.к. пользователи быстрее найдут нужный товар   \n",
       "4                              Изменить цвет фона главной страницы, чтобы увеличить вовлеченность пользователей   \n",
       "5                      Добавить страницу отзывов клиентов о магазине, что позволит увеличить количество заказов   \n",
       "6          Показать на главной странице баннеры с актуальными акциями и распродажами, чтобы увеличить конверсию   \n",
       "7              Добавить форму подписки на все основные страницы, чтобы собрать базу клиентов для email-рассылок   \n",
       "8                                                       Запустить акцию, дающую скидку на товар в день рождения   \n",
       "\n",
       "   Reach  Impact  Confidence  Efforts  \n",
       "0      3      10           8        6  \n",
       "1      2       5           4       10  \n",
       "2      8       3           7        3  \n",
       "3      8       3           3        8  \n",
       "4      3       1           1        1  \n",
       "5      3       2           2        3  \n",
       "6      5       3           8        3  \n",
       "7     10       7           8        5  \n",
       "8      1       9           9        5  "
      ]
     },
     "metadata": {},
     "output_type": "display_data"
    },
    {
     "name": "stdout",
     "output_type": "stream",
     "text": [
      "<class 'pandas.core.frame.DataFrame'>\n",
      "RangeIndex: 9 entries, 0 to 8\n",
      "Data columns (total 5 columns):\n",
      " #   Column      Non-Null Count  Dtype \n",
      "---  ------      --------------  ----- \n",
      " 0   Hypothesis  9 non-null      object\n",
      " 1   Reach       9 non-null      int64 \n",
      " 2   Impact      9 non-null      int64 \n",
      " 3   Confidence  9 non-null      int64 \n",
      " 4   Efforts     9 non-null      int64 \n",
      "dtypes: int64(4), object(1)\n",
      "memory usage: 488.0+ bytes\n"
     ]
    }
   ],
   "source": [
    "display(hypothesis)\n",
    "hypothesis.info()"
   ]
  },
  {
   "cell_type": "code",
   "execution_count": 5,
   "metadata": {},
   "outputs": [
    {
     "data": {
      "text/html": [
       "<div>\n",
       "<style scoped>\n",
       "    .dataframe tbody tr th:only-of-type {\n",
       "        vertical-align: middle;\n",
       "    }\n",
       "\n",
       "    .dataframe tbody tr th {\n",
       "        vertical-align: top;\n",
       "    }\n",
       "\n",
       "    .dataframe thead th {\n",
       "        text-align: right;\n",
       "    }\n",
       "</style>\n",
       "<table border=\"1\" class=\"dataframe\">\n",
       "  <thead>\n",
       "    <tr style=\"text-align: right;\">\n",
       "      <th></th>\n",
       "      <th>transactionId</th>\n",
       "      <th>visitorId</th>\n",
       "      <th>date</th>\n",
       "      <th>revenue</th>\n",
       "      <th>group</th>\n",
       "    </tr>\n",
       "  </thead>\n",
       "  <tbody>\n",
       "    <tr>\n",
       "      <th>0</th>\n",
       "      <td>3667963787</td>\n",
       "      <td>3312258926</td>\n",
       "      <td>2019-08-15</td>\n",
       "      <td>1650</td>\n",
       "      <td>B</td>\n",
       "    </tr>\n",
       "    <tr>\n",
       "      <th>1</th>\n",
       "      <td>2804400009</td>\n",
       "      <td>3642806036</td>\n",
       "      <td>2019-08-15</td>\n",
       "      <td>730</td>\n",
       "      <td>B</td>\n",
       "    </tr>\n",
       "    <tr>\n",
       "      <th>2</th>\n",
       "      <td>2961555356</td>\n",
       "      <td>4069496402</td>\n",
       "      <td>2019-08-15</td>\n",
       "      <td>400</td>\n",
       "      <td>A</td>\n",
       "    </tr>\n",
       "    <tr>\n",
       "      <th>3</th>\n",
       "      <td>3797467345</td>\n",
       "      <td>1196621759</td>\n",
       "      <td>2019-08-15</td>\n",
       "      <td>9759</td>\n",
       "      <td>B</td>\n",
       "    </tr>\n",
       "    <tr>\n",
       "      <th>4</th>\n",
       "      <td>2282983706</td>\n",
       "      <td>2322279887</td>\n",
       "      <td>2019-08-15</td>\n",
       "      <td>2308</td>\n",
       "      <td>B</td>\n",
       "    </tr>\n",
       "  </tbody>\n",
       "</table>\n",
       "</div>"
      ],
      "text/plain": [
       "   transactionId   visitorId        date  revenue group\n",
       "0     3667963787  3312258926  2019-08-15     1650     B\n",
       "1     2804400009  3642806036  2019-08-15      730     B\n",
       "2     2961555356  4069496402  2019-08-15      400     A\n",
       "3     3797467345  1196621759  2019-08-15     9759     B\n",
       "4     2282983706  2322279887  2019-08-15     2308     B"
      ]
     },
     "metadata": {},
     "output_type": "display_data"
    },
    {
     "name": "stdout",
     "output_type": "stream",
     "text": [
      "<class 'pandas.core.frame.DataFrame'>\n",
      "RangeIndex: 1197 entries, 0 to 1196\n",
      "Data columns (total 5 columns):\n",
      " #   Column         Non-Null Count  Dtype \n",
      "---  ------         --------------  ----- \n",
      " 0   transactionId  1197 non-null   int64 \n",
      " 1   visitorId      1197 non-null   int64 \n",
      " 2   date           1197 non-null   object\n",
      " 3   revenue        1197 non-null   int64 \n",
      " 4   group          1197 non-null   object\n",
      "dtypes: int64(3), object(2)\n",
      "memory usage: 46.9+ KB\n"
     ]
    }
   ],
   "source": [
    "display(orders.head())\n",
    "orders.info()"
   ]
  },
  {
   "cell_type": "code",
   "execution_count": 6,
   "metadata": {},
   "outputs": [
    {
     "data": {
      "text/html": [
       "<div>\n",
       "<style scoped>\n",
       "    .dataframe tbody tr th:only-of-type {\n",
       "        vertical-align: middle;\n",
       "    }\n",
       "\n",
       "    .dataframe tbody tr th {\n",
       "        vertical-align: top;\n",
       "    }\n",
       "\n",
       "    .dataframe thead th {\n",
       "        text-align: right;\n",
       "    }\n",
       "</style>\n",
       "<table border=\"1\" class=\"dataframe\">\n",
       "  <thead>\n",
       "    <tr style=\"text-align: right;\">\n",
       "      <th></th>\n",
       "      <th>date</th>\n",
       "      <th>group</th>\n",
       "      <th>visitors</th>\n",
       "    </tr>\n",
       "  </thead>\n",
       "  <tbody>\n",
       "    <tr>\n",
       "      <th>0</th>\n",
       "      <td>2019-08-01</td>\n",
       "      <td>A</td>\n",
       "      <td>719</td>\n",
       "    </tr>\n",
       "    <tr>\n",
       "      <th>1</th>\n",
       "      <td>2019-08-02</td>\n",
       "      <td>A</td>\n",
       "      <td>619</td>\n",
       "    </tr>\n",
       "    <tr>\n",
       "      <th>2</th>\n",
       "      <td>2019-08-03</td>\n",
       "      <td>A</td>\n",
       "      <td>507</td>\n",
       "    </tr>\n",
       "    <tr>\n",
       "      <th>3</th>\n",
       "      <td>2019-08-04</td>\n",
       "      <td>A</td>\n",
       "      <td>717</td>\n",
       "    </tr>\n",
       "    <tr>\n",
       "      <th>4</th>\n",
       "      <td>2019-08-05</td>\n",
       "      <td>A</td>\n",
       "      <td>756</td>\n",
       "    </tr>\n",
       "  </tbody>\n",
       "</table>\n",
       "</div>"
      ],
      "text/plain": [
       "         date group  visitors\n",
       "0  2019-08-01     A       719\n",
       "1  2019-08-02     A       619\n",
       "2  2019-08-03     A       507\n",
       "3  2019-08-04     A       717\n",
       "4  2019-08-05     A       756"
      ]
     },
     "metadata": {},
     "output_type": "display_data"
    },
    {
     "name": "stdout",
     "output_type": "stream",
     "text": [
      "<class 'pandas.core.frame.DataFrame'>\n",
      "RangeIndex: 62 entries, 0 to 61\n",
      "Data columns (total 3 columns):\n",
      " #   Column    Non-Null Count  Dtype \n",
      "---  ------    --------------  ----- \n",
      " 0   date      62 non-null     object\n",
      " 1   group     62 non-null     object\n",
      " 2   visitors  62 non-null     int64 \n",
      "dtypes: int64(1), object(2)\n",
      "memory usage: 1.6+ KB\n"
     ]
    }
   ],
   "source": [
    "display(visitors.head())\n",
    "visitors.info()"
   ]
  },
  {
   "cell_type": "markdown",
   "metadata": {},
   "source": [
    "В приведенных таблицах отсутсвуют пропуски. Поэтому на этапе предобработки данных планируется следующее:\n",
    "\n",
    "- проверить датафреймы на наличие дубликатов;\n",
    "- привести столбцы с датой к типу datetime;\n",
    "- привести названия столбцов к единому стилю (строчные буквы, удаление пробелов)."
   ]
  },
  {
   "cell_type": "markdown",
   "metadata": {},
   "source": [
    "#### Предобработка данных."
   ]
  },
  {
   "cell_type": "code",
   "execution_count": 7,
   "metadata": {},
   "outputs": [
    {
     "data": {
      "text/plain": [
       "[0, 0, 0]"
      ]
     },
     "execution_count": 7,
     "metadata": {},
     "output_type": "execute_result"
    }
   ],
   "source": [
    "# проверка датафреймов на наличие явных дубликатов\n",
    "[data.duplicated().sum() for data in [hypothesis, orders, visitors]]"
   ]
  },
  {
   "cell_type": "code",
   "execution_count": 8,
   "metadata": {},
   "outputs": [
    {
     "data": {
      "text/plain": [
       "Index(['transaction_id', 'visitor_id', 'date', 'revenue', 'group'], dtype='object')"
      ]
     },
     "metadata": {},
     "output_type": "display_data"
    },
    {
     "data": {
      "text/plain": [
       "Index(['hypothesis', 'reach', 'impact', 'confidence', 'efforts'], dtype='object')"
      ]
     },
     "metadata": {},
     "output_type": "display_data"
    }
   ],
   "source": [
    "# приведение названия столбцов таблиц к нижнему регистру \n",
    "orders.columns = [x.lower().replace('id', '_id') for x in orders.columns]\n",
    "hypothesis.columns = [x.lower() for x in hypothesis.columns]\n",
    "\n",
    "display(orders.columns)\n",
    "display(hypothesis.columns)"
   ]
  },
  {
   "cell_type": "code",
   "execution_count": 9,
   "metadata": {},
   "outputs": [],
   "source": [
    "# приведение столбцов с датой и временем к типу datetime\n",
    "visitors['date'] = pd.to_datetime(visitors['date'])\n",
    "orders['date'] = pd.to_datetime(orders['date'])"
   ]
  },
  {
   "cell_type": "markdown",
   "metadata": {},
   "source": [
    "### Приоритизация гипотез"
   ]
  },
  {
   "cell_type": "markdown",
   "metadata": {},
   "source": [
    "Датафрейм **hypothesis** содержит 9 гипотез по увеличению выручки интернет-магазина с указанными параметрами Reach, Impact, Confidence, Effort.\n",
    "\n",
    "Задача на данном этапе:\n",
    "- Применить фреймворк ICE для приоритизации гипотез. Отсортировать их по убыванию приоритета.\n",
    "- Применить фреймворк RICE для приоритизации гипотез. Отсортировать их по убыванию приоритета.\n",
    "- Указать, как изменилась приоритизация гипотез при применении RICE вместо ICE."
   ]
  },
  {
   "cell_type": "code",
   "execution_count": 10,
   "metadata": {},
   "outputs": [
    {
     "data": {
      "text/html": [
       "<div>\n",
       "<style scoped>\n",
       "    .dataframe tbody tr th:only-of-type {\n",
       "        vertical-align: middle;\n",
       "    }\n",
       "\n",
       "    .dataframe tbody tr th {\n",
       "        vertical-align: top;\n",
       "    }\n",
       "\n",
       "    .dataframe thead th {\n",
       "        text-align: right;\n",
       "    }\n",
       "</style>\n",
       "<table border=\"1\" class=\"dataframe\">\n",
       "  <thead>\n",
       "    <tr style=\"text-align: right;\">\n",
       "      <th></th>\n",
       "      <th>hypothesis</th>\n",
       "      <th>ICE</th>\n",
       "    </tr>\n",
       "  </thead>\n",
       "  <tbody>\n",
       "    <tr>\n",
       "      <th>8</th>\n",
       "      <td>Запустить акцию, дающую скидку на товар в день рождения</td>\n",
       "      <td>16.20</td>\n",
       "    </tr>\n",
       "    <tr>\n",
       "      <th>0</th>\n",
       "      <td>Добавить два новых канала привлечения трафика, что позволит привлекать на 30% больше пользователей</td>\n",
       "      <td>13.33</td>\n",
       "    </tr>\n",
       "    <tr>\n",
       "      <th>7</th>\n",
       "      <td>Добавить форму подписки на все основные страницы, чтобы собрать базу клиентов для email-рассылок</td>\n",
       "      <td>11.20</td>\n",
       "    </tr>\n",
       "    <tr>\n",
       "      <th>6</th>\n",
       "      <td>Показать на главной странице баннеры с актуальными акциями и распродажами, чтобы увеличить конверсию</td>\n",
       "      <td>8.00</td>\n",
       "    </tr>\n",
       "    <tr>\n",
       "      <th>2</th>\n",
       "      <td>Добавить блоки рекомендаций товаров на сайт интернет магазина, чтобы повысить конверсию и средний чек заказа</td>\n",
       "      <td>7.00</td>\n",
       "    </tr>\n",
       "    <tr>\n",
       "      <th>1</th>\n",
       "      <td>Запустить собственную службу доставки, что сократит срок доставки заказов</td>\n",
       "      <td>2.00</td>\n",
       "    </tr>\n",
       "    <tr>\n",
       "      <th>5</th>\n",
       "      <td>Добавить страницу отзывов клиентов о магазине, что позволит увеличить количество заказов</td>\n",
       "      <td>1.33</td>\n",
       "    </tr>\n",
       "    <tr>\n",
       "      <th>3</th>\n",
       "      <td>Изменить структура категорий, что увеличит конверсию, т.к. пользователи быстрее найдут нужный товар</td>\n",
       "      <td>1.12</td>\n",
       "    </tr>\n",
       "    <tr>\n",
       "      <th>4</th>\n",
       "      <td>Изменить цвет фона главной страницы, чтобы увеличить вовлеченность пользователей</td>\n",
       "      <td>1.00</td>\n",
       "    </tr>\n",
       "  </tbody>\n",
       "</table>\n",
       "</div>"
      ],
      "text/plain": [
       "                                                                                                     hypothesis  \\\n",
       "8                                                       Запустить акцию, дающую скидку на товар в день рождения   \n",
       "0            Добавить два новых канала привлечения трафика, что позволит привлекать на 30% больше пользователей   \n",
       "7              Добавить форму подписки на все основные страницы, чтобы собрать базу клиентов для email-рассылок   \n",
       "6          Показать на главной странице баннеры с актуальными акциями и распродажами, чтобы увеличить конверсию   \n",
       "2  Добавить блоки рекомендаций товаров на сайт интернет магазина, чтобы повысить конверсию и средний чек заказа   \n",
       "1                                     Запустить собственную службу доставки, что сократит срок доставки заказов   \n",
       "5                      Добавить страницу отзывов клиентов о магазине, что позволит увеличить количество заказов   \n",
       "3           Изменить структура категорий, что увеличит конверсию, т.к. пользователи быстрее найдут нужный товар   \n",
       "4                              Изменить цвет фона главной страницы, чтобы увеличить вовлеченность пользователей   \n",
       "\n",
       "     ICE  \n",
       "8  16.20  \n",
       "0  13.33  \n",
       "7  11.20  \n",
       "6   8.00  \n",
       "2   7.00  \n",
       "1   2.00  \n",
       "5   1.33  \n",
       "3   1.12  \n",
       "4   1.00  "
      ]
     },
     "execution_count": 10,
     "metadata": {},
     "output_type": "execute_result"
    }
   ],
   "source": [
    "hypothesis['ICE'] = hypothesis['impact'] * hypothesis['confidence'] / hypothesis['efforts']\n",
    "\n",
    "hypothesis[['hypothesis', 'ICE']].sort_values('ICE', ascending=False).round(2)"
   ]
  },
  {
   "cell_type": "markdown",
   "metadata": {},
   "source": [
    "Методом ICE, использующий параметры Влияние, Уверенность, Усилия выявлены приоритетные гипотезы 8,0,7,6,2.\n",
    "\n",
    "Воспользуемся методом приоритизации RICE с добавлением параметра Rich (Охват) и посмотрим на распределение приоритетов."
   ]
  },
  {
   "cell_type": "code",
   "execution_count": 11,
   "metadata": {},
   "outputs": [
    {
     "data": {
      "text/html": [
       "<div>\n",
       "<style scoped>\n",
       "    .dataframe tbody tr th:only-of-type {\n",
       "        vertical-align: middle;\n",
       "    }\n",
       "\n",
       "    .dataframe tbody tr th {\n",
       "        vertical-align: top;\n",
       "    }\n",
       "\n",
       "    .dataframe thead th {\n",
       "        text-align: right;\n",
       "    }\n",
       "</style>\n",
       "<table border=\"1\" class=\"dataframe\">\n",
       "  <thead>\n",
       "    <tr style=\"text-align: right;\">\n",
       "      <th></th>\n",
       "      <th>hypothesis</th>\n",
       "      <th>RICE</th>\n",
       "    </tr>\n",
       "  </thead>\n",
       "  <tbody>\n",
       "    <tr>\n",
       "      <th>7</th>\n",
       "      <td>Добавить форму подписки на все основные страницы, чтобы собрать базу клиентов для email-рассылок</td>\n",
       "      <td>112.0</td>\n",
       "    </tr>\n",
       "    <tr>\n",
       "      <th>2</th>\n",
       "      <td>Добавить блоки рекомендаций товаров на сайт интернет магазина, чтобы повысить конверсию и средний чек заказа</td>\n",
       "      <td>56.0</td>\n",
       "    </tr>\n",
       "    <tr>\n",
       "      <th>0</th>\n",
       "      <td>Добавить два новых канала привлечения трафика, что позволит привлекать на 30% больше пользователей</td>\n",
       "      <td>40.0</td>\n",
       "    </tr>\n",
       "    <tr>\n",
       "      <th>6</th>\n",
       "      <td>Показать на главной странице баннеры с актуальными акциями и распродажами, чтобы увеличить конверсию</td>\n",
       "      <td>40.0</td>\n",
       "    </tr>\n",
       "    <tr>\n",
       "      <th>8</th>\n",
       "      <td>Запустить акцию, дающую скидку на товар в день рождения</td>\n",
       "      <td>16.2</td>\n",
       "    </tr>\n",
       "    <tr>\n",
       "      <th>3</th>\n",
       "      <td>Изменить структура категорий, что увеличит конверсию, т.к. пользователи быстрее найдут нужный товар</td>\n",
       "      <td>9.0</td>\n",
       "    </tr>\n",
       "    <tr>\n",
       "      <th>1</th>\n",
       "      <td>Запустить собственную службу доставки, что сократит срок доставки заказов</td>\n",
       "      <td>4.0</td>\n",
       "    </tr>\n",
       "    <tr>\n",
       "      <th>5</th>\n",
       "      <td>Добавить страницу отзывов клиентов о магазине, что позволит увеличить количество заказов</td>\n",
       "      <td>4.0</td>\n",
       "    </tr>\n",
       "    <tr>\n",
       "      <th>4</th>\n",
       "      <td>Изменить цвет фона главной страницы, чтобы увеличить вовлеченность пользователей</td>\n",
       "      <td>3.0</td>\n",
       "    </tr>\n",
       "  </tbody>\n",
       "</table>\n",
       "</div>"
      ],
      "text/plain": [
       "                                                                                                     hypothesis  \\\n",
       "7              Добавить форму подписки на все основные страницы, чтобы собрать базу клиентов для email-рассылок   \n",
       "2  Добавить блоки рекомендаций товаров на сайт интернет магазина, чтобы повысить конверсию и средний чек заказа   \n",
       "0            Добавить два новых канала привлечения трафика, что позволит привлекать на 30% больше пользователей   \n",
       "6          Показать на главной странице баннеры с актуальными акциями и распродажами, чтобы увеличить конверсию   \n",
       "8                                                       Запустить акцию, дающую скидку на товар в день рождения   \n",
       "3           Изменить структура категорий, что увеличит конверсию, т.к. пользователи быстрее найдут нужный товар   \n",
       "1                                     Запустить собственную службу доставки, что сократит срок доставки заказов   \n",
       "5                      Добавить страницу отзывов клиентов о магазине, что позволит увеличить количество заказов   \n",
       "4                              Изменить цвет фона главной страницы, чтобы увеличить вовлеченность пользователей   \n",
       "\n",
       "    RICE  \n",
       "7  112.0  \n",
       "2   56.0  \n",
       "0   40.0  \n",
       "6   40.0  \n",
       "8   16.2  \n",
       "3    9.0  \n",
       "1    4.0  \n",
       "5    4.0  \n",
       "4    3.0  "
      ]
     },
     "execution_count": 11,
     "metadata": {},
     "output_type": "execute_result"
    }
   ],
   "source": [
    "hypothesis['RICE'] = hypothesis['reach'] * hypothesis['impact'] * hypothesis['confidence'] / hypothesis['efforts']\n",
    "\n",
    "hypothesis[['hypothesis', 'RICE']].sort_values('RICE', ascending=False).round(2)"
   ]
  },
  {
   "cell_type": "markdown",
   "metadata": {},
   "source": [
    "Аналогичные гиопотезы вошли в топ-5 лидирущих, но приоритет изменился. Это связано с тем, что у 7 гипотезы \"Добавить форму подписки на все основные страницы, чтобы собрать базу клиентов для email-рассылок\" высокий уровень охвата, так как затронет всех пользователей, \n",
    "\n",
    "Гипотеза \"Запустить акцию, дающую скидку на товар в день рождения\" имеет высокий приоритет методом ICE за счет высоких значений параметров влияния и низкого уровня стоимости тестирования гиоптезы (пользователи, знающие об этой акции точно смогут ей воспользоваться), но с добавлением параметра охвата в методе RICE теряет приоритет, так как воспользоваться акцией сможет небольшой процент пользователей.\n",
    "\n",
    "Отсюда можно сделать вывод, что стоит обратить внимание в первую очерердь на тестирование следующих гиоптез:\n",
    "- Добавить форму подписки на все основные страницы, чтобы собрать базу клиентов для email-рассылок;\n",
    "- Добавить блоки рекомендаций товаров на сайт интернет магазина, чтобы повысить конверсию и средний чек заказа\t;\n",
    "- Добавить два новых канала привлечения трафика, что позволит привлекать на 30% больше пользователей\t"
   ]
  },
  {
   "cell_type": "markdown",
   "metadata": {},
   "source": [
    "### Анализ A/B-теста"
   ]
  },
  {
   "cell_type": "markdown",
   "metadata": {},
   "source": [
    "На данном этапе выполним следующее: \n",
    "\n",
    "- проведем анализ кумулятивных данных по группам (выручки, среднего чека, относительного изменения кумулятивного среднего чека, среднего количества заказов на посетителя, относительного изменения кумулятивного среднего количества заказов);\n",
    "\n",
    "- построим точечные графики количества и стоимости заказов по пользователям;\n",
    "\n",
    "- определим границу для аномальных данных с помощью подсчета перцентилей;\n",
    "\n",
    "- посчитаем статистическую значимость различий между группами по «сырым» и «очищенным» данным."
   ]
  },
  {
   "cell_type": "markdown",
   "metadata": {},
   "source": [
    "Проверим, нет ли пользователей, попавших одновременно в обе группы."
   ]
  },
  {
   "cell_type": "code",
   "execution_count": 12,
   "metadata": {},
   "outputs": [
    {
     "name": "stdout",
     "output_type": "stream",
     "text": [
      "Пользователей, попавших в обе группы: 58\n",
      "Выручка от этих пользователей составляет: 1558935\n"
     ]
    }
   ],
   "source": [
    "user_both = orders.groupby(['visitor_id']).agg({'group' : 'nunique', 'revenue': 'sum'}).reset_index()\n",
    "cnt = user_both.query('group > 1')['visitor_id'].count()\n",
    "rev = user_both.query('group > 1')['revenue'].sum()\n",
    "print(f'Пользователей, попавших в обе группы: {cnt}')\n",
    "print(f'Выручка от этих пользователей составляет: {rev}')"
   ]
  },
  {
   "cell_type": "markdown",
   "metadata": {},
   "source": [
    "Присутсвует 58 пользователей с общей выручкой более 1,5 млн., которые попали в обе группы во время проведения теста. Так как неизвестно, какой из тестируемых вариантов повлиял на действия этих пользователей, удалим их id из таблицы orders."
   ]
  },
  {
   "cell_type": "code",
   "execution_count": 13,
   "metadata": {},
   "outputs": [],
   "source": [
    "list_user_both = list(user_both.query('group > 1')['visitor_id'])\n",
    "orders = orders.query('visitor_id not in @list_user_both')"
   ]
  },
  {
   "cell_type": "markdown",
   "metadata": {},
   "source": [
    "#### Анализ графиков кумулятивных  данных."
   ]
  },
  {
   "cell_type": "markdown",
   "metadata": {},
   "source": [
    "Чтобы построить графики, нужно собрать кумулятивные данные. Объявим датафрейм cumulativeData, содержащий столбцы:\n",
    "\n",
    "* `date` — дата;\n",
    "* `group` — группа A/B-теста (A или B);\n",
    "* `orders` — кумулятивное количество заказов на указанную дату в указанной группе;\n",
    "* `buyers` — кумулятивное количество пользователей, совершивших хотя бы один заказ, на указанную дату в указанной группе;\n",
    "* `revenue` — кумулятивная выручка на указанную дату в указанной группе (средний чек);\n",
    "* `visitors` — кумулятивное количество посетителей интернет-магазина на указанную дату в определённой группе"
   ]
  },
  {
   "cell_type": "code",
   "execution_count": 14,
   "metadata": {},
   "outputs": [
    {
     "data": {
      "text/html": [
       "<div>\n",
       "<style scoped>\n",
       "    .dataframe tbody tr th:only-of-type {\n",
       "        vertical-align: middle;\n",
       "    }\n",
       "\n",
       "    .dataframe tbody tr th {\n",
       "        vertical-align: top;\n",
       "    }\n",
       "\n",
       "    .dataframe thead th {\n",
       "        text-align: right;\n",
       "    }\n",
       "</style>\n",
       "<table border=\"1\" class=\"dataframe\">\n",
       "  <thead>\n",
       "    <tr style=\"text-align: right;\">\n",
       "      <th></th>\n",
       "      <th>date</th>\n",
       "      <th>group</th>\n",
       "      <th>transaction_id</th>\n",
       "      <th>visitor_id</th>\n",
       "      <th>revenue</th>\n",
       "    </tr>\n",
       "  </thead>\n",
       "  <tbody>\n",
       "    <tr>\n",
       "      <th>55</th>\n",
       "      <td>2019-08-01</td>\n",
       "      <td>A</td>\n",
       "      <td>23</td>\n",
       "      <td>19</td>\n",
       "      <td>142779</td>\n",
       "    </tr>\n",
       "    <tr>\n",
       "      <th>66</th>\n",
       "      <td>2019-08-01</td>\n",
       "      <td>B</td>\n",
       "      <td>17</td>\n",
       "      <td>17</td>\n",
       "      <td>59758</td>\n",
       "    </tr>\n",
       "    <tr>\n",
       "      <th>175</th>\n",
       "      <td>2019-08-02</td>\n",
       "      <td>A</td>\n",
       "      <td>42</td>\n",
       "      <td>36</td>\n",
       "      <td>234381</td>\n",
       "    </tr>\n",
       "    <tr>\n",
       "      <th>173</th>\n",
       "      <td>2019-08-02</td>\n",
       "      <td>B</td>\n",
       "      <td>40</td>\n",
       "      <td>39</td>\n",
       "      <td>221801</td>\n",
       "    </tr>\n",
       "    <tr>\n",
       "      <th>291</th>\n",
       "      <td>2019-08-03</td>\n",
       "      <td>A</td>\n",
       "      <td>66</td>\n",
       "      <td>60</td>\n",
       "      <td>346854</td>\n",
       "    </tr>\n",
       "  </tbody>\n",
       "</table>\n",
       "</div>"
      ],
      "text/plain": [
       "          date group  transaction_id  visitor_id  revenue\n",
       "55  2019-08-01     A              23          19   142779\n",
       "66  2019-08-01     B              17          17    59758\n",
       "175 2019-08-02     A              42          36   234381\n",
       "173 2019-08-02     B              40          39   221801\n",
       "291 2019-08-03     A              66          60   346854"
      ]
     },
     "execution_count": 14,
     "metadata": {},
     "output_type": "execute_result"
    }
   ],
   "source": [
    "# создаем массив уникальных пар значений дат и групп теста\n",
    "datesGroups = orders[['date','group']].drop_duplicates() \n",
    "\n",
    "# получаем агрегированные кумулятивные по дням данные о заказах\n",
    "ordersAggregated = datesGroups.apply(\n",
    "    lambda x: orders[np.logical_and(orders['date'] <= x['date'], orders['group'] == x['group'])\n",
    "                    ].agg(\n",
    "                            {'date' : 'max', \n",
    "                             'group' : 'max', \n",
    "                             'transaction_id' : 'nunique', \n",
    "                             'visitor_id' : 'nunique',\n",
    "                             'revenue' : 'sum'}\n",
    "                          ), axis=1).sort_values(by=['date','group'])\n",
    "\n",
    "ordersAggregated.head()"
   ]
  },
  {
   "cell_type": "code",
   "execution_count": 15,
   "metadata": {},
   "outputs": [
    {
     "data": {
      "text/html": [
       "<div>\n",
       "<style scoped>\n",
       "    .dataframe tbody tr th:only-of-type {\n",
       "        vertical-align: middle;\n",
       "    }\n",
       "\n",
       "    .dataframe tbody tr th {\n",
       "        vertical-align: top;\n",
       "    }\n",
       "\n",
       "    .dataframe thead th {\n",
       "        text-align: right;\n",
       "    }\n",
       "</style>\n",
       "<table border=\"1\" class=\"dataframe\">\n",
       "  <thead>\n",
       "    <tr style=\"text-align: right;\">\n",
       "      <th></th>\n",
       "      <th>date</th>\n",
       "      <th>group</th>\n",
       "      <th>orders</th>\n",
       "      <th>buyers</th>\n",
       "      <th>revenue</th>\n",
       "      <th>visitors</th>\n",
       "    </tr>\n",
       "  </thead>\n",
       "  <tbody>\n",
       "    <tr>\n",
       "      <th>0</th>\n",
       "      <td>2019-08-01</td>\n",
       "      <td>A</td>\n",
       "      <td>23</td>\n",
       "      <td>19</td>\n",
       "      <td>142779</td>\n",
       "      <td>719</td>\n",
       "    </tr>\n",
       "    <tr>\n",
       "      <th>1</th>\n",
       "      <td>2019-08-01</td>\n",
       "      <td>B</td>\n",
       "      <td>17</td>\n",
       "      <td>17</td>\n",
       "      <td>59758</td>\n",
       "      <td>713</td>\n",
       "    </tr>\n",
       "    <tr>\n",
       "      <th>2</th>\n",
       "      <td>2019-08-02</td>\n",
       "      <td>A</td>\n",
       "      <td>42</td>\n",
       "      <td>36</td>\n",
       "      <td>234381</td>\n",
       "      <td>1338</td>\n",
       "    </tr>\n",
       "    <tr>\n",
       "      <th>3</th>\n",
       "      <td>2019-08-02</td>\n",
       "      <td>B</td>\n",
       "      <td>40</td>\n",
       "      <td>39</td>\n",
       "      <td>221801</td>\n",
       "      <td>1294</td>\n",
       "    </tr>\n",
       "    <tr>\n",
       "      <th>4</th>\n",
       "      <td>2019-08-03</td>\n",
       "      <td>A</td>\n",
       "      <td>66</td>\n",
       "      <td>60</td>\n",
       "      <td>346854</td>\n",
       "      <td>1845</td>\n",
       "    </tr>\n",
       "  </tbody>\n",
       "</table>\n",
       "</div>"
      ],
      "text/plain": [
       "        date group  orders  buyers  revenue  visitors\n",
       "0 2019-08-01     A      23      19   142779       719\n",
       "1 2019-08-01     B      17      17    59758       713\n",
       "2 2019-08-02     A      42      36   234381      1338\n",
       "3 2019-08-02     B      40      39   221801      1294\n",
       "4 2019-08-03     A      66      60   346854      1845"
      ]
     },
     "execution_count": 15,
     "metadata": {},
     "output_type": "execute_result"
    }
   ],
   "source": [
    "# получаем агрегированные кумулятивные по дням данные о посетителях интернет-магазина\n",
    "visitorsAggregated = datesGroups.apply(\n",
    "    lambda x: visitors[np.logical_and(visitors['date'] <= x['date'], visitors['group'] == x['group'])\n",
    "                      ].agg(\n",
    "                            {'date' : 'max',\n",
    "                             'group' : 'max', \n",
    "                             'visitors' : 'sum'}\n",
    "                            ), axis=1).sort_values(by=['date','group'])\n",
    "\n",
    "# объединяем кумулятивные данные в одной таблице и присваиваем ее столбцам понятные названия\n",
    "cumulativeData = ordersAggregated.merge(visitorsAggregated, left_on=['date', 'group'], right_on=['date', 'group'])\n",
    "\n",
    "# переименовываем названия столбцов\n",
    "cumulativeData.columns = ['date', 'group', 'orders', 'buyers', 'revenue', 'visitors']\n",
    "\n",
    "cumulativeData.head()"
   ]
  },
  {
   "cell_type": "markdown",
   "metadata": {},
   "source": [
    "##### график кумулятивной выручки по группам"
   ]
  },
  {
   "cell_type": "markdown",
   "metadata": {},
   "source": [
    "Построим графики кумулятивной выручки по дням и группам A/B-тестирования"
   ]
  },
  {
   "cell_type": "code",
   "execution_count": 16,
   "metadata": {},
   "outputs": [
    {
     "data": {
      "image/png": "[encoded data removed]",
      "text/plain": [
       "<Figure size 648x360 with 1 Axes>"
      ]
     },
     "metadata": {
      "needs_background": "light"
     },
     "output_type": "display_data"
    }
   ],
   "source": [
    "cumulativeRevenueA = cumulativeData.query('group == \"A\"')\n",
    "cumulativeRevenueA = cumulativeRevenueA[['date','revenue', 'orders']]\n",
    "\n",
    "cumulativeRevenueB = cumulativeData.query('group == \"B\"')\n",
    "cumulativeRevenueB = cumulativeRevenueB[['date','revenue', 'orders']]\n",
    "\n",
    "plt.figure(figsize=(9,5))\n",
    "plt.grid(b=True)\n",
    "\n",
    "plt.plot(cumulativeRevenueA['date'], cumulativeRevenueA['revenue'], label='A')\n",
    "plt.plot(cumulativeRevenueB['date'], cumulativeRevenueB['revenue'], label='B')\n",
    "\n",
    "plt.title('График динамики кумулятивной выручки по группам А и В')\n",
    "plt.xlabel('Дата')\n",
    "plt.ylabel('Выручка, млн.')\n",
    "plt.xticks(rotation=30)\n",
    "plt.legend()\n",
    "\n",
    "plt.show()"
   ]
  },
  {
   "cell_type": "markdown",
   "metadata": {},
   "source": [
    "По графику видно, что выручка группы А равномерно увеличивается в течение всего теста. При этом выручка группы А ниже выручки группы В.\n",
    "\n",
    "Однако график выручки группы В резко возрастает около 18 августа. Это может сигнализировать о всплесках числа заказов, либо о появлении очень дорогих заказов в выборке группы В."
   ]
  },
  {
   "cell_type": "markdown",
   "metadata": {},
   "source": [
    "##### график кумулятивного среднего чека по группам"
   ]
  },
  {
   "cell_type": "markdown",
   "metadata": {},
   "source": [
    "Построим графики среднего чека по группам, разделив кумулятивную выручку на кумулятивное число заказов"
   ]
  },
  {
   "cell_type": "code",
   "execution_count": 17,
   "metadata": {},
   "outputs": [
    {
     "data": {
      "image/png": "[encoded data removed]",
      "text/plain": [
       "<Figure size 648x360 with 1 Axes>"
      ]
     },
     "metadata": {
      "needs_background": "light"
     },
     "output_type": "display_data"
    }
   ],
   "source": [
    "plt.figure(figsize=(9,5))\n",
    "plt.grid(b=True)\n",
    "\n",
    "plt.plot(cumulativeRevenueA['date'], cumulativeRevenueA['revenue']/cumulativeRevenueA['orders'], label='A')\n",
    "plt.plot(cumulativeRevenueB['date'], cumulativeRevenueB['revenue']/cumulativeRevenueB['orders'], label='B')\n",
    "\n",
    "plt.title('График динамики кумулятивного среднего чека по группам А и В')\n",
    "plt.xlabel('Дата')\n",
    "plt.ylabel('Выручка')\n",
    "plt.xticks(rotation=30)\n",
    "plt.legend()\n",
    "\n",
    "plt.show()"
   ]
  },
  {
   "cell_type": "markdown",
   "metadata": {},
   "source": [
    "Средний чек группы А становится равномерным и устанавливается с середины теста. \n",
    "Видно резкий всплеск на графике среднего чека группы В около 18 августа, значит, можно утверждать о наличии покупки высокой стоимости. После этого график группы В равномерно убывает, при этом средний чек выше, чем у группы А."
   ]
  },
  {
   "cell_type": "markdown",
   "metadata": {},
   "source": [
    "##### график относительного изменения кумулятивного среднего чека группы B к группе A"
   ]
  },
  {
   "cell_type": "markdown",
   "metadata": {},
   "source": [
    "Построим график относительного различия для среднего чека."
   ]
  },
  {
   "cell_type": "code",
   "execution_count": 18,
   "metadata": {},
   "outputs": [
    {
     "data": {
      "image/png": "[encoded data removed]",
      "text/plain": [
       "<Figure size 648x360 with 1 Axes>"
      ]
     },
     "metadata": {
      "needs_background": "light"
     },
     "output_type": "display_data"
    }
   ],
   "source": [
    "# собираем данные в одном датафрейме\n",
    "mergedCumulativeRevenue = cumulativeRevenueA.merge(cumulativeRevenueB, left_on='date', \n",
    "                                                   right_on='date', how='left', suffixes=['A', 'B'])\n",
    "\n",
    "plt.figure(figsize=(9,5))\n",
    "plt.grid(b=True)\n",
    "# cтроим отношение средних чеков\n",
    "plt.plot(mergedCumulativeRevenue['date'], (mergedCumulativeRevenue['revenueB']/mergedCumulativeRevenue['ordersB'])/\n",
    "                                            (mergedCumulativeRevenue['revenueA']/mergedCumulativeRevenue['ordersA'])-1)\n",
    "\n",
    "# добавляем ось X\n",
    "plt.axhline(y=0, color='black', linestyle='--')\n",
    "plt.title('График относительного изменения кумулятивного среднего чека группы B к группе A')\n",
    "plt.xlabel('Дата')\n",
    "plt.ylabel('Отношение среднего чека группы B к группе A')\n",
    "plt.xticks(rotation=30)\n",
    "plt.show()"
   ]
  },
  {
   "cell_type": "markdown",
   "metadata": {},
   "source": [
    "В нескольких точках график различия между сегментами резко «скачет». Скачок около 18 августа продолжает сохраняться. Точно спрятались крупные заказы и выбросы."
   ]
  },
  {
   "cell_type": "markdown",
   "metadata": {},
   "source": [
    "##### график кумулятивного среднего количества заказов на посетителя по группам"
   ]
  },
  {
   "cell_type": "markdown",
   "metadata": {},
   "source": [
    "Аналогично проанализируем график кумулятивного среднего количества заказов"
   ]
  },
  {
   "cell_type": "code",
   "execution_count": 19,
   "metadata": {},
   "outputs": [
    {
     "data": {
      "image/png": "[encoded data removed]",
      "text/plain": [
       "<Figure size 648x360 with 1 Axes>"
      ]
     },
     "metadata": {
      "needs_background": "light"
     },
     "output_type": "display_data"
    }
   ],
   "source": [
    "# считаем кумулятивную конверсию\n",
    "cumulativeData['conversion'] = cumulativeData['orders']/cumulativeData['visitors']\n",
    "\n",
    "# отделяем данные по группе A\n",
    "cumulativeDataA = cumulativeData[cumulativeData['group']=='A']\n",
    "\n",
    "# отделяем данные по группе B\n",
    "cumulativeDataB = cumulativeData[cumulativeData['group']=='B']\n",
    "\n",
    "plt.figure(figsize=(9,5))\n",
    "plt.grid(b=True)\n",
    "\n",
    "# строим графики\n",
    "plt.plot(cumulativeDataA['date'], cumulativeDataA['conversion'], label='A')\n",
    "plt.plot(cumulativeDataB['date'], cumulativeDataB['conversion'], label='B')\n",
    "plt.legend()\n",
    "plt.title('График кумулятивного среднего количества заказов по группам')\n",
    "plt.xlabel('Дата')\n",
    "plt.ylabel('Среднее количество заказов')\n",
    "plt.xticks(rotation=30)\n",
    "plt.show()\n"
   ]
  },
  {
   "cell_type": "markdown",
   "metadata": {},
   "source": [
    "В начале теста средние значения по количеству заказов обеих групп сильно колебались, к середине теста выровнялись. При этом среднее значение количества заказов группы В выше группы А."
   ]
  },
  {
   "cell_type": "markdown",
   "metadata": {},
   "source": [
    " ##### график относительного различия кумулятивного среднего количества заказов"
   ]
  },
  {
   "cell_type": "markdown",
   "metadata": {},
   "source": [
    "Построим график относительного различия кумулятивного среднего количества заказов"
   ]
  },
  {
   "cell_type": "code",
   "execution_count": 20,
   "metadata": {},
   "outputs": [
    {
     "data": {
      "image/png": "[encoded data removed]",
      "text/plain": [
       "<Figure size 648x360 with 1 Axes>"
      ]
     },
     "metadata": {
      "needs_background": "light"
     },
     "output_type": "display_data"
    }
   ],
   "source": [
    "mergedCumulativeConversions = cumulativeDataA[['date','conversion']].merge(cumulativeDataB[['date','conversion']], \n",
    "                                                                           left_on='date', \n",
    "                                                                           right_on='date', \n",
    "                                                                           how='left', \n",
    "                                                                           suffixes=['A', 'B'])\n",
    "\n",
    "plt.figure(figsize=(9,5))\n",
    "plt.grid(b=True)\n",
    "\n",
    "plt.plot(mergedCumulativeConversions['date'], mergedCumulativeConversions['conversionB']/mergedCumulativeConversions['conversionA']-1)\n",
    "\n",
    "plt.title('Относительный прирост среднего количества заказов группы B относительно группы A')\n",
    "plt.xlabel('Дата')\n",
    "plt.ylabel('Отношение средних по количеству заказов')\n",
    "plt.axhline(y=0, color='black', linestyle='--')\n",
    "plt.axhline(y=0.1, color='grey', linestyle='--')\n",
    "plt.xticks(rotation=30)\n",
    "plt.show()\n"
   ]
  },
  {
   "cell_type": "markdown",
   "metadata": {},
   "source": [
    "В начале теста группа В проигрывала по количеству заказов группе А. После чего отношение стабилизировалось."
   ]
  },
  {
   "cell_type": "markdown",
   "metadata": {},
   "source": [
    "#### Анализ графиков количетсва заказов и выручки по пользователям."
   ]
  },
  {
   "cell_type": "markdown",
   "metadata": {},
   "source": [
    "##### точечный график количества заказов по пользователям"
   ]
  },
  {
   "cell_type": "code",
   "execution_count": 21,
   "metadata": {},
   "outputs": [
    {
     "data": {
      "text/html": [
       "<div>\n",
       "<style scoped>\n",
       "    .dataframe tbody tr th:only-of-type {\n",
       "        vertical-align: middle;\n",
       "    }\n",
       "\n",
       "    .dataframe tbody tr th {\n",
       "        vertical-align: top;\n",
       "    }\n",
       "\n",
       "    .dataframe thead th {\n",
       "        text-align: right;\n",
       "    }\n",
       "</style>\n",
       "<table border=\"1\" class=\"dataframe\">\n",
       "  <thead>\n",
       "    <tr style=\"text-align: right;\">\n",
       "      <th></th>\n",
       "      <th>visitor_id</th>\n",
       "      <th>orders</th>\n",
       "    </tr>\n",
       "  </thead>\n",
       "  <tbody>\n",
       "    <tr>\n",
       "      <th>908</th>\n",
       "      <td>3967698036</td>\n",
       "      <td>3</td>\n",
       "    </tr>\n",
       "    <tr>\n",
       "      <th>55</th>\n",
       "      <td>249864742</td>\n",
       "      <td>3</td>\n",
       "    </tr>\n",
       "    <tr>\n",
       "      <th>478</th>\n",
       "      <td>2108163459</td>\n",
       "      <td>3</td>\n",
       "    </tr>\n",
       "    <tr>\n",
       "      <th>687</th>\n",
       "      <td>2988190573</td>\n",
       "      <td>3</td>\n",
       "    </tr>\n",
       "    <tr>\n",
       "      <th>890</th>\n",
       "      <td>3908431265</td>\n",
       "      <td>3</td>\n",
       "    </tr>\n",
       "  </tbody>\n",
       "</table>\n",
       "</div>"
      ],
      "text/plain": [
       "     visitor_id  orders\n",
       "908  3967698036       3\n",
       "55    249864742       3\n",
       "478  2108163459       3\n",
       "687  2988190573       3\n",
       "890  3908431265       3"
      ]
     },
     "execution_count": 21,
     "metadata": {},
     "output_type": "execute_result"
    }
   ],
   "source": [
    "cnt_order = orders.groupby('visitor_id')['transaction_id'].nunique().reset_index()\n",
    "cnt_order.columns = ['visitor_id', 'orders']\n",
    "cnt_order.sort_values('orders', ascending=False).head()"
   ]
  },
  {
   "cell_type": "code",
   "execution_count": 22,
   "metadata": {},
   "outputs": [
    {
     "data": {
      "image/png": "[encoded data removed]",
      "text/plain": [
       "<Figure size 432x288 with 1 Axes>"
      ]
     },
     "metadata": {
      "needs_background": "light"
     },
     "output_type": "display_data"
    }
   ],
   "source": [
    "x_values = pd.Series(range(0, len(cnt_order)))\n",
    "\n",
    "plt.scatter(x_values, cnt_order['orders'], c='red', alpha=0.5) \n",
    "plt.title('Распределение числа заказов по пользователям')\n",
    "plt.ylabel('Количество заказов')\n",
    "plt.show()"
   ]
  },
  {
   "cell_type": "markdown",
   "metadata": {},
   "source": [
    "Пользователей, сделавших более 1 заказа совсем мало. Но 2 и 3 заказа - не такое уж и большое количество. Посчитаем выборочные перцентили количества заказов на пользователя."
   ]
  },
  {
   "cell_type": "code",
   "execution_count": 23,
   "metadata": {},
   "outputs": [
    {
     "data": {
      "text/plain": [
       "array([1., 2.])"
      ]
     },
     "execution_count": 23,
     "metadata": {},
     "output_type": "execute_result"
    }
   ],
   "source": [
    "np.percentile(cnt_order['orders'], [95, 99])"
   ]
  },
  {
   "cell_type": "markdown",
   "metadata": {},
   "source": [
    "Не более 1% пользователей сделали больше 2 заказов. Примем за верхнюю границу 2 заказа на одного пользователя."
   ]
  },
  {
   "cell_type": "markdown",
   "metadata": {},
   "source": [
    "##### точечный график стоимостей заказов"
   ]
  },
  {
   "cell_type": "code",
   "execution_count": 24,
   "metadata": {},
   "outputs": [
    {
     "data": {
      "image/png": "[encoded data removed]",
      "text/plain": [
       "<Figure size 432x288 with 1 Axes>"
      ]
     },
     "metadata": {
      "needs_background": "light"
     },
     "output_type": "display_data"
    }
   ],
   "source": [
    "x_values = pd.Series(range(0, len(orders['revenue'])))\n",
    "plt.scatter(x_values, orders['revenue'], c='red', alpha=0.5) \n",
    "plt.title('Распределение стоимости заказов по пользователям')\n",
    "plt.ylabel('Стоимость заказов, млн.')\n",
    "plt.show()"
   ]
  },
  {
   "cell_type": "markdown",
   "metadata": {},
   "source": [
    "Один заказ, стоимостью более 1.2 млн. давал скачки на графиках выручки и среднего чека. Посмторим график ближе без выбросов."
   ]
  },
  {
   "cell_type": "code",
   "execution_count": 25,
   "metadata": {},
   "outputs": [
    {
     "data": {
      "image/png": "[encoded data removed]",
      "text/plain": [
       "<Figure size 432x288 with 1 Axes>"
      ]
     },
     "metadata": {
      "needs_background": "light"
     },
     "output_type": "display_data"
    }
   ],
   "source": [
    "x_values = pd.Series(range(0, len(orders['revenue'])))\n",
    "plt.ylim(0, 120000)\n",
    "plt.scatter(x_values, orders['revenue'], c='red', alpha=0.5) \n",
    "plt.title('Распределение стоимости заказов по пользователям')\n",
    "plt.ylabel('Стоимость заказов, млн.')\n",
    "plt.show()"
   ]
  },
  {
   "cell_type": "markdown",
   "metadata": {},
   "source": [
    "Основная часть заказов не превышает 20 тысяч. Посчитаем выборочные перцентили стоимости заказов на пользователя."
   ]
  },
  {
   "cell_type": "code",
   "execution_count": 26,
   "metadata": {},
   "outputs": [
    {
     "data": {
      "text/plain": [
       "array([26785., 53904.])"
      ]
     },
     "execution_count": 26,
     "metadata": {},
     "output_type": "execute_result"
    }
   ],
   "source": [
    "np.percentile(orders['revenue'], [95, 99])"
   ]
  },
  {
   "cell_type": "markdown",
   "metadata": {},
   "source": [
    "Не более 1% пользователей сделали заказ больше, чем на 53904 у.е.. Примем за верхнюю границу стоимость заказа 53904 на одного пользователя."
   ]
  },
  {
   "cell_type": "markdown",
   "metadata": {},
   "source": [
    "#### Статистический анализ"
   ]
  },
  {
   "cell_type": "markdown",
   "metadata": {},
   "source": [
    "* Ранее мы оценили результаты A/B-теста визуально и выяснили, что в данных, скорее всего, есть выбросы;\n",
    "\n",
    "* Увидели выбросы и нашли границу для их определения."
   ]
  },
  {
   "cell_type": "markdown",
   "metadata": {},
   "source": [
    "##### Анализ по «сырым» данным"
   ]
  },
  {
   "cell_type": "markdown",
   "metadata": {},
   "source": [
    "Посчитаем статистическую значимость различий в среднем количестве заказов на пользователя и среднем чеке между группами по «сырым» данным — без удаления аномальных пользователей."
   ]
  },
  {
   "cell_type": "code",
   "execution_count": 27,
   "metadata": {},
   "outputs": [
    {
     "name": "stdout",
     "output_type": "stream",
     "text": [
      "        date  ordersPerDateA  revenuePerDateA  ordersPerDateB  \\\n",
      "0 2019-08-01              23           142779              17   \n",
      "1 2019-08-02              19            91602              23   \n",
      "2 2019-08-03              24           112473              14   \n",
      "3 2019-08-04              11            41176              14   \n",
      "4 2019-08-05              22            86383              21   \n",
      "\n",
      "   revenuePerDateB  ordersCummulativeA  revenueCummulativeA  \\\n",
      "0            59758                  23               142779   \n",
      "1           162043                  42               234381   \n",
      "2            67049                  66               346854   \n",
      "3            96890                  77               388030   \n",
      "4            89908                  99               474413   \n",
      "\n",
      "   ordersCummulativeB  revenueCummulativeB  visitorsPerDateA  \\\n",
      "0                  17                59758               719   \n",
      "1                  40               221801               619   \n",
      "2                  54               288850               507   \n",
      "3                  68               385740               717   \n",
      "4                  89               475648               756   \n",
      "\n",
      "   visitorsPerDateB  visitorsCummulativeA  visitorsCummulativeB  \n",
      "0               713                   719                   713  \n",
      "1               581                  1338                  1294  \n",
      "2               509                  1845                  1803  \n",
      "3               770                  2562                  2573  \n",
      "4               707                  3318                  3280  \n"
     ]
    }
   ],
   "source": [
    "visitorsADaily = visitors[visitors['group'] == 'A'][['date', 'visitors']]\n",
    "visitorsADaily.columns = ['date', 'visitorsPerDateA']\n",
    "\n",
    "visitorsACummulative = visitorsADaily.apply(\n",
    "    lambda x: visitorsADaily[visitorsADaily['date'] <= x['date']].agg(\n",
    "        {'date': 'max', 'visitorsPerDateA': 'sum'}\n",
    "    ),\n",
    "    axis=1,\n",
    ")\n",
    "visitorsACummulative.columns = ['date', 'visitorsCummulativeA']\n",
    "\n",
    "visitorsBDaily = visitors[visitors['group'] == 'B'][['date', 'visitors']]\n",
    "visitorsBDaily.columns = ['date', 'visitorsPerDateB']\n",
    "\n",
    "visitorsBCummulative = visitorsBDaily.apply(\n",
    "    lambda x: visitorsBDaily[visitorsBDaily['date'] <= x['date']].agg(\n",
    "        {'date': 'max', 'visitorsPerDateB': 'sum'}\n",
    "    ),\n",
    "    axis=1,\n",
    ")\n",
    "visitorsBCummulative.columns = ['date', 'visitorsCummulativeB']\n",
    "\n",
    "ordersADaily = (\n",
    "    orders[orders['group'] == 'A'][['date', 'transaction_id', 'visitor_id', 'revenue']]\n",
    "    .groupby('date', as_index=False)\n",
    "    .agg({'transaction_id': pd.Series.nunique, 'revenue': 'sum'})\n",
    ")\n",
    "ordersADaily.columns = ['date', 'ordersPerDateA', 'revenuePerDateA']\n",
    "\n",
    "ordersACummulative = ordersADaily.apply(\n",
    "    lambda x: ordersADaily[ordersADaily['date'] <= x['date']].agg(\n",
    "        {'date': 'max', 'ordersPerDateA': 'sum', 'revenuePerDateA': 'sum'}\n",
    "    ),\n",
    "    axis=1,\n",
    ").sort_values(by=['date'])\n",
    "ordersACummulative.columns = [\n",
    "    'date',\n",
    "    'ordersCummulativeA',\n",
    "    'revenueCummulativeA',\n",
    "]\n",
    "\n",
    "ordersBDaily = (\n",
    "    orders[orders['group'] == 'B'][['date', 'transaction_id', 'visitor_id', 'revenue']]\n",
    "    .groupby('date', as_index=False)\n",
    "    .agg({'transaction_id': pd.Series.nunique, 'revenue': 'sum'})\n",
    ")\n",
    "ordersBDaily.columns = ['date', 'ordersPerDateB', 'revenuePerDateB']\n",
    "\n",
    "ordersBCummulative = ordersBDaily.apply(\n",
    "    lambda x: ordersBDaily[ordersBDaily['date'] <= x['date']].agg(\n",
    "        {'date': 'max', 'ordersPerDateB': 'sum', 'revenuePerDateB': 'sum'}\n",
    "    ),\n",
    "    axis=1,\n",
    ").sort_values(by=['date'])\n",
    "ordersBCummulative.columns = [\n",
    "    'date',\n",
    "    'ordersCummulativeB',\n",
    "    'revenueCummulativeB',\n",
    "]\n",
    "\n",
    "data = (\n",
    "    ordersADaily.merge(\n",
    "        ordersBDaily, left_on='date', right_on='date', how='left'\n",
    "    )\n",
    "    .merge(ordersACummulative, left_on='date', right_on='date', how='left')\n",
    "    .merge(ordersBCummulative, left_on='date', right_on='date', how='left')\n",
    "    .merge(visitorsADaily, left_on='date', right_on='date', how='left')\n",
    "    .merge(visitorsBDaily, left_on='date', right_on='date', how='left')\n",
    "    .merge(visitorsACummulative, left_on='date', right_on='date', how='left')\n",
    "    .merge(visitorsBCummulative, left_on='date', right_on='date', how='left')\n",
    ")\n",
    "\n",
    "print(data.head(5))"
   ]
  },
  {
   "cell_type": "markdown",
   "metadata": {},
   "source": [
    "Объявим датафрейм data, содержащий столбцы:\n",
    "- `date` — дата;\n",
    "- `ordersPerDateA` — количество заказов в выбранную дату в группе A;\n",
    "- `revenuePerDateA` — суммарная выручка в выбранную дату в группе A;\n",
    "- `ordersPerDateB` — количество заказов в выбранную дату в группе B;\n",
    "- `revenuePerDateB` — суммарная выручка в выбранную дату в группе B;\n",
    "- `ordersCummulativeA` — суммарное число заказов до выбранной даты включительно в группе A;\n",
    "- `revenueCummulativeA` — суммарная выручка до выбранной даты включительно в группе A;\n",
    "- `ordersCummulativeB` — суммарное количество заказов до выбранной даты включительно в группе B;\n",
    "- `revenueCummulativeB` — суммарная выручка до выбранной даты включительно в группе B;\n",
    "- `visitorsPerDateA` — количество пользователей в выбранную дату в группе A;\n",
    "- `visitorsPerDateB` — количество пользователей в выбранную дату в группе B;\n",
    "- `visitorsCummulativeA` — количество пользователей до выбранной даты включительно в группе A;\n",
    "- `visitorsCummulativeB` — количество пользователей до выбранной даты включительно в группе B."
   ]
  },
  {
   "cell_type": "markdown",
   "metadata": {},
   "source": [
    "Создадим переменные ordersByUsersA и ordersByUsersB со столбцами ['visitor_id', 'orders']. В них для пользователей, которые заказывали хотя бы 1 раз, укажем число совершённых заказов. "
   ]
  },
  {
   "cell_type": "code",
   "execution_count": 28,
   "metadata": {},
   "outputs": [],
   "source": [
    "ordersByUsersA = (\n",
    "    orders[orders['group'] == 'A']\n",
    "    .groupby('visitor_id', as_index=False)\n",
    "    .agg({'transaction_id': pd.Series.nunique})\n",
    ")\n",
    "ordersByUsersA.columns = ['visitor_id', 'orders']\n",
    "\n",
    "ordersByUsersB = (\n",
    "    orders[orders['group'] == 'B']\n",
    "    .groupby('visitor_id', as_index=False)\n",
    "    .agg({'transaction_id': pd.Series.nunique})\n",
    ")\n",
    "ordersByUsersB.columns = ['visitor_id', 'orders']\n",
    "\n"
   ]
  },
  {
   "cell_type": "markdown",
   "metadata": {},
   "source": [
    "Объявим переменные sampleA и sampleB, в которых пользователям из разных групп будет соответствовать количество заказов. Тем, кто ничего не заказал, будут соответствовать нули."
   ]
  },
  {
   "cell_type": "code",
   "execution_count": 29,
   "metadata": {},
   "outputs": [],
   "source": [
    "sampleA = pd.concat([ordersByUsersA['orders'],\n",
    "                     pd.Series(0, index=np.arange(data['visitorsPerDateA'].sum() - len(ordersByUsersA['orders']))\n",
    "                                   , name='orders')],axis=0)\n",
    "\n",
    "sampleB = pd.concat([ordersByUsersB['orders'],\n",
    "                     pd.Series(0, index=np.arange(data['visitorsPerDateB'].sum() - len(ordersByUsersB['orders']))\n",
    "                                   , name='orders')],axis=0)"
   ]
  },
  {
   "cell_type": "markdown",
   "metadata": {},
   "source": [
    "**Посчитаем статистическую значимость различия *среднего количества заказов*, применив тест Манна-Уитни**"
   ]
  },
  {
   "cell_type": "markdown",
   "metadata": {},
   "source": [
    "Применим непараметрический тест Уилкоксона-Манна-Уитни, воспользуясь методом st.mannwhitneyu() и выберем уровень значимости alpha = 0.05\n",
    "\n",
    "Сформулируем нулевую и альтернативную гиоптезы: \n",
    "\n",
    "\\begin{equation*}\n",
    " \\begin{cases}\n",
    "   H_0 :\\text{не наблюдается статистически значимой разницы между группами}\\\\\n",
    "   H_1 :\\text{наблюдается статистически значимая разница между группами}\n",
    " \\end{cases}\n",
    "\\end{equation*}"
   ]
  },
  {
   "cell_type": "code",
   "execution_count": 30,
   "metadata": {},
   "outputs": [
    {
     "name": "stdout",
     "output_type": "stream",
     "text": [
      "P-value: 0.011\n",
      "Отвергаем нулевую гипотезу: наблюдается статистически значимая разница между группами\n",
      "Относительный прирост В к А: 15.98%\n"
     ]
    }
   ],
   "source": [
    "alpha = 0.05\n",
    "p_value = stats.mannwhitneyu(sampleA, sampleB)[1]\n",
    "print(\"P-value: {0:.3f}\".format(p_value))\n",
    "\n",
    "if (p_value < alpha):\n",
    "    print(\"Отвергаем нулевую гипотезу: наблюдается статистически значимая разница между группами\")\n",
    "else:\n",
    "    print(\"Не получилось отвергнуть нулевую гипотезу, нет оснований считать группы разными\")\n",
    "    \n",
    "print(\"Относительный прирост В к А: {0:.2%}\".format(sampleB.mean() / sampleA.mean()-1))"
   ]
  },
  {
   "cell_type": "markdown",
   "metadata": {},
   "source": [
    "По неочищенным данным наблюдается статистически значимая разница в среднем количестве заказов между группами.\n",
    "\n",
    "P-value = 0.011 меньше 0.05. Значит, нулевую гипотезу о том, что статистически значимых различий между группами нет, отвергаем.\n",
    "\n",
    "Относительный выигрыш группы B равен 15.98%."
   ]
  },
  {
   "cell_type": "markdown",
   "metadata": {},
   "source": [
    "**Посчитаем статистическую значимость различия в среднем чеке заказа, применив тест Манна-Уитни**"
   ]
  },
  {
   "cell_type": "markdown",
   "metadata": {},
   "source": [
    "Применим непараметрический тест Уилкоксона-Манна-Уитни, воспользуясь методом st.mannwhitneyu() и выберем уровень значимости alpha = 0.05\n",
    "\n",
    "Сформулируем нулевую и альтернативную гиоптезы: \n",
    "\n",
    "\\begin{equation*}\n",
    " \\begin{cases}\n",
    "   H_0 :\\text{не наблюдается статистически значимой разницы между группами}\\\\\n",
    "   H_1 :\\text{наблюдается статистически значимая разница между группами}\n",
    " \\end{cases}\n",
    "\\end{equation*}"
   ]
  },
  {
   "cell_type": "code",
   "execution_count": 31,
   "metadata": {},
   "outputs": [
    {
     "name": "stdout",
     "output_type": "stream",
     "text": [
      "P-value: 0.829\n",
      "Не получилось отвергнуть нулевую гипотезу, нет оснований считать группы разными\n",
      "Относительный прирост В к А: 28.66%\n"
     ]
    }
   ],
   "source": [
    "alpha = 0.05\n",
    "p_value = stats.mannwhitneyu(orders[orders['group']=='A']['revenue'], orders[orders['group']=='B']['revenue'])[1]\n",
    "print(\"P-value: {0:.3f}\".format(p_value))\n",
    "\n",
    "if (p_value < alpha):\n",
    "    print(\"Отвергаем нулевую гипотезу: наблюдается статистически значимая разница между группами\")\n",
    "else:\n",
    "    print(\"Не получилось отвергнуть нулевую гипотезу, нет оснований считать группы разными\")\n",
    "    \n",
    "print(\"Относительный прирост В к А: {0:.2%}\".format(orders[orders['group']=='B']['revenue'].mean() \n",
    "                                                    / orders[orders['group']=='A']['revenue'].mean()-1))"
   ]
  },
  {
   "cell_type": "markdown",
   "metadata": {},
   "source": [
    "По неочищенным данным не наблюдается статистически значимой разницы в среднем чеке заказов между группами нет.\n",
    "\n",
    "P-value = 0.829 меньше 0.05. Значит, нет оснований отвергать нулевую гипотезу о том, что статистически значимых различий между группами нет.\n",
    "\n",
    "Относительный выигрыш группы B равен 28.66%. Различия между средними чеками есть: средний чек группы В больше."
   ]
  },
  {
   "cell_type": "markdown",
   "metadata": {},
   "source": [
    "##### Анализ по «очищенным» данным"
   ]
  },
  {
   "cell_type": "markdown",
   "metadata": {},
   "source": [
    "Примем за аномальных пользователей тех, кто совершил более 2 заказов или совершил заказ дороже 53904.0. \n",
    "\n",
    "Сделаем срезы пользователей с числом заказов больше 2 — users_with_many_orders и пользователей, совершивших заказы дороже 53904.0 — users_with_expensive_orders. Объединим их в таблице abnormal_users.\n",
    "\n",
    "Узнаем, сколько всего аномальных пользователей."
   ]
  },
  {
   "cell_type": "code",
   "execution_count": 32,
   "metadata": {},
   "outputs": [
    {
     "data": {
      "text/plain": [
       "1099    148427295\n",
       "33      249864742\n",
       "58      611059232\n",
       "949     887908475\n",
       "744     888512513\n",
       "Name: visitor_id, dtype: int64"
      ]
     },
     "metadata": {},
     "output_type": "display_data"
    },
    {
     "name": "stdout",
     "output_type": "stream",
     "text": [
      "Таких пользователей: 16\n"
     ]
    }
   ],
   "source": [
    "many_orders = np.percentile(cnt_order['orders'], 99)\n",
    "expensive_orders = np.percentile(orders['revenue'], 99)\n",
    "\n",
    "users_with_many_orders = pd.concat(\n",
    "    [\n",
    "        ordersByUsersA[ordersByUsersA['orders'] > many_orders]['visitor_id'],\n",
    "        ordersByUsersB[ordersByUsersB['orders'] > many_orders]['visitor_id'],\n",
    "    ],\n",
    "    axis=0,\n",
    ")\n",
    "\n",
    "users_with_expensive_orders = orders[orders['revenue'] > expensive_orders]['visitor_id']\n",
    "\n",
    "abnormal_users = (\n",
    "    pd.concat([users_with_many_orders, users_with_expensive_orders], axis=0)\n",
    "    .drop_duplicates()\n",
    "    .sort_values()\n",
    ")\n",
    "\n",
    "display(abnormal_users.head(5))\n",
    "print(f'Таких пользователей: {len(abnormal_users)}')"
   ]
  },
  {
   "cell_type": "markdown",
   "metadata": {},
   "source": [
    "Узнаем, как их действия повлияли на результаты теста. Посчитаем статистическую значимость различий в среднем количестве заказов между группами теста по очищенным данным. Сначала подготовим выборки количества заказов по пользователям по группам теста."
   ]
  },
  {
   "cell_type": "code",
   "execution_count": 33,
   "metadata": {},
   "outputs": [],
   "source": [
    "sampleAFiltered = pd.concat(\n",
    "    [\n",
    "        ordersByUsersA[\n",
    "            np.logical_not(ordersByUsersA['visitor_id'].isin(abnormal_users))\n",
    "        ]['orders'],\n",
    "        pd.Series(\n",
    "            0,\n",
    "            index=np.arange(\n",
    "                data['visitorsPerDateA'].sum() - len(ordersByUsersA['orders'])\n",
    "            ),\n",
    "            name='orders',\n",
    "        ),\n",
    "    ],\n",
    "    axis=0,\n",
    ")\n",
    "\n",
    "sampleBFiltered = pd.concat(\n",
    "    [\n",
    "        ordersByUsersB[\n",
    "            np.logical_not(ordersByUsersB['visitor_id'].isin(abnormal_users))\n",
    "        ]['orders'],\n",
    "        pd.Series(\n",
    "            0,\n",
    "            index=np.arange(\n",
    "                data['visitorsPerDateB'].sum() - len(ordersByUsersB['orders'])\n",
    "            ),\n",
    "            name='orders',\n",
    "        ),\n",
    "    ],\n",
    "    axis=0,\n",
    ")"
   ]
  },
  {
   "cell_type": "markdown",
   "metadata": {},
   "source": [
    "**Посчитаем статистическую значимость различия *среднего количества заказов*, применив тест Манна-Уитни**"
   ]
  },
  {
   "cell_type": "markdown",
   "metadata": {},
   "source": [
    "Применим непараметрический тест Уилкоксона-Манна-Уитни, воспользуясь методом st.mannwhitneyu() и выберем уровень значимости alpha = 0.05\n",
    "\n",
    "Сформулируем нулевую и альтернативную гиоптезы: \n",
    "\n",
    "\\begin{equation*}\n",
    " \\begin{cases}\n",
    "   H_0 :\\text{не наблюдается статистически значимой разницы между группами}\\\\\n",
    "   H_1 :\\text{наблюдается статистически значимая разница между группами}\n",
    " \\end{cases}\n",
    "\\end{equation*}"
   ]
  },
  {
   "cell_type": "code",
   "execution_count": 34,
   "metadata": {},
   "outputs": [
    {
     "name": "stdout",
     "output_type": "stream",
     "text": [
      "P-value: 0.007\n",
      "Отвергаем нулевую гипотезу: наблюдается статистически значимая разница между группами\n",
      "Относительный прирост В к А: 18.92%\n"
     ]
    }
   ],
   "source": [
    "alpha = 0.05\n",
    "p_value = stats.mannwhitneyu(sampleAFiltered, sampleBFiltered)[1]\n",
    "print(\"P-value: {0:.3f}\".format(p_value))\n",
    "\n",
    "if (p_value < alpha):\n",
    "    print(\"Отвергаем нулевую гипотезу: наблюдается статистически значимая разница между группами\")\n",
    "else:\n",
    "    print(\"Не получилось отвергнуть нулевую гипотезу, нет оснований считать группы разными\")\n",
    "    \n",
    "print(\"Относительный прирост В к А: {0:.2%}\".format(sampleBFiltered.mean() / sampleAFiltered.mean()-1))"
   ]
  },
  {
   "cell_type": "markdown",
   "metadata": {},
   "source": [
    "По очищенным данным разница в среднем количестве заказов между группами наблюдается статистически значимая разница, а относительный прирост группы В отнистельно группы А равен 18.92%"
   ]
  },
  {
   "cell_type": "markdown",
   "metadata": {},
   "source": [
    "**Посчитаем статистическую значимость различия в среднем чеке заказа, применив тест Манна-Уитни**"
   ]
  },
  {
   "cell_type": "markdown",
   "metadata": {},
   "source": [
    "Применим непараметрический тест Уилкоксона-Манна-Уитни, воспользуясь методом st.mannwhitneyu() и выберем уровень значимости alpha = 0.05\n",
    "\n",
    "Сформулируем нулевую и альтернативную гиоптезы: \n",
    "\n",
    "\\begin{equation*}\n",
    " \\begin{cases}\n",
    "   H_0 :\\text{не наблюдается статистически значимой разницы между группами}\\\\\n",
    "   H_1 :\\text{наблюдается статистически значимая разница между группами}\n",
    " \\end{cases}\n",
    "\\end{equation*}"
   ]
  },
  {
   "cell_type": "code",
   "execution_count": 35,
   "metadata": {},
   "outputs": [
    {
     "name": "stdout",
     "output_type": "stream",
     "text": [
      "P-value: 0.788\n",
      "Не получилось отвергнуть нулевую гипотезу, нет оснований считать группы разными\n",
      "Относительный прирост В к А: -3.23%\n"
     ]
    }
   ],
   "source": [
    "alpha = 0.05\n",
    "p_value = stats.mannwhitneyu(orders[\n",
    "                                    np.logical_and(orders['group'] == 'A',\n",
    "                                                   np.logical_not(orders['visitor_id'].isin(abnormal_users)),)]['revenue'], \n",
    "                             orders[\n",
    "                                    np.logical_and(orders['group'] == 'B',\n",
    "                                                   np.logical_not(orders['visitor_id'].isin(abnormal_users)),)]['revenue'])[1]\n",
    "print(\"P-value: {0:.3f}\".format(p_value))\n",
    "\n",
    "if (p_value < alpha):\n",
    "    print(\"Отвергаем нулевую гипотезу: наблюдается статистически значимая разница между группами\")\n",
    "else:\n",
    "    print(\"Не получилось отвергнуть нулевую гипотезу, нет оснований считать группы разными\")\n",
    "    \n",
    "print(\"Относительный прирост В к А: {0:.2%}\".format(orders[\n",
    "                                    np.logical_and(orders['group'] == 'B',\n",
    "                                                   np.logical_not(orders['visitor_id'].isin(abnormal_users)),)]['revenue'].mean() \n",
    "                                                    / orders[\n",
    "                                    np.logical_and(orders['group'] == 'A',\n",
    "                                                   np.logical_not(orders['visitor_id'].isin(abnormal_users)),)]['revenue'].mean()-1))"
   ]
  },
  {
   "cell_type": "markdown",
   "metadata": {},
   "source": [
    "По очищенным данным нет оснований считать группы разными: различия в среднем чеке заказов не являются статистически значимыми.\n",
    "\n",
    "P-value = 0.788 значительно больше 0.05. Значит, нет оснований отвергать нулевую гипотезу о том, что статистически значимых различий между группами нет.\n",
    "\n",
    "По разнице средних чеков групп различий практически нет."
   ]
  },
  {
   "cell_type": "markdown",
   "metadata": {},
   "source": [
    "### Вывод"
   ]
  },
  {
   "cell_type": "markdown",
   "metadata": {},
   "source": [
    "В проекте проведена приоритизация гипотез и анализ результатов A/B-теста интерент-магазина.\n",
    "Данные, предоставленные для анализа содержат следующую информацию:\n",
    " - список гипотез,\n",
    " - информацию о заказах с сайта,\n",
    " - информация о визитах пользователей и группе.\n",
    "   \n",
    "**На этапе предобработки данных выполнено:**\n",
    "\n",
    "- открыты файлы, изучена общая информацию о полученных датафреймах; \n",
    "- выполнена предобработка данных: заменены названия столбцов; выполнена проверка на дубликаты; выполнено преобразования типов данных, где это необходимо для дальнейшего анализа.\n",
    "\n",
    "**На этапе анализа А/В теста:**\n",
    "\n",
    "1) Анализ графиков:\n",
    "\n",
    "    - выявлены и удалены пользователи, попавшие в обе группы теста;\n",
    "    - выручка группы А равномерно увеличивается в течение всего теста аналогично графику группы В. При этом выручка группы А ниже выручки группы В. Однако на графике выручки группы В есть резкий скачок, сигнализирующий о всплесках числа заказов, либо о появлении очень дорогих заказов в выборке группы В;\n",
    "    - средний чек группы А становится равномерным и устанавливается с середины теста. Виден резкий всплеск на графике среднего чека группы В, свидетельствующий о наличии покупки высокой стоимости. После этого график группы В равномерно убывает, при этом средний чек выше, чем у группы А;\n",
    "    - график кумулятивного среднего количества заказов группы В показывает стабильно лучшие значения, чем график группы А;\n",
    "    \n",
    "2) Статистический анализ:\n",
    "\n",
    "    - присутствует статистически значимое различие по среднему количеству заказов между группами как по «сырым» данным, так и по данным после удаления аномалий. Относительный выигрыш группы B увеличился с 15.98 до 18.92 после удаления выбросов;\n",
    "    - нет статистически значимого различия по среднему чеку между группами как по «сырым» данным, так и по «очищенным». При этом относительный выигрыш группы В до очистки данных равен 28.66%, а после очитски данных -3.23%. Это говорит о том, что среди пользователей группы В были совершены покупки на крупную сумму;\n",
    "    \n",
    "3) Тест можно остановить со следующими результатами: победа группы В по среднему количеству заказов.\n",
    "\n",
    "Различия в среднем количестве заказов статистически значимы. При этом различий в среднем чеке заказов между группами по результатам теста не наблюдается.\n",
    "\n",
    "Так как среднее количество заказов группы В выше, чем среднее количество заказов группы А, можно говорить о том, что изменения ведут к переходу пользователей в покупатели и впоследствии к увеличеню выручки.\n",
    "\n",
    "График относительного прироста среднего количества заказов группы B относительно группы A говорит о том, что есть тенденция к улучшению."
   ]
  }
 ],
 "metadata": {
  "ExecuteTimeLog": [
   {
    "duration": 1312,
    "start_time": "2023-10-11T09:14:02.121Z"
   },
   {
    "duration": 220,
    "start_time": "2023-10-11T09:16:09.656Z"
   },
   {
    "duration": 3,
    "start_time": "2023-10-11T09:16:19.373Z"
   },
   {
    "duration": 17,
    "start_time": "2023-10-11T09:19:37.044Z"
   },
   {
    "duration": 15,
    "start_time": "2023-10-11T09:19:44.317Z"
   },
   {
    "duration": 14,
    "start_time": "2023-10-11T09:29:18.035Z"
   },
   {
    "duration": 15,
    "start_time": "2023-10-11T09:29:39.235Z"
   },
   {
    "duration": 8,
    "start_time": "2023-10-11T09:31:07.675Z"
   },
   {
    "duration": 8,
    "start_time": "2023-10-11T09:34:41.119Z"
   },
   {
    "duration": 6,
    "start_time": "2023-10-11T09:37:24.598Z"
   },
   {
    "duration": 14,
    "start_time": "2023-10-11T09:37:27.901Z"
   },
   {
    "duration": 13,
    "start_time": "2023-10-11T09:37:30.095Z"
   },
   {
    "duration": 3,
    "start_time": "2023-10-11T09:42:36.251Z"
   },
   {
    "duration": 11,
    "start_time": "2023-10-11T09:42:38.914Z"
   },
   {
    "duration": 1165,
    "start_time": "2023-10-11T09:43:08.872Z"
   },
   {
    "duration": 77,
    "start_time": "2023-10-11T09:43:10.039Z"
   },
   {
    "duration": 3,
    "start_time": "2023-10-11T09:43:10.117Z"
   },
   {
    "duration": 50,
    "start_time": "2023-10-11T09:43:10.122Z"
   },
   {
    "duration": 21,
    "start_time": "2023-10-11T09:43:10.173Z"
   },
   {
    "duration": 12,
    "start_time": "2023-10-11T09:43:10.196Z"
   },
   {
    "duration": 19,
    "start_time": "2023-10-11T09:43:10.209Z"
   },
   {
    "duration": 6,
    "start_time": "2023-10-11T09:43:10.229Z"
   },
   {
    "duration": 18,
    "start_time": "2023-10-11T09:43:10.236Z"
   },
   {
    "duration": 26,
    "start_time": "2023-10-11T09:43:10.255Z"
   },
   {
    "duration": 11,
    "start_time": "2023-10-11T09:43:31.256Z"
   },
   {
    "duration": 12,
    "start_time": "2023-10-11T09:44:32.003Z"
   },
   {
    "duration": 118,
    "start_time": "2023-10-11T11:07:48.890Z"
   },
   {
    "duration": 35,
    "start_time": "2023-10-11T11:08:06.306Z"
   },
   {
    "duration": 1177,
    "start_time": "2023-10-11T11:08:18.128Z"
   },
   {
    "duration": 86,
    "start_time": "2023-10-11T11:08:19.307Z"
   },
   {
    "duration": 3,
    "start_time": "2023-10-11T11:08:19.394Z"
   },
   {
    "duration": 31,
    "start_time": "2023-10-11T11:08:19.399Z"
   },
   {
    "duration": 41,
    "start_time": "2023-10-11T11:08:19.432Z"
   },
   {
    "duration": 14,
    "start_time": "2023-10-11T11:08:19.475Z"
   },
   {
    "duration": 17,
    "start_time": "2023-10-11T11:08:19.491Z"
   },
   {
    "duration": 32,
    "start_time": "2023-10-11T11:08:19.510Z"
   },
   {
    "duration": 24,
    "start_time": "2023-10-11T11:08:19.544Z"
   },
   {
    "duration": 29,
    "start_time": "2023-10-11T11:08:19.571Z"
   },
   {
    "duration": 17,
    "start_time": "2023-10-11T11:08:19.601Z"
   },
   {
    "duration": 160,
    "start_time": "2023-10-11T11:08:19.620Z"
   },
   {
    "duration": 0,
    "start_time": "2023-10-11T11:08:19.782Z"
   },
   {
    "duration": 179,
    "start_time": "2023-10-11T11:09:02.819Z"
   },
   {
    "duration": 227,
    "start_time": "2023-10-11T11:09:16.098Z"
   },
   {
    "duration": 138,
    "start_time": "2023-10-11T11:10:54.440Z"
   },
   {
    "duration": 140,
    "start_time": "2023-10-11T11:10:59.777Z"
   },
   {
    "duration": 272,
    "start_time": "2023-10-11T11:17:15.236Z"
   },
   {
    "duration": 220,
    "start_time": "2023-10-11T11:18:12.173Z"
   },
   {
    "duration": 191,
    "start_time": "2023-10-11T11:20:31.201Z"
   },
   {
    "duration": 148,
    "start_time": "2023-10-11T11:20:40.491Z"
   },
   {
    "duration": 195,
    "start_time": "2023-10-11T11:20:55.412Z"
   },
   {
    "duration": 171,
    "start_time": "2023-10-11T11:21:17.337Z"
   },
   {
    "duration": 201,
    "start_time": "2023-10-11T11:23:46.832Z"
   },
   {
    "duration": 339,
    "start_time": "2023-10-11T11:25:21.446Z"
   },
   {
    "duration": 195,
    "start_time": "2023-10-11T11:25:38.372Z"
   },
   {
    "duration": 219,
    "start_time": "2023-10-11T11:26:47.389Z"
   },
   {
    "duration": 18,
    "start_time": "2023-10-11T11:27:18.588Z"
   },
   {
    "duration": 147,
    "start_time": "2023-10-11T11:27:29.989Z"
   },
   {
    "duration": 208,
    "start_time": "2023-10-11T11:27:37.062Z"
   },
   {
    "duration": 193,
    "start_time": "2023-10-11T11:28:07.804Z"
   },
   {
    "duration": 197,
    "start_time": "2023-10-11T11:28:12.725Z"
   },
   {
    "duration": 198,
    "start_time": "2023-10-11T11:29:54.884Z"
   },
   {
    "duration": 114,
    "start_time": "2023-10-11T11:30:00.787Z"
   },
   {
    "duration": 202,
    "start_time": "2023-10-11T11:30:04.300Z"
   },
   {
    "duration": 161,
    "start_time": "2023-10-11T11:31:53.570Z"
   },
   {
    "duration": 344,
    "start_time": "2023-10-11T11:32:55.922Z"
   },
   {
    "duration": 236,
    "start_time": "2023-10-11T11:33:08.850Z"
   },
   {
    "duration": 260,
    "start_time": "2023-10-11T11:34:18.376Z"
   },
   {
    "duration": 307,
    "start_time": "2023-10-11T11:35:00.475Z"
   },
   {
    "duration": 272,
    "start_time": "2023-10-11T11:35:26.383Z"
   },
   {
    "duration": 1332,
    "start_time": "2023-10-13T13:12:38.170Z"
   },
   {
    "duration": 209,
    "start_time": "2023-10-13T13:12:39.504Z"
   },
   {
    "duration": 3,
    "start_time": "2023-10-13T13:12:39.714Z"
   },
   {
    "duration": 37,
    "start_time": "2023-10-13T13:12:39.719Z"
   },
   {
    "duration": 15,
    "start_time": "2023-10-13T13:12:39.758Z"
   },
   {
    "duration": 28,
    "start_time": "2023-10-13T13:12:39.775Z"
   },
   {
    "duration": 26,
    "start_time": "2023-10-13T13:12:39.805Z"
   },
   {
    "duration": 33,
    "start_time": "2023-10-13T13:12:39.832Z"
   },
   {
    "duration": 34,
    "start_time": "2023-10-13T13:12:39.866Z"
   },
   {
    "duration": 26,
    "start_time": "2023-10-13T13:12:39.902Z"
   },
   {
    "duration": 51,
    "start_time": "2023-10-13T13:12:39.930Z"
   },
   {
    "duration": 203,
    "start_time": "2023-10-13T13:12:39.983Z"
   },
   {
    "duration": 143,
    "start_time": "2023-10-13T13:12:40.188Z"
   },
   {
    "duration": 323,
    "start_time": "2023-10-13T13:12:40.343Z"
   },
   {
    "duration": 209,
    "start_time": "2023-10-13T13:12:40.668Z"
   },
   {
    "duration": 322,
    "start_time": "2023-10-13T13:12:40.879Z"
   },
   {
    "duration": 167,
    "start_time": "2023-10-13T13:20:47.909Z"
   },
   {
    "duration": 204,
    "start_time": "2023-10-13T13:21:25.790Z"
   },
   {
    "duration": 207,
    "start_time": "2023-10-13T13:23:38.603Z"
   },
   {
    "duration": 181,
    "start_time": "2023-10-13T13:23:44.660Z"
   },
   {
    "duration": 261,
    "start_time": "2023-10-13T13:23:47.795Z"
   },
   {
    "duration": 214,
    "start_time": "2023-10-13T13:24:01.499Z"
   },
   {
    "duration": 188,
    "start_time": "2023-10-13T13:25:30.731Z"
   },
   {
    "duration": 196,
    "start_time": "2023-10-13T13:25:47.580Z"
   },
   {
    "duration": 216,
    "start_time": "2023-10-13T13:25:55.459Z"
   },
   {
    "duration": 251,
    "start_time": "2023-10-13T13:27:21.537Z"
   },
   {
    "duration": 1420,
    "start_time": "2023-10-13T17:11:40.765Z"
   },
   {
    "duration": 197,
    "start_time": "2023-10-13T17:11:42.187Z"
   },
   {
    "duration": 3,
    "start_time": "2023-10-13T17:11:42.386Z"
   },
   {
    "duration": 28,
    "start_time": "2023-10-13T17:11:42.391Z"
   },
   {
    "duration": 15,
    "start_time": "2023-10-13T17:11:42.421Z"
   },
   {
    "duration": 14,
    "start_time": "2023-10-13T17:11:42.438Z"
   },
   {
    "duration": 20,
    "start_time": "2023-10-13T17:11:42.454Z"
   },
   {
    "duration": 28,
    "start_time": "2023-10-13T17:11:42.476Z"
   },
   {
    "duration": 15,
    "start_time": "2023-10-13T17:11:42.506Z"
   },
   {
    "duration": 34,
    "start_time": "2023-10-13T17:11:42.524Z"
   },
   {
    "duration": 21,
    "start_time": "2023-10-13T17:11:42.560Z"
   },
   {
    "duration": 197,
    "start_time": "2023-10-13T17:11:42.583Z"
   },
   {
    "duration": 167,
    "start_time": "2023-10-13T17:11:42.782Z"
   },
   {
    "duration": 307,
    "start_time": "2023-10-13T17:11:42.950Z"
   },
   {
    "duration": 220,
    "start_time": "2023-10-13T17:11:43.259Z"
   },
   {
    "duration": 385,
    "start_time": "2023-10-13T17:11:43.481Z"
   },
   {
    "duration": 246,
    "start_time": "2023-10-13T17:11:43.868Z"
   },
   {
    "duration": 10,
    "start_time": "2023-10-13T17:13:24.458Z"
   },
   {
    "duration": 12,
    "start_time": "2023-10-13T17:15:05.660Z"
   },
   {
    "duration": 16,
    "start_time": "2023-10-13T17:15:53.803Z"
   },
   {
    "duration": 11,
    "start_time": "2023-10-13T17:16:16.491Z"
   },
   {
    "duration": 12,
    "start_time": "2023-10-13T17:17:01.410Z"
   },
   {
    "duration": 347,
    "start_time": "2023-10-13T17:24:57.500Z"
   },
   {
    "duration": 333,
    "start_time": "2023-10-13T17:26:06.324Z"
   },
   {
    "duration": 331,
    "start_time": "2023-10-13T17:26:49.508Z"
   },
   {
    "duration": 387,
    "start_time": "2023-10-13T17:26:58.141Z"
   },
   {
    "duration": 283,
    "start_time": "2023-10-13T17:27:12.651Z"
   },
   {
    "duration": 13,
    "start_time": "2023-10-13T18:08:36.017Z"
   },
   {
    "duration": 9,
    "start_time": "2023-10-13T18:10:50.479Z"
   },
   {
    "duration": 9,
    "start_time": "2023-10-13T18:11:16.761Z"
   },
   {
    "duration": 86,
    "start_time": "2023-10-13T18:11:52.999Z"
   },
   {
    "duration": 81,
    "start_time": "2023-10-13T18:12:42.613Z"
   },
   {
    "duration": 8,
    "start_time": "2023-10-13T18:13:05.942Z"
   },
   {
    "duration": 106,
    "start_time": "2023-10-13T18:14:16.725Z"
   },
   {
    "duration": 272,
    "start_time": "2023-10-13T18:15:01.597Z"
   },
   {
    "duration": 10,
    "start_time": "2023-10-13T18:15:24.075Z"
   },
   {
    "duration": 94,
    "start_time": "2023-10-13T18:15:52.091Z"
   },
   {
    "duration": 79,
    "start_time": "2023-10-13T18:16:45.273Z"
   },
   {
    "duration": 14,
    "start_time": "2023-10-13T18:17:02.322Z"
   },
   {
    "duration": 89,
    "start_time": "2023-10-13T18:17:32.036Z"
   },
   {
    "duration": 9,
    "start_time": "2023-10-13T18:17:46.755Z"
   },
   {
    "duration": 10,
    "start_time": "2023-10-13T18:21:23.807Z"
   },
   {
    "duration": 8,
    "start_time": "2023-10-13T18:22:12.031Z"
   },
   {
    "duration": 1227,
    "start_time": "2023-10-13T18:22:18.816Z"
   },
   {
    "duration": 78,
    "start_time": "2023-10-13T18:22:20.045Z"
   },
   {
    "duration": 4,
    "start_time": "2023-10-13T18:22:20.125Z"
   },
   {
    "duration": 59,
    "start_time": "2023-10-13T18:22:20.131Z"
   },
   {
    "duration": 19,
    "start_time": "2023-10-13T18:22:20.193Z"
   },
   {
    "duration": 20,
    "start_time": "2023-10-13T18:22:20.214Z"
   },
   {
    "duration": 20,
    "start_time": "2023-10-13T18:22:20.236Z"
   },
   {
    "duration": 18,
    "start_time": "2023-10-13T18:22:20.258Z"
   },
   {
    "duration": 22,
    "start_time": "2023-10-13T18:22:20.277Z"
   },
   {
    "duration": 30,
    "start_time": "2023-10-13T18:22:20.301Z"
   },
   {
    "duration": 27,
    "start_time": "2023-10-13T18:22:20.334Z"
   },
   {
    "duration": 18,
    "start_time": "2023-10-13T18:22:20.363Z"
   },
   {
    "duration": 40,
    "start_time": "2023-10-13T18:22:20.383Z"
   },
   {
    "duration": 48,
    "start_time": "2023-10-13T18:22:20.426Z"
   },
   {
    "duration": 213,
    "start_time": "2023-10-13T18:22:20.476Z"
   },
   {
    "duration": 154,
    "start_time": "2023-10-13T18:22:20.691Z"
   },
   {
    "duration": 325,
    "start_time": "2023-10-13T18:22:20.847Z"
   },
   {
    "duration": 230,
    "start_time": "2023-10-13T18:22:21.174Z"
   },
   {
    "duration": 320,
    "start_time": "2023-10-13T18:22:21.406Z"
   },
   {
    "duration": 254,
    "start_time": "2023-10-13T18:22:21.728Z"
   },
   {
    "duration": 319,
    "start_time": "2023-10-13T18:22:21.985Z"
   },
   {
    "duration": 10,
    "start_time": "2023-10-13T18:24:49.513Z"
   },
   {
    "duration": 9,
    "start_time": "2023-10-13T18:24:50.872Z"
   },
   {
    "duration": 13,
    "start_time": "2023-10-13T18:26:07.160Z"
   },
   {
    "duration": 1260,
    "start_time": "2023-10-13T18:26:13.086Z"
   },
   {
    "duration": 75,
    "start_time": "2023-10-13T18:26:14.348Z"
   },
   {
    "duration": 6,
    "start_time": "2023-10-13T18:26:14.425Z"
   },
   {
    "duration": 95,
    "start_time": "2023-10-13T18:26:14.433Z"
   },
   {
    "duration": 20,
    "start_time": "2023-10-13T18:26:14.530Z"
   },
   {
    "duration": 20,
    "start_time": "2023-10-13T18:26:14.552Z"
   },
   {
    "duration": 33,
    "start_time": "2023-10-13T18:26:14.574Z"
   },
   {
    "duration": 12,
    "start_time": "2023-10-13T18:26:14.609Z"
   },
   {
    "duration": 12,
    "start_time": "2023-10-13T18:26:14.623Z"
   },
   {
    "duration": 22,
    "start_time": "2023-10-13T18:26:14.638Z"
   },
   {
    "duration": 17,
    "start_time": "2023-10-13T18:26:14.662Z"
   },
   {
    "duration": 16,
    "start_time": "2023-10-13T18:26:14.702Z"
   },
   {
    "duration": 16,
    "start_time": "2023-10-13T18:26:14.720Z"
   },
   {
    "duration": 19,
    "start_time": "2023-10-13T18:26:14.738Z"
   },
   {
    "duration": 8,
    "start_time": "2023-10-13T18:26:14.759Z"
   },
   {
    "duration": 200,
    "start_time": "2023-10-13T18:26:14.768Z"
   },
   {
    "duration": 149,
    "start_time": "2023-10-13T18:26:14.970Z"
   },
   {
    "duration": 302,
    "start_time": "2023-10-13T18:26:15.121Z"
   },
   {
    "duration": 225,
    "start_time": "2023-10-13T18:26:15.425Z"
   },
   {
    "duration": 287,
    "start_time": "2023-10-13T18:26:15.652Z"
   },
   {
    "duration": 229,
    "start_time": "2023-10-13T18:26:15.941Z"
   },
   {
    "duration": 332,
    "start_time": "2023-10-13T18:26:16.172Z"
   },
   {
    "duration": 248,
    "start_time": "2023-10-13T18:29:35.963Z"
   },
   {
    "duration": 222,
    "start_time": "2023-10-13T18:29:37.954Z"
   },
   {
    "duration": 11,
    "start_time": "2023-10-13T18:47:19.532Z"
   },
   {
    "duration": 13,
    "start_time": "2023-10-13T18:47:31.019Z"
   },
   {
    "duration": 13,
    "start_time": "2023-10-13T18:47:54.739Z"
   },
   {
    "duration": 216,
    "start_time": "2023-10-13T18:49:13.823Z"
   },
   {
    "duration": 81,
    "start_time": "2023-10-13T18:51:58.961Z"
   },
   {
    "duration": 155,
    "start_time": "2023-10-13T18:52:03.946Z"
   },
   {
    "duration": 106,
    "start_time": "2023-10-13T18:52:11.216Z"
   },
   {
    "duration": 12,
    "start_time": "2023-10-13T18:52:20.240Z"
   },
   {
    "duration": 11,
    "start_time": "2023-10-13T18:52:40.407Z"
   },
   {
    "duration": 142,
    "start_time": "2023-10-13T18:52:53.279Z"
   },
   {
    "duration": 113,
    "start_time": "2023-10-13T18:55:09.638Z"
   },
   {
    "duration": 126,
    "start_time": "2023-10-13T18:57:23.565Z"
   },
   {
    "duration": 132,
    "start_time": "2023-10-13T18:57:31.174Z"
   },
   {
    "duration": 120,
    "start_time": "2023-10-13T18:57:44.767Z"
   },
   {
    "duration": 135,
    "start_time": "2023-10-13T18:57:50.727Z"
   },
   {
    "duration": 139,
    "start_time": "2023-10-13T18:58:50.088Z"
   },
   {
    "duration": 175,
    "start_time": "2023-10-13T18:58:54.614Z"
   },
   {
    "duration": 5,
    "start_time": "2023-10-13T19:02:29.813Z"
   },
   {
    "duration": 6,
    "start_time": "2023-10-13T19:05:00.099Z"
   },
   {
    "duration": 118,
    "start_time": "2023-10-13T19:11:00.515Z"
   },
   {
    "duration": 130,
    "start_time": "2023-10-13T19:11:55.112Z"
   },
   {
    "duration": 7,
    "start_time": "2023-10-13T19:15:22.025Z"
   },
   {
    "duration": 140,
    "start_time": "2023-10-13T19:16:41.853Z"
   },
   {
    "duration": 126,
    "start_time": "2023-10-13T19:19:27.141Z"
   },
   {
    "duration": 1473,
    "start_time": "2023-10-15T16:48:08.152Z"
   },
   {
    "duration": 212,
    "start_time": "2023-10-15T16:48:09.627Z"
   },
   {
    "duration": 3,
    "start_time": "2023-10-15T16:48:09.841Z"
   },
   {
    "duration": 31,
    "start_time": "2023-10-15T16:48:09.846Z"
   },
   {
    "duration": 17,
    "start_time": "2023-10-15T16:48:09.879Z"
   },
   {
    "duration": 14,
    "start_time": "2023-10-15T16:48:09.898Z"
   },
   {
    "duration": 7,
    "start_time": "2023-10-15T16:48:09.914Z"
   },
   {
    "duration": 39,
    "start_time": "2023-10-15T16:48:09.923Z"
   },
   {
    "duration": 9,
    "start_time": "2023-10-15T16:48:09.964Z"
   },
   {
    "duration": 17,
    "start_time": "2023-10-15T16:48:09.974Z"
   },
   {
    "duration": 13,
    "start_time": "2023-10-15T16:48:09.993Z"
   },
   {
    "duration": 26,
    "start_time": "2023-10-15T16:48:10.008Z"
   },
   {
    "duration": 8,
    "start_time": "2023-10-15T16:48:10.057Z"
   },
   {
    "duration": 179,
    "start_time": "2023-10-15T16:48:10.069Z"
   },
   {
    "duration": 147,
    "start_time": "2023-10-15T16:48:10.249Z"
   },
   {
    "duration": 303,
    "start_time": "2023-10-15T16:48:10.398Z"
   },
   {
    "duration": 211,
    "start_time": "2023-10-15T16:48:10.703Z"
   },
   {
    "duration": 392,
    "start_time": "2023-10-15T16:48:10.916Z"
   },
   {
    "duration": 216,
    "start_time": "2023-10-15T16:48:11.310Z"
   },
   {
    "duration": 328,
    "start_time": "2023-10-15T16:48:11.528Z"
   },
   {
    "duration": 10,
    "start_time": "2023-10-15T16:48:11.858Z"
   },
   {
    "duration": 149,
    "start_time": "2023-10-15T16:48:11.870Z"
   },
   {
    "duration": 6,
    "start_time": "2023-10-15T16:48:12.020Z"
   },
   {
    "duration": 147,
    "start_time": "2023-10-15T16:48:12.028Z"
   },
   {
    "duration": 234,
    "start_time": "2023-10-15T16:48:12.177Z"
   },
   {
    "duration": 6,
    "start_time": "2023-10-15T16:48:12.413Z"
   },
   {
    "duration": 203,
    "start_time": "2023-10-15T17:07:25.500Z"
   },
   {
    "duration": 123,
    "start_time": "2023-10-15T17:08:16.735Z"
   },
   {
    "duration": 225,
    "start_time": "2023-10-15T17:09:15.279Z"
   },
   {
    "duration": 118,
    "start_time": "2023-10-15T17:21:47.182Z"
   },
   {
    "duration": 8,
    "start_time": "2023-10-15T17:21:48.050Z"
   },
   {
    "duration": 77,
    "start_time": "2023-10-15T17:39:20.086Z"
   },
   {
    "duration": 3,
    "start_time": "2023-10-15T17:39:30.701Z"
   },
   {
    "duration": 4,
    "start_time": "2023-10-15T17:39:35.422Z"
   },
   {
    "duration": 34,
    "start_time": "2023-10-15T17:39:45.909Z"
   },
   {
    "duration": 27,
    "start_time": "2023-10-15T17:40:09.045Z"
   },
   {
    "duration": 28,
    "start_time": "2023-10-15T17:42:08.059Z"
   },
   {
    "duration": 90,
    "start_time": "2023-10-15T17:42:53.546Z"
   },
   {
    "duration": 13,
    "start_time": "2023-10-15T17:45:29.449Z"
   },
   {
    "duration": 9,
    "start_time": "2023-10-15T17:55:05.491Z"
   },
   {
    "duration": 11,
    "start_time": "2023-10-15T17:55:26.395Z"
   },
   {
    "duration": 10,
    "start_time": "2023-10-15T17:56:51.465Z"
   },
   {
    "duration": 11,
    "start_time": "2023-10-15T17:57:02.202Z"
   },
   {
    "duration": 12,
    "start_time": "2023-10-15T17:57:12.634Z"
   },
   {
    "duration": 1006,
    "start_time": "2023-10-15T17:58:29.136Z"
   },
   {
    "duration": 8,
    "start_time": "2023-10-15T17:58:49.944Z"
   },
   {
    "duration": 27,
    "start_time": "2023-10-15T18:00:19.055Z"
   },
   {
    "duration": 1563,
    "start_time": "2023-10-15T18:11:36.282Z"
   },
   {
    "duration": 12,
    "start_time": "2023-10-15T18:11:51.041Z"
   },
   {
    "duration": 14,
    "start_time": "2023-10-15T18:12:33.304Z"
   },
   {
    "duration": 285,
    "start_time": "2023-10-15T19:06:50.672Z"
   },
   {
    "duration": 1230,
    "start_time": "2023-10-15T19:38:19.070Z"
   },
   {
    "duration": 82,
    "start_time": "2023-10-15T19:38:20.302Z"
   },
   {
    "duration": 2,
    "start_time": "2023-10-15T19:38:20.386Z"
   },
   {
    "duration": 26,
    "start_time": "2023-10-15T19:38:20.390Z"
   },
   {
    "duration": 17,
    "start_time": "2023-10-15T19:38:20.417Z"
   },
   {
    "duration": 14,
    "start_time": "2023-10-15T19:38:20.436Z"
   },
   {
    "duration": 17,
    "start_time": "2023-10-15T19:38:20.452Z"
   },
   {
    "duration": 6,
    "start_time": "2023-10-15T19:38:20.471Z"
   },
   {
    "duration": 14,
    "start_time": "2023-10-15T19:38:20.478Z"
   },
   {
    "duration": 14,
    "start_time": "2023-10-15T19:38:20.495Z"
   },
   {
    "duration": 13,
    "start_time": "2023-10-15T19:38:20.510Z"
   },
   {
    "duration": 37,
    "start_time": "2023-10-15T19:38:20.525Z"
   },
   {
    "duration": 6,
    "start_time": "2023-10-15T19:38:20.564Z"
   },
   {
    "duration": 185,
    "start_time": "2023-10-15T19:38:20.572Z"
   },
   {
    "duration": 147,
    "start_time": "2023-10-15T19:38:20.759Z"
   },
   {
    "duration": 299,
    "start_time": "2023-10-15T19:38:20.908Z"
   },
   {
    "duration": 217,
    "start_time": "2023-10-15T19:38:21.209Z"
   },
   {
    "duration": 315,
    "start_time": "2023-10-15T19:38:21.428Z"
   },
   {
    "duration": 218,
    "start_time": "2023-10-15T19:38:21.756Z"
   },
   {
    "duration": 282,
    "start_time": "2023-10-15T19:38:21.976Z"
   },
   {
    "duration": 12,
    "start_time": "2023-10-15T19:38:22.260Z"
   },
   {
    "duration": 146,
    "start_time": "2023-10-15T19:38:22.273Z"
   },
   {
    "duration": 5,
    "start_time": "2023-10-15T19:38:22.421Z"
   },
   {
    "duration": 141,
    "start_time": "2023-10-15T19:38:22.427Z"
   },
   {
    "duration": 228,
    "start_time": "2023-10-15T19:38:22.570Z"
   },
   {
    "duration": 6,
    "start_time": "2023-10-15T19:38:22.800Z"
   },
   {
    "duration": 239,
    "start_time": "2023-10-15T19:38:22.808Z"
   },
   {
    "duration": 142,
    "start_time": "2023-10-15T19:38:23.051Z"
   },
   {
    "duration": 6,
    "start_time": "2023-10-15T19:38:23.195Z"
   },
   {
    "duration": 56,
    "start_time": "2023-10-15T19:38:23.203Z"
   },
   {
    "duration": 12,
    "start_time": "2023-10-15T19:38:23.260Z"
   },
   {
    "duration": 24,
    "start_time": "2023-10-15T19:38:23.274Z"
   },
   {
    "duration": 22,
    "start_time": "2023-10-15T19:38:23.300Z"
   },
   {
    "duration": 39,
    "start_time": "2023-10-15T19:38:23.324Z"
   },
   {
    "duration": 18,
    "start_time": "2023-10-15T19:38:23.365Z"
   },
   {
    "duration": 1159,
    "start_time": "2023-10-15T20:13:04.249Z"
   },
   {
    "duration": 78,
    "start_time": "2023-10-15T20:13:05.410Z"
   },
   {
    "duration": 25,
    "start_time": "2023-10-15T20:13:05.489Z"
   },
   {
    "duration": 45,
    "start_time": "2023-10-15T20:13:05.516Z"
   },
   {
    "duration": 113,
    "start_time": "2023-10-15T20:13:05.563Z"
   },
   {
    "duration": 456,
    "start_time": "2023-10-15T20:13:05.677Z"
   },
   {
    "duration": 156,
    "start_time": "2023-10-15T20:13:06.135Z"
   },
   {
    "duration": 159,
    "start_time": "2023-10-15T20:13:06.292Z"
   },
   {
    "duration": 121,
    "start_time": "2023-10-15T20:13:06.453Z"
   },
   {
    "duration": 187,
    "start_time": "2023-10-15T20:13:06.576Z"
   },
   {
    "duration": 43,
    "start_time": "2023-10-15T20:13:06.765Z"
   },
   {
    "duration": 47,
    "start_time": "2023-10-15T20:13:06.809Z"
   },
   {
    "duration": 167,
    "start_time": "2023-10-15T20:13:06.858Z"
   },
   {
    "duration": 356,
    "start_time": "2023-10-15T20:13:07.029Z"
   },
   {
    "duration": 138,
    "start_time": "2023-10-15T20:13:07.387Z"
   },
   {
    "duration": 301,
    "start_time": "2023-10-15T20:13:07.527Z"
   },
   {
    "duration": 260,
    "start_time": "2023-10-15T20:13:07.830Z"
   },
   {
    "duration": 327,
    "start_time": "2023-10-15T20:13:08.091Z"
   },
   {
    "duration": 232,
    "start_time": "2023-10-15T20:13:08.424Z"
   },
   {
    "duration": 309,
    "start_time": "2023-10-15T20:13:08.658Z"
   },
   {
    "duration": 10,
    "start_time": "2023-10-15T20:13:08.968Z"
   },
   {
    "duration": 145,
    "start_time": "2023-10-15T20:13:08.980Z"
   },
   {
    "duration": 5,
    "start_time": "2023-10-15T20:13:09.127Z"
   },
   {
    "duration": 160,
    "start_time": "2023-10-15T20:13:09.133Z"
   },
   {
    "duration": 211,
    "start_time": "2023-10-15T20:13:09.294Z"
   },
   {
    "duration": 5,
    "start_time": "2023-10-15T20:13:09.506Z"
   },
   {
    "duration": 229,
    "start_time": "2023-10-15T20:13:09.513Z"
   },
   {
    "duration": 181,
    "start_time": "2023-10-15T20:13:09.743Z"
   },
   {
    "duration": 6,
    "start_time": "2023-10-15T20:13:09.926Z"
   },
   {
    "duration": 122,
    "start_time": "2023-10-15T20:13:09.933Z"
   },
   {
    "duration": 90,
    "start_time": "2023-10-15T20:13:10.057Z"
   },
   {
    "duration": 66,
    "start_time": "2023-10-15T20:13:10.149Z"
   },
   {
    "duration": 54,
    "start_time": "2023-10-15T20:13:10.217Z"
   },
   {
    "duration": 48,
    "start_time": "2023-10-15T20:13:10.273Z"
   },
   {
    "duration": 16,
    "start_time": "2023-10-15T20:13:10.323Z"
   },
   {
    "duration": 48,
    "start_time": "2023-10-16T09:52:08.426Z"
   },
   {
    "duration": 1450,
    "start_time": "2023-10-16T09:52:14.515Z"
   },
   {
    "duration": 239,
    "start_time": "2023-10-16T09:52:15.967Z"
   },
   {
    "duration": 3,
    "start_time": "2023-10-16T09:52:16.208Z"
   },
   {
    "duration": 43,
    "start_time": "2023-10-16T09:52:16.213Z"
   },
   {
    "duration": 16,
    "start_time": "2023-10-16T09:52:16.258Z"
   },
   {
    "duration": 32,
    "start_time": "2023-10-16T09:52:16.276Z"
   },
   {
    "duration": 10,
    "start_time": "2023-10-16T09:52:16.311Z"
   },
   {
    "duration": 21,
    "start_time": "2023-10-16T09:52:16.324Z"
   },
   {
    "duration": 35,
    "start_time": "2023-10-16T09:52:16.347Z"
   },
   {
    "duration": 56,
    "start_time": "2023-10-16T09:52:16.386Z"
   },
   {
    "duration": 16,
    "start_time": "2023-10-16T09:52:16.444Z"
   },
   {
    "duration": 27,
    "start_time": "2023-10-16T09:52:16.462Z"
   },
   {
    "duration": 16,
    "start_time": "2023-10-16T09:52:16.491Z"
   },
   {
    "duration": 184,
    "start_time": "2023-10-16T09:52:16.512Z"
   },
   {
    "duration": 136,
    "start_time": "2023-10-16T09:52:16.698Z"
   },
   {
    "duration": 289,
    "start_time": "2023-10-16T09:52:16.835Z"
   },
   {
    "duration": 222,
    "start_time": "2023-10-16T09:52:17.125Z"
   },
   {
    "duration": 300,
    "start_time": "2023-10-16T09:52:17.349Z"
   },
   {
    "duration": 202,
    "start_time": "2023-10-16T09:52:17.651Z"
   },
   {
    "duration": 265,
    "start_time": "2023-10-16T09:52:17.854Z"
   },
   {
    "duration": 9,
    "start_time": "2023-10-16T09:52:18.121Z"
   },
   {
    "duration": 140,
    "start_time": "2023-10-16T09:52:18.132Z"
   },
   {
    "duration": 5,
    "start_time": "2023-10-16T09:52:18.273Z"
   },
   {
    "duration": 170,
    "start_time": "2023-10-16T09:52:18.279Z"
   },
   {
    "duration": 207,
    "start_time": "2023-10-16T09:52:18.451Z"
   },
   {
    "duration": 5,
    "start_time": "2023-10-16T09:52:18.659Z"
   },
   {
    "duration": 218,
    "start_time": "2023-10-16T09:52:18.666Z"
   },
   {
    "duration": 124,
    "start_time": "2023-10-16T09:52:18.887Z"
   },
   {
    "duration": 5,
    "start_time": "2023-10-16T09:52:19.013Z"
   },
   {
    "duration": 40,
    "start_time": "2023-10-16T09:52:19.020Z"
   },
   {
    "duration": 24,
    "start_time": "2023-10-16T09:52:19.061Z"
   },
   {
    "duration": 26,
    "start_time": "2023-10-16T09:52:19.086Z"
   },
   {
    "duration": 33,
    "start_time": "2023-10-16T09:52:19.113Z"
   },
   {
    "duration": 29,
    "start_time": "2023-10-16T09:52:19.148Z"
   },
   {
    "duration": 40,
    "start_time": "2023-10-16T09:52:19.179Z"
   },
   {
    "duration": 257,
    "start_time": "2023-10-16T09:52:53.493Z"
   },
   {
    "duration": 187,
    "start_time": "2023-10-16T09:53:11.340Z"
   },
   {
    "duration": 196,
    "start_time": "2023-10-16T09:53:47.747Z"
   },
   {
    "duration": 207,
    "start_time": "2023-10-16T09:53:53.507Z"
   },
   {
    "duration": 203,
    "start_time": "2023-10-16T09:54:09.651Z"
   },
   {
    "duration": 200,
    "start_time": "2023-10-16T09:54:58.491Z"
   },
   {
    "duration": 203,
    "start_time": "2023-10-16T09:55:06.979Z"
   },
   {
    "duration": 273,
    "start_time": "2023-10-16T09:56:24.537Z"
   },
   {
    "duration": 214,
    "start_time": "2023-10-16T09:58:52.175Z"
   },
   {
    "duration": 421,
    "start_time": "2023-10-16T10:01:49.913Z"
   },
   {
    "duration": 288,
    "start_time": "2023-10-16T10:02:29.342Z"
   },
   {
    "duration": 292,
    "start_time": "2023-10-16T10:02:35.357Z"
   },
   {
    "duration": 128,
    "start_time": "2023-10-16T10:10:42.623Z"
   },
   {
    "duration": 182,
    "start_time": "2023-10-16T10:12:13.389Z"
   },
   {
    "duration": 126,
    "start_time": "2023-10-16T10:12:28.997Z"
   },
   {
    "duration": 6,
    "start_time": "2023-10-16T10:23:04.852Z"
   },
   {
    "duration": 5,
    "start_time": "2023-10-16T10:23:07.972Z"
   },
   {
    "duration": 6,
    "start_time": "2023-10-16T10:23:39.518Z"
   },
   {
    "duration": 24,
    "start_time": "2023-10-16T10:23:57.299Z"
   },
   {
    "duration": 1260,
    "start_time": "2023-10-16T10:24:06.794Z"
   },
   {
    "duration": 78,
    "start_time": "2023-10-16T10:24:08.057Z"
   },
   {
    "duration": 2,
    "start_time": "2023-10-16T10:24:08.137Z"
   },
   {
    "duration": 24,
    "start_time": "2023-10-16T10:24:08.141Z"
   },
   {
    "duration": 15,
    "start_time": "2023-10-16T10:24:08.167Z"
   },
   {
    "duration": 12,
    "start_time": "2023-10-16T10:24:08.184Z"
   },
   {
    "duration": 19,
    "start_time": "2023-10-16T10:24:08.198Z"
   },
   {
    "duration": 29,
    "start_time": "2023-10-16T10:24:08.219Z"
   },
   {
    "duration": 47,
    "start_time": "2023-10-16T10:24:08.249Z"
   },
   {
    "duration": 47,
    "start_time": "2023-10-16T10:24:08.297Z"
   },
   {
    "duration": 20,
    "start_time": "2023-10-16T10:24:08.345Z"
   },
   {
    "duration": 38,
    "start_time": "2023-10-16T10:24:08.367Z"
   },
   {
    "duration": 13,
    "start_time": "2023-10-16T10:24:08.416Z"
   },
   {
    "duration": 232,
    "start_time": "2023-10-16T10:24:08.432Z"
   },
   {
    "duration": 142,
    "start_time": "2023-10-16T10:24:08.666Z"
   },
   {
    "duration": 288,
    "start_time": "2023-10-16T10:24:08.817Z"
   },
   {
    "duration": 232,
    "start_time": "2023-10-16T10:24:09.106Z"
   },
   {
    "duration": 300,
    "start_time": "2023-10-16T10:24:09.340Z"
   },
   {
    "duration": 230,
    "start_time": "2023-10-16T10:24:09.642Z"
   },
   {
    "duration": 355,
    "start_time": "2023-10-16T10:24:09.873Z"
   },
   {
    "duration": 11,
    "start_time": "2023-10-16T10:24:10.230Z"
   },
   {
    "duration": 165,
    "start_time": "2023-10-16T10:24:10.243Z"
   },
   {
    "duration": 6,
    "start_time": "2023-10-16T10:24:10.421Z"
   },
   {
    "duration": 148,
    "start_time": "2023-10-16T10:24:10.429Z"
   },
   {
    "duration": 221,
    "start_time": "2023-10-16T10:24:10.579Z"
   },
   {
    "duration": 20,
    "start_time": "2023-10-16T10:24:10.801Z"
   },
   {
    "duration": 219,
    "start_time": "2023-10-16T10:24:10.823Z"
   },
   {
    "duration": 136,
    "start_time": "2023-10-16T10:24:11.043Z"
   },
   {
    "duration": 5,
    "start_time": "2023-10-16T10:24:11.181Z"
   },
   {
    "duration": 68,
    "start_time": "2023-10-16T10:24:11.188Z"
   },
   {
    "duration": 33,
    "start_time": "2023-10-16T10:24:11.258Z"
   },
   {
    "duration": 38,
    "start_time": "2023-10-16T10:24:11.293Z"
   },
   {
    "duration": 35,
    "start_time": "2023-10-16T10:24:11.332Z"
   },
   {
    "duration": 50,
    "start_time": "2023-10-16T10:24:11.368Z"
   },
   {
    "duration": 17,
    "start_time": "2023-10-16T10:24:11.420Z"
   },
   {
    "duration": 24,
    "start_time": "2023-10-16T10:26:09.634Z"
   },
   {
    "duration": 13,
    "start_time": "2023-10-16T10:51:03.730Z"
   },
   {
    "duration": 3,
    "start_time": "2023-10-16T10:51:32.457Z"
   },
   {
    "duration": 4,
    "start_time": "2023-10-16T10:51:38.471Z"
   },
   {
    "duration": 25,
    "start_time": "2023-10-16T10:53:14.654Z"
   },
   {
    "duration": 16,
    "start_time": "2023-10-16T10:54:03.447Z"
   },
   {
    "duration": 1162,
    "start_time": "2023-10-25T13:15:27.537Z"
   },
   {
    "duration": 199,
    "start_time": "2023-10-25T13:15:28.701Z"
   },
   {
    "duration": 2,
    "start_time": "2023-10-25T13:15:28.902Z"
   },
   {
    "duration": 22,
    "start_time": "2023-10-25T13:15:28.906Z"
   },
   {
    "duration": 14,
    "start_time": "2023-10-25T13:15:28.930Z"
   },
   {
    "duration": 26,
    "start_time": "2023-10-25T13:15:28.946Z"
   },
   {
    "duration": 13,
    "start_time": "2023-10-25T13:15:28.974Z"
   },
   {
    "duration": 12,
    "start_time": "2023-10-25T13:15:28.989Z"
   },
   {
    "duration": 9,
    "start_time": "2023-10-25T13:15:29.007Z"
   },
   {
    "duration": 18,
    "start_time": "2023-10-25T13:15:29.017Z"
   },
   {
    "duration": 11,
    "start_time": "2023-10-25T13:15:29.037Z"
   },
   {
    "duration": 25,
    "start_time": "2023-10-25T13:15:29.050Z"
   },
   {
    "duration": 15,
    "start_time": "2023-10-25T13:15:29.077Z"
   },
   {
    "duration": 168,
    "start_time": "2023-10-25T13:15:29.095Z"
   },
   {
    "duration": 130,
    "start_time": "2023-10-25T13:15:29.265Z"
   },
   {
    "duration": 308,
    "start_time": "2023-10-25T13:15:29.397Z"
   },
   {
    "duration": 203,
    "start_time": "2023-10-25T13:15:29.706Z"
   },
   {
    "duration": 310,
    "start_time": "2023-10-25T13:15:29.911Z"
   },
   {
    "duration": 219,
    "start_time": "2023-10-25T13:15:30.223Z"
   },
   {
    "duration": 272,
    "start_time": "2023-10-25T13:15:30.444Z"
   },
   {
    "duration": 10,
    "start_time": "2023-10-25T13:15:30.717Z"
   },
   {
    "duration": 185,
    "start_time": "2023-10-25T13:15:30.729Z"
   },
   {
    "duration": 6,
    "start_time": "2023-10-25T13:15:30.916Z"
   },
   {
    "duration": 178,
    "start_time": "2023-10-25T13:15:30.924Z"
   },
   {
    "duration": 217,
    "start_time": "2023-10-25T13:15:31.104Z"
   },
   {
    "duration": 5,
    "start_time": "2023-10-25T13:15:31.323Z"
   },
   {
    "duration": 299,
    "start_time": "2023-10-25T13:15:31.330Z"
   },
   {
    "duration": 110,
    "start_time": "2023-10-25T13:15:31.631Z"
   },
   {
    "duration": 117,
    "start_time": "2023-10-25T13:15:31.742Z"
   },
   {
    "duration": 75,
    "start_time": "2023-10-25T13:15:31.861Z"
   },
   {
    "duration": 37,
    "start_time": "2023-10-25T13:15:31.938Z"
   },
   {
    "duration": 99,
    "start_time": "2023-10-25T13:15:31.977Z"
   },
   {
    "duration": 38,
    "start_time": "2023-10-25T13:15:32.078Z"
   },
   {
    "duration": 81,
    "start_time": "2023-10-25T13:15:32.118Z"
   },
   {
    "duration": 66,
    "start_time": "2023-10-25T13:15:32.200Z"
   }
  ],
  "kernelspec": {
   "display_name": "Python 3 (ipykernel)",
   "language": "python",
   "name": "python3"
  },
  "language_info": {
   "codemirror_mode": {
    "name": "ipython",
    "version": 3
   },
   "file_extension": ".py",
   "mimetype": "text/x-python",
   "name": "python",
   "nbconvert_exporter": "python",
   "pygments_lexer": "ipython3",
   "version": "3.9.5"
  },
  "toc": {
   "base_numbering": 1,
   "nav_menu": {},
   "number_sections": false,
   "sideBar": true,
   "skip_h1_title": false,
   "title_cell": "Table of Contents",
   "title_sidebar": "Contents",
   "toc_cell": false,
   "toc_position": {
    "height": "calc(100% - 180px)",
    "left": "10px",
    "top": "150px",
    "width": "321px"
   },
   "toc_section_display": true,
   "toc_window_display": true
  }
 },
 "nbformat": 4,
 "nbformat_minor": 2
}
