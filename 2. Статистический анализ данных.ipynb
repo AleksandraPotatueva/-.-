{
 "cells": [
  {
   "cell_type": "markdown",
   "id": "e7be313f",
   "metadata": {},
   "source": [
    "# Исследование данных сервиса аренды самокатов GoFast.\n",
    "Вы аналитик популярного сервиса аренды самокатов GoFast. Вам передали данные о некоторых пользователях из нескольких городов, а также об их поездках. Проанализируйте данные и проверьте некоторые гипотезы, которые могут помочь бизнесу вырасти.\n",
    "Чтобы совершать поездки по городу, пользователи сервиса GoFast пользуются мобильным приложением. Сервисом можно пользоваться:\n",
    "\n",
    "   **1) без подписки**\n",
    "      \n",
    "       - абонентская плата отсутствует;\n",
    "       - стоимость одной минуты поездки — 8 рублей;\n",
    "       - стоимость старта (начала поездки) — 50 рублей;\n",
    "   **2) с подпиской Ultra**\n",
    "      \n",
    "       - абонентская плата — 199 рублей в месяц;\n",
    "       - стоимость одной минуты поездки — 6 рублей;\n",
    "       - стоимость старта — бесплатно.\n",
    "**Описание данных.**\n",
    "\n",
    "В основных данных есть информация о пользователях, их поездках и подписках.\n",
    "\n",
    "Пользователи —  таблица **users_go.csv**\n",
    "\n",
    "Название столбца      | Расшифровка\n",
    ":-------------:       |:-------------:\n",
    "**user_id**           | уникальный идентификатор пользователя\n",
    "**name**              | имя пользователя\n",
    "**age**               |\tвозраст\n",
    "**city**              |\tгород\n",
    "**subscription_type** |\tтип подписки (free, ultra)\n",
    "\t\t\n",
    "\n",
    "Поездки — таблица **rides_go.csv** \n",
    "\n",
    "Название столбца      | Расшифровка\n",
    ":-------------:       |:-------------:\n",
    "**user_id**           | уникальный идентификатор пользователя\n",
    "**distance**          | расстояние, которое пользователь проехал в текущей сессии (в метрах)\n",
    "**duration**          | продолжительность сессии (в минутах) — время с того момента, как пользователь нажал кнопку «Начать поездку» до момента, как он нажал кнопку «Завершить поездку»\n",
    "**date**              |\tдата совершения поездки\n",
    "\n",
    "\t\n",
    "\n",
    "\t\n",
    "\t\n",
    "\t\n",
    "Подписки — таблица **subscriptions_go.csv**\n",
    "\n",
    "Название столбца      | Расшифровка\n",
    ":-------------:       |:-------------:\n",
    "**subscription_type** |\tтип подписки\n",
    "**minute_price**      |\tстоимость одной минуты поездки по данной подписке\n",
    "**start_ride_price**  |\tстоимость начала поездки\n",
    "**subscription_fee**  |\tстоимость ежемесячного платежа\n",
    "\n",
    "\n",
    "**Цель исследования:**\n",
    "\n",
    "1. Описать общую информацию о пользователях и поездках.\n",
    "2. Подситать выручку от пользователей с подпиской и без.\n",
    "3. Выполнить проверку некоторых гипотез:\n",
    "\n",
    "    -тратят ли пользователи с подпиской больше времени на поездки\n",
    "    \n",
    "    -можно ли сказать, что расстояние, которое проезжают пользователи с подпиской за одну поездку, не превышает 31303 метров?\n",
    "    \n",
    "    -будет ли помесячная выручка от пользователей с подпиской по месяцам выше, чем выручка от пользователей без подписки. \n",
    "    \n",
    "**В ходе работы планируется:**\n",
    "\n",
    "* Изучить общую информацию о полученных датафреймах\n",
    "    \n",
    "* Выполнить предобработку данных: по возможности заполнить пропуски при наличии; обработать дубликаты (если они есть); определить выбивающиеся и аномальные значения; изучить тип данных столбцов и выполнить преобразования типов данных, где это необходимо для дальнейшего анализа; добавить в таблицу новые столбцы (с месяцем аренды)\n",
    "\n",
    "* В ходе проведения исследовательского анализа изучить основные параметры: частота встречаемости городов, соотношение пользователей с подпиской и без, возраст пользователей, расстояние за одну поездку, продолжительность одной поездки.\n",
    "\n",
    "* Создать два датафрейма с информацией и пользователях с подпиской и без \n",
    "\n",
    "* Рассчитать помесячную выручку от каждого пользователя \n",
    "\n",
    "* Выполнить проверку гипотез\n",
    "\n",
    "* Написать общий вывод\n"
   ]
  },
  {
   "cell_type": "markdown",
   "id": "7d5b1365",
   "metadata": {},
   "source": []
  },
  {
   "cell_type": "markdown",
   "id": "c42cbe00",
   "metadata": {},
   "source": [
    "#### Шаг 1. Загрузка данных"
   ]
  },
  {
   "cell_type": "code",
   "execution_count": 1,
   "id": "72576667",
   "metadata": {},
   "outputs": [],
   "source": [
    "# импорт нужных библиотек\n",
    "import pandas as pd\n",
    "import matplotlib.pyplot as plt\n",
    "import numpy as np\n",
    "from scipy import stats as st"
   ]
  },
  {
   "cell_type": "code",
   "execution_count": 2,
   "id": "eff9f206",
   "metadata": {},
   "outputs": [],
   "source": [
    "# чтение файлов с данными\n",
    "data_users = pd.read_csv('/datasets/users_go.csv')\n",
    "data_rides = pd.read_csv('/datasets/rides_go.csv')\n",
    "data_subscriptions = pd.read_csv('/datasets/subscriptions_go.csv')"
   ]
  },
  {
   "cell_type": "code",
   "execution_count": 3,
   "id": "66a60d69",
   "metadata": {},
   "outputs": [],
   "source": [
    "# снятие ограничений на количество отображаемых столбцов и количество символов в записи\n",
    "pd.set_option('display.max_columns', None)\n",
    "pd.set_option('display.max_colwidth', None)"
   ]
  },
  {
   "cell_type": "markdown",
   "id": "e03eaa62",
   "metadata": {},
   "source": []
  },
  {
   "cell_type": "markdown",
   "id": "14eb474e",
   "metadata": {},
   "source": [
    "##### Изучим общую информацию "
   ]
  },
  {
   "cell_type": "code",
   "execution_count": 4,
   "id": "f234e937",
   "metadata": {},
   "outputs": [
    {
     "data": {
      "text/html": [
       "<div>\n",
       "<style scoped>\n",
       "    .dataframe tbody tr th:only-of-type {\n",
       "        vertical-align: middle;\n",
       "    }\n",
       "\n",
       "    .dataframe tbody tr th {\n",
       "        vertical-align: top;\n",
       "    }\n",
       "\n",
       "    .dataframe thead th {\n",
       "        text-align: right;\n",
       "    }\n",
       "</style>\n",
       "<table border=\"1\" class=\"dataframe\">\n",
       "  <thead>\n",
       "    <tr style=\"text-align: right;\">\n",
       "      <th></th>\n",
       "      <th>user_id</th>\n",
       "      <th>name</th>\n",
       "      <th>age</th>\n",
       "      <th>city</th>\n",
       "      <th>subscription_type</th>\n",
       "    </tr>\n",
       "  </thead>\n",
       "  <tbody>\n",
       "    <tr>\n",
       "      <th>0</th>\n",
       "      <td>1</td>\n",
       "      <td>Кира</td>\n",
       "      <td>22</td>\n",
       "      <td>Тюмень</td>\n",
       "      <td>ultra</td>\n",
       "    </tr>\n",
       "    <tr>\n",
       "      <th>1</th>\n",
       "      <td>2</td>\n",
       "      <td>Станислав</td>\n",
       "      <td>31</td>\n",
       "      <td>Омск</td>\n",
       "      <td>ultra</td>\n",
       "    </tr>\n",
       "    <tr>\n",
       "      <th>2</th>\n",
       "      <td>3</td>\n",
       "      <td>Алексей</td>\n",
       "      <td>20</td>\n",
       "      <td>Москва</td>\n",
       "      <td>ultra</td>\n",
       "    </tr>\n",
       "    <tr>\n",
       "      <th>3</th>\n",
       "      <td>4</td>\n",
       "      <td>Константин</td>\n",
       "      <td>26</td>\n",
       "      <td>Ростов-на-Дону</td>\n",
       "      <td>ultra</td>\n",
       "    </tr>\n",
       "    <tr>\n",
       "      <th>4</th>\n",
       "      <td>5</td>\n",
       "      <td>Адель</td>\n",
       "      <td>28</td>\n",
       "      <td>Омск</td>\n",
       "      <td>ultra</td>\n",
       "    </tr>\n",
       "    <tr>\n",
       "      <th>5</th>\n",
       "      <td>6</td>\n",
       "      <td>Регина</td>\n",
       "      <td>25</td>\n",
       "      <td>Краснодар</td>\n",
       "      <td>ultra</td>\n",
       "    </tr>\n",
       "    <tr>\n",
       "      <th>6</th>\n",
       "      <td>7</td>\n",
       "      <td>Игорь</td>\n",
       "      <td>23</td>\n",
       "      <td>Омск</td>\n",
       "      <td>ultra</td>\n",
       "    </tr>\n",
       "    <tr>\n",
       "      <th>7</th>\n",
       "      <td>8</td>\n",
       "      <td>Юрий</td>\n",
       "      <td>23</td>\n",
       "      <td>Краснодар</td>\n",
       "      <td>ultra</td>\n",
       "    </tr>\n",
       "    <tr>\n",
       "      <th>8</th>\n",
       "      <td>9</td>\n",
       "      <td>Ян</td>\n",
       "      <td>21</td>\n",
       "      <td>Пятигорск</td>\n",
       "      <td>ultra</td>\n",
       "    </tr>\n",
       "    <tr>\n",
       "      <th>9</th>\n",
       "      <td>10</td>\n",
       "      <td>Валерий</td>\n",
       "      <td>18</td>\n",
       "      <td>Екатеринбург</td>\n",
       "      <td>ultra</td>\n",
       "    </tr>\n",
       "  </tbody>\n",
       "</table>\n",
       "</div>"
      ],
      "text/plain": [
       "   user_id        name  age            city subscription_type\n",
       "0        1        Кира   22          Тюмень             ultra\n",
       "1        2   Станислав   31            Омск             ultra\n",
       "2        3     Алексей   20          Москва             ultra\n",
       "3        4  Константин   26  Ростов-на-Дону             ultra\n",
       "4        5       Адель   28            Омск             ultra\n",
       "5        6      Регина   25       Краснодар             ultra\n",
       "6        7       Игорь   23            Омск             ultra\n",
       "7        8        Юрий   23       Краснодар             ultra\n",
       "8        9          Ян   21       Пятигорск             ultra\n",
       "9       10     Валерий   18    Екатеринбург             ultra"
      ]
     },
     "execution_count": 4,
     "metadata": {},
     "output_type": "execute_result"
    }
   ],
   "source": [
    "# вывод 10 первых строк таблицы data_users\n",
    "data_users.head(10)"
   ]
  },
  {
   "cell_type": "code",
   "execution_count": 5,
   "id": "42d36d0b",
   "metadata": {},
   "outputs": [
    {
     "name": "stdout",
     "output_type": "stream",
     "text": [
      "<class 'pandas.core.frame.DataFrame'>\n",
      "RangeIndex: 1565 entries, 0 to 1564\n",
      "Data columns (total 5 columns):\n",
      " #   Column             Non-Null Count  Dtype \n",
      "---  ------             --------------  ----- \n",
      " 0   user_id            1565 non-null   int64 \n",
      " 1   name               1565 non-null   object\n",
      " 2   age                1565 non-null   int64 \n",
      " 3   city               1565 non-null   object\n",
      " 4   subscription_type  1565 non-null   object\n",
      "dtypes: int64(2), object(3)\n",
      "memory usage: 61.3+ KB\n"
     ]
    }
   ],
   "source": [
    "# получение информации о пропусках и типах данных в таблице data_users\n",
    "data_users.info()"
   ]
  },
  {
   "cell_type": "markdown",
   "id": "04b379dd",
   "metadata": {},
   "source": [
    "В таблице 5 столбцов, 1565 строк. Количество значений в столбцах одинаковое и равно количетсву строк. Значит, в данных нет пропущенных значений. Типы данных изменять не нужно."
   ]
  },
  {
   "cell_type": "code",
   "execution_count": 6,
   "id": "bae33906",
   "metadata": {},
   "outputs": [
    {
     "data": {
      "text/html": [
       "<div>\n",
       "<style scoped>\n",
       "    .dataframe tbody tr th:only-of-type {\n",
       "        vertical-align: middle;\n",
       "    }\n",
       "\n",
       "    .dataframe tbody tr th {\n",
       "        vertical-align: top;\n",
       "    }\n",
       "\n",
       "    .dataframe thead th {\n",
       "        text-align: right;\n",
       "    }\n",
       "</style>\n",
       "<table border=\"1\" class=\"dataframe\">\n",
       "  <thead>\n",
       "    <tr style=\"text-align: right;\">\n",
       "      <th></th>\n",
       "      <th>user_id</th>\n",
       "      <th>distance</th>\n",
       "      <th>duration</th>\n",
       "      <th>date</th>\n",
       "    </tr>\n",
       "  </thead>\n",
       "  <tbody>\n",
       "    <tr>\n",
       "      <th>0</th>\n",
       "      <td>1</td>\n",
       "      <td>4409.919140</td>\n",
       "      <td>25.599769</td>\n",
       "      <td>2021-01-01</td>\n",
       "    </tr>\n",
       "    <tr>\n",
       "      <th>1</th>\n",
       "      <td>1</td>\n",
       "      <td>2617.592153</td>\n",
       "      <td>15.816871</td>\n",
       "      <td>2021-01-18</td>\n",
       "    </tr>\n",
       "    <tr>\n",
       "      <th>2</th>\n",
       "      <td>1</td>\n",
       "      <td>754.159807</td>\n",
       "      <td>6.232113</td>\n",
       "      <td>2021-04-20</td>\n",
       "    </tr>\n",
       "    <tr>\n",
       "      <th>3</th>\n",
       "      <td>1</td>\n",
       "      <td>2694.783254</td>\n",
       "      <td>18.511000</td>\n",
       "      <td>2021-08-11</td>\n",
       "    </tr>\n",
       "    <tr>\n",
       "      <th>4</th>\n",
       "      <td>1</td>\n",
       "      <td>4028.687306</td>\n",
       "      <td>26.265803</td>\n",
       "      <td>2021-08-28</td>\n",
       "    </tr>\n",
       "  </tbody>\n",
       "</table>\n",
       "</div>"
      ],
      "text/plain": [
       "   user_id     distance   duration        date\n",
       "0        1  4409.919140  25.599769  2021-01-01\n",
       "1        1  2617.592153  15.816871  2021-01-18\n",
       "2        1   754.159807   6.232113  2021-04-20\n",
       "3        1  2694.783254  18.511000  2021-08-11\n",
       "4        1  4028.687306  26.265803  2021-08-28"
      ]
     },
     "execution_count": 6,
     "metadata": {},
     "output_type": "execute_result"
    }
   ],
   "source": [
    "# вывод 5 первых строк таблицы data_rides\n",
    "data_rides.head()"
   ]
  },
  {
   "cell_type": "code",
   "execution_count": 7,
   "id": "d759088a",
   "metadata": {},
   "outputs": [
    {
     "name": "stdout",
     "output_type": "stream",
     "text": [
      "<class 'pandas.core.frame.DataFrame'>\n",
      "RangeIndex: 18068 entries, 0 to 18067\n",
      "Data columns (total 4 columns):\n",
      " #   Column    Non-Null Count  Dtype  \n",
      "---  ------    --------------  -----  \n",
      " 0   user_id   18068 non-null  int64  \n",
      " 1   distance  18068 non-null  float64\n",
      " 2   duration  18068 non-null  float64\n",
      " 3   date      18068 non-null  object \n",
      "dtypes: float64(2), int64(1), object(1)\n",
      "memory usage: 564.8+ KB\n"
     ]
    }
   ],
   "source": [
    "# получение информации о пропусках и типах данных в таблице data_rides\n",
    "data_rides.info()"
   ]
  },
  {
   "cell_type": "markdown",
   "id": "c603935c",
   "metadata": {},
   "source": [
    "В таблице 4 столбца, 18068 строк. Количество значений в столбцах одинаковое и равно количетсву строк. Значит, в данных нет пропущенных значений. Столбец **date** приведем к типу *datetime*."
   ]
  },
  {
   "cell_type": "code",
   "execution_count": 8,
   "id": "89421fe4",
   "metadata": {},
   "outputs": [
    {
     "data": {
      "text/html": [
       "<div>\n",
       "<style scoped>\n",
       "    .dataframe tbody tr th:only-of-type {\n",
       "        vertical-align: middle;\n",
       "    }\n",
       "\n",
       "    .dataframe tbody tr th {\n",
       "        vertical-align: top;\n",
       "    }\n",
       "\n",
       "    .dataframe thead th {\n",
       "        text-align: right;\n",
       "    }\n",
       "</style>\n",
       "<table border=\"1\" class=\"dataframe\">\n",
       "  <thead>\n",
       "    <tr style=\"text-align: right;\">\n",
       "      <th></th>\n",
       "      <th>distance</th>\n",
       "      <th>duration</th>\n",
       "    </tr>\n",
       "  </thead>\n",
       "  <tbody>\n",
       "    <tr>\n",
       "      <th>count</th>\n",
       "      <td>18068.000000</td>\n",
       "      <td>18068.000000</td>\n",
       "    </tr>\n",
       "    <tr>\n",
       "      <th>mean</th>\n",
       "      <td>3070.659976</td>\n",
       "      <td>17.805011</td>\n",
       "    </tr>\n",
       "    <tr>\n",
       "      <th>std</th>\n",
       "      <td>1116.831209</td>\n",
       "      <td>6.091051</td>\n",
       "    </tr>\n",
       "    <tr>\n",
       "      <th>min</th>\n",
       "      <td>0.855683</td>\n",
       "      <td>0.500000</td>\n",
       "    </tr>\n",
       "    <tr>\n",
       "      <th>25%</th>\n",
       "      <td>2543.226360</td>\n",
       "      <td>13.597563</td>\n",
       "    </tr>\n",
       "    <tr>\n",
       "      <th>50%</th>\n",
       "      <td>3133.609994</td>\n",
       "      <td>17.678395</td>\n",
       "    </tr>\n",
       "    <tr>\n",
       "      <th>75%</th>\n",
       "      <td>3776.222735</td>\n",
       "      <td>21.724800</td>\n",
       "    </tr>\n",
       "    <tr>\n",
       "      <th>max</th>\n",
       "      <td>7211.007745</td>\n",
       "      <td>40.823963</td>\n",
       "    </tr>\n",
       "  </tbody>\n",
       "</table>\n",
       "</div>"
      ],
      "text/plain": [
       "           distance      duration\n",
       "count  18068.000000  18068.000000\n",
       "mean    3070.659976     17.805011\n",
       "std     1116.831209      6.091051\n",
       "min        0.855683      0.500000\n",
       "25%     2543.226360     13.597563\n",
       "50%     3133.609994     17.678395\n",
       "75%     3776.222735     21.724800\n",
       "max     7211.007745     40.823963"
      ]
     },
     "execution_count": 8,
     "metadata": {},
     "output_type": "execute_result"
    }
   ],
   "source": [
    "# получение общей информации столбцов distance, duration таблицы data_rides\n",
    "data_rides[['distance', 'duration']].describe()"
   ]
  },
  {
   "cell_type": "markdown",
   "id": "68d3dc1b",
   "metadata": {},
   "source": [
    "Средняя продолжительность поездок составляет около 18 минут со средней дистанцией в 3 км."
   ]
  },
  {
   "cell_type": "code",
   "execution_count": 9,
   "id": "1312e5e3",
   "metadata": {},
   "outputs": [
    {
     "data": {
      "text/html": [
       "<div>\n",
       "<style scoped>\n",
       "    .dataframe tbody tr th:only-of-type {\n",
       "        vertical-align: middle;\n",
       "    }\n",
       "\n",
       "    .dataframe tbody tr th {\n",
       "        vertical-align: top;\n",
       "    }\n",
       "\n",
       "    .dataframe thead th {\n",
       "        text-align: right;\n",
       "    }\n",
       "</style>\n",
       "<table border=\"1\" class=\"dataframe\">\n",
       "  <thead>\n",
       "    <tr style=\"text-align: right;\">\n",
       "      <th></th>\n",
       "      <th>subscription_type</th>\n",
       "      <th>minute_price</th>\n",
       "      <th>start_ride_price</th>\n",
       "      <th>subscription_fee</th>\n",
       "    </tr>\n",
       "  </thead>\n",
       "  <tbody>\n",
       "    <tr>\n",
       "      <th>0</th>\n",
       "      <td>free</td>\n",
       "      <td>8</td>\n",
       "      <td>50</td>\n",
       "      <td>0</td>\n",
       "    </tr>\n",
       "    <tr>\n",
       "      <th>1</th>\n",
       "      <td>ultra</td>\n",
       "      <td>6</td>\n",
       "      <td>0</td>\n",
       "      <td>199</td>\n",
       "    </tr>\n",
       "  </tbody>\n",
       "</table>\n",
       "</div>"
      ],
      "text/plain": [
       "  subscription_type  minute_price  start_ride_price  subscription_fee\n",
       "0              free             8                50                 0\n",
       "1             ultra             6                 0               199"
      ]
     },
     "execution_count": 9,
     "metadata": {},
     "output_type": "execute_result"
    }
   ],
   "source": [
    "# вывод 5 первых строк таблицы data_subscriptions\n",
    "data_subscriptions.head()"
   ]
  },
  {
   "cell_type": "code",
   "execution_count": 10,
   "id": "96f35da8",
   "metadata": {},
   "outputs": [
    {
     "name": "stdout",
     "output_type": "stream",
     "text": [
      "<class 'pandas.core.frame.DataFrame'>\n",
      "RangeIndex: 2 entries, 0 to 1\n",
      "Data columns (total 4 columns):\n",
      " #   Column             Non-Null Count  Dtype \n",
      "---  ------             --------------  ----- \n",
      " 0   subscription_type  2 non-null      object\n",
      " 1   minute_price       2 non-null      int64 \n",
      " 2   start_ride_price   2 non-null      int64 \n",
      " 3   subscription_fee   2 non-null      int64 \n",
      "dtypes: int64(3), object(1)\n",
      "memory usage: 192.0+ bytes\n"
     ]
    }
   ],
   "source": [
    "# получение информации о пропусках и типах данных в таблице data_subscriptions\n",
    "data_subscriptions.info()"
   ]
  },
  {
   "cell_type": "markdown",
   "id": "b8402c3a",
   "metadata": {},
   "source": [
    "В таблице 4 столбца, 2 строки с опиманием тарифов. Пропущенных значений нет."
   ]
  },
  {
   "cell_type": "markdown",
   "id": "191ab93a",
   "metadata": {},
   "source": [
    "Пропущенных значений в таблицах нет. Соотвественно заниматься обработкой таких значений не нужно.\n",
    "\n",
    "**Предварительно на этапе предобработки данных необходимо сделать следующее:**\n",
    "- изменить тип данных столбца ` date ` таблицы **data_rides** на dateyime для дальнейшей работы с датой\n",
    "- создать новый столбец с номером месяца на основе столбца date таблицы **data_rides**\n",
    "- проверить таблицы на наличие дубликатов\n"
   ]
  },
  {
   "cell_type": "markdown",
   "id": "faad24ca",
   "metadata": {},
   "source": []
  },
  {
   "cell_type": "markdown",
   "id": "e95ebca7",
   "metadata": {},
   "source": [
    "#### Шаг 2. Предобработка данных"
   ]
  },
  {
   "cell_type": "markdown",
   "id": "2c8dbe98",
   "metadata": {},
   "source": [
    "##### Приведение столбца date к типу даты pandas."
   ]
  },
  {
   "cell_type": "code",
   "execution_count": 11,
   "id": "c60cb469",
   "metadata": {},
   "outputs": [],
   "source": [
    "data_rides['date'] = pd.to_datetime(data_rides['date'], format='%Y-%m-%d')"
   ]
  },
  {
   "cell_type": "code",
   "execution_count": 12,
   "id": "617f97ea",
   "metadata": {},
   "outputs": [
    {
     "name": "stdout",
     "output_type": "stream",
     "text": [
      "<class 'pandas.core.frame.DataFrame'>\n",
      "RangeIndex: 18068 entries, 0 to 18067\n",
      "Data columns (total 1 columns):\n",
      " #   Column  Non-Null Count  Dtype         \n",
      "---  ------  --------------  -----         \n",
      " 0   date    18068 non-null  datetime64[ns]\n",
      "dtypes: datetime64[ns](1)\n",
      "memory usage: 141.3 KB\n"
     ]
    }
   ],
   "source": [
    "# проверка\n",
    "data_rides[['date']].info()"
   ]
  },
  {
   "cell_type": "markdown",
   "id": "e2cecb17",
   "metadata": {},
   "source": [
    "##### Создание нового столбца с номером месяца на основе столбца date."
   ]
  },
  {
   "cell_type": "code",
   "execution_count": 13,
   "id": "2e94ed89",
   "metadata": {},
   "outputs": [
    {
     "data": {
      "text/html": [
       "<div>\n",
       "<style scoped>\n",
       "    .dataframe tbody tr th:only-of-type {\n",
       "        vertical-align: middle;\n",
       "    }\n",
       "\n",
       "    .dataframe tbody tr th {\n",
       "        vertical-align: top;\n",
       "    }\n",
       "\n",
       "    .dataframe thead th {\n",
       "        text-align: right;\n",
       "    }\n",
       "</style>\n",
       "<table border=\"1\" class=\"dataframe\">\n",
       "  <thead>\n",
       "    <tr style=\"text-align: right;\">\n",
       "      <th></th>\n",
       "      <th>user_id</th>\n",
       "      <th>distance</th>\n",
       "      <th>duration</th>\n",
       "      <th>date</th>\n",
       "      <th>month</th>\n",
       "    </tr>\n",
       "  </thead>\n",
       "  <tbody>\n",
       "    <tr>\n",
       "      <th>5874</th>\n",
       "      <td>625</td>\n",
       "      <td>1368.093825</td>\n",
       "      <td>9.560313</td>\n",
       "      <td>2021-09-26</td>\n",
       "      <td>9</td>\n",
       "    </tr>\n",
       "    <tr>\n",
       "      <th>15500</th>\n",
       "      <td>1355</td>\n",
       "      <td>3208.072243</td>\n",
       "      <td>20.806487</td>\n",
       "      <td>2021-07-30</td>\n",
       "      <td>7</td>\n",
       "    </tr>\n",
       "    <tr>\n",
       "      <th>4026</th>\n",
       "      <td>434</td>\n",
       "      <td>3132.678574</td>\n",
       "      <td>24.663393</td>\n",
       "      <td>2021-06-30</td>\n",
       "      <td>6</td>\n",
       "    </tr>\n",
       "    <tr>\n",
       "      <th>16311</th>\n",
       "      <td>1411</td>\n",
       "      <td>2112.153096</td>\n",
       "      <td>9.224306</td>\n",
       "      <td>2021-04-18</td>\n",
       "      <td>4</td>\n",
       "    </tr>\n",
       "    <tr>\n",
       "      <th>8622</th>\n",
       "      <td>858</td>\n",
       "      <td>2723.611095</td>\n",
       "      <td>15.285256</td>\n",
       "      <td>2021-08-24</td>\n",
       "      <td>8</td>\n",
       "    </tr>\n",
       "    <tr>\n",
       "      <th>17688</th>\n",
       "      <td>1509</td>\n",
       "      <td>3596.025151</td>\n",
       "      <td>20.788075</td>\n",
       "      <td>2021-04-20</td>\n",
       "      <td>4</td>\n",
       "    </tr>\n",
       "    <tr>\n",
       "      <th>14580</th>\n",
       "      <td>1285</td>\n",
       "      <td>2457.175920</td>\n",
       "      <td>25.340812</td>\n",
       "      <td>2021-12-12</td>\n",
       "      <td>12</td>\n",
       "    </tr>\n",
       "    <tr>\n",
       "      <th>8533</th>\n",
       "      <td>851</td>\n",
       "      <td>3265.306670</td>\n",
       "      <td>16.997086</td>\n",
       "      <td>2021-05-08</td>\n",
       "      <td>5</td>\n",
       "    </tr>\n",
       "    <tr>\n",
       "      <th>16143</th>\n",
       "      <td>1399</td>\n",
       "      <td>1521.037785</td>\n",
       "      <td>18.605189</td>\n",
       "      <td>2021-09-09</td>\n",
       "      <td>9</td>\n",
       "    </tr>\n",
       "    <tr>\n",
       "      <th>15084</th>\n",
       "      <td>1322</td>\n",
       "      <td>5285.797316</td>\n",
       "      <td>33.821740</td>\n",
       "      <td>2021-03-23</td>\n",
       "      <td>3</td>\n",
       "    </tr>\n",
       "  </tbody>\n",
       "</table>\n",
       "</div>"
      ],
      "text/plain": [
       "       user_id     distance   duration       date  month\n",
       "5874       625  1368.093825   9.560313 2021-09-26      9\n",
       "15500     1355  3208.072243  20.806487 2021-07-30      7\n",
       "4026       434  3132.678574  24.663393 2021-06-30      6\n",
       "16311     1411  2112.153096   9.224306 2021-04-18      4\n",
       "8622       858  2723.611095  15.285256 2021-08-24      8\n",
       "17688     1509  3596.025151  20.788075 2021-04-20      4\n",
       "14580     1285  2457.175920  25.340812 2021-12-12     12\n",
       "8533       851  3265.306670  16.997086 2021-05-08      5\n",
       "16143     1399  1521.037785  18.605189 2021-09-09      9\n",
       "15084     1322  5285.797316  33.821740 2021-03-23      3"
      ]
     },
     "execution_count": 13,
     "metadata": {},
     "output_type": "execute_result"
    }
   ],
   "source": [
    "data_rides['month'] = pd.DatetimeIndex(data_rides['date']).month\n",
    "data_rides.sample(10)"
   ]
  },
  {
   "cell_type": "code",
   "execution_count": 14,
   "id": "bb75bf4e",
   "metadata": {},
   "outputs": [
    {
     "data": {
      "text/plain": [
       "Timestamp('2021-12-30 00:00:00')"
      ]
     },
     "execution_count": 14,
     "metadata": {},
     "output_type": "execute_result"
    }
   ],
   "source": [
    "data_rides['date'].max()"
   ]
  },
  {
   "cell_type": "code",
   "execution_count": 15,
   "id": "4c8935c8",
   "metadata": {},
   "outputs": [
    {
     "data": {
      "text/plain": [
       "Timestamp('2021-01-01 00:00:00')"
      ]
     },
     "execution_count": 15,
     "metadata": {},
     "output_type": "execute_result"
    }
   ],
   "source": [
    "data_rides['date'].min()"
   ]
  },
  {
   "cell_type": "markdown",
   "id": "2732a34e",
   "metadata": {},
   "source": [
    "В таблице *data_rides* представлены данные за период с 1 января 2021 года по 30 декабря 2021 года."
   ]
  },
  {
   "cell_type": "markdown",
   "id": "9d976521",
   "metadata": {},
   "source": [
    "##### Проверка наличия дубликатов в датафреймах."
   ]
  },
  {
   "cell_type": "code",
   "execution_count": 16,
   "id": "b277f09c",
   "metadata": {},
   "outputs": [
    {
     "data": {
      "text/plain": [
       "31"
      ]
     },
     "execution_count": 16,
     "metadata": {},
     "output_type": "execute_result"
    }
   ],
   "source": [
    "# подсчет явных дубликатов таблицы data_users\n",
    "data_users.duplicated().sum()"
   ]
  },
  {
   "cell_type": "code",
   "execution_count": 17,
   "id": "64503b19",
   "metadata": {},
   "outputs": [],
   "source": [
    "# удаление повторяющиеся строк в таблице data_users и обновление индексов\n",
    "data_users = data_users.drop_duplicates().reset_index(drop=True)"
   ]
  },
  {
   "cell_type": "code",
   "execution_count": 18,
   "id": "d39607df",
   "metadata": {},
   "outputs": [
    {
     "data": {
      "text/plain": [
       "0"
      ]
     },
     "execution_count": 18,
     "metadata": {},
     "output_type": "execute_result"
    }
   ],
   "source": [
    "# подсчет явных дубликатов таблицы data_rides\n",
    "data_rides.duplicated().sum()"
   ]
  },
  {
   "cell_type": "markdown",
   "id": "3d791c20",
   "metadata": {},
   "source": [
    "Явные дубликаты в таблицах *data_rides* и *data_subscriptions* отсутсвуют."
   ]
  },
  {
   "cell_type": "code",
   "execution_count": 19,
   "id": "27c499a2",
   "metadata": {},
   "outputs": [
    {
     "data": {
      "text/plain": [
       "['Тюмень',\n",
       " 'Омск',\n",
       " 'Москва',\n",
       " 'Ростов-на-Дону',\n",
       " 'Краснодар',\n",
       " 'Пятигорск',\n",
       " 'Екатеринбург',\n",
       " 'Сочи']"
      ]
     },
     "execution_count": 19,
     "metadata": {},
     "output_type": "execute_result"
    }
   ],
   "source": [
    "# проверка неявных дубликатов в названиях городов таблицы data_users\n",
    "data_users['city'].unique().tolist()"
   ]
  },
  {
   "cell_type": "markdown",
   "id": "303dea54",
   "metadata": {},
   "source": [
    "Неявные дубликаты отсутсвуют."
   ]
  },
  {
   "cell_type": "markdown",
   "id": "cf2a8ff5",
   "metadata": {},
   "source": [
    "##### Проверка выбросов."
   ]
  },
  {
   "cell_type": "code",
   "execution_count": 20,
   "id": "2fc93e0a",
   "metadata": {},
   "outputs": [
    {
     "data": {
      "image/png": "[encoded data removed]",
      "text/plain": [
       "<Figure size 432x288 with 1 Axes>"
      ]
     },
     "metadata": {
      "needs_background": "light"
     },
     "output_type": "display_data"
    }
   ],
   "source": [
    "# проверка выбросов в продолжительности поездок\n",
    "data_rides.boxplot('duration')\n",
    "None"
   ]
  },
  {
   "cell_type": "markdown",
   "id": "169f2ca1",
   "metadata": {},
   "source": [
    "Продолжительность более 40 минту допустима, а вот менее 2 минут уже подозрительно. Возможно с самокатом были проблемы, поэтому поездка так быстро была окончена. Проверим расстояние, пройденное самокатами за время менее 2 минут. Если оно больше километра, то это уже аномально."
   ]
  },
  {
   "cell_type": "code",
   "execution_count": 21,
   "id": "1112f8af",
   "metadata": {},
   "outputs": [
    {
     "data": {
      "text/html": [
       "<div>\n",
       "<style scoped>\n",
       "    .dataframe tbody tr th:only-of-type {\n",
       "        vertical-align: middle;\n",
       "    }\n",
       "\n",
       "    .dataframe tbody tr th {\n",
       "        vertical-align: top;\n",
       "    }\n",
       "\n",
       "    .dataframe thead th {\n",
       "        text-align: right;\n",
       "    }\n",
       "</style>\n",
       "<table border=\"1\" class=\"dataframe\">\n",
       "  <thead>\n",
       "    <tr style=\"text-align: right;\">\n",
       "      <th></th>\n",
       "      <th>user_id</th>\n",
       "      <th>distance</th>\n",
       "      <th>duration</th>\n",
       "      <th>date</th>\n",
       "      <th>month</th>\n",
       "    </tr>\n",
       "  </thead>\n",
       "  <tbody>\n",
       "    <tr>\n",
       "      <th>10295</th>\n",
       "      <td>978</td>\n",
       "      <td>4835.931553</td>\n",
       "      <td>0.5</td>\n",
       "      <td>2021-02-12</td>\n",
       "      <td>2</td>\n",
       "    </tr>\n",
       "    <tr>\n",
       "      <th>6570</th>\n",
       "      <td>704</td>\n",
       "      <td>4830.824371</td>\n",
       "      <td>0.5</td>\n",
       "      <td>2021-10-14</td>\n",
       "      <td>10</td>\n",
       "    </tr>\n",
       "    <tr>\n",
       "      <th>13608</th>\n",
       "      <td>1217</td>\n",
       "      <td>5905.524822</td>\n",
       "      <td>0.5</td>\n",
       "      <td>2021-09-27</td>\n",
       "      <td>9</td>\n",
       "    </tr>\n",
       "    <tr>\n",
       "      <th>14615</th>\n",
       "      <td>1287</td>\n",
       "      <td>5944.789947</td>\n",
       "      <td>0.5</td>\n",
       "      <td>2021-12-09</td>\n",
       "      <td>12</td>\n",
       "    </tr>\n",
       "    <tr>\n",
       "      <th>6883</th>\n",
       "      <td>726</td>\n",
       "      <td>4452.491518</td>\n",
       "      <td>0.5</td>\n",
       "      <td>2021-03-01</td>\n",
       "      <td>3</td>\n",
       "    </tr>\n",
       "    <tr>\n",
       "      <th>11559</th>\n",
       "      <td>1069</td>\n",
       "      <td>5780.316092</td>\n",
       "      <td>0.5</td>\n",
       "      <td>2021-04-06</td>\n",
       "      <td>4</td>\n",
       "    </tr>\n",
       "    <tr>\n",
       "      <th>9698</th>\n",
       "      <td>937</td>\n",
       "      <td>4169.066800</td>\n",
       "      <td>0.5</td>\n",
       "      <td>2021-12-12</td>\n",
       "      <td>12</td>\n",
       "    </tr>\n",
       "    <tr>\n",
       "      <th>7791</th>\n",
       "      <td>792</td>\n",
       "      <td>5353.189287</td>\n",
       "      <td>0.5</td>\n",
       "      <td>2021-11-06</td>\n",
       "      <td>11</td>\n",
       "    </tr>\n",
       "    <tr>\n",
       "      <th>15636</th>\n",
       "      <td>1364</td>\n",
       "      <td>4697.638430</td>\n",
       "      <td>0.5</td>\n",
       "      <td>2021-12-20</td>\n",
       "      <td>12</td>\n",
       "    </tr>\n",
       "    <tr>\n",
       "      <th>16309</th>\n",
       "      <td>1411</td>\n",
       "      <td>7211.007745</td>\n",
       "      <td>0.5</td>\n",
       "      <td>2021-04-15</td>\n",
       "      <td>4</td>\n",
       "    </tr>\n",
       "  </tbody>\n",
       "</table>\n",
       "</div>"
      ],
      "text/plain": [
       "       user_id     distance  duration       date  month\n",
       "10295      978  4835.931553       0.5 2021-02-12      2\n",
       "6570       704  4830.824371       0.5 2021-10-14     10\n",
       "13608     1217  5905.524822       0.5 2021-09-27      9\n",
       "14615     1287  5944.789947       0.5 2021-12-09     12\n",
       "6883       726  4452.491518       0.5 2021-03-01      3\n",
       "11559     1069  5780.316092       0.5 2021-04-06      4\n",
       "9698       937  4169.066800       0.5 2021-12-12     12\n",
       "7791       792  5353.189287       0.5 2021-11-06     11\n",
       "15636     1364  4697.638430       0.5 2021-12-20     12\n",
       "16309     1411  7211.007745       0.5 2021-04-15      4"
      ]
     },
     "execution_count": 21,
     "metadata": {},
     "output_type": "execute_result"
    }
   ],
   "source": [
    "# срез данных с соответствующим условием и вывод 10 случайных строк\n",
    "data_rides.query('duration < 2 and distance > 1000').sample(10)"
   ]
  },
  {
   "cell_type": "markdown",
   "id": "14d978e4",
   "metadata": {},
   "source": [
    "Проверим, вдруг все поездки менее 2 минут имеют слишком большую дистанцию."
   ]
  },
  {
   "cell_type": "code",
   "execution_count": 22,
   "id": "39bf9765",
   "metadata": {},
   "outputs": [
    {
     "name": "stdout",
     "output_type": "stream",
     "text": [
      "Все поездки с продолжительностью менее 2 минут имеет дистанцию более 1000 м.\n"
     ]
    }
   ],
   "source": [
    "if data_rides.query('duration < 2 and distance > 1000')['user_id'].count() == \\\n",
    "    data_rides.query('duration < 2')['user_id'].count():\n",
    "    print('Все поездки с продолжительностью менее 2 минут имеет дистанцию более 1000 м.')\n",
    "else:\n",
    "    print('Подумай еще')"
   ]
  },
  {
   "cell_type": "markdown",
   "id": "1cd89b58",
   "metadata": {},
   "source": [
    "Все поездки, продолжительностью менее 2 минут имеют аномально большую дистанцию. Для дальнейшего анализа продолжительности и дитсанции поздок буду использовать срез данных с продолжительностью поездок более 2 минут"
   ]
  },
  {
   "cell_type": "markdown",
   "id": "f0547b97",
   "metadata": {},
   "source": [
    "Проверим, есть ли выбросы в столбце дистанция поездки."
   ]
  },
  {
   "cell_type": "code",
   "execution_count": 23,
   "id": "3de1abc4",
   "metadata": {},
   "outputs": [
    {
     "data": {
      "image/png": "[encoded data removed]",
      "text/plain": [
       "<Figure size 432x288 with 1 Axes>"
      ]
     },
     "metadata": {
      "needs_background": "light"
     },
     "output_type": "display_data"
    }
   ],
   "source": [
    "# проверка выбросов в дистанции поездок\n",
    "data_rides.boxplot('distance')\n",
    "None"
   ]
  },
  {
   "cell_type": "markdown",
   "id": "28ea7352",
   "metadata": {},
   "source": [
    "Нижние выбросы могли возникнуть по разным причинам: неисправность с самокатом; люди могли взять аренду самоката, чтобы попробовать, но не впечатлились; планы изменились. Не будем трогать эти строки."
   ]
  },
  {
   "cell_type": "markdown",
   "id": "afdeb07b",
   "metadata": {},
   "source": [
    "На этапе предобработки данных выполнено: \n",
    "- приведение значений столбца date к типу даты pandas;\n",
    "- создание нового столбца с номером месяца на основе столбца **date**;\n",
    "- проверка таблиц на наличие явных дубликатов. В таблице *data_users* обнаружено и удалено 31 строка с восстановлением индексов, в двух остальных таблицах явные дубликаты отсутствуют;\n",
    "- проверка на наличие неявных дубликатов в названиях городов таблицы *data_users*. Неявные дубликаты не обнаружены;\n",
    "- проверка выбросов и аномальных значений в столбцах **duration** и **distance** таблицы *data_rides*;\n",
    "- удаление строк таблицы data_rides с продолжительностью поездки менее 2 минут из-за аномально большого расстояния.\n"
   ]
  },
  {
   "cell_type": "markdown",
   "id": "212593c7",
   "metadata": {},
   "source": [
    "#### Шаг 3. Исследовательский анализ данных"
   ]
  },
  {
   "cell_type": "markdown",
   "id": "34375631",
   "metadata": {},
   "source": [
    "На данном этапе работы опишу и визуализирую общую информацию о пользователях и поездках:\n",
    " 1. частота встречаемости городов;\n",
    " 2. соотношение пользователей с подпиской и без подписки;\n",
    " 3. возраст пользователей;\n",
    " 4. расстояние, которое пользователь преодолел за одну поездку;\n",
    " 5. продолжительность поездок."
   ]
  },
  {
   "cell_type": "markdown",
   "id": "c3f571c0",
   "metadata": {},
   "source": [
    "##### Частота встречаемости городов"
   ]
  },
  {
   "cell_type": "code",
   "execution_count": 24,
   "id": "e3a4274c",
   "metadata": {},
   "outputs": [
    {
     "data": {
      "image/png": "[encoded data removed]",
      "text/plain": [
       "<Figure size 576x360 with 1 Axes>"
      ]
     },
     "metadata": {
      "needs_background": "light"
     },
     "output_type": "display_data"
    }
   ],
   "source": [
    "# группировка data_users по столбцу city и подсчет количества упоминаний каждого города\n",
    "data_users_group = data_users.groupby('city')['city'].count().sort_values(ascending=False)\n",
    "# построение диаграммы \n",
    "data_users_group.plot(y='city', kind='bar', grid=True, title='Частота встречаемости городов', figsize=(8,5), color=(0.79, 0.1, 0.24))\n",
    "None"
   ]
  },
  {
   "cell_type": "markdown",
   "id": "c7e2a02d",
   "metadata": {},
   "source": []
  },
  {
   "cell_type": "markdown",
   "id": "d68ce010",
   "metadata": {},
   "source": [
    "##### Cоотношение пользователей с подпиской и без подписки"
   ]
  },
  {
   "cell_type": "code",
   "execution_count": 25,
   "id": "86d4d95c",
   "metadata": {},
   "outputs": [
    {
     "data": {
      "image/png": "[encoded data removed]",
      "text/plain": [
       "<Figure size 576x360 with 1 Axes>"
      ]
     },
     "metadata": {},
     "output_type": "display_data"
    }
   ],
   "source": [
    "# создание сводной таблицы по типу подписки и подсчет количества пользователей для каждого типа подписки\n",
    "data_users_subscription_type = data_users.pivot_table(index='subscription_type', values='user_id', aggfunc='count')\n",
    "# добавление столбца с процентным отношением числа пользователей каждого типа подписки к общему числу пользователей\n",
    "data_users_subscription_type['%'] = data_users_subscription_type['user_id'] / data_users.shape[0] \n",
    "\n",
    "labels = ['FREE', 'ULTRA']\n",
    "# построение круговой диаграммы\n",
    "data_users_subscription_type.plot(y='%', kind='pie',\n",
    "                                  autopct='%1.0f%%',\n",
    "                                  figsize=(8,5),\n",
    "                                  colors = ['pink', 'grey'], \n",
    "                                  labels=labels,\n",
    "                                  labeldistance=0.3,\n",
    "                                  fontsize=15,\n",
    "                                  )\n",
    "plt.title('Cоотношение пользователей с подпиской и без подписки', fontsize=15)   \n",
    "plt.ylabel('%', fontsize=15)\n",
    "\n",
    "None"
   ]
  },
  {
   "cell_type": "markdown",
   "id": "dc1a954e",
   "metadata": {},
   "source": []
  },
  {
   "cell_type": "markdown",
   "id": "1b1095f1",
   "metadata": {},
   "source": [
    "##### Возраст пользователей"
   ]
  },
  {
   "cell_type": "code",
   "execution_count": 26,
   "id": "f497f875",
   "metadata": {},
   "outputs": [
    {
     "data": {
      "text/html": [
       "<div>\n",
       "<style scoped>\n",
       "    .dataframe tbody tr th:only-of-type {\n",
       "        vertical-align: middle;\n",
       "    }\n",
       "\n",
       "    .dataframe tbody tr th {\n",
       "        vertical-align: top;\n",
       "    }\n",
       "\n",
       "    .dataframe thead th {\n",
       "        text-align: right;\n",
       "    }\n",
       "</style>\n",
       "<table border=\"1\" class=\"dataframe\">\n",
       "  <thead>\n",
       "    <tr style=\"text-align: right;\">\n",
       "      <th></th>\n",
       "      <th>age</th>\n",
       "    </tr>\n",
       "  </thead>\n",
       "  <tbody>\n",
       "    <tr>\n",
       "      <th>count</th>\n",
       "      <td>1534.000000</td>\n",
       "    </tr>\n",
       "    <tr>\n",
       "      <th>mean</th>\n",
       "      <td>24.903520</td>\n",
       "    </tr>\n",
       "    <tr>\n",
       "      <th>std</th>\n",
       "      <td>4.572367</td>\n",
       "    </tr>\n",
       "    <tr>\n",
       "      <th>min</th>\n",
       "      <td>12.000000</td>\n",
       "    </tr>\n",
       "    <tr>\n",
       "      <th>25%</th>\n",
       "      <td>22.000000</td>\n",
       "    </tr>\n",
       "    <tr>\n",
       "      <th>50%</th>\n",
       "      <td>25.000000</td>\n",
       "    </tr>\n",
       "    <tr>\n",
       "      <th>75%</th>\n",
       "      <td>28.000000</td>\n",
       "    </tr>\n",
       "    <tr>\n",
       "      <th>max</th>\n",
       "      <td>43.000000</td>\n",
       "    </tr>\n",
       "  </tbody>\n",
       "</table>\n",
       "</div>"
      ],
      "text/plain": [
       "               age\n",
       "count  1534.000000\n",
       "mean     24.903520\n",
       "std       4.572367\n",
       "min      12.000000\n",
       "25%      22.000000\n",
       "50%      25.000000\n",
       "75%      28.000000\n",
       "max      43.000000"
      ]
     },
     "execution_count": 26,
     "metadata": {},
     "output_type": "execute_result"
    }
   ],
   "source": [
    "# вывод общей информации по столбцу age таблицы data_users\n",
    "data_users['age'].describe().to_frame()"
   ]
  },
  {
   "cell_type": "code",
   "execution_count": 27,
   "id": "9314cd1e",
   "metadata": {},
   "outputs": [
    {
     "data": {
      "image/png": "[encoded data removed]",
      "text/plain": [
       "<Figure size 1440x432 with 2 Axes>"
      ]
     },
     "metadata": {
      "needs_background": "light"
     },
     "output_type": "display_data"
    }
   ],
   "source": [
    "# построение гистограммы по столбцу age таблицы data_users\n",
    "plt.figure(figsize = (20, 6))\n",
    "data_users.plot(y='age', kind='hist', grid=True, ec='white', \n",
    "                color=(0.99, 0.66, 0.11), ax = plt.subplot(1, 2, 1), title='Возраст пользователей')\n",
    "plt.ylabel('Количество человек')\n",
    "plt.xlabel('Возраст')\n",
    "\n",
    "data_users.boxplot('age', ax = plt.subplot(1, 2, 2))\n",
    "plt.title('Boxplot возраст пользователей')\n",
    "plt.ylabel('Возраст')\n",
    "None"
   ]
  },
  {
   "cell_type": "markdown",
   "id": "c43e6048",
   "metadata": {},
   "source": [
    "##### Расстояние, которое пользователь преодолел за одну поездку"
   ]
  },
  {
   "cell_type": "markdown",
   "id": "cad55a45",
   "metadata": {},
   "source": [
    "В переменной data_rides_filtred создам срез данных с продолжительностью поездок более 2 минут."
   ]
  },
  {
   "cell_type": "code",
   "execution_count": 28,
   "id": "e2ea8e72",
   "metadata": {},
   "outputs": [],
   "source": [
    "data_rides_filtred = data_rides.query('duration > 2')"
   ]
  },
  {
   "cell_type": "code",
   "execution_count": 29,
   "id": "074403ed",
   "metadata": {},
   "outputs": [
    {
     "data": {
      "text/html": [
       "<div>\n",
       "<style scoped>\n",
       "    .dataframe tbody tr th:only-of-type {\n",
       "        vertical-align: middle;\n",
       "    }\n",
       "\n",
       "    .dataframe tbody tr th {\n",
       "        vertical-align: top;\n",
       "    }\n",
       "\n",
       "    .dataframe thead th {\n",
       "        text-align: right;\n",
       "    }\n",
       "</style>\n",
       "<table border=\"1\" class=\"dataframe\">\n",
       "  <thead>\n",
       "    <tr style=\"text-align: right;\">\n",
       "      <th></th>\n",
       "      <th>distance</th>\n",
       "    </tr>\n",
       "  </thead>\n",
       "  <tbody>\n",
       "    <tr>\n",
       "      <th>count</th>\n",
       "      <td>17973.000000</td>\n",
       "    </tr>\n",
       "    <tr>\n",
       "      <th>mean</th>\n",
       "      <td>3059.863833</td>\n",
       "    </tr>\n",
       "    <tr>\n",
       "      <th>std</th>\n",
       "      <td>1108.814612</td>\n",
       "    </tr>\n",
       "    <tr>\n",
       "      <th>min</th>\n",
       "      <td>0.855683</td>\n",
       "    </tr>\n",
       "    <tr>\n",
       "      <th>25%</th>\n",
       "      <td>2538.839628</td>\n",
       "    </tr>\n",
       "    <tr>\n",
       "      <th>50%</th>\n",
       "      <td>3129.029255</td>\n",
       "    </tr>\n",
       "    <tr>\n",
       "      <th>75%</th>\n",
       "      <td>3762.636244</td>\n",
       "    </tr>\n",
       "    <tr>\n",
       "      <th>max</th>\n",
       "      <td>7066.003772</td>\n",
       "    </tr>\n",
       "  </tbody>\n",
       "</table>\n",
       "</div>"
      ],
      "text/plain": [
       "           distance\n",
       "count  17973.000000\n",
       "mean    3059.863833\n",
       "std     1108.814612\n",
       "min        0.855683\n",
       "25%     2538.839628\n",
       "50%     3129.029255\n",
       "75%     3762.636244\n",
       "max     7066.003772"
      ]
     },
     "execution_count": 29,
     "metadata": {},
     "output_type": "execute_result"
    }
   ],
   "source": [
    "# вывод общей информации по столбцу duration таблицы data_rides\n",
    "data_rides_filtred['distance'].describe().to_frame()"
   ]
  },
  {
   "cell_type": "code",
   "execution_count": 30,
   "id": "66431c97",
   "metadata": {},
   "outputs": [
    {
     "data": {
      "image/png": "[encoded data removed]",
      "text/plain": [
       "<Figure size 1440x432 with 2 Axes>"
      ]
     },
     "metadata": {
      "needs_background": "light"
     },
     "output_type": "display_data"
    }
   ],
   "source": [
    "# построение гистограммы по столбцу distance таблицы data_rides\n",
    "plt.figure(figsize = (20, 6))\n",
    "\n",
    "data_rides_filtred.plot(y='distance', kind='hist', grid=True, ec='white', \n",
    "                color=(0.55, 0.11, 0.77), ax = plt.subplot(1, 2, 1), title='Гистограмма расстояние за одну поездку')\n",
    "plt.ylabel('Количество')\n",
    "plt.xlabel('Расстояние, м')\n",
    "\n",
    "data_rides_filtred.boxplot('distance', ax = plt.subplot(1, 2, 2))\n",
    "plt.title('Boxplot расстояние за одну поездку')\n",
    "plt.ylabel('Расстояние')\n",
    "None"
   ]
  },
  {
   "cell_type": "markdown",
   "id": "ed7a72ab",
   "metadata": {},
   "source": [
    "##### Продолжительность поездок"
   ]
  },
  {
   "cell_type": "code",
   "execution_count": 31,
   "id": "ec39fafa",
   "metadata": {},
   "outputs": [
    {
     "data": {
      "text/html": [
       "<div>\n",
       "<style scoped>\n",
       "    .dataframe tbody tr th:only-of-type {\n",
       "        vertical-align: middle;\n",
       "    }\n",
       "\n",
       "    .dataframe tbody tr th {\n",
       "        vertical-align: top;\n",
       "    }\n",
       "\n",
       "    .dataframe thead th {\n",
       "        text-align: right;\n",
       "    }\n",
       "</style>\n",
       "<table border=\"1\" class=\"dataframe\">\n",
       "  <thead>\n",
       "    <tr style=\"text-align: right;\">\n",
       "      <th></th>\n",
       "      <th>duration</th>\n",
       "    </tr>\n",
       "  </thead>\n",
       "  <tbody>\n",
       "    <tr>\n",
       "      <th>count</th>\n",
       "      <td>17973.000000</td>\n",
       "    </tr>\n",
       "    <tr>\n",
       "      <th>mean</th>\n",
       "      <td>17.896480</td>\n",
       "    </tr>\n",
       "    <tr>\n",
       "      <th>std</th>\n",
       "      <td>5.975424</td>\n",
       "    </tr>\n",
       "    <tr>\n",
       "      <th>min</th>\n",
       "      <td>2.035632</td>\n",
       "    </tr>\n",
       "    <tr>\n",
       "      <th>25%</th>\n",
       "      <td>13.670439</td>\n",
       "    </tr>\n",
       "    <tr>\n",
       "      <th>50%</th>\n",
       "      <td>17.714122</td>\n",
       "    </tr>\n",
       "    <tr>\n",
       "      <th>75%</th>\n",
       "      <td>21.747016</td>\n",
       "    </tr>\n",
       "    <tr>\n",
       "      <th>max</th>\n",
       "      <td>40.823963</td>\n",
       "    </tr>\n",
       "  </tbody>\n",
       "</table>\n",
       "</div>"
      ],
      "text/plain": [
       "           duration\n",
       "count  17973.000000\n",
       "mean      17.896480\n",
       "std        5.975424\n",
       "min        2.035632\n",
       "25%       13.670439\n",
       "50%       17.714122\n",
       "75%       21.747016\n",
       "max       40.823963"
      ]
     },
     "execution_count": 31,
     "metadata": {},
     "output_type": "execute_result"
    }
   ],
   "source": [
    "# вывод общей информации по столбцу duration таблицы data_rides\n",
    "data_rides_filtred['duration'].describe().to_frame()"
   ]
  },
  {
   "cell_type": "code",
   "execution_count": 32,
   "id": "eef1423c",
   "metadata": {},
   "outputs": [
    {
     "data": {
      "image/png": "[encoded data removed]",
      "text/plain": [
       "<Figure size 1440x432 with 2 Axes>"
      ]
     },
     "metadata": {
      "needs_background": "light"
     },
     "output_type": "display_data"
    }
   ],
   "source": [
    "# построение гистограммы по столбцу duration таблицы data_rides\n",
    "plt.figure(figsize = (20, 6))\n",
    "\n",
    "data_rides_filtred.plot(y='duration', kind='hist', grid=True, ec='white', \n",
    "                color=(0.33, 0.55, 0.22), ax = plt.subplot(1, 2, 1), title='Продолжительность поездок')\n",
    "plt.ylabel('Количество')\n",
    "plt.xlabel('Продолжительность, мин')\n",
    "\n",
    "data_rides_filtred.boxplot('duration', ax = plt.subplot(1, 2, 2))\n",
    "plt.title('Boxplot время одной поездки')\n",
    "plt.ylabel('Время')\n",
    "None"
   ]
  },
  {
   "cell_type": "markdown",
   "id": "0215d985",
   "metadata": {},
   "source": [
    "**Выводы:**\n",
    "1) Чаще всего самокаты в аренду берут в городе Пятигорск - более 200 раз, реже в Москве.\n",
    "\n",
    "2) 54% пользователей не имеют подписки и используют поминутную оплату с дополнительной оплатой за старт поездки, 46% пользователей имеют подписку и не платят за старт.\n",
    "\n",
    "3) Средний возраст пользователей сервиса составляет 25 лет, максимальный возраст - 43 года, минимальный - 12 лет. В основном сервсиом пользуются люди от 20 до 30 лет.\n",
    "\n",
    "4) В среднем дистанция одной поездки на самокате составляет 3 км. Максимальная дистанция, которую преоделел пользователь за одну поездку - 7 км, минимальная - менее 1 м. Большинство пользователей за одну поездку преодолевают расстояние от 2,5 до 4 км.\n",
    "\n",
    "5) Средняя продолжительность поездок составляет 18 минут. Минимальная продолжительность поездки - 2 минуты, максимальная - 40 минут. Основная часть поездок продолжительностью от 13 до 21 минуты."
   ]
  },
  {
   "cell_type": "markdown",
   "id": "41cc017e",
   "metadata": {},
   "source": []
  },
  {
   "cell_type": "markdown",
   "id": "4ef51331",
   "metadata": {},
   "source": [
    "#### Шаг 4. Объединение данных"
   ]
  },
  {
   "cell_type": "markdown",
   "id": "9fd3a9da",
   "metadata": {},
   "source": [
    "На данном шаге выполню следующие действия:\n",
    "1) Объединю данные о пользователях, поездках и подписках в один датафрейм. Для этого воспользуюсь методом merge().\n",
    "\n",
    "2) Создам ещё два датафрейма из датафрейма: \n",
    "    \n",
    "    - c данными о пользователях без подписки; \n",
    "    \n",
    "    - с данными о пользователях с подпиской. \n",
    "    \n",
    "\n",
    "3) Визуализирую информацию о расстоянии и времени поездок для пользователей обеих категорий."
   ]
  },
  {
   "cell_type": "markdown",
   "id": "3120640a",
   "metadata": {},
   "source": [
    "##### Объединение данных о пользователях, поездках и подписках в один датафрейм"
   ]
  },
  {
   "cell_type": "markdown",
   "id": "b29ba3d8",
   "metadata": {},
   "source": [
    "Для объединения данных воспользуюсь методом merge(): к таблице *data_rides* с данными о поездках пользователей буду присоединять таблицы *data_users* и *data_subscriptions*. Перед объединением проверю размер таблицы *data_rides*"
   ]
  },
  {
   "cell_type": "code",
   "execution_count": 33,
   "id": "443103a2",
   "metadata": {},
   "outputs": [
    {
     "data": {
      "text/plain": [
       "18068"
      ]
     },
     "execution_count": 33,
     "metadata": {},
     "output_type": "execute_result"
    }
   ],
   "source": [
    "data_rides.shape[0]"
   ]
  },
  {
   "cell_type": "markdown",
   "id": "f04b76e0",
   "metadata": {},
   "source": []
  },
  {
   "cell_type": "code",
   "execution_count": 34,
   "id": "ce965ce4",
   "metadata": {},
   "outputs": [
    {
     "data": {
      "text/html": [
       "<div>\n",
       "<style scoped>\n",
       "    .dataframe tbody tr th:only-of-type {\n",
       "        vertical-align: middle;\n",
       "    }\n",
       "\n",
       "    .dataframe tbody tr th {\n",
       "        vertical-align: top;\n",
       "    }\n",
       "\n",
       "    .dataframe thead th {\n",
       "        text-align: right;\n",
       "    }\n",
       "</style>\n",
       "<table border=\"1\" class=\"dataframe\">\n",
       "  <thead>\n",
       "    <tr style=\"text-align: right;\">\n",
       "      <th></th>\n",
       "      <th>user_id</th>\n",
       "      <th>distance</th>\n",
       "      <th>duration</th>\n",
       "      <th>date</th>\n",
       "      <th>month</th>\n",
       "      <th>name</th>\n",
       "      <th>age</th>\n",
       "      <th>city</th>\n",
       "      <th>subscription_type</th>\n",
       "      <th>minute_price</th>\n",
       "      <th>start_ride_price</th>\n",
       "      <th>subscription_fee</th>\n",
       "    </tr>\n",
       "  </thead>\n",
       "  <tbody>\n",
       "    <tr>\n",
       "      <th>0</th>\n",
       "      <td>1</td>\n",
       "      <td>4409.919140</td>\n",
       "      <td>25.599769</td>\n",
       "      <td>2021-01-01</td>\n",
       "      <td>1</td>\n",
       "      <td>Кира</td>\n",
       "      <td>22</td>\n",
       "      <td>Тюмень</td>\n",
       "      <td>ultra</td>\n",
       "      <td>6</td>\n",
       "      <td>0</td>\n",
       "      <td>199</td>\n",
       "    </tr>\n",
       "    <tr>\n",
       "      <th>1</th>\n",
       "      <td>1</td>\n",
       "      <td>2617.592153</td>\n",
       "      <td>15.816871</td>\n",
       "      <td>2021-01-18</td>\n",
       "      <td>1</td>\n",
       "      <td>Кира</td>\n",
       "      <td>22</td>\n",
       "      <td>Тюмень</td>\n",
       "      <td>ultra</td>\n",
       "      <td>6</td>\n",
       "      <td>0</td>\n",
       "      <td>199</td>\n",
       "    </tr>\n",
       "    <tr>\n",
       "      <th>2</th>\n",
       "      <td>1</td>\n",
       "      <td>754.159807</td>\n",
       "      <td>6.232113</td>\n",
       "      <td>2021-04-20</td>\n",
       "      <td>4</td>\n",
       "      <td>Кира</td>\n",
       "      <td>22</td>\n",
       "      <td>Тюмень</td>\n",
       "      <td>ultra</td>\n",
       "      <td>6</td>\n",
       "      <td>0</td>\n",
       "      <td>199</td>\n",
       "    </tr>\n",
       "    <tr>\n",
       "      <th>3</th>\n",
       "      <td>1</td>\n",
       "      <td>2694.783254</td>\n",
       "      <td>18.511000</td>\n",
       "      <td>2021-08-11</td>\n",
       "      <td>8</td>\n",
       "      <td>Кира</td>\n",
       "      <td>22</td>\n",
       "      <td>Тюмень</td>\n",
       "      <td>ultra</td>\n",
       "      <td>6</td>\n",
       "      <td>0</td>\n",
       "      <td>199</td>\n",
       "    </tr>\n",
       "    <tr>\n",
       "      <th>4</th>\n",
       "      <td>1</td>\n",
       "      <td>4028.687306</td>\n",
       "      <td>26.265803</td>\n",
       "      <td>2021-08-28</td>\n",
       "      <td>8</td>\n",
       "      <td>Кира</td>\n",
       "      <td>22</td>\n",
       "      <td>Тюмень</td>\n",
       "      <td>ultra</td>\n",
       "      <td>6</td>\n",
       "      <td>0</td>\n",
       "      <td>199</td>\n",
       "    </tr>\n",
       "    <tr>\n",
       "      <th>5</th>\n",
       "      <td>1</td>\n",
       "      <td>2770.890808</td>\n",
       "      <td>16.650138</td>\n",
       "      <td>2021-10-09</td>\n",
       "      <td>10</td>\n",
       "      <td>Кира</td>\n",
       "      <td>22</td>\n",
       "      <td>Тюмень</td>\n",
       "      <td>ultra</td>\n",
       "      <td>6</td>\n",
       "      <td>0</td>\n",
       "      <td>199</td>\n",
       "    </tr>\n",
       "    <tr>\n",
       "      <th>6</th>\n",
       "      <td>1</td>\n",
       "      <td>3039.020292</td>\n",
       "      <td>14.927879</td>\n",
       "      <td>2021-10-19</td>\n",
       "      <td>10</td>\n",
       "      <td>Кира</td>\n",
       "      <td>22</td>\n",
       "      <td>Тюмень</td>\n",
       "      <td>ultra</td>\n",
       "      <td>6</td>\n",
       "      <td>0</td>\n",
       "      <td>199</td>\n",
       "    </tr>\n",
       "    <tr>\n",
       "      <th>7</th>\n",
       "      <td>1</td>\n",
       "      <td>2842.118050</td>\n",
       "      <td>23.117468</td>\n",
       "      <td>2021-11-06</td>\n",
       "      <td>11</td>\n",
       "      <td>Кира</td>\n",
       "      <td>22</td>\n",
       "      <td>Тюмень</td>\n",
       "      <td>ultra</td>\n",
       "      <td>6</td>\n",
       "      <td>0</td>\n",
       "      <td>199</td>\n",
       "    </tr>\n",
       "    <tr>\n",
       "      <th>8</th>\n",
       "      <td>1</td>\n",
       "      <td>3412.690668</td>\n",
       "      <td>15.238072</td>\n",
       "      <td>2021-11-14</td>\n",
       "      <td>11</td>\n",
       "      <td>Кира</td>\n",
       "      <td>22</td>\n",
       "      <td>Тюмень</td>\n",
       "      <td>ultra</td>\n",
       "      <td>6</td>\n",
       "      <td>0</td>\n",
       "      <td>199</td>\n",
       "    </tr>\n",
       "    <tr>\n",
       "      <th>9</th>\n",
       "      <td>1</td>\n",
       "      <td>748.690645</td>\n",
       "      <td>15.041884</td>\n",
       "      <td>2021-11-22</td>\n",
       "      <td>11</td>\n",
       "      <td>Кира</td>\n",
       "      <td>22</td>\n",
       "      <td>Тюмень</td>\n",
       "      <td>ultra</td>\n",
       "      <td>6</td>\n",
       "      <td>0</td>\n",
       "      <td>199</td>\n",
       "    </tr>\n",
       "  </tbody>\n",
       "</table>\n",
       "</div>"
      ],
      "text/plain": [
       "   user_id     distance   duration       date  month  name  age    city  \\\n",
       "0        1  4409.919140  25.599769 2021-01-01      1  Кира   22  Тюмень   \n",
       "1        1  2617.592153  15.816871 2021-01-18      1  Кира   22  Тюмень   \n",
       "2        1   754.159807   6.232113 2021-04-20      4  Кира   22  Тюмень   \n",
       "3        1  2694.783254  18.511000 2021-08-11      8  Кира   22  Тюмень   \n",
       "4        1  4028.687306  26.265803 2021-08-28      8  Кира   22  Тюмень   \n",
       "5        1  2770.890808  16.650138 2021-10-09     10  Кира   22  Тюмень   \n",
       "6        1  3039.020292  14.927879 2021-10-19     10  Кира   22  Тюмень   \n",
       "7        1  2842.118050  23.117468 2021-11-06     11  Кира   22  Тюмень   \n",
       "8        1  3412.690668  15.238072 2021-11-14     11  Кира   22  Тюмень   \n",
       "9        1   748.690645  15.041884 2021-11-22     11  Кира   22  Тюмень   \n",
       "\n",
       "  subscription_type  minute_price  start_ride_price  subscription_fee  \n",
       "0             ultra             6                 0               199  \n",
       "1             ultra             6                 0               199  \n",
       "2             ultra             6                 0               199  \n",
       "3             ultra             6                 0               199  \n",
       "4             ultra             6                 0               199  \n",
       "5             ultra             6                 0               199  \n",
       "6             ultra             6                 0               199  \n",
       "7             ultra             6                 0               199  \n",
       "8             ultra             6                 0               199  \n",
       "9             ultra             6                 0               199  "
      ]
     },
     "execution_count": 34,
     "metadata": {},
     "output_type": "execute_result"
    }
   ],
   "source": [
    "# использование метода merge() дважды для объединения данных в один датафрейм, сохранение в переменную data\n",
    "data = (data_rides.merge(data_users, on='user_id', how='left')).merge(data_subscriptions, on='subscription_type', how='left')\n",
    "# вывод первых 10 строк\n",
    "data.head(10)"
   ]
  },
  {
   "cell_type": "markdown",
   "id": "bf7549f3",
   "metadata": {},
   "source": [
    "Проверю размер объединенного датафрейма"
   ]
  },
  {
   "cell_type": "code",
   "execution_count": 35,
   "id": "b06e0322",
   "metadata": {},
   "outputs": [
    {
     "data": {
      "text/plain": [
       "18068"
      ]
     },
     "execution_count": 35,
     "metadata": {},
     "output_type": "execute_result"
    }
   ],
   "source": [
    "data.shape[0]"
   ]
  },
  {
   "cell_type": "markdown",
   "id": "5a666e54",
   "metadata": {},
   "source": [
    "Для дальнейшей работы с продолжительностью и расстоянием поездок, округлю значения столбца с продолжительностью поездок до большего целого числа (так как если поездка превысила целое число минут на несколько секунд, оплата будет произведена в сторону большего целого числа минут), а значения столбца с дистанцией поездок округлю до одного знака после запятой."
   ]
  },
  {
   "cell_type": "code",
   "execution_count": 36,
   "id": "10dc71a5",
   "metadata": {},
   "outputs": [
    {
     "data": {
      "text/html": [
       "<div>\n",
       "<style scoped>\n",
       "    .dataframe tbody tr th:only-of-type {\n",
       "        vertical-align: middle;\n",
       "    }\n",
       "\n",
       "    .dataframe tbody tr th {\n",
       "        vertical-align: top;\n",
       "    }\n",
       "\n",
       "    .dataframe thead th {\n",
       "        text-align: right;\n",
       "    }\n",
       "</style>\n",
       "<table border=\"1\" class=\"dataframe\">\n",
       "  <thead>\n",
       "    <tr style=\"text-align: right;\">\n",
       "      <th></th>\n",
       "      <th>user_id</th>\n",
       "      <th>distance</th>\n",
       "      <th>duration</th>\n",
       "      <th>date</th>\n",
       "      <th>month</th>\n",
       "      <th>name</th>\n",
       "      <th>age</th>\n",
       "      <th>city</th>\n",
       "      <th>subscription_type</th>\n",
       "      <th>minute_price</th>\n",
       "      <th>start_ride_price</th>\n",
       "      <th>subscription_fee</th>\n",
       "    </tr>\n",
       "  </thead>\n",
       "  <tbody>\n",
       "    <tr>\n",
       "      <th>0</th>\n",
       "      <td>1</td>\n",
       "      <td>4409.919140</td>\n",
       "      <td>26</td>\n",
       "      <td>2021-01-01</td>\n",
       "      <td>1</td>\n",
       "      <td>Кира</td>\n",
       "      <td>22</td>\n",
       "      <td>Тюмень</td>\n",
       "      <td>ultra</td>\n",
       "      <td>6</td>\n",
       "      <td>0</td>\n",
       "      <td>199</td>\n",
       "    </tr>\n",
       "    <tr>\n",
       "      <th>1</th>\n",
       "      <td>1</td>\n",
       "      <td>2617.592153</td>\n",
       "      <td>16</td>\n",
       "      <td>2021-01-18</td>\n",
       "      <td>1</td>\n",
       "      <td>Кира</td>\n",
       "      <td>22</td>\n",
       "      <td>Тюмень</td>\n",
       "      <td>ultra</td>\n",
       "      <td>6</td>\n",
       "      <td>0</td>\n",
       "      <td>199</td>\n",
       "    </tr>\n",
       "    <tr>\n",
       "      <th>2</th>\n",
       "      <td>1</td>\n",
       "      <td>754.159807</td>\n",
       "      <td>7</td>\n",
       "      <td>2021-04-20</td>\n",
       "      <td>4</td>\n",
       "      <td>Кира</td>\n",
       "      <td>22</td>\n",
       "      <td>Тюмень</td>\n",
       "      <td>ultra</td>\n",
       "      <td>6</td>\n",
       "      <td>0</td>\n",
       "      <td>199</td>\n",
       "    </tr>\n",
       "    <tr>\n",
       "      <th>3</th>\n",
       "      <td>1</td>\n",
       "      <td>2694.783254</td>\n",
       "      <td>19</td>\n",
       "      <td>2021-08-11</td>\n",
       "      <td>8</td>\n",
       "      <td>Кира</td>\n",
       "      <td>22</td>\n",
       "      <td>Тюмень</td>\n",
       "      <td>ultra</td>\n",
       "      <td>6</td>\n",
       "      <td>0</td>\n",
       "      <td>199</td>\n",
       "    </tr>\n",
       "    <tr>\n",
       "      <th>4</th>\n",
       "      <td>1</td>\n",
       "      <td>4028.687306</td>\n",
       "      <td>27</td>\n",
       "      <td>2021-08-28</td>\n",
       "      <td>8</td>\n",
       "      <td>Кира</td>\n",
       "      <td>22</td>\n",
       "      <td>Тюмень</td>\n",
       "      <td>ultra</td>\n",
       "      <td>6</td>\n",
       "      <td>0</td>\n",
       "      <td>199</td>\n",
       "    </tr>\n",
       "  </tbody>\n",
       "</table>\n",
       "</div>"
      ],
      "text/plain": [
       "   user_id     distance  duration       date  month  name  age    city  \\\n",
       "0        1  4409.919140        26 2021-01-01      1  Кира   22  Тюмень   \n",
       "1        1  2617.592153        16 2021-01-18      1  Кира   22  Тюмень   \n",
       "2        1   754.159807         7 2021-04-20      4  Кира   22  Тюмень   \n",
       "3        1  2694.783254        19 2021-08-11      8  Кира   22  Тюмень   \n",
       "4        1  4028.687306        27 2021-08-28      8  Кира   22  Тюмень   \n",
       "\n",
       "  subscription_type  minute_price  start_ride_price  subscription_fee  \n",
       "0             ultra             6                 0               199  \n",
       "1             ultra             6                 0               199  \n",
       "2             ultra             6                 0               199  \n",
       "3             ultra             6                 0               199  \n",
       "4             ultra             6                 0               199  "
      ]
     },
     "execution_count": 36,
     "metadata": {},
     "output_type": "execute_result"
    }
   ],
   "source": [
    "# импорт библиотеки math\n",
    "import math\n",
    "# округление значений продолжительности поездок до большего целого числа\n",
    "data['duration'] = data['duration'].apply(math.ceil)\n",
    "data.head()"
   ]
  },
  {
   "cell_type": "code",
   "execution_count": 37,
   "id": "7ff45c6a",
   "metadata": {},
   "outputs": [],
   "source": [
    "# округление значений продолжительности поездок до одного знака после запятой\n",
    "data['distance'] = data['distance'].round(1)"
   ]
  },
  {
   "cell_type": "markdown",
   "id": "d3e8c384",
   "metadata": {},
   "source": [
    "##### Создание датафреймов c данными о пользователях без подписки и с подпиской"
   ]
  },
  {
   "cell_type": "code",
   "execution_count": 38,
   "id": "2afab629",
   "metadata": {},
   "outputs": [
    {
     "data": {
      "text/html": [
       "<div>\n",
       "<style scoped>\n",
       "    .dataframe tbody tr th:only-of-type {\n",
       "        vertical-align: middle;\n",
       "    }\n",
       "\n",
       "    .dataframe tbody tr th {\n",
       "        vertical-align: top;\n",
       "    }\n",
       "\n",
       "    .dataframe thead th {\n",
       "        text-align: right;\n",
       "    }\n",
       "</style>\n",
       "<table border=\"1\" class=\"dataframe\">\n",
       "  <thead>\n",
       "    <tr style=\"text-align: right;\">\n",
       "      <th></th>\n",
       "      <th>user_id</th>\n",
       "      <th>distance</th>\n",
       "      <th>duration</th>\n",
       "      <th>date</th>\n",
       "      <th>month</th>\n",
       "      <th>name</th>\n",
       "      <th>age</th>\n",
       "      <th>city</th>\n",
       "      <th>subscription_type</th>\n",
       "      <th>minute_price</th>\n",
       "      <th>start_ride_price</th>\n",
       "      <th>subscription_fee</th>\n",
       "    </tr>\n",
       "  </thead>\n",
       "  <tbody>\n",
       "    <tr>\n",
       "      <th>9686</th>\n",
       "      <td>937</td>\n",
       "      <td>2186.5</td>\n",
       "      <td>16</td>\n",
       "      <td>2021-04-10</td>\n",
       "      <td>4</td>\n",
       "      <td>Родион</td>\n",
       "      <td>22</td>\n",
       "      <td>Ростов-на-Дону</td>\n",
       "      <td>free</td>\n",
       "      <td>8</td>\n",
       "      <td>50</td>\n",
       "      <td>0</td>\n",
       "    </tr>\n",
       "    <tr>\n",
       "      <th>8496</th>\n",
       "      <td>849</td>\n",
       "      <td>4693.6</td>\n",
       "      <td>32</td>\n",
       "      <td>2021-01-12</td>\n",
       "      <td>1</td>\n",
       "      <td>Каролина</td>\n",
       "      <td>37</td>\n",
       "      <td>Тюмень</td>\n",
       "      <td>free</td>\n",
       "      <td>8</td>\n",
       "      <td>50</td>\n",
       "      <td>0</td>\n",
       "    </tr>\n",
       "    <tr>\n",
       "      <th>14542</th>\n",
       "      <td>1283</td>\n",
       "      <td>3771.6</td>\n",
       "      <td>18</td>\n",
       "      <td>2021-06-17</td>\n",
       "      <td>6</td>\n",
       "      <td>Дмитрий</td>\n",
       "      <td>14</td>\n",
       "      <td>Тюмень</td>\n",
       "      <td>free</td>\n",
       "      <td>8</td>\n",
       "      <td>50</td>\n",
       "      <td>0</td>\n",
       "    </tr>\n",
       "    <tr>\n",
       "      <th>14089</th>\n",
       "      <td>1251</td>\n",
       "      <td>1356.5</td>\n",
       "      <td>19</td>\n",
       "      <td>2021-09-02</td>\n",
       "      <td>9</td>\n",
       "      <td>Кирилл</td>\n",
       "      <td>25</td>\n",
       "      <td>Краснодар</td>\n",
       "      <td>free</td>\n",
       "      <td>8</td>\n",
       "      <td>50</td>\n",
       "      <td>0</td>\n",
       "    </tr>\n",
       "    <tr>\n",
       "      <th>16261</th>\n",
       "      <td>1407</td>\n",
       "      <td>2819.5</td>\n",
       "      <td>20</td>\n",
       "      <td>2021-11-17</td>\n",
       "      <td>11</td>\n",
       "      <td>Борис</td>\n",
       "      <td>26</td>\n",
       "      <td>Пятигорск</td>\n",
       "      <td>free</td>\n",
       "      <td>8</td>\n",
       "      <td>50</td>\n",
       "      <td>0</td>\n",
       "    </tr>\n",
       "    <tr>\n",
       "      <th>7391</th>\n",
       "      <td>762</td>\n",
       "      <td>790.5</td>\n",
       "      <td>9</td>\n",
       "      <td>2021-07-29</td>\n",
       "      <td>7</td>\n",
       "      <td>Ярослава</td>\n",
       "      <td>34</td>\n",
       "      <td>Ростов-на-Дону</td>\n",
       "      <td>free</td>\n",
       "      <td>8</td>\n",
       "      <td>50</td>\n",
       "      <td>0</td>\n",
       "    </tr>\n",
       "    <tr>\n",
       "      <th>14097</th>\n",
       "      <td>1252</td>\n",
       "      <td>3963.3</td>\n",
       "      <td>17</td>\n",
       "      <td>2021-02-21</td>\n",
       "      <td>2</td>\n",
       "      <td>Нелли</td>\n",
       "      <td>31</td>\n",
       "      <td>Краснодар</td>\n",
       "      <td>free</td>\n",
       "      <td>8</td>\n",
       "      <td>50</td>\n",
       "      <td>0</td>\n",
       "    </tr>\n",
       "    <tr>\n",
       "      <th>12625</th>\n",
       "      <td>1149</td>\n",
       "      <td>2752.6</td>\n",
       "      <td>18</td>\n",
       "      <td>2021-05-13</td>\n",
       "      <td>5</td>\n",
       "      <td>Самир</td>\n",
       "      <td>25</td>\n",
       "      <td>Екатеринбург</td>\n",
       "      <td>free</td>\n",
       "      <td>8</td>\n",
       "      <td>50</td>\n",
       "      <td>0</td>\n",
       "    </tr>\n",
       "    <tr>\n",
       "      <th>15453</th>\n",
       "      <td>1352</td>\n",
       "      <td>3017.2</td>\n",
       "      <td>14</td>\n",
       "      <td>2021-04-07</td>\n",
       "      <td>4</td>\n",
       "      <td>Евгения</td>\n",
       "      <td>30</td>\n",
       "      <td>Москва</td>\n",
       "      <td>free</td>\n",
       "      <td>8</td>\n",
       "      <td>50</td>\n",
       "      <td>0</td>\n",
       "    </tr>\n",
       "    <tr>\n",
       "      <th>9417</th>\n",
       "      <td>916</td>\n",
       "      <td>3692.0</td>\n",
       "      <td>15</td>\n",
       "      <td>2021-12-21</td>\n",
       "      <td>12</td>\n",
       "      <td>Арина</td>\n",
       "      <td>21</td>\n",
       "      <td>Ростов-на-Дону</td>\n",
       "      <td>free</td>\n",
       "      <td>8</td>\n",
       "      <td>50</td>\n",
       "      <td>0</td>\n",
       "    </tr>\n",
       "  </tbody>\n",
       "</table>\n",
       "</div>"
      ],
      "text/plain": [
       "       user_id  distance  duration       date  month      name  age  \\\n",
       "9686       937    2186.5        16 2021-04-10      4    Родион   22   \n",
       "8496       849    4693.6        32 2021-01-12      1  Каролина   37   \n",
       "14542     1283    3771.6        18 2021-06-17      6   Дмитрий   14   \n",
       "14089     1251    1356.5        19 2021-09-02      9    Кирилл   25   \n",
       "16261     1407    2819.5        20 2021-11-17     11     Борис   26   \n",
       "7391       762     790.5         9 2021-07-29      7  Ярослава   34   \n",
       "14097     1252    3963.3        17 2021-02-21      2     Нелли   31   \n",
       "12625     1149    2752.6        18 2021-05-13      5     Самир   25   \n",
       "15453     1352    3017.2        14 2021-04-07      4   Евгения   30   \n",
       "9417       916    3692.0        15 2021-12-21     12     Арина   21   \n",
       "\n",
       "                 city subscription_type  minute_price  start_ride_price  \\\n",
       "9686   Ростов-на-Дону              free             8                50   \n",
       "8496           Тюмень              free             8                50   \n",
       "14542          Тюмень              free             8                50   \n",
       "14089       Краснодар              free             8                50   \n",
       "16261       Пятигорск              free             8                50   \n",
       "7391   Ростов-на-Дону              free             8                50   \n",
       "14097       Краснодар              free             8                50   \n",
       "12625    Екатеринбург              free             8                50   \n",
       "15453          Москва              free             8                50   \n",
       "9417   Ростов-на-Дону              free             8                50   \n",
       "\n",
       "       subscription_fee  \n",
       "9686                  0  \n",
       "8496                  0  \n",
       "14542                 0  \n",
       "14089                 0  \n",
       "16261                 0  \n",
       "7391                  0  \n",
       "14097                 0  \n",
       "12625                 0  \n",
       "15453                 0  \n",
       "9417                  0  "
      ]
     },
     "execution_count": 38,
     "metadata": {},
     "output_type": "execute_result"
    }
   ],
   "source": [
    "# использование метода query() для создания среза с данными о пользователях без подписки\n",
    "data_free = data.query('subscription_type == \"free\"')\n",
    "# вывод 10 случайных строк\n",
    "data_free.sample(10)"
   ]
  },
  {
   "cell_type": "code",
   "execution_count": 39,
   "id": "84e3d77b",
   "metadata": {},
   "outputs": [
    {
     "data": {
      "text/html": [
       "<div>\n",
       "<style scoped>\n",
       "    .dataframe tbody tr th:only-of-type {\n",
       "        vertical-align: middle;\n",
       "    }\n",
       "\n",
       "    .dataframe tbody tr th {\n",
       "        vertical-align: top;\n",
       "    }\n",
       "\n",
       "    .dataframe thead th {\n",
       "        text-align: right;\n",
       "    }\n",
       "</style>\n",
       "<table border=\"1\" class=\"dataframe\">\n",
       "  <thead>\n",
       "    <tr style=\"text-align: right;\">\n",
       "      <th></th>\n",
       "      <th>user_id</th>\n",
       "      <th>distance</th>\n",
       "      <th>duration</th>\n",
       "      <th>date</th>\n",
       "      <th>month</th>\n",
       "      <th>name</th>\n",
       "      <th>age</th>\n",
       "      <th>city</th>\n",
       "      <th>subscription_type</th>\n",
       "      <th>minute_price</th>\n",
       "      <th>start_ride_price</th>\n",
       "      <th>subscription_fee</th>\n",
       "    </tr>\n",
       "  </thead>\n",
       "  <tbody>\n",
       "    <tr>\n",
       "      <th>2383</th>\n",
       "      <td>253</td>\n",
       "      <td>1160.3</td>\n",
       "      <td>14</td>\n",
       "      <td>2021-06-03</td>\n",
       "      <td>6</td>\n",
       "      <td>Назар</td>\n",
       "      <td>23</td>\n",
       "      <td>Сочи</td>\n",
       "      <td>ultra</td>\n",
       "      <td>6</td>\n",
       "      <td>0</td>\n",
       "      <td>199</td>\n",
       "    </tr>\n",
       "    <tr>\n",
       "      <th>3682</th>\n",
       "      <td>396</td>\n",
       "      <td>2322.9</td>\n",
       "      <td>19</td>\n",
       "      <td>2021-05-21</td>\n",
       "      <td>5</td>\n",
       "      <td>Тимур</td>\n",
       "      <td>33</td>\n",
       "      <td>Екатеринбург</td>\n",
       "      <td>ultra</td>\n",
       "      <td>6</td>\n",
       "      <td>0</td>\n",
       "      <td>199</td>\n",
       "    </tr>\n",
       "    <tr>\n",
       "      <th>1777</th>\n",
       "      <td>193</td>\n",
       "      <td>383.3</td>\n",
       "      <td>7</td>\n",
       "      <td>2021-05-01</td>\n",
       "      <td>5</td>\n",
       "      <td>Регина</td>\n",
       "      <td>30</td>\n",
       "      <td>Сочи</td>\n",
       "      <td>ultra</td>\n",
       "      <td>6</td>\n",
       "      <td>0</td>\n",
       "      <td>199</td>\n",
       "    </tr>\n",
       "    <tr>\n",
       "      <th>1165</th>\n",
       "      <td>125</td>\n",
       "      <td>3005.9</td>\n",
       "      <td>27</td>\n",
       "      <td>2021-04-16</td>\n",
       "      <td>4</td>\n",
       "      <td>Андрей</td>\n",
       "      <td>20</td>\n",
       "      <td>Тюмень</td>\n",
       "      <td>ultra</td>\n",
       "      <td>6</td>\n",
       "      <td>0</td>\n",
       "      <td>199</td>\n",
       "    </tr>\n",
       "    <tr>\n",
       "      <th>3918</th>\n",
       "      <td>422</td>\n",
       "      <td>1811.0</td>\n",
       "      <td>18</td>\n",
       "      <td>2021-02-03</td>\n",
       "      <td>2</td>\n",
       "      <td>Кирилл</td>\n",
       "      <td>27</td>\n",
       "      <td>Сочи</td>\n",
       "      <td>ultra</td>\n",
       "      <td>6</td>\n",
       "      <td>0</td>\n",
       "      <td>199</td>\n",
       "    </tr>\n",
       "    <tr>\n",
       "      <th>4433</th>\n",
       "      <td>477</td>\n",
       "      <td>2069.6</td>\n",
       "      <td>18</td>\n",
       "      <td>2021-08-03</td>\n",
       "      <td>8</td>\n",
       "      <td>Стефания</td>\n",
       "      <td>26</td>\n",
       "      <td>Омск</td>\n",
       "      <td>ultra</td>\n",
       "      <td>6</td>\n",
       "      <td>0</td>\n",
       "      <td>199</td>\n",
       "    </tr>\n",
       "    <tr>\n",
       "      <th>2524</th>\n",
       "      <td>268</td>\n",
       "      <td>3126.0</td>\n",
       "      <td>18</td>\n",
       "      <td>2021-01-12</td>\n",
       "      <td>1</td>\n",
       "      <td>Виктория</td>\n",
       "      <td>24</td>\n",
       "      <td>Тюмень</td>\n",
       "      <td>ultra</td>\n",
       "      <td>6</td>\n",
       "      <td>0</td>\n",
       "      <td>199</td>\n",
       "    </tr>\n",
       "    <tr>\n",
       "      <th>3165</th>\n",
       "      <td>341</td>\n",
       "      <td>2974.2</td>\n",
       "      <td>12</td>\n",
       "      <td>2021-05-05</td>\n",
       "      <td>5</td>\n",
       "      <td>Василиса</td>\n",
       "      <td>23</td>\n",
       "      <td>Пятигорск</td>\n",
       "      <td>ultra</td>\n",
       "      <td>6</td>\n",
       "      <td>0</td>\n",
       "      <td>199</td>\n",
       "    </tr>\n",
       "    <tr>\n",
       "      <th>772</th>\n",
       "      <td>84</td>\n",
       "      <td>3121.1</td>\n",
       "      <td>19</td>\n",
       "      <td>2021-08-29</td>\n",
       "      <td>8</td>\n",
       "      <td>Анна</td>\n",
       "      <td>13</td>\n",
       "      <td>Екатеринбург</td>\n",
       "      <td>ultra</td>\n",
       "      <td>6</td>\n",
       "      <td>0</td>\n",
       "      <td>199</td>\n",
       "    </tr>\n",
       "    <tr>\n",
       "      <th>6052</th>\n",
       "      <td>649</td>\n",
       "      <td>3025.0</td>\n",
       "      <td>21</td>\n",
       "      <td>2021-08-17</td>\n",
       "      <td>8</td>\n",
       "      <td>София</td>\n",
       "      <td>34</td>\n",
       "      <td>Пятигорск</td>\n",
       "      <td>ultra</td>\n",
       "      <td>6</td>\n",
       "      <td>0</td>\n",
       "      <td>199</td>\n",
       "    </tr>\n",
       "  </tbody>\n",
       "</table>\n",
       "</div>"
      ],
      "text/plain": [
       "      user_id  distance  duration       date  month      name  age  \\\n",
       "2383      253    1160.3        14 2021-06-03      6     Назар   23   \n",
       "3682      396    2322.9        19 2021-05-21      5     Тимур   33   \n",
       "1777      193     383.3         7 2021-05-01      5    Регина   30   \n",
       "1165      125    3005.9        27 2021-04-16      4    Андрей   20   \n",
       "3918      422    1811.0        18 2021-02-03      2    Кирилл   27   \n",
       "4433      477    2069.6        18 2021-08-03      8  Стефания   26   \n",
       "2524      268    3126.0        18 2021-01-12      1  Виктория   24   \n",
       "3165      341    2974.2        12 2021-05-05      5  Василиса   23   \n",
       "772        84    3121.1        19 2021-08-29      8      Анна   13   \n",
       "6052      649    3025.0        21 2021-08-17      8     София   34   \n",
       "\n",
       "              city subscription_type  minute_price  start_ride_price  \\\n",
       "2383          Сочи             ultra             6                 0   \n",
       "3682  Екатеринбург             ultra             6                 0   \n",
       "1777          Сочи             ultra             6                 0   \n",
       "1165        Тюмень             ultra             6                 0   \n",
       "3918          Сочи             ultra             6                 0   \n",
       "4433          Омск             ultra             6                 0   \n",
       "2524        Тюмень             ultra             6                 0   \n",
       "3165     Пятигорск             ultra             6                 0   \n",
       "772   Екатеринбург             ultra             6                 0   \n",
       "6052     Пятигорск             ultra             6                 0   \n",
       "\n",
       "      subscription_fee  \n",
       "2383               199  \n",
       "3682               199  \n",
       "1777               199  \n",
       "1165               199  \n",
       "3918               199  \n",
       "4433               199  \n",
       "2524               199  \n",
       "3165               199  \n",
       "772                199  \n",
       "6052               199  "
      ]
     },
     "execution_count": 39,
     "metadata": {},
     "output_type": "execute_result"
    }
   ],
   "source": [
    "# использование метода query() для создания среза с данными о пользователях с подпиской\n",
    "data_ultra = data.query('subscription_type == \"ultra\"')\n",
    "# вывод 10 случайных строк\n",
    "data_ultra.sample(10)"
   ]
  },
  {
   "cell_type": "markdown",
   "id": "55065bc4",
   "metadata": {},
   "source": [
    "##### Информация о расстоянии и времени поездок для пользователей обеих категорий"
   ]
  },
  {
   "cell_type": "markdown",
   "id": "c24863d9",
   "metadata": {},
   "source": [
    "***Выведем общую информацию и построим гистограммы по данным о дистанции и времени пользователей без подписки.***"
   ]
  },
  {
   "cell_type": "code",
   "execution_count": 40,
   "id": "9adebc0b",
   "metadata": {},
   "outputs": [
    {
     "data": {
      "image/png": "[encoded data removed]",
      "text/plain": [
       "<Figure size 1440x432 with 2 Axes>"
      ]
     },
     "metadata": {
      "needs_background": "light"
     },
     "output_type": "display_data"
    }
   ],
   "source": [
    "# построение гистограммы на основе данных о дистанции, пройденной пользователями без подписки за одну поездку\n",
    "plt.figure(figsize = (20, 6))\n",
    "\n",
    "data_free.plot(y='distance', kind='hist', grid=True, alpha=0.5, color='pink', ec='white', ax = plt.subplot(1, 2, 1))\n",
    "plt.title('Расстояние за одну поездку без подписки')\n",
    "plt.ylabel('Количество')\n",
    "plt.xlabel('Расстояние, м')\n",
    "\n",
    "# построение гистограммы на основе данных о времени, затраченном пользователями без подписки на одну поездку\n",
    "data_free.plot(y='duration', kind='hist', grid=True, alpha=0.5, color='pink',ec='white', ax = plt.subplot(1, 2, 2))\n",
    "plt.title('Время одной поездки без подписки' )\n",
    "plt.ylabel('Количество')\n",
    "plt.xlabel('Время, мин')\n",
    "None"
   ]
  },
  {
   "cell_type": "markdown",
   "id": "1f6a8e8e",
   "metadata": {},
   "source": [
    "***Выведем общую информацию и построим гистограммы по данным о дистанции и времени пользователей с подпиской.***"
   ]
  },
  {
   "cell_type": "code",
   "execution_count": 41,
   "id": "513b1ad4",
   "metadata": {},
   "outputs": [
    {
     "data": {
      "image/png": "[encoded data removed]",
      "text/plain": [
       "<Figure size 1440x432 with 2 Axes>"
      ]
     },
     "metadata": {
      "needs_background": "light"
     },
     "output_type": "display_data"
    }
   ],
   "source": [
    "# построение гистограммы на основе данных о дистанции, пройденной пользователями с подпиской за одну поездку\n",
    "plt.figure(figsize = (20, 6))\n",
    "\n",
    "data_ultra.plot(y='distance', kind='hist', grid=True, alpha=0.5, color='grey', ec='white', ax = plt.subplot(1, 2, 1))\n",
    "plt.title('Расстояние за одну поездку c подпиской')\n",
    "plt.ylabel('Количество')\n",
    "plt.xlabel('Расстояние, м')\n",
    "\n",
    "# построение гистограммы на основе данных о времени, затраченном пользователями с подпиской на одну поездку\n",
    "data_ultra.plot(y='duration', kind='hist', grid=True, alpha=0.5, color='grey',ec='white', ax = plt.subplot(1, 2, 2))\n",
    "plt.title('Время одной поездки c подпиской' )\n",
    "plt.ylabel('Количество')\n",
    "plt.xlabel('Время, мин')\n",
    "\n",
    "None"
   ]
  },
  {
   "cell_type": "markdown",
   "id": "14f5be3f",
   "metadata": {},
   "source": [
    "**Расстояние, пройденное пользователями с подпиской и без нее за одну поездку.**\n",
    "- средняя дистанция одной поездки пользователей без подписки составляет 3 км, а средняя дистанция пользователей с подпиской составляет 3 км 100 м.\n",
    "- минимальная дистанция одной поездки пользователей без подписки составляет менее 1 м, а минимальная дистанция пользователей с подпиской составляет 244 м. \n",
    "- максимальная дистанция одной поездки пользователей без подписки составляет 7 км, а максимальная дистанция пользователей с подпиской составляет 5 км 700 м.\n",
    "- большинство пользователей без подписки за одну поездку преодолевают расстояние от 2.4 до 4 км, а пользователи с подпиской чаще всего используют сервис по аренде самокатов для преодоления расстояний от 2.8 до 3.6 км. \n",
    "\n",
    "**Длительность одной поездки пользователей с подпиской и без нее.**\n",
    "- средняя продолжительность одной поездки пользователей без подписки составляет 18 минут, что не сильно отличается от средней продолжительности одной поездки пользователей с подпиской, которая составляет 19 минут\n",
    "- минимальные продолжительности одной поездки пользователей без подписки составляет 1 минуту, а пользователей с подпиской 4 минуты.\n",
    "- максимальные продолжительности одной поездки пользователей без подписки и с подпиской уже заметно отличаются и составляют соответственно 35 и 41 минуту\n",
    "- большая часть пользователей без подписки затрачивает на одну поездку от 14 до 22 минут аналогично пользователям без подписки.\n"
   ]
  },
  {
   "cell_type": "markdown",
   "id": "63d34071",
   "metadata": {},
   "source": [
    "**На данном этапе работы проделано следующее:**\n",
    "1) Объединены данные о пользователях, поездках и подписках в один датафрейм. \n",
    "\n",
    "2) Созданы два датафрейма c данными о пользователях без подписки и с данными о пользователях с подпиской. \n",
    "    \n",
    "3) Визуализирована информация о расстоянии и времени поездок для пользователей обеих категорий и сделаны соответсвующие выводы.\n"
   ]
  },
  {
   "cell_type": "markdown",
   "id": "402d620f",
   "metadata": {},
   "source": [
    "#### Шаг 5. Подсчёт выручки"
   ]
  },
  {
   "cell_type": "markdown",
   "id": "e9fd94b3",
   "metadata": {},
   "source": [
    "На данном этапе работы выполню следующее:\n",
    "\n",
    "1) Создам датафрейм с агрегированными данными о поездках на основе датафрейма с объединёнными данными из предыдущего шага: найду суммарное расстояние, количество поездок и суммарное время для каждого пользователя за каждый месяц;\n",
    "\n",
    "2)  В этот же датафрейм добавлю столбец с помесячной выручкой, которую принёс каждый пользователь. Для этого обращусь к информации об условиях оплаты для подписчиков и тех, у кого нет подписки. Продолжительность каждой поездки в каждой строке исходного датафрейма для подсчёта стоимости округляется до следующего целого числа: например, значения 25.3, 25.5 и 26.0 должны быть преобразованы к 26 (выполнено в шаге 4.1.)\n"
   ]
  },
  {
   "cell_type": "markdown",
   "id": "a97f3400",
   "metadata": {},
   "source": [
    "##### Создание датафрейм с агрегированными данными о поездках "
   ]
  },
  {
   "cell_type": "code",
   "execution_count": 42,
   "id": "31539160",
   "metadata": {},
   "outputs": [
    {
     "data": {
      "text/plain": [
       "['user_id',\n",
       " 'distance',\n",
       " 'duration',\n",
       " 'date',\n",
       " 'month',\n",
       " 'name',\n",
       " 'age',\n",
       " 'city',\n",
       " 'subscription_type',\n",
       " 'minute_price',\n",
       " 'start_ride_price',\n",
       " 'subscription_fee']"
      ]
     },
     "execution_count": 42,
     "metadata": {},
     "output_type": "execute_result"
    }
   ],
   "source": [
    "# вывод названий столбца таблицы data\n",
    "data.columns.tolist()"
   ]
  },
  {
   "cell_type": "code",
   "execution_count": 43,
   "id": "3e693d96",
   "metadata": {},
   "outputs": [
    {
     "data": {
      "text/html": [
       "<div>\n",
       "<style scoped>\n",
       "    .dataframe tbody tr th:only-of-type {\n",
       "        vertical-align: middle;\n",
       "    }\n",
       "\n",
       "    .dataframe tbody tr th {\n",
       "        vertical-align: top;\n",
       "    }\n",
       "\n",
       "    .dataframe thead th {\n",
       "        text-align: right;\n",
       "    }\n",
       "</style>\n",
       "<table border=\"1\" class=\"dataframe\">\n",
       "  <thead>\n",
       "    <tr style=\"text-align: right;\">\n",
       "      <th></th>\n",
       "      <th>user_id</th>\n",
       "      <th>month</th>\n",
       "      <th>name</th>\n",
       "      <th>age</th>\n",
       "      <th>city</th>\n",
       "      <th>subscription_type</th>\n",
       "      <th>minute_price</th>\n",
       "      <th>start_ride_price</th>\n",
       "      <th>subscription_fee</th>\n",
       "      <th>distance_sum</th>\n",
       "      <th>rides_count</th>\n",
       "      <th>duration_sum</th>\n",
       "    </tr>\n",
       "  </thead>\n",
       "  <tbody>\n",
       "    <tr>\n",
       "      <th>0</th>\n",
       "      <td>1</td>\n",
       "      <td>1</td>\n",
       "      <td>Кира</td>\n",
       "      <td>22</td>\n",
       "      <td>Тюмень</td>\n",
       "      <td>ultra</td>\n",
       "      <td>6</td>\n",
       "      <td>0</td>\n",
       "      <td>199</td>\n",
       "      <td>7027.5</td>\n",
       "      <td>2</td>\n",
       "      <td>42</td>\n",
       "    </tr>\n",
       "    <tr>\n",
       "      <th>1</th>\n",
       "      <td>1</td>\n",
       "      <td>4</td>\n",
       "      <td>Кира</td>\n",
       "      <td>22</td>\n",
       "      <td>Тюмень</td>\n",
       "      <td>ultra</td>\n",
       "      <td>6</td>\n",
       "      <td>0</td>\n",
       "      <td>199</td>\n",
       "      <td>754.2</td>\n",
       "      <td>1</td>\n",
       "      <td>7</td>\n",
       "    </tr>\n",
       "    <tr>\n",
       "      <th>2</th>\n",
       "      <td>1</td>\n",
       "      <td>8</td>\n",
       "      <td>Кира</td>\n",
       "      <td>22</td>\n",
       "      <td>Тюмень</td>\n",
       "      <td>ultra</td>\n",
       "      <td>6</td>\n",
       "      <td>0</td>\n",
       "      <td>199</td>\n",
       "      <td>6723.5</td>\n",
       "      <td>2</td>\n",
       "      <td>46</td>\n",
       "    </tr>\n",
       "    <tr>\n",
       "      <th>3</th>\n",
       "      <td>1</td>\n",
       "      <td>10</td>\n",
       "      <td>Кира</td>\n",
       "      <td>22</td>\n",
       "      <td>Тюмень</td>\n",
       "      <td>ultra</td>\n",
       "      <td>6</td>\n",
       "      <td>0</td>\n",
       "      <td>199</td>\n",
       "      <td>5809.9</td>\n",
       "      <td>2</td>\n",
       "      <td>32</td>\n",
       "    </tr>\n",
       "    <tr>\n",
       "      <th>4</th>\n",
       "      <td>1</td>\n",
       "      <td>11</td>\n",
       "      <td>Кира</td>\n",
       "      <td>22</td>\n",
       "      <td>Тюмень</td>\n",
       "      <td>ultra</td>\n",
       "      <td>6</td>\n",
       "      <td>0</td>\n",
       "      <td>199</td>\n",
       "      <td>7003.5</td>\n",
       "      <td>3</td>\n",
       "      <td>56</td>\n",
       "    </tr>\n",
       "    <tr>\n",
       "      <th>5</th>\n",
       "      <td>1</td>\n",
       "      <td>12</td>\n",
       "      <td>Кира</td>\n",
       "      <td>22</td>\n",
       "      <td>Тюмень</td>\n",
       "      <td>ultra</td>\n",
       "      <td>6</td>\n",
       "      <td>0</td>\n",
       "      <td>199</td>\n",
       "      <td>6751.6</td>\n",
       "      <td>2</td>\n",
       "      <td>28</td>\n",
       "    </tr>\n",
       "    <tr>\n",
       "      <th>6</th>\n",
       "      <td>2</td>\n",
       "      <td>3</td>\n",
       "      <td>Станислав</td>\n",
       "      <td>31</td>\n",
       "      <td>Омск</td>\n",
       "      <td>ultra</td>\n",
       "      <td>6</td>\n",
       "      <td>0</td>\n",
       "      <td>199</td>\n",
       "      <td>10187.7</td>\n",
       "      <td>3</td>\n",
       "      <td>63</td>\n",
       "    </tr>\n",
       "    <tr>\n",
       "      <th>7</th>\n",
       "      <td>2</td>\n",
       "      <td>4</td>\n",
       "      <td>Станислав</td>\n",
       "      <td>31</td>\n",
       "      <td>Омск</td>\n",
       "      <td>ultra</td>\n",
       "      <td>6</td>\n",
       "      <td>0</td>\n",
       "      <td>199</td>\n",
       "      <td>6164.4</td>\n",
       "      <td>2</td>\n",
       "      <td>40</td>\n",
       "    </tr>\n",
       "    <tr>\n",
       "      <th>8</th>\n",
       "      <td>2</td>\n",
       "      <td>6</td>\n",
       "      <td>Станислав</td>\n",
       "      <td>31</td>\n",
       "      <td>Омск</td>\n",
       "      <td>ultra</td>\n",
       "      <td>6</td>\n",
       "      <td>0</td>\n",
       "      <td>199</td>\n",
       "      <td>3255.3</td>\n",
       "      <td>1</td>\n",
       "      <td>14</td>\n",
       "    </tr>\n",
       "    <tr>\n",
       "      <th>9</th>\n",
       "      <td>2</td>\n",
       "      <td>7</td>\n",
       "      <td>Станислав</td>\n",
       "      <td>31</td>\n",
       "      <td>Омск</td>\n",
       "      <td>ultra</td>\n",
       "      <td>6</td>\n",
       "      <td>0</td>\n",
       "      <td>199</td>\n",
       "      <td>6780.7</td>\n",
       "      <td>2</td>\n",
       "      <td>48</td>\n",
       "    </tr>\n",
       "  </tbody>\n",
       "</table>\n",
       "</div>"
      ],
      "text/plain": [
       "   user_id  month       name  age    city subscription_type  minute_price  \\\n",
       "0        1      1       Кира   22  Тюмень             ultra             6   \n",
       "1        1      4       Кира   22  Тюмень             ultra             6   \n",
       "2        1      8       Кира   22  Тюмень             ultra             6   \n",
       "3        1     10       Кира   22  Тюмень             ultra             6   \n",
       "4        1     11       Кира   22  Тюмень             ultra             6   \n",
       "5        1     12       Кира   22  Тюмень             ultra             6   \n",
       "6        2      3  Станислав   31    Омск             ultra             6   \n",
       "7        2      4  Станислав   31    Омск             ultra             6   \n",
       "8        2      6  Станислав   31    Омск             ultra             6   \n",
       "9        2      7  Станислав   31    Омск             ultra             6   \n",
       "\n",
       "   start_ride_price  subscription_fee  distance_sum  rides_count  duration_sum  \n",
       "0                 0               199        7027.5            2            42  \n",
       "1                 0               199         754.2            1             7  \n",
       "2                 0               199        6723.5            2            46  \n",
       "3                 0               199        5809.9            2            32  \n",
       "4                 0               199        7003.5            3            56  \n",
       "5                 0               199        6751.6            2            28  \n",
       "6                 0               199       10187.7            3            63  \n",
       "7                 0               199        6164.4            2            40  \n",
       "8                 0               199        3255.3            1            14  \n",
       "9                 0               199        6780.7            2            48  "
      ]
     },
     "execution_count": 43,
     "metadata": {},
     "output_type": "execute_result"
    }
   ],
   "source": [
    "# создание сводной таблицы в переменной data_inform с данными о суммарном расстояние, количестве поездок \n",
    "# и суммарном время для каждого пользователя за каждый месяц\n",
    "data_inform = data.pivot_table(index=['user_id',\n",
    " 'month',\n",
    " 'name',\n",
    " 'age',\n",
    " 'city',\n",
    " 'subscription_type',\n",
    " 'minute_price',\n",
    " 'start_ride_price',\n",
    " 'subscription_fee'],\n",
    "values=['distance', 'duration'], aggfunc={'distance': 'sum', 'duration': ['sum', 'count']})\n",
    "\n",
    "# переименование столбцов с суммарной дистанцией, количеством и времением поездок\n",
    "data_inform.columns = ['distance_sum', 'rides_count', 'duration_sum']\n",
    "\n",
    "# переиндексирую строки\n",
    "data_inform = data_inform.reset_index()\n",
    "\n",
    "# вывод 10 случайных строк\n",
    "data_inform.head(10)"
   ]
  },
  {
   "cell_type": "markdown",
   "id": "ed2653fd",
   "metadata": {},
   "source": [
    "##### Добавление столбца с помесячной выручкой, которую принёс каждый пользователь"
   ]
  },
  {
   "cell_type": "markdown",
   "id": "87c62e21",
   "metadata": {},
   "source": [
    "Создам функцию для подсчета помесячной выручки от каждого пользователя.\n",
    "\n",
    "Для того, чтобы узнать помесячную выручку, надо сложить: \n",
    "\n",
    "- помесячную оплату за подписку (для пользователей без подписки помесячная оплата равна 0);\n",
    "\n",
    "- произведение количества поездок и стоимости старта одной поездки ( для пользователей с подпиской старт бесплатный, поэтому данное произведение будет равно 0);\n",
    "\n",
    "- произведение длительности поездок (в минутах) и стоимости одной минуты (в рублях)."
   ]
  },
  {
   "cell_type": "code",
   "execution_count": 44,
   "id": "170a8159",
   "metadata": {},
   "outputs": [
    {
     "data": {
      "text/html": [
       "<div>\n",
       "<style scoped>\n",
       "    .dataframe tbody tr th:only-of-type {\n",
       "        vertical-align: middle;\n",
       "    }\n",
       "\n",
       "    .dataframe tbody tr th {\n",
       "        vertical-align: top;\n",
       "    }\n",
       "\n",
       "    .dataframe thead th {\n",
       "        text-align: right;\n",
       "    }\n",
       "</style>\n",
       "<table border=\"1\" class=\"dataframe\">\n",
       "  <thead>\n",
       "    <tr style=\"text-align: right;\">\n",
       "      <th></th>\n",
       "      <th>user_id</th>\n",
       "      <th>month</th>\n",
       "      <th>name</th>\n",
       "      <th>age</th>\n",
       "      <th>city</th>\n",
       "      <th>subscription_type</th>\n",
       "      <th>minute_price</th>\n",
       "      <th>start_ride_price</th>\n",
       "      <th>subscription_fee</th>\n",
       "      <th>distance_sum</th>\n",
       "      <th>rides_count</th>\n",
       "      <th>duration_sum</th>\n",
       "      <th>monthly_income</th>\n",
       "    </tr>\n",
       "  </thead>\n",
       "  <tbody>\n",
       "    <tr>\n",
       "      <th>0</th>\n",
       "      <td>1</td>\n",
       "      <td>1</td>\n",
       "      <td>Кира</td>\n",
       "      <td>22</td>\n",
       "      <td>Тюмень</td>\n",
       "      <td>ultra</td>\n",
       "      <td>6</td>\n",
       "      <td>0</td>\n",
       "      <td>199</td>\n",
       "      <td>7027.5</td>\n",
       "      <td>2</td>\n",
       "      <td>42</td>\n",
       "      <td>451</td>\n",
       "    </tr>\n",
       "    <tr>\n",
       "      <th>1</th>\n",
       "      <td>1</td>\n",
       "      <td>4</td>\n",
       "      <td>Кира</td>\n",
       "      <td>22</td>\n",
       "      <td>Тюмень</td>\n",
       "      <td>ultra</td>\n",
       "      <td>6</td>\n",
       "      <td>0</td>\n",
       "      <td>199</td>\n",
       "      <td>754.2</td>\n",
       "      <td>1</td>\n",
       "      <td>7</td>\n",
       "      <td>241</td>\n",
       "    </tr>\n",
       "    <tr>\n",
       "      <th>2</th>\n",
       "      <td>1</td>\n",
       "      <td>8</td>\n",
       "      <td>Кира</td>\n",
       "      <td>22</td>\n",
       "      <td>Тюмень</td>\n",
       "      <td>ultra</td>\n",
       "      <td>6</td>\n",
       "      <td>0</td>\n",
       "      <td>199</td>\n",
       "      <td>6723.5</td>\n",
       "      <td>2</td>\n",
       "      <td>46</td>\n",
       "      <td>475</td>\n",
       "    </tr>\n",
       "    <tr>\n",
       "      <th>3</th>\n",
       "      <td>1</td>\n",
       "      <td>10</td>\n",
       "      <td>Кира</td>\n",
       "      <td>22</td>\n",
       "      <td>Тюмень</td>\n",
       "      <td>ultra</td>\n",
       "      <td>6</td>\n",
       "      <td>0</td>\n",
       "      <td>199</td>\n",
       "      <td>5809.9</td>\n",
       "      <td>2</td>\n",
       "      <td>32</td>\n",
       "      <td>391</td>\n",
       "    </tr>\n",
       "    <tr>\n",
       "      <th>4</th>\n",
       "      <td>1</td>\n",
       "      <td>11</td>\n",
       "      <td>Кира</td>\n",
       "      <td>22</td>\n",
       "      <td>Тюмень</td>\n",
       "      <td>ultra</td>\n",
       "      <td>6</td>\n",
       "      <td>0</td>\n",
       "      <td>199</td>\n",
       "      <td>7003.5</td>\n",
       "      <td>3</td>\n",
       "      <td>56</td>\n",
       "      <td>535</td>\n",
       "    </tr>\n",
       "    <tr>\n",
       "      <th>5</th>\n",
       "      <td>1</td>\n",
       "      <td>12</td>\n",
       "      <td>Кира</td>\n",
       "      <td>22</td>\n",
       "      <td>Тюмень</td>\n",
       "      <td>ultra</td>\n",
       "      <td>6</td>\n",
       "      <td>0</td>\n",
       "      <td>199</td>\n",
       "      <td>6751.6</td>\n",
       "      <td>2</td>\n",
       "      <td>28</td>\n",
       "      <td>367</td>\n",
       "    </tr>\n",
       "    <tr>\n",
       "      <th>6</th>\n",
       "      <td>2</td>\n",
       "      <td>3</td>\n",
       "      <td>Станислав</td>\n",
       "      <td>31</td>\n",
       "      <td>Омск</td>\n",
       "      <td>ultra</td>\n",
       "      <td>6</td>\n",
       "      <td>0</td>\n",
       "      <td>199</td>\n",
       "      <td>10187.7</td>\n",
       "      <td>3</td>\n",
       "      <td>63</td>\n",
       "      <td>577</td>\n",
       "    </tr>\n",
       "    <tr>\n",
       "      <th>7</th>\n",
       "      <td>2</td>\n",
       "      <td>4</td>\n",
       "      <td>Станислав</td>\n",
       "      <td>31</td>\n",
       "      <td>Омск</td>\n",
       "      <td>ultra</td>\n",
       "      <td>6</td>\n",
       "      <td>0</td>\n",
       "      <td>199</td>\n",
       "      <td>6164.4</td>\n",
       "      <td>2</td>\n",
       "      <td>40</td>\n",
       "      <td>439</td>\n",
       "    </tr>\n",
       "    <tr>\n",
       "      <th>8</th>\n",
       "      <td>2</td>\n",
       "      <td>6</td>\n",
       "      <td>Станислав</td>\n",
       "      <td>31</td>\n",
       "      <td>Омск</td>\n",
       "      <td>ultra</td>\n",
       "      <td>6</td>\n",
       "      <td>0</td>\n",
       "      <td>199</td>\n",
       "      <td>3255.3</td>\n",
       "      <td>1</td>\n",
       "      <td>14</td>\n",
       "      <td>283</td>\n",
       "    </tr>\n",
       "    <tr>\n",
       "      <th>9</th>\n",
       "      <td>2</td>\n",
       "      <td>7</td>\n",
       "      <td>Станислав</td>\n",
       "      <td>31</td>\n",
       "      <td>Омск</td>\n",
       "      <td>ultra</td>\n",
       "      <td>6</td>\n",
       "      <td>0</td>\n",
       "      <td>199</td>\n",
       "      <td>6780.7</td>\n",
       "      <td>2</td>\n",
       "      <td>48</td>\n",
       "      <td>487</td>\n",
       "    </tr>\n",
       "  </tbody>\n",
       "</table>\n",
       "</div>"
      ],
      "text/plain": [
       "   user_id  month       name  age    city subscription_type  minute_price  \\\n",
       "0        1      1       Кира   22  Тюмень             ultra             6   \n",
       "1        1      4       Кира   22  Тюмень             ultra             6   \n",
       "2        1      8       Кира   22  Тюмень             ultra             6   \n",
       "3        1     10       Кира   22  Тюмень             ultra             6   \n",
       "4        1     11       Кира   22  Тюмень             ultra             6   \n",
       "5        1     12       Кира   22  Тюмень             ultra             6   \n",
       "6        2      3  Станислав   31    Омск             ultra             6   \n",
       "7        2      4  Станислав   31    Омск             ultra             6   \n",
       "8        2      6  Станислав   31    Омск             ultra             6   \n",
       "9        2      7  Станислав   31    Омск             ultra             6   \n",
       "\n",
       "   start_ride_price  subscription_fee  distance_sum  rides_count  \\\n",
       "0                 0               199        7027.5            2   \n",
       "1                 0               199         754.2            1   \n",
       "2                 0               199        6723.5            2   \n",
       "3                 0               199        5809.9            2   \n",
       "4                 0               199        7003.5            3   \n",
       "5                 0               199        6751.6            2   \n",
       "6                 0               199       10187.7            3   \n",
       "7                 0               199        6164.4            2   \n",
       "8                 0               199        3255.3            1   \n",
       "9                 0               199        6780.7            2   \n",
       "\n",
       "   duration_sum  monthly_income  \n",
       "0            42             451  \n",
       "1             7             241  \n",
       "2            46             475  \n",
       "3            32             391  \n",
       "4            56             535  \n",
       "5            28             367  \n",
       "6            63             577  \n",
       "7            40             439  \n",
       "8            14             283  \n",
       "9            48             487  "
      ]
     },
     "execution_count": 44,
     "metadata": {},
     "output_type": "execute_result"
    }
   ],
   "source": [
    "# создание функции income \n",
    "def income(row):\n",
    "    subscription = row['subscription_fee']\n",
    "    ride_price = row['start_ride_price']\n",
    "    count = row['rides_count']\n",
    "    duration = row['duration_sum']\n",
    "    minute_price = row['minute_price']\n",
    "    v = subscription + ride_price*count + duration*minute_price\n",
    "    return v\n",
    "\n",
    "# добавление столбца monthly_income в таблицу data_inform \n",
    "# с результатом работы функции по подсчету месячного дохода по каждому пользователю\n",
    "data_inform['monthly_income'] = data_inform.apply(income, axis=1)\n",
    "\n",
    "# вывод таблицы\n",
    "data_inform.head(10)"
   ]
  },
  {
   "cell_type": "markdown",
   "id": "41545ac0",
   "metadata": {},
   "source": [
    "#### Шаг 6. Проверка гипотез"
   ]
  },
  {
   "cell_type": "markdown",
   "id": "e6e9049c",
   "metadata": {},
   "source": [
    "На данном этапе работы сформулирую и проверю некоторые гипотезы.\n",
    "\n",
    "Продакт-менеджеры сервиса хотят увеличить количество пользователей с подпиской. Для этого они будут проводить различные акции, но сначала нужно выяснить несколько важных моментов.\n",
    "\n",
    "1) Проверю, тратят ли пользователи с подпиской больше времени на поездки? Если да, то пользователи с подпиской могут быть «выгоднее» для компании. \n",
    "\n",
    "2) Расстояние одной поездки в 3130 метров — оптимальное с точки зрения износа самоката. Проверю, можно ли сказать, что расстояние, которое проезжают пользователи с подпиской за одну поездку, не превышает 3130 метров? \n",
    "\n",
    "3) Проверю гипотезу о том, будет ли помесячная выручка от пользователей с подпиской по месяцам выше, чем выручка от пользователей без подписки. \n",
    "\n",
    "4) Представим такую ситуацию: техническая команда сервиса обновила сервера, с которыми взаимодействует мобильное приложение. Она надеется, что из-за этого количество обращений в техподдержку значимо снизилось. Некоторый файл содержит для каждого пользователя данные о количестве обращений до обновления и после него. Выясню, какой тест понадобился бы для проверки этой гипотезы?\n"
   ]
  },
  {
   "cell_type": "markdown",
   "id": "e8a232cd",
   "metadata": {},
   "source": [
    "##### Проверю, тратят ли пользователи с подпиской больше времени на поездки?"
   ]
  },
  {
   "cell_type": "markdown",
   "id": "b440720a",
   "metadata": {},
   "source": [
    "Проверим гипотезу о равенстве средних двух независимых гениральных совокупностей, используя t-тест. Для того, чтобы применять этот тест, проверим условия:\n",
    "\n",
    "1) Гениральные совокупности не зависят друг от друга (выполнено, так как это две совокупности со значениями длительности поездок пользователей с подпиской и без нее)\n",
    "\n",
    "\n",
    "2) Дисперсии рассматриваемых генеральных совокупностей равны.\n",
    "\n",
    "Дисперсии двух гениральных совокупностей неизвестны и гениральные совокупности разного объема, поэтому есть основания считать, что диспресии могут различаться. В связи с этим используем параметр equal_var=False."
   ]
  },
  {
   "cell_type": "markdown",
   "id": "f2de9f77",
   "metadata": {},
   "source": []
  },
  {
   "cell_type": "markdown",
   "id": "9830b169",
   "metadata": {},
   "source": [
    "Нулевая гипотеза заключается в том, что средняя продолжительность поездок пользователей с подпиской равна средней продолжительности поездок пользователей без подписки. \n",
    "\n",
    "Альтернативаня гипотеза заключается в том, что пользователи с подпиской тратят на поездки больше времени, чем пользователи без подписки."
   ]
  },
  {
   "cell_type": "markdown",
   "id": "a653c2b9",
   "metadata": {},
   "source": []
  },
  {
   "cell_type": "code",
   "execution_count": 45,
   "id": "06c23356",
   "metadata": {},
   "outputs": [
    {
     "name": "stdout",
     "output_type": "stream",
     "text": [
      "p-значение 1.1814679253701353e-36\n",
      "Отвергаем нулевую гипотезу\n"
     ]
    }
   ],
   "source": [
    "alpha = .05\n",
    "results = st.ttest_ind(data_ultra['duration'], data_free['duration'], equal_var=False, alternative='greater')\n",
    "\n",
    "print('p-значение', results.pvalue)\n",
    "\n",
    "if results.pvalue < alpha:\n",
    "    print('Отвергаем нулевую гипотезу')\n",
    "else:\n",
    "    print('Не получилось отвергнуть нулевую гипотезу')"
   ]
  },
  {
   "cell_type": "markdown",
   "id": "fbf27bea",
   "metadata": {},
   "source": [
    "p-value получилось значительно меньше выбранного уровня 𝛼=0.05. Нулевая гипотеза отвергнута, значит, есть основания говорить о том, что пользователи с подпиской могут быть «выгоднее» для компании."
   ]
  },
  {
   "cell_type": "markdown",
   "id": "ef1396bf",
   "metadata": {},
   "source": [
    "##### Можно ли сказать, что расстояние, которое проезжают пользователи с подпиской за одну поездку, не превышает 3130 метров?"
   ]
  },
  {
   "cell_type": "markdown",
   "id": "732aff52",
   "metadata": {},
   "source": [
    "Проверим гипотезу, что среднее расстояние, которое проезжает пользователь с подпиской не превышает 3130 метров, используя t-тест на проверку, равно ли истинное среднее генеральной совокупности заданному числу.\n",
    "\n",
    "Нулевая гипотеза заключается в том, что средняя дистанция одной поездки пользователей с подпиской не превышает 3130 метров.\n",
    "\n",
    "Альтернативаня гипотеза заключается в том, что средняя дистанция одной поездки пользователей с подпиской превышает 3130 метров.\n"
   ]
  },
  {
   "cell_type": "code",
   "execution_count": 46,
   "id": "746939fb",
   "metadata": {},
   "outputs": [
    {
     "name": "stdout",
     "output_type": "stream",
     "text": [
      "p-значение 0.9195427368335852\n",
      "Не получилось отвергнуть нулевую гипотезу\n"
     ]
    }
   ],
   "source": [
    "max_distance = 3130\n",
    "\n",
    "#alpha = .05\n",
    "\n",
    "results = st.ttest_1samp(data_ultra['distance'], max_distance, alternative='greater')\n",
    "\n",
    "print('p-значение', results.pvalue)\n",
    "\n",
    "if results.pvalue < alpha:\n",
    "    print('Отвергаем нулевую гипотезу')\n",
    "else:\n",
    "    print('Не получилось отвергнуть нулевую гипотезу')"
   ]
  },
  {
   "cell_type": "markdown",
   "id": "cf476fff",
   "metadata": {},
   "source": [
    "p-value получилось больше выбранного уровня 𝛼=0.05. Нулевая гипоетеза не отвергнута, значит, нет оснований утверждать, что расстояние, которое преодолевает пользователь с подпиской за одну поездку превышает 3130 метров."
   ]
  },
  {
   "cell_type": "markdown",
   "id": "4367b6a9",
   "metadata": {},
   "source": [
    "##### Будет ли помесячная выручка от пользователей с подпиской по месяцам выше, чем выручка от пользователей без подписки?"
   ]
  },
  {
   "cell_type": "markdown",
   "id": "ff87077a",
   "metadata": {},
   "source": [
    "Для проверки этой гипотезы создадим таблицы с данными о помесячной выручке от пользователей с подпиской и без нее, используя срезы таблицы *data_inform*"
   ]
  },
  {
   "cell_type": "code",
   "execution_count": 62,
   "id": "3d3932ae",
   "metadata": {},
   "outputs": [
    {
     "data": {
      "text/html": [
       "<div>\n",
       "<style scoped>\n",
       "    .dataframe tbody tr th:only-of-type {\n",
       "        vertical-align: middle;\n",
       "    }\n",
       "\n",
       "    .dataframe tbody tr th {\n",
       "        vertical-align: top;\n",
       "    }\n",
       "\n",
       "    .dataframe thead th {\n",
       "        text-align: right;\n",
       "    }\n",
       "</style>\n",
       "<table border=\"1\" class=\"dataframe\">\n",
       "  <thead>\n",
       "    <tr style=\"text-align: right;\">\n",
       "      <th></th>\n",
       "      <th>user_id</th>\n",
       "      <th>month</th>\n",
       "      <th>name</th>\n",
       "      <th>age</th>\n",
       "      <th>city</th>\n",
       "      <th>subscription_type</th>\n",
       "      <th>minute_price</th>\n",
       "      <th>start_ride_price</th>\n",
       "      <th>subscription_fee</th>\n",
       "      <th>distance_sum</th>\n",
       "      <th>rides_count</th>\n",
       "      <th>duration_sum</th>\n",
       "      <th>monthly_income</th>\n",
       "    </tr>\n",
       "  </thead>\n",
       "  <tbody>\n",
       "    <tr>\n",
       "      <th>4533</th>\n",
       "      <td>700</td>\n",
       "      <td>1</td>\n",
       "      <td>Айдар</td>\n",
       "      <td>22</td>\n",
       "      <td>Омск</td>\n",
       "      <td>free</td>\n",
       "      <td>8</td>\n",
       "      <td>50</td>\n",
       "      <td>0</td>\n",
       "      <td>2515.7</td>\n",
       "      <td>1</td>\n",
       "      <td>15</td>\n",
       "      <td>170</td>\n",
       "    </tr>\n",
       "    <tr>\n",
       "      <th>4534</th>\n",
       "      <td>700</td>\n",
       "      <td>2</td>\n",
       "      <td>Айдар</td>\n",
       "      <td>22</td>\n",
       "      <td>Омск</td>\n",
       "      <td>free</td>\n",
       "      <td>8</td>\n",
       "      <td>50</td>\n",
       "      <td>0</td>\n",
       "      <td>13446.6</td>\n",
       "      <td>5</td>\n",
       "      <td>89</td>\n",
       "      <td>962</td>\n",
       "    </tr>\n",
       "    <tr>\n",
       "      <th>4535</th>\n",
       "      <td>700</td>\n",
       "      <td>3</td>\n",
       "      <td>Айдар</td>\n",
       "      <td>22</td>\n",
       "      <td>Омск</td>\n",
       "      <td>free</td>\n",
       "      <td>8</td>\n",
       "      <td>50</td>\n",
       "      <td>0</td>\n",
       "      <td>3798.3</td>\n",
       "      <td>1</td>\n",
       "      <td>19</td>\n",
       "      <td>202</td>\n",
       "    </tr>\n",
       "    <tr>\n",
       "      <th>4536</th>\n",
       "      <td>700</td>\n",
       "      <td>4</td>\n",
       "      <td>Айдар</td>\n",
       "      <td>22</td>\n",
       "      <td>Омск</td>\n",
       "      <td>free</td>\n",
       "      <td>8</td>\n",
       "      <td>50</td>\n",
       "      <td>0</td>\n",
       "      <td>2984.6</td>\n",
       "      <td>1</td>\n",
       "      <td>16</td>\n",
       "      <td>178</td>\n",
       "    </tr>\n",
       "    <tr>\n",
       "      <th>4537</th>\n",
       "      <td>700</td>\n",
       "      <td>6</td>\n",
       "      <td>Айдар</td>\n",
       "      <td>22</td>\n",
       "      <td>Омск</td>\n",
       "      <td>free</td>\n",
       "      <td>8</td>\n",
       "      <td>50</td>\n",
       "      <td>0</td>\n",
       "      <td>5927.6</td>\n",
       "      <td>2</td>\n",
       "      <td>29</td>\n",
       "      <td>332</td>\n",
       "    </tr>\n",
       "    <tr>\n",
       "      <th>4538</th>\n",
       "      <td>700</td>\n",
       "      <td>7</td>\n",
       "      <td>Айдар</td>\n",
       "      <td>22</td>\n",
       "      <td>Омск</td>\n",
       "      <td>free</td>\n",
       "      <td>8</td>\n",
       "      <td>50</td>\n",
       "      <td>0</td>\n",
       "      <td>4399.2</td>\n",
       "      <td>2</td>\n",
       "      <td>21</td>\n",
       "      <td>268</td>\n",
       "    </tr>\n",
       "    <tr>\n",
       "      <th>4539</th>\n",
       "      <td>700</td>\n",
       "      <td>8</td>\n",
       "      <td>Айдар</td>\n",
       "      <td>22</td>\n",
       "      <td>Омск</td>\n",
       "      <td>free</td>\n",
       "      <td>8</td>\n",
       "      <td>50</td>\n",
       "      <td>0</td>\n",
       "      <td>4071.7</td>\n",
       "      <td>1</td>\n",
       "      <td>17</td>\n",
       "      <td>186</td>\n",
       "    </tr>\n",
       "    <tr>\n",
       "      <th>4540</th>\n",
       "      <td>700</td>\n",
       "      <td>10</td>\n",
       "      <td>Айдар</td>\n",
       "      <td>22</td>\n",
       "      <td>Омск</td>\n",
       "      <td>free</td>\n",
       "      <td>8</td>\n",
       "      <td>50</td>\n",
       "      <td>0</td>\n",
       "      <td>6322.6</td>\n",
       "      <td>2</td>\n",
       "      <td>44</td>\n",
       "      <td>452</td>\n",
       "    </tr>\n",
       "    <tr>\n",
       "      <th>4541</th>\n",
       "      <td>700</td>\n",
       "      <td>11</td>\n",
       "      <td>Айдар</td>\n",
       "      <td>22</td>\n",
       "      <td>Омск</td>\n",
       "      <td>free</td>\n",
       "      <td>8</td>\n",
       "      <td>50</td>\n",
       "      <td>0</td>\n",
       "      <td>8735.8</td>\n",
       "      <td>3</td>\n",
       "      <td>32</td>\n",
       "      <td>406</td>\n",
       "    </tr>\n",
       "    <tr>\n",
       "      <th>4542</th>\n",
       "      <td>701</td>\n",
       "      <td>1</td>\n",
       "      <td>Иван</td>\n",
       "      <td>31</td>\n",
       "      <td>Екатеринбург</td>\n",
       "      <td>free</td>\n",
       "      <td>8</td>\n",
       "      <td>50</td>\n",
       "      <td>0</td>\n",
       "      <td>2676.5</td>\n",
       "      <td>1</td>\n",
       "      <td>18</td>\n",
       "      <td>194</td>\n",
       "    </tr>\n",
       "  </tbody>\n",
       "</table>\n",
       "</div>"
      ],
      "text/plain": [
       "      user_id  month   name  age          city subscription_type  \\\n",
       "4533      700      1  Айдар   22          Омск              free   \n",
       "4534      700      2  Айдар   22          Омск              free   \n",
       "4535      700      3  Айдар   22          Омск              free   \n",
       "4536      700      4  Айдар   22          Омск              free   \n",
       "4537      700      6  Айдар   22          Омск              free   \n",
       "4538      700      7  Айдар   22          Омск              free   \n",
       "4539      700      8  Айдар   22          Омск              free   \n",
       "4540      700     10  Айдар   22          Омск              free   \n",
       "4541      700     11  Айдар   22          Омск              free   \n",
       "4542      701      1   Иван   31  Екатеринбург              free   \n",
       "\n",
       "      minute_price  start_ride_price  subscription_fee  distance_sum  \\\n",
       "4533             8                50                 0        2515.7   \n",
       "4534             8                50                 0       13446.6   \n",
       "4535             8                50                 0        3798.3   \n",
       "4536             8                50                 0        2984.6   \n",
       "4537             8                50                 0        5927.6   \n",
       "4538             8                50                 0        4399.2   \n",
       "4539             8                50                 0        4071.7   \n",
       "4540             8                50                 0        6322.6   \n",
       "4541             8                50                 0        8735.8   \n",
       "4542             8                50                 0        2676.5   \n",
       "\n",
       "      rides_count  duration_sum  monthly_income  \n",
       "4533            1            15             170  \n",
       "4534            5            89             962  \n",
       "4535            1            19             202  \n",
       "4536            1            16             178  \n",
       "4537            2            29             332  \n",
       "4538            2            21             268  \n",
       "4539            1            17             186  \n",
       "4540            2            44             452  \n",
       "4541            3            32             406  \n",
       "4542            1            18             194  "
      ]
     },
     "execution_count": 62,
     "metadata": {},
     "output_type": "execute_result"
    }
   ],
   "source": [
    "data_inform_free = data_inform.query('subscription_type == \"free\"')\n",
    "data_inform_free.head(10)"
   ]
  },
  {
   "cell_type": "code",
   "execution_count": 48,
   "id": "4616f263",
   "metadata": {},
   "outputs": [
    {
     "data": {
      "text/html": [
       "<div>\n",
       "<style scoped>\n",
       "    .dataframe tbody tr th:only-of-type {\n",
       "        vertical-align: middle;\n",
       "    }\n",
       "\n",
       "    .dataframe tbody tr th {\n",
       "        vertical-align: top;\n",
       "    }\n",
       "\n",
       "    .dataframe thead th {\n",
       "        text-align: right;\n",
       "    }\n",
       "</style>\n",
       "<table border=\"1\" class=\"dataframe\">\n",
       "  <thead>\n",
       "    <tr style=\"text-align: right;\">\n",
       "      <th></th>\n",
       "      <th>user_id</th>\n",
       "      <th>month</th>\n",
       "      <th>name</th>\n",
       "      <th>age</th>\n",
       "      <th>city</th>\n",
       "      <th>subscription_type</th>\n",
       "      <th>minute_price</th>\n",
       "      <th>start_ride_price</th>\n",
       "      <th>subscription_fee</th>\n",
       "      <th>distance_sum</th>\n",
       "      <th>rides_count</th>\n",
       "      <th>duration_sum</th>\n",
       "      <th>monthly_income</th>\n",
       "    </tr>\n",
       "  </thead>\n",
       "  <tbody>\n",
       "    <tr>\n",
       "      <th>3705</th>\n",
       "      <td>568</td>\n",
       "      <td>8</td>\n",
       "      <td>Назар</td>\n",
       "      <td>27</td>\n",
       "      <td>Екатеринбург</td>\n",
       "      <td>ultra</td>\n",
       "      <td>6</td>\n",
       "      <td>0</td>\n",
       "      <td>199</td>\n",
       "      <td>3519.0</td>\n",
       "      <td>1</td>\n",
       "      <td>18</td>\n",
       "      <td>307</td>\n",
       "    </tr>\n",
       "    <tr>\n",
       "      <th>2081</th>\n",
       "      <td>318</td>\n",
       "      <td>9</td>\n",
       "      <td>Степан</td>\n",
       "      <td>35</td>\n",
       "      <td>Москва</td>\n",
       "      <td>ultra</td>\n",
       "      <td>6</td>\n",
       "      <td>0</td>\n",
       "      <td>199</td>\n",
       "      <td>5204.9</td>\n",
       "      <td>2</td>\n",
       "      <td>31</td>\n",
       "      <td>385</td>\n",
       "    </tr>\n",
       "    <tr>\n",
       "      <th>1769</th>\n",
       "      <td>270</td>\n",
       "      <td>1</td>\n",
       "      <td>Егор</td>\n",
       "      <td>26</td>\n",
       "      <td>Тюмень</td>\n",
       "      <td>ultra</td>\n",
       "      <td>6</td>\n",
       "      <td>0</td>\n",
       "      <td>199</td>\n",
       "      <td>4151.1</td>\n",
       "      <td>1</td>\n",
       "      <td>15</td>\n",
       "      <td>289</td>\n",
       "    </tr>\n",
       "    <tr>\n",
       "      <th>483</th>\n",
       "      <td>76</td>\n",
       "      <td>11</td>\n",
       "      <td>Артур</td>\n",
       "      <td>17</td>\n",
       "      <td>Ростов-на-Дону</td>\n",
       "      <td>ultra</td>\n",
       "      <td>6</td>\n",
       "      <td>0</td>\n",
       "      <td>199</td>\n",
       "      <td>3137.1</td>\n",
       "      <td>1</td>\n",
       "      <td>16</td>\n",
       "      <td>295</td>\n",
       "    </tr>\n",
       "    <tr>\n",
       "      <th>3197</th>\n",
       "      <td>492</td>\n",
       "      <td>1</td>\n",
       "      <td>Ева</td>\n",
       "      <td>23</td>\n",
       "      <td>Омск</td>\n",
       "      <td>ultra</td>\n",
       "      <td>6</td>\n",
       "      <td>0</td>\n",
       "      <td>199</td>\n",
       "      <td>2584.5</td>\n",
       "      <td>1</td>\n",
       "      <td>14</td>\n",
       "      <td>283</td>\n",
       "    </tr>\n",
       "    <tr>\n",
       "      <th>2490</th>\n",
       "      <td>382</td>\n",
       "      <td>2</td>\n",
       "      <td>Марина</td>\n",
       "      <td>26</td>\n",
       "      <td>Тюмень</td>\n",
       "      <td>ultra</td>\n",
       "      <td>6</td>\n",
       "      <td>0</td>\n",
       "      <td>199</td>\n",
       "      <td>3860.0</td>\n",
       "      <td>1</td>\n",
       "      <td>24</td>\n",
       "      <td>343</td>\n",
       "    </tr>\n",
       "    <tr>\n",
       "      <th>2100</th>\n",
       "      <td>321</td>\n",
       "      <td>7</td>\n",
       "      <td>Артемий</td>\n",
       "      <td>22</td>\n",
       "      <td>Москва</td>\n",
       "      <td>ultra</td>\n",
       "      <td>6</td>\n",
       "      <td>0</td>\n",
       "      <td>199</td>\n",
       "      <td>3732.3</td>\n",
       "      <td>1</td>\n",
       "      <td>31</td>\n",
       "      <td>385</td>\n",
       "    </tr>\n",
       "    <tr>\n",
       "      <th>601</th>\n",
       "      <td>93</td>\n",
       "      <td>1</td>\n",
       "      <td>Вадим</td>\n",
       "      <td>25</td>\n",
       "      <td>Пятигорск</td>\n",
       "      <td>ultra</td>\n",
       "      <td>6</td>\n",
       "      <td>0</td>\n",
       "      <td>199</td>\n",
       "      <td>9600.0</td>\n",
       "      <td>3</td>\n",
       "      <td>44</td>\n",
       "      <td>463</td>\n",
       "    </tr>\n",
       "    <tr>\n",
       "      <th>2620</th>\n",
       "      <td>402</td>\n",
       "      <td>4</td>\n",
       "      <td>Эльмира</td>\n",
       "      <td>21</td>\n",
       "      <td>Екатеринбург</td>\n",
       "      <td>ultra</td>\n",
       "      <td>6</td>\n",
       "      <td>0</td>\n",
       "      <td>199</td>\n",
       "      <td>6733.2</td>\n",
       "      <td>2</td>\n",
       "      <td>43</td>\n",
       "      <td>457</td>\n",
       "    </tr>\n",
       "    <tr>\n",
       "      <th>3044</th>\n",
       "      <td>467</td>\n",
       "      <td>6</td>\n",
       "      <td>Евгения</td>\n",
       "      <td>17</td>\n",
       "      <td>Екатеринбург</td>\n",
       "      <td>ultra</td>\n",
       "      <td>6</td>\n",
       "      <td>0</td>\n",
       "      <td>199</td>\n",
       "      <td>4115.4</td>\n",
       "      <td>2</td>\n",
       "      <td>26</td>\n",
       "      <td>355</td>\n",
       "    </tr>\n",
       "  </tbody>\n",
       "</table>\n",
       "</div>"
      ],
      "text/plain": [
       "      user_id  month     name  age            city subscription_type  \\\n",
       "3705      568      8    Назар   27    Екатеринбург             ultra   \n",
       "2081      318      9   Степан   35          Москва             ultra   \n",
       "1769      270      1     Егор   26          Тюмень             ultra   \n",
       "483        76     11    Артур   17  Ростов-на-Дону             ultra   \n",
       "3197      492      1      Ева   23            Омск             ultra   \n",
       "2490      382      2   Марина   26          Тюмень             ultra   \n",
       "2100      321      7  Артемий   22          Москва             ultra   \n",
       "601        93      1    Вадим   25       Пятигорск             ultra   \n",
       "2620      402      4  Эльмира   21    Екатеринбург             ultra   \n",
       "3044      467      6  Евгения   17    Екатеринбург             ultra   \n",
       "\n",
       "      minute_price  start_ride_price  subscription_fee  distance_sum  \\\n",
       "3705             6                 0               199        3519.0   \n",
       "2081             6                 0               199        5204.9   \n",
       "1769             6                 0               199        4151.1   \n",
       "483              6                 0               199        3137.1   \n",
       "3197             6                 0               199        2584.5   \n",
       "2490             6                 0               199        3860.0   \n",
       "2100             6                 0               199        3732.3   \n",
       "601              6                 0               199        9600.0   \n",
       "2620             6                 0               199        6733.2   \n",
       "3044             6                 0               199        4115.4   \n",
       "\n",
       "      rides_count  duration_sum  monthly_income  \n",
       "3705            1            18             307  \n",
       "2081            2            31             385  \n",
       "1769            1            15             289  \n",
       "483             1            16             295  \n",
       "3197            1            14             283  \n",
       "2490            1            24             343  \n",
       "2100            1            31             385  \n",
       "601             3            44             463  \n",
       "2620            2            43             457  \n",
       "3044            2            26             355  "
      ]
     },
     "execution_count": 48,
     "metadata": {},
     "output_type": "execute_result"
    }
   ],
   "source": [
    "data_inform_ultra = data_inform.query('subscription_type == \"ultra\"')\n",
    "data_inform_ultra.sample(10)"
   ]
  },
  {
   "cell_type": "markdown",
   "id": "bc0bfed5",
   "metadata": {},
   "source": [
    "Проверим гипотезу о равенстве средних двух независимых гениральных совокупностей, используя t-тест. Для того, чтобы применять этот тест, проверим условия:\n",
    "\n",
    "1) Гениральные совокупности не зависят друг от друга (выполнено, так как это две совокупности со значениями помесячной выручки от пользователей с подпиской и без нее)\n",
    "\n",
    "2) Дисперсии рассматриваемых генеральных совокупностей равны.\n",
    "\n",
    "Дисперсии двух гениральных совокупностей неизвестны и гениральные совокупности разного объема, поэтому есть основания считать, что диспресии могут различаться. В связи с этим используем параметр equal_var=False.\n",
    "\n",
    "Нулевая гипотеза заключается в том, что средняя помесячная выручка от пользователей с подпиской равна средней помесячной выручке пользователей без подписки.\n",
    "\n",
    "Альтернативаня гипотеза заключается в том, что средняя помесячная выручка от пользователей с подпиской выше, чем средняя помесячная выручка от пользователей без подписки.\n"
   ]
  },
  {
   "cell_type": "code",
   "execution_count": 52,
   "id": "b45b3937",
   "metadata": {},
   "outputs": [
    {
     "name": "stdout",
     "output_type": "stream",
     "text": [
      "p-значение 8.874140893976874e-40\n",
      "Отвергаем нулевую гипотезу\n"
     ]
    }
   ],
   "source": [
    "alpha = .05\n",
    "results = st.ttest_ind(data_inform_ultra['monthly_income'], data_inform_free['monthly_income'], \n",
    "                       equal_var=False, alternative='greater')\n",
    "\n",
    "print('p-значение', results.pvalue)\n",
    "\n",
    "if results.pvalue < alpha:\n",
    "    print('Отвергаем нулевую гипотезу')\n",
    "else:\n",
    "    print('Не получилось отвергнуть нулевую гипотезу')"
   ]
  },
  {
   "cell_type": "markdown",
   "id": "ee2f2eef",
   "metadata": {},
   "source": [
    "p-value получилось значительно меньше выбранного уровня 𝛼=0.05. Нулевая гипотеза отвергнута, значит, есть основания говорить о том, что помесячная выручка от пользователей с подпиской выше, чем выручка от пользователей без подписки."
   ]
  },
  {
   "cell_type": "markdown",
   "id": "3b686adc",
   "metadata": {},
   "source": [
    "##### Техническая команда сервиса обновила сервера, с которыми взаимодействует мобильное приложение."
   ]
  },
  {
   "cell_type": "markdown",
   "id": "cf76d39a",
   "metadata": {},
   "source": [
    "Техническая команда сервиса обновила сервера, с которыми взаимодействует мобильное приложение. Она надеется, что из-за этого количество обращений в техподдержку значимо снизилось. Некоторый файл содержит для каждого пользователя данные о количестве обращений до обновления и после него. Какой тест вам понадобился бы для проверки этой гипотезы?"
   ]
  },
  {
   "cell_type": "markdown",
   "id": "50e1e0f1",
   "metadata": {},
   "source": [
    "**Ответ:** В таком случае я анализировала бы одну генеральную совокупность, с которой произошли какие-то изменения, то есть я бы проверяла, равны ли средние совокупности до и после этого изменения. \n",
    "\n",
    "Чтобы проверить гипотезу о равенстве среднего генеральной совокупности для зависимых выборок, применила бы t-тест для зависимых выборок, то есть метод scipy.stats.ttest_rel() в Pandas.\n",
    "\n",
    "Передала бы два параметра: наборы данных до и после изменения. Оба набора должны быть одинаковыми по размеру: каждое измерение должно быть проведено до и после изменения."
   ]
  },
  {
   "cell_type": "markdown",
   "id": "a690ab8a",
   "metadata": {},
   "source": [
    "***Вывод***\n",
    "\n",
    "Исследованы данные сервиса аренды самокатов, содержащие информацию о некоторых пользователях из нескольких городов, а также об их поездках и используемых тарифах. \n",
    "\n",
    "**На этапе предобработки данных было выполнено:**\n",
    "\n",
    "* создание нового столбца с номером месяца на основе столбца **date**;\n",
    "* проверка таблиц на наличие явных и неявных дубликатов. В таблице *data_users*  удалена 31 строка с явными дубликатами;\n",
    "* удаление строк таблицы *data_rides* с продолжительностью поездки менее 2 минут из-за аномально большого расстояния.\n",
    "\n",
    "**На этапе исследовательского анализа данных было выявлено:**\n",
    "\n",
    "    - Чаще всего самокаты в аренду берут в городе Пятигорск - более 200 раз, реже в Москве.\n",
    "\n",
    "    - 54% пользователей не имеют подписки, 46% пользователей имеют подписку.\n",
    "\n",
    "    - Средний возраст пользователей сервиса составляет 25 лет. В основном сервсиом пользуются люди от 20 до 30 лет.\n",
    "\n",
    "    - В среднем дистанция одной поездки на самокате составляет 3 км. Максимальная дистанция, которую преодолел пользователь за одну поездку - 7 км, минимальная - менее 1 м. \n",
    "\n",
    "    - Средняя продолжительность поездок составляет 18 минут. Минимальная продолжительность поездки - 2 минуты, максимальная - 40 минут. Основная часть поездок продолжительностью от 13 до 21 минуты.\n",
    "\n",
    "**Для дальнейшего анализа и проверки гипотез также было выполнено:**\n",
    "\n",
    "1) Объединены данные о пользователях, поездках и подписках в один датафрейм. \n",
    "\n",
    "2) Созданы два датафрейма c данными о пользователях без подписки и с данными о пользователях с подпиской. \n",
    "\n",
    "3) Проведен исследовательский анализ данных пользователей с подпиской и без, в результате которого сделаны следующие выводы:\n",
    "\n",
    "    - Среднее расстояние, пройденное пользователями с подпиской, незначительно превышает среднее расстояние, пройденное пользователями без подписки несмотря на то, что максимальная дистанция у пользователей без подписки больше. \n",
    "\n",
    "    Это может быть связано с тем, что большое количество пользователей без подписки преодолевают расстояние менее 800 м, , это могут быть пользователи, которые впервые решили опробовать данный сервис и по различным причинам поездка могла быть совершена на короткую дистанцию. При этом максимальная дальность поездок у пользователей без подписки выше,чем у пользователей с подпиской.\n",
    "\n",
    "    - Средняя продолжительность поездок пользователей с подпиской также незначительно превышает среднюю продолжительность поездок пользователей без подписки. \n",
    "\n",
    "    Такая ситуация могла возникнуть по причине того, что около 1000 поездок пользователей без подписки не превышает 10 минут, в то время, как среди пользователей с подпиской таких поездок менее 500 и к тому же максимальная продолжительность поездок выше.\n",
    "\n",
    "4) Добавлен столбец с помесячной выручкой, которую принёс каждый пользователь.\n",
    "\n",
    "5) Проверены следующие гипотезы:\n",
    "\n",
    "    1) тратят ли пользователи с подпиской больше времени на поездки?\n",
    "    \n",
    "    Нулевая гипотеза о равенстве средней продолжительности поездки пользователей с подпиской и без нее отвергнута, значит, есть основания говорить о том, что пользователи с подпиской могут быть «выгоднее» для компании.\n",
    "\n",
    "    2) можно ли сказать, что расстояние, которое проезжают пользователи с подпиской за одну поездку, не превышает 3130 метров?\n",
    "    \n",
    "    Нулевая гипоетеза о том, что что средняя дистанция одной поездки пользователей с подпиской не превышает 3130 метров не отвергнута, значит, нет оснований утверждать, что расстояние, которое преодолевает пользователь с подпиской за одну поездку превышает 3130 метров.\n",
    "    \n",
    "    3) будет ли помесячная выручка от пользователей с подпиской по месяцам выше, чем выручка от пользователей без подписки?\n",
    "    \n",
    "    Нулевая гипотеза о равенсвте средней помесячной выручке от пользователей с подпиской и средней помесячной выручке пользователей без подписки отвергнута, значит, есть основания говорить о том, что помесячная выручка от пользователей с подпиской выше, чем выручка от пользователей без подписки.\n",
    "    \n",
    "**Рекомендации**\n",
    "\n",
    "- В Москве реже всего используют данный сервис по аренде самокатов, возможно из-за большой конкуренции. Стоит увеличить количество арендуемых самокатов.\n",
    "\n",
    "- Дальность поездок у пользователей без подписки выше,чем у пользователей с подпиской. И пользователей без подписки 54%. Возможно стоит подумать о привлечении постоянных пользователей без подписки и предоставить пробный бесплатный период подписки.\n",
    "\n",
    "- Среди пользователей без подписки совершается большое количество поездок с дистанцией менее 1 км и продолжительностью менее 5 минут. Для новых пользователей сервиса можно ввести бесплатные пробные минуты.\n"
   ]
  },
  {
   "cell_type": "markdown",
   "id": "ab58168b",
   "metadata": {},
   "source": []
  },
  {
   "cell_type": "markdown",
   "id": "4861b0ef",
   "metadata": {},
   "source": [
    "**Чек-лист готовности проекта**"
   ]
  },
  {
   "cell_type": "markdown",
   "id": "2f5c4872",
   "metadata": {},
   "source": [
    "- [x] открыты файлы\n",
    "- [x] файлы изучены \n",
    "- [x] столбец date приведен к типу даты pandas\n",
    "- [x] создан новый столбец с номером месяца на основе столбца date\n",
    "- [x] определены пропущенные значения\n",
    "- [x] заполнены пропущенные значения там, где это возможно\n",
    "- [x] есть пояснение, какие пропущенные значения обнаружены\n",
    "- [x] проверено наличие дубликатов\n",
    "- [x] описана и визуализирована общая информация о пользователях и поездках:\n",
    "        - частота встречаемости городов\n",
    "        - соотношение пользователей с подпиской и без подписки\n",
    "        - возраст пользователей\n",
    "        - расстояние, которое пользователь преодолел за одну поездку\n",
    "        - продолжительность поездок\n",
    "- [x]  объединены данные о пользователях, поездках и подписках в один датафрейм\n",
    "- [x]  созданы ещё два датафрейма:\n",
    "        - c данными о пользователях без подписки\n",
    "        - с данными о пользователях с подпиской\n",
    "- [x]  визуализирована информацию о расстоянии и времени поездок для пользователей обеих категорий\n",
    "- [x]  найдено суммарное расстояние, количество поездок и суммарное время для каждого пользователя за каждый месяц\n",
    "- [x]  добавлен столбец с помесячной выручкой, которую принёс каждый пользователь\n",
    "- [x]  проверены гипотезы:\n",
    "        1) тратят ли пользователи с подпиской больше времени на поездки?\n",
    "        2) можно ли сказать, что расстояние, которое проезжают пользователи с подпиской за одну поездку, не превышает 3130 метров?\n",
    "        3) будет ли помесячная выручка от пользователей с подпиской по месяцам выше, чем выручка от пользователей без подписки"
   ]
  }
 ],
 "metadata": {
  "ExecuteTimeLog": [
   {
    "duration": 61,
    "start_time": "2023-07-27T10:45:55.044Z"
   },
   {
    "duration": 136,
    "start_time": "2023-07-27T10:45:59.554Z"
   },
   {
    "duration": 468,
    "start_time": "2023-07-27T10:46:04.660Z"
   },
   {
    "duration": 129,
    "start_time": "2023-07-27T10:46:06.451Z"
   },
   {
    "duration": 34,
    "start_time": "2023-07-27T10:48:27.497Z"
   },
   {
    "duration": 211,
    "start_time": "2023-07-27T10:48:29.102Z"
   },
   {
    "duration": 88,
    "start_time": "2023-07-27T10:48:31.797Z"
   },
   {
    "duration": 62,
    "start_time": "2023-07-27T10:48:44.947Z"
   },
   {
    "duration": 32,
    "start_time": "2023-07-27T10:48:50.796Z"
   },
   {
    "duration": 39,
    "start_time": "2023-07-27T10:50:10.090Z"
   },
   {
    "duration": 35,
    "start_time": "2023-07-27T13:42:08.221Z"
   },
   {
    "duration": 43,
    "start_time": "2023-07-27T13:42:15.597Z"
   },
   {
    "duration": 131,
    "start_time": "2023-07-27T13:53:26.510Z"
   },
   {
    "duration": 8,
    "start_time": "2023-07-27T13:53:37.267Z"
   },
   {
    "duration": 524,
    "start_time": "2023-07-27T13:53:54.459Z"
   },
   {
    "duration": 3,
    "start_time": "2023-07-27T13:56:04.855Z"
   },
   {
    "duration": 4,
    "start_time": "2023-07-27T13:56:05.875Z"
   },
   {
    "duration": 35,
    "start_time": "2023-07-27T13:56:07.483Z"
   },
   {
    "duration": 45,
    "start_time": "2023-07-27T13:56:09.667Z"
   },
   {
    "duration": 22,
    "start_time": "2023-07-27T13:56:10.446Z"
   },
   {
    "duration": 37,
    "start_time": "2023-07-27T13:58:12.863Z"
   },
   {
    "duration": 35,
    "start_time": "2023-07-27T13:58:18.155Z"
   },
   {
    "duration": 36,
    "start_time": "2023-07-27T13:59:39.478Z"
   },
   {
    "duration": 22,
    "start_time": "2023-07-27T14:01:27.175Z"
   },
   {
    "duration": 16,
    "start_time": "2023-07-27T14:01:49.580Z"
   },
   {
    "duration": 13,
    "start_time": "2023-07-27T14:05:00.074Z"
   },
   {
    "duration": 34,
    "start_time": "2023-07-27T14:05:09.125Z"
   },
   {
    "duration": 20,
    "start_time": "2023-07-27T14:17:51.622Z"
   },
   {
    "duration": 25,
    "start_time": "2023-07-27T14:18:30.970Z"
   },
   {
    "duration": 0,
    "start_time": "2023-07-27T14:18:38.599Z"
   },
   {
    "duration": 18,
    "start_time": "2023-07-27T14:18:46.353Z"
   },
   {
    "duration": 28,
    "start_time": "2023-07-27T14:21:54.361Z"
   },
   {
    "duration": 842,
    "start_time": "2023-07-27T14:22:54.505Z"
   },
   {
    "duration": 2169,
    "start_time": "2023-07-27T14:40:13.177Z"
   },
   {
    "duration": 1002,
    "start_time": "2023-07-27T14:40:51.017Z"
   },
   {
    "duration": 4,
    "start_time": "2023-07-27T14:40:52.021Z"
   },
   {
    "duration": 74,
    "start_time": "2023-07-27T14:40:52.026Z"
   },
   {
    "duration": 12,
    "start_time": "2023-07-27T14:40:52.102Z"
   },
   {
    "duration": 85,
    "start_time": "2023-07-27T14:40:52.116Z"
   },
   {
    "duration": 12,
    "start_time": "2023-07-27T14:40:52.203Z"
   },
   {
    "duration": 36,
    "start_time": "2023-07-27T14:40:52.217Z"
   },
   {
    "duration": 38,
    "start_time": "2023-07-27T14:40:52.254Z"
   },
   {
    "duration": 13,
    "start_time": "2023-07-27T14:40:52.294Z"
   },
   {
    "duration": 112,
    "start_time": "2023-07-27T14:40:52.309Z"
   },
   {
    "duration": 7,
    "start_time": "2023-07-27T14:41:06.200Z"
   },
   {
    "duration": 31,
    "start_time": "2023-07-27T14:41:14.351Z"
   },
   {
    "duration": 12,
    "start_time": "2023-07-27T14:41:30.949Z"
   },
   {
    "duration": 12,
    "start_time": "2023-07-27T14:42:00.620Z"
   },
   {
    "duration": 16,
    "start_time": "2023-07-27T14:42:09.614Z"
   },
   {
    "duration": 19,
    "start_time": "2023-07-27T14:42:29.997Z"
   },
   {
    "duration": 14,
    "start_time": "2023-07-27T14:42:31.084Z"
   },
   {
    "duration": 12,
    "start_time": "2023-07-27T14:47:18.274Z"
   },
   {
    "duration": 6,
    "start_time": "2023-07-27T14:47:39.536Z"
   },
   {
    "duration": 12,
    "start_time": "2023-07-27T14:47:54.473Z"
   },
   {
    "duration": 10,
    "start_time": "2023-07-27T14:50:43.562Z"
   },
   {
    "duration": 11,
    "start_time": "2023-07-27T14:50:57.892Z"
   },
   {
    "duration": 11,
    "start_time": "2023-07-27T14:55:50.959Z"
   },
   {
    "duration": 6,
    "start_time": "2023-07-27T14:56:07.647Z"
   },
   {
    "duration": 6,
    "start_time": "2023-07-27T15:01:57.415Z"
   },
   {
    "duration": 8,
    "start_time": "2023-07-27T15:02:06.583Z"
   },
   {
    "duration": 16,
    "start_time": "2023-07-27T15:02:27.986Z"
   },
   {
    "duration": 11,
    "start_time": "2023-07-27T15:06:15.919Z"
   },
   {
    "duration": 5,
    "start_time": "2023-07-27T15:06:54.989Z"
   },
   {
    "duration": 5,
    "start_time": "2023-07-27T15:09:18.647Z"
   },
   {
    "duration": 6,
    "start_time": "2023-07-27T15:11:55.281Z"
   },
   {
    "duration": 411,
    "start_time": "2023-07-27T15:18:12.901Z"
   },
   {
    "duration": 187,
    "start_time": "2023-07-27T15:18:21.689Z"
   },
   {
    "duration": 14,
    "start_time": "2023-07-27T15:18:48.807Z"
   },
   {
    "duration": 22,
    "start_time": "2023-07-27T15:18:58.083Z"
   },
   {
    "duration": 22,
    "start_time": "2023-07-27T15:19:46.506Z"
   },
   {
    "duration": 22,
    "start_time": "2023-07-27T15:19:51.883Z"
   },
   {
    "duration": 19,
    "start_time": "2023-07-27T15:22:01.599Z"
   },
   {
    "duration": 27,
    "start_time": "2023-07-27T15:24:32.184Z"
   },
   {
    "duration": 131,
    "start_time": "2023-07-27T15:26:52.953Z"
   },
   {
    "duration": 27,
    "start_time": "2023-07-27T15:27:18.353Z"
   },
   {
    "duration": 28,
    "start_time": "2023-07-27T15:27:24.985Z"
   },
   {
    "duration": 9,
    "start_time": "2023-07-27T15:27:29.449Z"
   },
   {
    "duration": 18,
    "start_time": "2023-07-27T15:28:04.984Z"
   },
   {
    "duration": 26,
    "start_time": "2023-07-27T15:32:22.365Z"
   },
   {
    "duration": 21,
    "start_time": "2023-07-27T15:32:29.454Z"
   },
   {
    "duration": 30,
    "start_time": "2023-07-27T15:32:44.094Z"
   },
   {
    "duration": 21,
    "start_time": "2023-07-27T15:33:28.198Z"
   },
   {
    "duration": 20,
    "start_time": "2023-07-27T15:34:13.207Z"
   },
   {
    "duration": 25,
    "start_time": "2023-07-27T15:35:12.762Z"
   },
   {
    "duration": 23,
    "start_time": "2023-07-27T15:35:30.950Z"
   },
   {
    "duration": 19,
    "start_time": "2023-07-27T15:35:34.906Z"
   },
   {
    "duration": 20,
    "start_time": "2023-07-27T15:35:41.405Z"
   },
   {
    "duration": 23,
    "start_time": "2023-07-27T15:36:15.862Z"
   },
   {
    "duration": 17,
    "start_time": "2023-07-27T15:36:39.650Z"
   },
   {
    "duration": 15,
    "start_time": "2023-07-27T15:37:46.150Z"
   },
   {
    "duration": 13,
    "start_time": "2023-07-27T15:38:17.809Z"
   },
   {
    "duration": 20,
    "start_time": "2023-07-27T15:38:31.293Z"
   },
   {
    "duration": 11,
    "start_time": "2023-07-27T15:39:20.387Z"
   },
   {
    "duration": 10,
    "start_time": "2023-07-27T15:39:30.607Z"
   },
   {
    "duration": 17,
    "start_time": "2023-07-27T15:39:34.293Z"
   },
   {
    "duration": 7,
    "start_time": "2023-07-27T15:42:03.511Z"
   },
   {
    "duration": 18,
    "start_time": "2023-07-27T15:42:15.463Z"
   },
   {
    "duration": 20,
    "start_time": "2023-07-27T15:42:22.258Z"
   },
   {
    "duration": 13,
    "start_time": "2023-07-27T15:42:39.219Z"
   },
   {
    "duration": 8,
    "start_time": "2023-07-27T15:42:43.218Z"
   },
   {
    "duration": 18,
    "start_time": "2023-07-27T15:43:12.515Z"
   },
   {
    "duration": 9,
    "start_time": "2023-07-27T15:43:16.047Z"
   },
   {
    "duration": 12,
    "start_time": "2023-07-27T15:43:39.403Z"
   },
   {
    "duration": 13,
    "start_time": "2023-07-27T15:43:46.247Z"
   },
   {
    "duration": 13,
    "start_time": "2023-07-27T15:47:18.504Z"
   },
   {
    "duration": 14,
    "start_time": "2023-07-27T15:49:03.382Z"
   },
   {
    "duration": 15,
    "start_time": "2023-07-27T15:49:10.397Z"
   },
   {
    "duration": 10,
    "start_time": "2023-07-27T15:49:20.495Z"
   },
   {
    "duration": 14,
    "start_time": "2023-07-27T15:49:55.004Z"
   },
   {
    "duration": 6,
    "start_time": "2023-07-27T15:50:56.488Z"
   },
   {
    "duration": 13,
    "start_time": "2023-07-27T15:51:08.291Z"
   },
   {
    "duration": 12,
    "start_time": "2023-07-27T15:53:56.986Z"
   },
   {
    "duration": 175,
    "start_time": "2023-07-27T15:54:14.709Z"
   },
   {
    "duration": 25,
    "start_time": "2023-07-27T15:54:58.802Z"
   },
   {
    "duration": 21,
    "start_time": "2023-07-27T15:55:08.095Z"
   },
   {
    "duration": 29,
    "start_time": "2023-07-27T15:55:20.959Z"
   },
   {
    "duration": 19,
    "start_time": "2023-07-27T16:00:55.300Z"
   },
   {
    "duration": 4,
    "start_time": "2023-07-27T16:02:16.409Z"
   },
   {
    "duration": 12,
    "start_time": "2023-07-27T16:02:35.085Z"
   },
   {
    "duration": 11,
    "start_time": "2023-07-27T16:02:40.834Z"
   },
   {
    "duration": 10,
    "start_time": "2023-07-27T16:02:45.376Z"
   },
   {
    "duration": 14,
    "start_time": "2023-07-27T16:02:54.767Z"
   },
   {
    "duration": 11,
    "start_time": "2023-07-27T16:03:06.696Z"
   },
   {
    "duration": 17,
    "start_time": "2023-07-27T16:03:31.862Z"
   },
   {
    "duration": 195,
    "start_time": "2023-07-27T16:04:09.199Z"
   },
   {
    "duration": 14,
    "start_time": "2023-07-27T16:05:14.365Z"
   },
   {
    "duration": 230,
    "start_time": "2023-07-27T16:05:20.384Z"
   },
   {
    "duration": 163,
    "start_time": "2023-07-27T16:05:34.387Z"
   },
   {
    "duration": 241,
    "start_time": "2023-07-27T16:05:43.493Z"
   },
   {
    "duration": 180,
    "start_time": "2023-07-27T16:07:23.237Z"
   },
   {
    "duration": 153,
    "start_time": "2023-07-27T16:08:07.900Z"
   },
   {
    "duration": 155,
    "start_time": "2023-07-27T16:08:44.648Z"
   },
   {
    "duration": 129,
    "start_time": "2023-07-27T16:09:15.516Z"
   },
   {
    "duration": 159,
    "start_time": "2023-07-27T16:09:21.753Z"
   },
   {
    "duration": 174,
    "start_time": "2023-07-27T16:09:48.418Z"
   },
   {
    "duration": 180,
    "start_time": "2023-07-27T16:10:06.785Z"
   },
   {
    "duration": 189,
    "start_time": "2023-07-27T16:10:13.299Z"
   },
   {
    "duration": 168,
    "start_time": "2023-07-27T16:10:19.401Z"
   },
   {
    "duration": 174,
    "start_time": "2023-07-27T16:16:29.259Z"
   },
   {
    "duration": 285,
    "start_time": "2023-07-27T16:16:37.650Z"
   },
   {
    "duration": 164,
    "start_time": "2023-07-27T16:16:59.600Z"
   },
   {
    "duration": 175,
    "start_time": "2023-07-27T16:17:18.602Z"
   },
   {
    "duration": 189,
    "start_time": "2023-07-27T16:17:32.389Z"
   },
   {
    "duration": 13,
    "start_time": "2023-07-27T16:24:49.297Z"
   },
   {
    "duration": 20,
    "start_time": "2023-07-27T16:24:56.289Z"
   },
   {
    "duration": 12,
    "start_time": "2023-07-27T16:26:19.001Z"
   },
   {
    "duration": 18,
    "start_time": "2023-07-27T16:26:30.949Z"
   },
   {
    "duration": 19,
    "start_time": "2023-07-27T16:27:45.109Z"
   },
   {
    "duration": 150,
    "start_time": "2023-07-27T16:27:55.915Z"
   },
   {
    "duration": 168,
    "start_time": "2023-07-27T16:28:12.715Z"
   },
   {
    "duration": 214,
    "start_time": "2023-07-27T16:28:24.250Z"
   },
   {
    "duration": 178,
    "start_time": "2023-07-27T16:36:52.452Z"
   },
   {
    "duration": 172,
    "start_time": "2023-07-27T16:37:57.649Z"
   },
   {
    "duration": 230,
    "start_time": "2023-07-27T16:39:50.850Z"
   },
   {
    "duration": 187,
    "start_time": "2023-07-27T16:41:33.819Z"
   },
   {
    "duration": 175,
    "start_time": "2023-07-27T16:41:38.624Z"
   },
   {
    "duration": 196,
    "start_time": "2023-07-27T16:41:44.207Z"
   },
   {
    "duration": 183,
    "start_time": "2023-07-27T16:42:16.767Z"
   },
   {
    "duration": 250,
    "start_time": "2023-07-27T16:43:25.400Z"
   },
   {
    "duration": 190,
    "start_time": "2023-07-27T16:43:45.760Z"
   },
   {
    "duration": 180,
    "start_time": "2023-07-27T16:43:52.822Z"
   },
   {
    "duration": 187,
    "start_time": "2023-07-27T16:43:58.850Z"
   },
   {
    "duration": 193,
    "start_time": "2023-07-27T16:44:32.170Z"
   },
   {
    "duration": 154,
    "start_time": "2023-07-27T16:46:35.658Z"
   },
   {
    "duration": 195,
    "start_time": "2023-07-27T16:46:43.800Z"
   },
   {
    "duration": 186,
    "start_time": "2023-07-27T16:47:48.351Z"
   },
   {
    "duration": 195,
    "start_time": "2023-07-27T16:47:56.800Z"
   },
   {
    "duration": 217,
    "start_time": "2023-07-27T16:48:02.313Z"
   },
   {
    "duration": 184,
    "start_time": "2023-07-27T16:48:06.062Z"
   },
   {
    "duration": 194,
    "start_time": "2023-07-27T16:48:14.514Z"
   },
   {
    "duration": 179,
    "start_time": "2023-07-27T16:48:34.812Z"
   },
   {
    "duration": 195,
    "start_time": "2023-07-27T16:49:35.403Z"
   },
   {
    "duration": 168,
    "start_time": "2023-07-27T16:49:42.555Z"
   },
   {
    "duration": 205,
    "start_time": "2023-07-27T16:51:21.500Z"
   },
   {
    "duration": 248,
    "start_time": "2023-07-27T16:51:29.498Z"
   },
   {
    "duration": 126,
    "start_time": "2023-07-27T16:51:44.410Z"
   },
   {
    "duration": 199,
    "start_time": "2023-07-27T16:51:52.500Z"
   },
   {
    "duration": 160,
    "start_time": "2023-07-27T16:51:59.577Z"
   },
   {
    "duration": 301,
    "start_time": "2023-07-27T16:52:37.301Z"
   },
   {
    "duration": 164,
    "start_time": "2023-07-27T16:54:06.010Z"
   },
   {
    "duration": 156,
    "start_time": "2023-07-27T16:54:10.501Z"
   },
   {
    "duration": 166,
    "start_time": "2023-07-27T16:54:20.355Z"
   },
   {
    "duration": 176,
    "start_time": "2023-07-27T16:54:27.208Z"
   },
   {
    "duration": 219,
    "start_time": "2023-07-27T16:54:33.865Z"
   },
   {
    "duration": 190,
    "start_time": "2023-07-27T16:57:41.895Z"
   },
   {
    "duration": 232,
    "start_time": "2023-07-27T16:58:23.051Z"
   },
   {
    "duration": 109,
    "start_time": "2023-07-27T16:58:28.302Z"
   },
   {
    "duration": 118,
    "start_time": "2023-07-27T16:58:46.604Z"
   },
   {
    "duration": 119,
    "start_time": "2023-07-27T16:58:53.223Z"
   },
   {
    "duration": 120,
    "start_time": "2023-07-27T16:59:16.711Z"
   },
   {
    "duration": 280,
    "start_time": "2023-07-27T16:59:22.409Z"
   },
   {
    "duration": 121,
    "start_time": "2023-07-27T16:59:27.184Z"
   },
   {
    "duration": 118,
    "start_time": "2023-07-27T17:00:57.928Z"
   },
   {
    "duration": 121,
    "start_time": "2023-07-27T17:01:14.399Z"
   },
   {
    "duration": 112,
    "start_time": "2023-07-27T17:01:21.498Z"
   },
   {
    "duration": 114,
    "start_time": "2023-07-27T17:01:28.214Z"
   },
   {
    "duration": 146,
    "start_time": "2023-07-27T17:01:38.296Z"
   },
   {
    "duration": 173,
    "start_time": "2023-07-27T17:02:17.951Z"
   },
   {
    "duration": 146,
    "start_time": "2023-07-27T17:03:04.048Z"
   },
   {
    "duration": 183,
    "start_time": "2023-07-27T17:03:47.059Z"
   },
   {
    "duration": 195,
    "start_time": "2023-07-27T17:05:29.255Z"
   },
   {
    "duration": 195,
    "start_time": "2023-07-27T17:05:40.210Z"
   },
   {
    "duration": 222,
    "start_time": "2023-07-27T17:07:03.898Z"
   },
   {
    "duration": 192,
    "start_time": "2023-07-27T17:07:37.355Z"
   },
   {
    "duration": 201,
    "start_time": "2023-07-27T17:07:46.255Z"
   },
   {
    "duration": 335,
    "start_time": "2023-07-27T17:07:50.750Z"
   },
   {
    "duration": 175,
    "start_time": "2023-07-27T17:07:55.298Z"
   },
   {
    "duration": 221,
    "start_time": "2023-07-27T17:08:14.483Z"
   },
   {
    "duration": 190,
    "start_time": "2023-07-27T17:08:23.097Z"
   },
   {
    "duration": 18,
    "start_time": "2023-07-27T17:08:59.603Z"
   },
   {
    "duration": 171,
    "start_time": "2023-07-27T17:09:16.358Z"
   },
   {
    "duration": 182,
    "start_time": "2023-07-27T17:09:22.623Z"
   },
   {
    "duration": 181,
    "start_time": "2023-07-27T17:09:28.001Z"
   },
   {
    "duration": 201,
    "start_time": "2023-07-27T17:09:31.701Z"
   },
   {
    "duration": 189,
    "start_time": "2023-07-27T17:09:48.766Z"
   },
   {
    "duration": 167,
    "start_time": "2023-07-27T17:09:55.767Z"
   },
   {
    "duration": 227,
    "start_time": "2023-07-27T17:10:13.907Z"
   },
   {
    "duration": 191,
    "start_time": "2023-07-27T17:10:18.223Z"
   },
   {
    "duration": 222,
    "start_time": "2023-07-27T17:10:53.876Z"
   },
   {
    "duration": 186,
    "start_time": "2023-07-27T17:11:11.702Z"
   },
   {
    "duration": 170,
    "start_time": "2023-07-27T17:16:34.299Z"
   },
   {
    "duration": 27,
    "start_time": "2023-07-27T17:16:49.453Z"
   },
   {
    "duration": 142,
    "start_time": "2023-07-27T17:17:04.950Z"
   },
   {
    "duration": 296,
    "start_time": "2023-07-27T17:17:22.593Z"
   },
   {
    "duration": 5,
    "start_time": "2023-07-27T17:18:08.363Z"
   },
   {
    "duration": 199,
    "start_time": "2023-07-27T17:18:16.720Z"
   },
   {
    "duration": 187,
    "start_time": "2023-07-27T17:19:04.921Z"
   },
   {
    "duration": 177,
    "start_time": "2023-07-27T17:20:06.801Z"
   },
   {
    "duration": 164,
    "start_time": "2023-07-27T17:20:11.992Z"
   },
   {
    "duration": 10,
    "start_time": "2023-07-27T17:20:24.901Z"
   },
   {
    "duration": 11,
    "start_time": "2023-07-27T17:20:32.713Z"
   },
   {
    "duration": 199,
    "start_time": "2023-07-27T17:21:12.546Z"
   },
   {
    "duration": 187,
    "start_time": "2023-07-27T17:24:14.855Z"
   },
   {
    "duration": 170,
    "start_time": "2023-07-27T17:24:52.410Z"
   },
   {
    "duration": 168,
    "start_time": "2023-07-27T17:25:07.094Z"
   },
   {
    "duration": 208,
    "start_time": "2023-07-27T17:25:19.966Z"
   },
   {
    "duration": 170,
    "start_time": "2023-07-27T17:25:25.154Z"
   },
   {
    "duration": 11,
    "start_time": "2023-07-27T17:27:14.819Z"
   },
   {
    "duration": 212,
    "start_time": "2023-07-27T17:28:29.713Z"
   },
   {
    "duration": 202,
    "start_time": "2023-07-27T17:28:40.202Z"
   },
   {
    "duration": 148,
    "start_time": "2023-07-27T17:28:55.510Z"
   },
   {
    "duration": 194,
    "start_time": "2023-07-27T17:29:10.964Z"
   },
   {
    "duration": 337,
    "start_time": "2023-07-27T17:29:31.255Z"
   },
   {
    "duration": 234,
    "start_time": "2023-07-27T17:29:44.762Z"
   },
   {
    "duration": 184,
    "start_time": "2023-07-27T17:30:00.846Z"
   },
   {
    "duration": 20,
    "start_time": "2023-07-27T17:31:58.603Z"
   },
   {
    "duration": 26,
    "start_time": "2023-07-27T17:32:14.196Z"
   },
   {
    "duration": 183,
    "start_time": "2023-07-27T17:32:59.108Z"
   },
   {
    "duration": 204,
    "start_time": "2023-07-27T17:33:26.705Z"
   },
   {
    "duration": 145,
    "start_time": "2023-07-27T17:33:41.713Z"
   },
   {
    "duration": 208,
    "start_time": "2023-07-27T17:35:29.700Z"
   },
   {
    "duration": 203,
    "start_time": "2023-07-27T17:36:02.810Z"
   },
   {
    "duration": 196,
    "start_time": "2023-07-27T17:37:18.753Z"
   },
   {
    "duration": 174,
    "start_time": "2023-07-27T17:37:24.389Z"
   },
   {
    "duration": 170,
    "start_time": "2023-07-27T17:37:28.365Z"
   },
   {
    "duration": 213,
    "start_time": "2023-07-27T20:10:07.547Z"
   },
   {
    "duration": 206,
    "start_time": "2023-07-27T20:10:18.831Z"
   },
   {
    "duration": 21,
    "start_time": "2023-07-27T20:18:18.663Z"
   },
   {
    "duration": 207,
    "start_time": "2023-07-27T20:19:18.414Z"
   },
   {
    "duration": 207,
    "start_time": "2023-07-27T20:19:55.109Z"
   },
   {
    "duration": 331,
    "start_time": "2023-07-27T20:19:59.989Z"
   },
   {
    "duration": 266,
    "start_time": "2023-07-27T20:20:04.669Z"
   },
   {
    "duration": 190,
    "start_time": "2023-07-27T20:20:09.414Z"
   },
   {
    "duration": 215,
    "start_time": "2023-07-27T20:20:17.394Z"
   },
   {
    "duration": 214,
    "start_time": "2023-07-27T20:20:21.447Z"
   },
   {
    "duration": 955,
    "start_time": "2023-07-28T11:36:37.435Z"
   },
   {
    "duration": 3,
    "start_time": "2023-07-28T11:36:38.392Z"
   },
   {
    "duration": 125,
    "start_time": "2023-07-28T11:36:38.396Z"
   },
   {
    "duration": 10,
    "start_time": "2023-07-28T11:36:38.523Z"
   },
   {
    "duration": 190,
    "start_time": "2023-07-28T11:36:38.535Z"
   },
   {
    "duration": 11,
    "start_time": "2023-07-28T11:36:38.727Z"
   },
   {
    "duration": 62,
    "start_time": "2023-07-28T11:36:38.740Z"
   },
   {
    "duration": 66,
    "start_time": "2023-07-28T11:36:38.804Z"
   },
   {
    "duration": 19,
    "start_time": "2023-07-28T11:36:38.872Z"
   },
   {
    "duration": 9,
    "start_time": "2023-07-28T11:36:38.894Z"
   },
   {
    "duration": 10,
    "start_time": "2023-07-28T11:36:38.905Z"
   },
   {
    "duration": 11,
    "start_time": "2023-07-28T11:36:38.916Z"
   },
   {
    "duration": 7,
    "start_time": "2023-07-28T11:36:38.928Z"
   },
   {
    "duration": 8,
    "start_time": "2023-07-28T11:36:38.936Z"
   },
   {
    "duration": 11,
    "start_time": "2023-07-28T11:36:38.946Z"
   },
   {
    "duration": 30,
    "start_time": "2023-07-28T11:36:38.959Z"
   },
   {
    "duration": 503,
    "start_time": "2023-07-28T11:36:38.991Z"
   },
   {
    "duration": 15,
    "start_time": "2023-07-28T11:36:39.496Z"
   },
   {
    "duration": 19,
    "start_time": "2023-07-28T11:36:39.512Z"
   },
   {
    "duration": 12,
    "start_time": "2023-07-28T11:36:39.532Z"
   },
   {
    "duration": 118,
    "start_time": "2023-07-28T11:36:39.546Z"
   },
   {
    "duration": 165,
    "start_time": "2023-07-28T11:36:39.665Z"
   },
   {
    "duration": 164,
    "start_time": "2023-07-28T11:36:39.831Z"
   },
   {
    "duration": 9,
    "start_time": "2023-07-28T11:36:39.997Z"
   },
   {
    "duration": 231,
    "start_time": "2023-07-28T11:36:40.008Z"
   },
   {
    "duration": 15,
    "start_time": "2023-07-28T11:36:40.241Z"
   },
   {
    "duration": 404,
    "start_time": "2023-07-28T11:36:40.258Z"
   },
   {
    "duration": 148,
    "start_time": "2023-07-28T11:37:20.869Z"
   },
   {
    "duration": 11,
    "start_time": "2023-07-28T12:38:42.521Z"
   },
   {
    "duration": 15,
    "start_time": "2023-07-28T12:39:01.615Z"
   },
   {
    "duration": 11,
    "start_time": "2023-07-28T12:39:12.135Z"
   },
   {
    "duration": 182,
    "start_time": "2023-07-28T12:40:11.066Z"
   },
   {
    "duration": 179,
    "start_time": "2023-07-28T12:40:59.366Z"
   },
   {
    "duration": 18,
    "start_time": "2023-07-28T12:55:46.499Z"
   },
   {
    "duration": 27,
    "start_time": "2023-07-28T12:57:56.542Z"
   },
   {
    "duration": 54,
    "start_time": "2023-07-28T12:58:19.340Z"
   },
   {
    "duration": 37,
    "start_time": "2023-07-28T12:58:30.850Z"
   },
   {
    "duration": 118,
    "start_time": "2023-07-28T12:58:47.537Z"
   },
   {
    "duration": 103,
    "start_time": "2023-07-28T12:58:51.302Z"
   },
   {
    "duration": 24,
    "start_time": "2023-07-28T12:59:19.347Z"
   },
   {
    "duration": 22,
    "start_time": "2023-07-28T13:01:27.344Z"
   },
   {
    "duration": 20,
    "start_time": "2023-07-28T13:01:35.199Z"
   },
   {
    "duration": 39,
    "start_time": "2023-07-28T13:01:59.656Z"
   },
   {
    "duration": 18,
    "start_time": "2023-07-28T13:02:09.255Z"
   },
   {
    "duration": 18,
    "start_time": "2023-07-28T13:02:24.799Z"
   },
   {
    "duration": 16,
    "start_time": "2023-07-28T13:02:25.822Z"
   },
   {
    "duration": 27,
    "start_time": "2023-07-28T13:02:27.073Z"
   },
   {
    "duration": 24,
    "start_time": "2023-07-28T13:02:28.102Z"
   },
   {
    "duration": 16,
    "start_time": "2023-07-28T13:02:29.246Z"
   },
   {
    "duration": 22,
    "start_time": "2023-07-28T13:02:31.807Z"
   },
   {
    "duration": 17,
    "start_time": "2023-07-28T13:02:45.295Z"
   },
   {
    "duration": 11,
    "start_time": "2023-07-28T13:09:21.095Z"
   },
   {
    "duration": 1023,
    "start_time": "2023-07-28T13:09:28.991Z"
   },
   {
    "duration": 4,
    "start_time": "2023-07-28T13:09:30.016Z"
   },
   {
    "duration": 110,
    "start_time": "2023-07-28T13:09:30.022Z"
   },
   {
    "duration": 23,
    "start_time": "2023-07-28T13:09:30.134Z"
   },
   {
    "duration": 87,
    "start_time": "2023-07-28T13:09:30.159Z"
   },
   {
    "duration": 21,
    "start_time": "2023-07-28T13:09:30.249Z"
   },
   {
    "duration": 49,
    "start_time": "2023-07-28T13:09:30.272Z"
   },
   {
    "duration": 33,
    "start_time": "2023-07-28T13:09:30.324Z"
   },
   {
    "duration": 56,
    "start_time": "2023-07-28T13:09:30.359Z"
   },
   {
    "duration": 45,
    "start_time": "2023-07-28T13:09:30.417Z"
   },
   {
    "duration": 49,
    "start_time": "2023-07-28T13:09:30.464Z"
   },
   {
    "duration": 91,
    "start_time": "2023-07-28T13:09:30.515Z"
   },
   {
    "duration": 29,
    "start_time": "2023-07-28T13:09:30.608Z"
   },
   {
    "duration": 60,
    "start_time": "2023-07-28T13:09:30.641Z"
   },
   {
    "duration": 96,
    "start_time": "2023-07-28T13:09:30.703Z"
   },
   {
    "duration": 86,
    "start_time": "2023-07-28T13:09:30.802Z"
   },
   {
    "duration": 401,
    "start_time": "2023-07-28T13:09:30.890Z"
   },
   {
    "duration": 16,
    "start_time": "2023-07-28T13:09:31.294Z"
   },
   {
    "duration": 45,
    "start_time": "2023-07-28T13:09:31.312Z"
   },
   {
    "duration": 52,
    "start_time": "2023-07-28T13:09:31.359Z"
   },
   {
    "duration": 205,
    "start_time": "2023-07-28T13:09:31.414Z"
   },
   {
    "duration": 172,
    "start_time": "2023-07-28T13:09:31.621Z"
   },
   {
    "duration": 185,
    "start_time": "2023-07-28T13:09:31.796Z"
   },
   {
    "duration": 15,
    "start_time": "2023-07-28T13:09:31.989Z"
   },
   {
    "duration": 208,
    "start_time": "2023-07-28T13:09:32.006Z"
   },
   {
    "duration": 12,
    "start_time": "2023-07-28T13:09:32.216Z"
   },
   {
    "duration": 228,
    "start_time": "2023-07-28T13:09:32.230Z"
   },
   {
    "duration": 28,
    "start_time": "2023-07-28T13:09:32.460Z"
   },
   {
    "duration": 246,
    "start_time": "2023-07-28T13:09:32.490Z"
   },
   {
    "duration": 13,
    "start_time": "2023-07-28T13:09:32.739Z"
   },
   {
    "duration": 133,
    "start_time": "2023-07-28T13:09:32.755Z"
   },
   {
    "duration": 49,
    "start_time": "2023-07-28T13:09:32.894Z"
   },
   {
    "duration": 50,
    "start_time": "2023-07-28T13:09:32.944Z"
   },
   {
    "duration": 13,
    "start_time": "2023-07-28T13:16:32.246Z"
   },
   {
    "duration": 198,
    "start_time": "2023-07-28T13:18:29.504Z"
   },
   {
    "duration": 228,
    "start_time": "2023-07-28T13:20:37.742Z"
   },
   {
    "duration": 205,
    "start_time": "2023-07-28T13:21:22.912Z"
   },
   {
    "duration": 222,
    "start_time": "2023-07-28T13:22:00.208Z"
   },
   {
    "duration": 291,
    "start_time": "2023-07-28T13:22:04.814Z"
   },
   {
    "duration": 183,
    "start_time": "2023-07-28T13:22:14.342Z"
   },
   {
    "duration": 220,
    "start_time": "2023-07-28T13:23:21.111Z"
   },
   {
    "duration": 13,
    "start_time": "2023-07-28T13:23:48.336Z"
   },
   {
    "duration": 9,
    "start_time": "2023-07-28T14:50:46.455Z"
   },
   {
    "duration": 147,
    "start_time": "2023-07-28T14:50:47.909Z"
   },
   {
    "duration": 159,
    "start_time": "2023-07-28T14:51:34.205Z"
   },
   {
    "duration": 191,
    "start_time": "2023-07-28T14:51:46.062Z"
   },
   {
    "duration": 163,
    "start_time": "2023-07-28T14:52:05.301Z"
   },
   {
    "duration": 164,
    "start_time": "2023-07-28T14:52:18.645Z"
   },
   {
    "duration": 209,
    "start_time": "2023-07-28T14:53:22.861Z"
   },
   {
    "duration": 159,
    "start_time": "2023-07-28T14:53:35.405Z"
   },
   {
    "duration": 198,
    "start_time": "2023-07-28T14:53:50.111Z"
   },
   {
    "duration": 277,
    "start_time": "2023-07-28T14:53:59.723Z"
   },
   {
    "duration": 11,
    "start_time": "2023-07-28T14:54:04.460Z"
   },
   {
    "duration": 33,
    "start_time": "2023-07-28T14:59:08.560Z"
   },
   {
    "duration": 99,
    "start_time": "2023-07-28T14:59:17.100Z"
   },
   {
    "duration": 43,
    "start_time": "2023-07-28T15:01:04.700Z"
   },
   {
    "duration": 941,
    "start_time": "2023-07-30T11:41:09.706Z"
   },
   {
    "duration": 3,
    "start_time": "2023-07-30T11:41:10.649Z"
   },
   {
    "duration": 103,
    "start_time": "2023-07-30T11:41:10.653Z"
   },
   {
    "duration": 11,
    "start_time": "2023-07-30T11:41:10.759Z"
   },
   {
    "duration": 82,
    "start_time": "2023-07-30T11:41:10.771Z"
   },
   {
    "duration": 12,
    "start_time": "2023-07-30T11:41:10.854Z"
   },
   {
    "duration": 27,
    "start_time": "2023-07-30T11:41:10.868Z"
   },
   {
    "duration": 59,
    "start_time": "2023-07-30T11:41:10.897Z"
   },
   {
    "duration": 11,
    "start_time": "2023-07-30T11:41:10.957Z"
   },
   {
    "duration": 14,
    "start_time": "2023-07-30T11:41:10.970Z"
   },
   {
    "duration": 14,
    "start_time": "2023-07-30T11:41:10.986Z"
   },
   {
    "duration": 13,
    "start_time": "2023-07-30T11:41:11.002Z"
   },
   {
    "duration": 11,
    "start_time": "2023-07-30T11:41:11.016Z"
   },
   {
    "duration": 9,
    "start_time": "2023-07-30T11:41:11.029Z"
   },
   {
    "duration": 11,
    "start_time": "2023-07-30T11:41:11.040Z"
   },
   {
    "duration": 5,
    "start_time": "2023-07-30T11:41:11.052Z"
   },
   {
    "duration": 515,
    "start_time": "2023-07-30T11:41:11.058Z"
   },
   {
    "duration": 15,
    "start_time": "2023-07-30T11:41:11.575Z"
   },
   {
    "duration": 10,
    "start_time": "2023-07-30T11:41:11.592Z"
   },
   {
    "duration": 8,
    "start_time": "2023-07-30T11:41:11.603Z"
   },
   {
    "duration": 136,
    "start_time": "2023-07-30T11:41:11.612Z"
   },
   {
    "duration": 159,
    "start_time": "2023-07-30T11:41:11.750Z"
   },
   {
    "duration": 161,
    "start_time": "2023-07-30T11:41:11.911Z"
   },
   {
    "duration": 11,
    "start_time": "2023-07-30T11:41:12.073Z"
   },
   {
    "duration": 179,
    "start_time": "2023-07-30T11:41:12.086Z"
   },
   {
    "duration": 11,
    "start_time": "2023-07-30T11:41:12.270Z"
   },
   {
    "duration": 172,
    "start_time": "2023-07-30T11:41:12.283Z"
   },
   {
    "duration": 15,
    "start_time": "2023-07-30T11:41:12.459Z"
   },
   {
    "duration": 160,
    "start_time": "2023-07-30T11:41:12.475Z"
   },
   {
    "duration": 35,
    "start_time": "2023-07-30T11:41:12.637Z"
   },
   {
    "duration": 19,
    "start_time": "2023-07-30T11:41:12.674Z"
   },
   {
    "duration": 16,
    "start_time": "2023-07-30T11:41:12.694Z"
   },
   {
    "duration": 10,
    "start_time": "2023-07-30T11:41:12.712Z"
   },
   {
    "duration": 196,
    "start_time": "2023-07-30T11:41:12.724Z"
   },
   {
    "duration": 10,
    "start_time": "2023-07-30T11:41:12.922Z"
   },
   {
    "duration": 163,
    "start_time": "2023-07-30T11:41:12.934Z"
   },
   {
    "duration": 10,
    "start_time": "2023-07-30T11:41:13.099Z"
   },
   {
    "duration": 230,
    "start_time": "2023-07-30T11:41:13.110Z"
   },
   {
    "duration": 11,
    "start_time": "2023-07-30T11:41:13.342Z"
   },
   {
    "duration": 194,
    "start_time": "2023-07-30T11:41:13.354Z"
   },
   {
    "duration": 53,
    "start_time": "2023-07-30T11:41:13.549Z"
   },
   {
    "duration": 1056,
    "start_time": "2023-07-30T12:54:40.610Z"
   },
   {
    "duration": 3,
    "start_time": "2023-07-30T12:54:41.668Z"
   },
   {
    "duration": 52,
    "start_time": "2023-07-30T12:54:41.672Z"
   },
   {
    "duration": 10,
    "start_time": "2023-07-30T12:54:41.726Z"
   },
   {
    "duration": 42,
    "start_time": "2023-07-30T12:54:41.738Z"
   },
   {
    "duration": 11,
    "start_time": "2023-07-30T12:54:41.782Z"
   },
   {
    "duration": 36,
    "start_time": "2023-07-30T12:54:41.794Z"
   },
   {
    "duration": 19,
    "start_time": "2023-07-30T12:54:41.832Z"
   },
   {
    "duration": 10,
    "start_time": "2023-07-30T12:54:41.852Z"
   },
   {
    "duration": 12,
    "start_time": "2023-07-30T12:54:41.863Z"
   },
   {
    "duration": 13,
    "start_time": "2023-07-30T12:54:41.877Z"
   },
   {
    "duration": 21,
    "start_time": "2023-07-30T12:54:41.891Z"
   },
   {
    "duration": 6,
    "start_time": "2023-07-30T12:54:41.913Z"
   },
   {
    "duration": 5,
    "start_time": "2023-07-30T12:54:41.923Z"
   },
   {
    "duration": 10,
    "start_time": "2023-07-30T12:54:41.930Z"
   },
   {
    "duration": 5,
    "start_time": "2023-07-30T12:54:41.942Z"
   },
   {
    "duration": 323,
    "start_time": "2023-07-30T12:54:41.949Z"
   },
   {
    "duration": 14,
    "start_time": "2023-07-30T12:54:42.274Z"
   },
   {
    "duration": 10,
    "start_time": "2023-07-30T12:54:42.290Z"
   },
   {
    "duration": 10,
    "start_time": "2023-07-30T12:54:42.301Z"
   },
   {
    "duration": 134,
    "start_time": "2023-07-30T12:54:42.312Z"
   },
   {
    "duration": 154,
    "start_time": "2023-07-30T12:54:42.448Z"
   },
   {
    "duration": 152,
    "start_time": "2023-07-30T12:54:42.604Z"
   },
   {
    "duration": 15,
    "start_time": "2023-07-30T12:54:42.758Z"
   },
   {
    "duration": 193,
    "start_time": "2023-07-30T12:54:42.775Z"
   },
   {
    "duration": 10,
    "start_time": "2023-07-30T12:54:42.971Z"
   },
   {
    "duration": 177,
    "start_time": "2023-07-30T12:54:42.983Z"
   },
   {
    "duration": 15,
    "start_time": "2023-07-30T12:54:43.161Z"
   },
   {
    "duration": 171,
    "start_time": "2023-07-30T12:54:43.178Z"
   },
   {
    "duration": 36,
    "start_time": "2023-07-30T12:54:43.350Z"
   },
   {
    "duration": 19,
    "start_time": "2023-07-30T12:54:43.388Z"
   },
   {
    "duration": 21,
    "start_time": "2023-07-30T12:54:43.409Z"
   },
   {
    "duration": 45,
    "start_time": "2023-07-30T12:54:43.431Z"
   },
   {
    "duration": 171,
    "start_time": "2023-07-30T12:54:43.477Z"
   },
   {
    "duration": 10,
    "start_time": "2023-07-30T12:54:43.650Z"
   },
   {
    "duration": 160,
    "start_time": "2023-07-30T12:54:43.671Z"
   },
   {
    "duration": 10,
    "start_time": "2023-07-30T12:54:43.832Z"
   },
   {
    "duration": 161,
    "start_time": "2023-07-30T12:54:43.843Z"
   },
   {
    "duration": 10,
    "start_time": "2023-07-30T12:54:44.005Z"
   },
   {
    "duration": 215,
    "start_time": "2023-07-30T12:54:44.016Z"
   },
   {
    "duration": 54,
    "start_time": "2023-07-30T12:54:44.235Z"
   },
   {
    "duration": 31,
    "start_time": "2023-07-30T13:01:04.744Z"
   },
   {
    "duration": 20,
    "start_time": "2023-07-30T13:01:41.776Z"
   },
   {
    "duration": 27,
    "start_time": "2023-07-30T13:02:11.105Z"
   },
   {
    "duration": 24,
    "start_time": "2023-07-30T13:02:29.948Z"
   },
   {
    "duration": 32,
    "start_time": "2023-07-30T13:04:56.163Z"
   },
   {
    "duration": 96,
    "start_time": "2023-07-30T13:05:52.343Z"
   },
   {
    "duration": 121,
    "start_time": "2023-07-30T13:07:18.590Z"
   },
   {
    "duration": 20,
    "start_time": "2023-07-30T13:07:46.789Z"
   },
   {
    "duration": 45,
    "start_time": "2023-07-30T13:12:45.764Z"
   },
   {
    "duration": 29,
    "start_time": "2023-07-30T13:16:10.599Z"
   },
   {
    "duration": 27,
    "start_time": "2023-07-30T13:16:40.451Z"
   },
   {
    "duration": 33,
    "start_time": "2023-07-30T13:19:28.671Z"
   },
   {
    "duration": 35,
    "start_time": "2023-07-30T13:19:46.951Z"
   },
   {
    "duration": 33,
    "start_time": "2023-07-30T13:19:52.212Z"
   },
   {
    "duration": 24,
    "start_time": "2023-07-30T13:21:14.055Z"
   },
   {
    "duration": 41,
    "start_time": "2023-07-30T13:22:23.796Z"
   },
   {
    "duration": 1168,
    "start_time": "2023-07-30T13:22:43.961Z"
   },
   {
    "duration": 3,
    "start_time": "2023-07-30T13:22:45.131Z"
   },
   {
    "duration": 60,
    "start_time": "2023-07-30T13:22:45.135Z"
   },
   {
    "duration": 11,
    "start_time": "2023-07-30T13:22:45.196Z"
   },
   {
    "duration": 55,
    "start_time": "2023-07-30T13:22:45.209Z"
   },
   {
    "duration": 13,
    "start_time": "2023-07-30T13:22:45.266Z"
   },
   {
    "duration": 32,
    "start_time": "2023-07-30T13:22:45.281Z"
   },
   {
    "duration": 20,
    "start_time": "2023-07-30T13:22:45.315Z"
   },
   {
    "duration": 12,
    "start_time": "2023-07-30T13:22:45.337Z"
   },
   {
    "duration": 26,
    "start_time": "2023-07-30T13:22:45.350Z"
   },
   {
    "duration": 15,
    "start_time": "2023-07-30T13:22:45.378Z"
   },
   {
    "duration": 25,
    "start_time": "2023-07-30T13:22:45.395Z"
   },
   {
    "duration": 27,
    "start_time": "2023-07-30T13:22:45.422Z"
   },
   {
    "duration": 24,
    "start_time": "2023-07-30T13:22:45.453Z"
   },
   {
    "duration": 20,
    "start_time": "2023-07-30T13:22:45.478Z"
   },
   {
    "duration": 19,
    "start_time": "2023-07-30T13:22:45.499Z"
   },
   {
    "duration": 391,
    "start_time": "2023-07-30T13:22:45.519Z"
   },
   {
    "duration": 20,
    "start_time": "2023-07-30T13:22:45.912Z"
   },
   {
    "duration": 70,
    "start_time": "2023-07-30T13:22:45.934Z"
   },
   {
    "duration": 33,
    "start_time": "2023-07-30T13:22:46.006Z"
   },
   {
    "duration": 147,
    "start_time": "2023-07-30T13:22:46.040Z"
   },
   {
    "duration": 212,
    "start_time": "2023-07-30T13:22:46.188Z"
   },
   {
    "duration": 213,
    "start_time": "2023-07-30T13:22:46.403Z"
   },
   {
    "duration": 11,
    "start_time": "2023-07-30T13:22:46.617Z"
   },
   {
    "duration": 203,
    "start_time": "2023-07-30T13:22:46.630Z"
   },
   {
    "duration": 15,
    "start_time": "2023-07-30T13:22:46.835Z"
   },
   {
    "duration": 198,
    "start_time": "2023-07-30T13:22:46.852Z"
   },
   {
    "duration": 19,
    "start_time": "2023-07-30T13:22:47.052Z"
   },
   {
    "duration": 179,
    "start_time": "2023-07-30T13:22:47.075Z"
   },
   {
    "duration": 33,
    "start_time": "2023-07-30T13:22:47.255Z"
   },
   {
    "duration": 24,
    "start_time": "2023-07-30T13:22:47.290Z"
   },
   {
    "duration": 30,
    "start_time": "2023-07-30T13:22:47.316Z"
   },
   {
    "duration": 32,
    "start_time": "2023-07-30T13:22:47.348Z"
   },
   {
    "duration": 223,
    "start_time": "2023-07-30T13:22:47.382Z"
   },
   {
    "duration": 12,
    "start_time": "2023-07-30T13:22:47.608Z"
   },
   {
    "duration": 194,
    "start_time": "2023-07-30T13:22:47.622Z"
   },
   {
    "duration": 11,
    "start_time": "2023-07-30T13:22:47.818Z"
   },
   {
    "duration": 183,
    "start_time": "2023-07-30T13:22:47.831Z"
   },
   {
    "duration": 11,
    "start_time": "2023-07-30T13:22:48.016Z"
   },
   {
    "duration": 203,
    "start_time": "2023-07-30T13:22:48.029Z"
   },
   {
    "duration": 47,
    "start_time": "2023-07-30T13:22:48.235Z"
   },
   {
    "duration": 126,
    "start_time": "2023-07-30T13:29:32.206Z"
   },
   {
    "duration": 12,
    "start_time": "2023-07-30T13:29:40.496Z"
   },
   {
    "duration": 16,
    "start_time": "2023-07-30T13:34:55.787Z"
   },
   {
    "duration": 14,
    "start_time": "2023-07-30T13:35:54.010Z"
   },
   {
    "duration": 13,
    "start_time": "2023-07-30T13:36:29.609Z"
   },
   {
    "duration": 1904,
    "start_time": "2023-07-30T13:39:47.911Z"
   },
   {
    "duration": 1933,
    "start_time": "2023-07-30T13:40:12.543Z"
   },
   {
    "duration": 14,
    "start_time": "2023-07-30T13:40:47.511Z"
   },
   {
    "duration": 15,
    "start_time": "2023-07-30T13:40:58.856Z"
   },
   {
    "duration": 1797,
    "start_time": "2023-07-30T13:41:05.960Z"
   },
   {
    "duration": 1573,
    "start_time": "2023-07-30T13:41:14.043Z"
   },
   {
    "duration": 266,
    "start_time": "2023-07-30T13:52:27.585Z"
   },
   {
    "duration": 366,
    "start_time": "2023-07-30T13:52:41.288Z"
   },
   {
    "duration": 402,
    "start_time": "2023-07-30T13:53:52.206Z"
   },
   {
    "duration": 16,
    "start_time": "2023-07-30T13:54:36.752Z"
   },
   {
    "duration": 15,
    "start_time": "2023-07-30T13:54:43.076Z"
   },
   {
    "duration": 1127,
    "start_time": "2023-07-30T13:54:50.045Z"
   },
   {
    "duration": 4,
    "start_time": "2023-07-30T13:54:51.175Z"
   },
   {
    "duration": 131,
    "start_time": "2023-07-30T13:54:51.181Z"
   },
   {
    "duration": 18,
    "start_time": "2023-07-30T13:54:51.314Z"
   },
   {
    "duration": 56,
    "start_time": "2023-07-30T13:54:51.336Z"
   },
   {
    "duration": 13,
    "start_time": "2023-07-30T13:54:51.394Z"
   },
   {
    "duration": 23,
    "start_time": "2023-07-30T13:54:51.409Z"
   },
   {
    "duration": 40,
    "start_time": "2023-07-30T13:54:51.434Z"
   },
   {
    "duration": 42,
    "start_time": "2023-07-30T13:54:51.476Z"
   },
   {
    "duration": 33,
    "start_time": "2023-07-30T13:54:51.522Z"
   },
   {
    "duration": 40,
    "start_time": "2023-07-30T13:54:51.558Z"
   },
   {
    "duration": 48,
    "start_time": "2023-07-30T13:54:51.601Z"
   },
   {
    "duration": 8,
    "start_time": "2023-07-30T13:54:51.651Z"
   },
   {
    "duration": 41,
    "start_time": "2023-07-30T13:54:51.664Z"
   },
   {
    "duration": 29,
    "start_time": "2023-07-30T13:54:51.707Z"
   },
   {
    "duration": 44,
    "start_time": "2023-07-30T13:54:51.738Z"
   },
   {
    "duration": 389,
    "start_time": "2023-07-30T13:54:51.784Z"
   },
   {
    "duration": 17,
    "start_time": "2023-07-30T13:54:52.175Z"
   },
   {
    "duration": 17,
    "start_time": "2023-07-30T13:54:52.194Z"
   },
   {
    "duration": 11,
    "start_time": "2023-07-30T13:54:52.213Z"
   },
   {
    "duration": 217,
    "start_time": "2023-07-30T13:54:52.226Z"
   },
   {
    "duration": 269,
    "start_time": "2023-07-30T13:54:52.447Z"
   },
   {
    "duration": 233,
    "start_time": "2023-07-30T13:54:52.718Z"
   },
   {
    "duration": 19,
    "start_time": "2023-07-30T13:54:52.953Z"
   },
   {
    "duration": 218,
    "start_time": "2023-07-30T13:54:52.974Z"
   },
   {
    "duration": 14,
    "start_time": "2023-07-30T13:54:53.195Z"
   },
   {
    "duration": 196,
    "start_time": "2023-07-30T13:54:53.211Z"
   },
   {
    "duration": 13,
    "start_time": "2023-07-30T13:54:53.409Z"
   },
   {
    "duration": 267,
    "start_time": "2023-07-30T13:54:53.424Z"
   },
   {
    "duration": 42,
    "start_time": "2023-07-30T13:54:53.694Z"
   },
   {
    "duration": 38,
    "start_time": "2023-07-30T13:54:53.738Z"
   },
   {
    "duration": 24,
    "start_time": "2023-07-30T13:54:53.778Z"
   },
   {
    "duration": 17,
    "start_time": "2023-07-30T13:54:53.804Z"
   },
   {
    "duration": 304,
    "start_time": "2023-07-30T13:54:53.824Z"
   },
   {
    "duration": 15,
    "start_time": "2023-07-30T13:54:54.131Z"
   },
   {
    "duration": 256,
    "start_time": "2023-07-30T13:54:54.148Z"
   },
   {
    "duration": 13,
    "start_time": "2023-07-30T13:54:54.407Z"
   },
   {
    "duration": 206,
    "start_time": "2023-07-30T13:54:54.423Z"
   },
   {
    "duration": 20,
    "start_time": "2023-07-30T13:54:54.632Z"
   },
   {
    "duration": 230,
    "start_time": "2023-07-30T13:54:54.654Z"
   },
   {
    "duration": 53,
    "start_time": "2023-07-30T13:54:54.891Z"
   },
   {
    "duration": 5,
    "start_time": "2023-07-30T13:55:26.901Z"
   },
   {
    "duration": 33,
    "start_time": "2023-07-30T13:55:27.748Z"
   },
   {
    "duration": 18,
    "start_time": "2023-07-30T14:00:12.876Z"
   },
   {
    "duration": 14,
    "start_time": "2023-07-30T14:06:37.486Z"
   },
   {
    "duration": 5,
    "start_time": "2023-07-30T14:06:38.767Z"
   },
   {
    "duration": 65,
    "start_time": "2023-07-30T14:06:38.775Z"
   },
   {
    "duration": 498,
    "start_time": "2023-07-30T14:11:43.183Z"
   },
   {
    "duration": 596,
    "start_time": "2023-07-30T14:21:53.276Z"
   },
   {
    "duration": 114,
    "start_time": "2023-07-30T14:24:18.698Z"
   },
   {
    "duration": 344,
    "start_time": "2023-07-30T14:24:28.097Z"
   },
   {
    "duration": 385,
    "start_time": "2023-07-30T14:25:50.180Z"
   },
   {
    "duration": 349,
    "start_time": "2023-07-30T14:25:58.496Z"
   },
   {
    "duration": 340,
    "start_time": "2023-07-30T14:29:05.751Z"
   },
   {
    "duration": 412,
    "start_time": "2023-07-30T14:29:14.694Z"
   },
   {
    "duration": 446,
    "start_time": "2023-07-30T14:29:40.251Z"
   },
   {
    "duration": 2517,
    "start_time": "2023-07-30T14:30:01.670Z"
   },
   {
    "duration": 347,
    "start_time": "2023-07-30T14:30:24.063Z"
   },
   {
    "duration": 590,
    "start_time": "2023-07-30T14:30:38.005Z"
   },
   {
    "duration": 63,
    "start_time": "2023-07-30T14:31:41.468Z"
   },
   {
    "duration": 15,
    "start_time": "2023-07-30T14:32:38.526Z"
   },
   {
    "duration": 5,
    "start_time": "2023-07-30T14:36:12.860Z"
   },
   {
    "duration": 136,
    "start_time": "2023-07-30T14:36:55.611Z"
   },
   {
    "duration": 76,
    "start_time": "2023-07-30T14:39:30.184Z"
   },
   {
    "duration": 16,
    "start_time": "2023-07-30T14:41:18.147Z"
   },
   {
    "duration": 67,
    "start_time": "2023-07-30T14:45:43.864Z"
   },
   {
    "duration": 92,
    "start_time": "2023-07-30T14:45:52.092Z"
   },
   {
    "duration": 49,
    "start_time": "2023-07-30T14:46:57.477Z"
   },
   {
    "duration": 77,
    "start_time": "2023-07-30T14:47:03.756Z"
   },
   {
    "duration": 102,
    "start_time": "2023-07-30T14:47:08.316Z"
   },
   {
    "duration": 97,
    "start_time": "2023-07-30T14:48:17.456Z"
   },
   {
    "duration": 12,
    "start_time": "2023-07-30T14:49:26.698Z"
   },
   {
    "duration": 12,
    "start_time": "2023-07-30T14:49:35.307Z"
   },
   {
    "duration": 28,
    "start_time": "2023-07-30T14:49:46.594Z"
   },
   {
    "duration": 19,
    "start_time": "2023-07-30T14:51:16.848Z"
   },
   {
    "duration": 1114,
    "start_time": "2023-07-30T14:51:43.200Z"
   },
   {
    "duration": 3,
    "start_time": "2023-07-30T14:51:44.315Z"
   },
   {
    "duration": 57,
    "start_time": "2023-07-30T14:51:44.320Z"
   },
   {
    "duration": 15,
    "start_time": "2023-07-30T14:51:44.380Z"
   },
   {
    "duration": 44,
    "start_time": "2023-07-30T14:51:44.397Z"
   },
   {
    "duration": 13,
    "start_time": "2023-07-30T14:51:44.443Z"
   },
   {
    "duration": 33,
    "start_time": "2023-07-30T14:51:44.459Z"
   },
   {
    "duration": 23,
    "start_time": "2023-07-30T14:51:44.494Z"
   },
   {
    "duration": 12,
    "start_time": "2023-07-30T14:51:44.520Z"
   },
   {
    "duration": 10,
    "start_time": "2023-07-30T14:51:44.536Z"
   },
   {
    "duration": 33,
    "start_time": "2023-07-30T14:51:44.548Z"
   },
   {
    "duration": 17,
    "start_time": "2023-07-30T14:51:44.583Z"
   },
   {
    "duration": 8,
    "start_time": "2023-07-30T14:51:44.602Z"
   },
   {
    "duration": 11,
    "start_time": "2023-07-30T14:51:44.612Z"
   },
   {
    "duration": 17,
    "start_time": "2023-07-30T14:51:44.624Z"
   },
   {
    "duration": 5,
    "start_time": "2023-07-30T14:51:44.670Z"
   },
   {
    "duration": 365,
    "start_time": "2023-07-30T14:51:44.677Z"
   },
   {
    "duration": 32,
    "start_time": "2023-07-30T14:51:45.044Z"
   },
   {
    "duration": 12,
    "start_time": "2023-07-30T14:51:45.078Z"
   },
   {
    "duration": 22,
    "start_time": "2023-07-30T14:51:45.092Z"
   },
   {
    "duration": 135,
    "start_time": "2023-07-30T14:51:45.116Z"
   },
   {
    "duration": 180,
    "start_time": "2023-07-30T14:51:45.253Z"
   },
   {
    "duration": 176,
    "start_time": "2023-07-30T14:51:45.435Z"
   },
   {
    "duration": 11,
    "start_time": "2023-07-30T14:51:45.612Z"
   },
   {
    "duration": 291,
    "start_time": "2023-07-30T14:51:45.625Z"
   },
   {
    "duration": 12,
    "start_time": "2023-07-30T14:51:45.918Z"
   },
   {
    "duration": 255,
    "start_time": "2023-07-30T14:51:45.933Z"
   },
   {
    "duration": 12,
    "start_time": "2023-07-30T14:51:46.192Z"
   },
   {
    "duration": 272,
    "start_time": "2023-07-30T14:51:46.206Z"
   },
   {
    "duration": 41,
    "start_time": "2023-07-30T14:51:46.480Z"
   },
   {
    "duration": 29,
    "start_time": "2023-07-30T14:51:46.523Z"
   },
   {
    "duration": 61,
    "start_time": "2023-07-30T14:51:46.554Z"
   },
   {
    "duration": 23,
    "start_time": "2023-07-30T14:51:46.618Z"
   },
   {
    "duration": 181,
    "start_time": "2023-07-30T14:51:46.642Z"
   },
   {
    "duration": 17,
    "start_time": "2023-07-30T14:51:46.827Z"
   },
   {
    "duration": 182,
    "start_time": "2023-07-30T14:51:46.846Z"
   },
   {
    "duration": 12,
    "start_time": "2023-07-30T14:51:47.030Z"
   },
   {
    "duration": 171,
    "start_time": "2023-07-30T14:51:47.045Z"
   },
   {
    "duration": 12,
    "start_time": "2023-07-30T14:51:47.219Z"
   },
   {
    "duration": 209,
    "start_time": "2023-07-30T14:51:47.233Z"
   },
   {
    "duration": 28,
    "start_time": "2023-07-30T14:51:47.444Z"
   },
   {
    "duration": 9,
    "start_time": "2023-07-30T14:51:47.474Z"
   },
   {
    "duration": 16,
    "start_time": "2023-07-30T14:51:47.485Z"
   },
   {
    "duration": 179,
    "start_time": "2023-07-30T14:51:47.503Z"
   },
   {
    "duration": 17,
    "start_time": "2023-07-30T14:51:47.683Z"
   },
   {
    "duration": 19,
    "start_time": "2023-07-30T14:52:39.312Z"
   },
   {
    "duration": 28,
    "start_time": "2023-07-30T14:55:03.157Z"
   },
   {
    "duration": 112,
    "start_time": "2023-07-30T15:00:00.702Z"
   },
   {
    "duration": 1442,
    "start_time": "2023-07-30T15:04:11.182Z"
   },
   {
    "duration": 2003,
    "start_time": "2023-07-30T15:05:06.594Z"
   },
   {
    "duration": 90,
    "start_time": "2023-07-30T15:05:16.170Z"
   },
   {
    "duration": 1633,
    "start_time": "2023-07-30T15:05:20.906Z"
   },
   {
    "duration": 71,
    "start_time": "2023-07-30T15:06:06.120Z"
   },
   {
    "duration": 1430,
    "start_time": "2023-07-30T15:06:19.322Z"
   },
   {
    "duration": 14,
    "start_time": "2023-07-30T15:07:04.720Z"
   },
   {
    "duration": 1659,
    "start_time": "2023-07-30T15:11:58.686Z"
   },
   {
    "duration": 1012,
    "start_time": "2023-07-30T15:12:21.092Z"
   },
   {
    "duration": 3,
    "start_time": "2023-07-30T15:12:22.107Z"
   },
   {
    "duration": 91,
    "start_time": "2023-07-30T15:12:22.112Z"
   },
   {
    "duration": 13,
    "start_time": "2023-07-30T15:12:22.205Z"
   },
   {
    "duration": 62,
    "start_time": "2023-07-30T15:12:22.221Z"
   },
   {
    "duration": 15,
    "start_time": "2023-07-30T15:12:22.285Z"
   },
   {
    "duration": 49,
    "start_time": "2023-07-30T15:12:22.302Z"
   },
   {
    "duration": 24,
    "start_time": "2023-07-30T15:12:22.353Z"
   },
   {
    "duration": 14,
    "start_time": "2023-07-30T15:12:22.380Z"
   },
   {
    "duration": 60,
    "start_time": "2023-07-30T15:12:22.395Z"
   },
   {
    "duration": 62,
    "start_time": "2023-07-30T15:12:22.457Z"
   },
   {
    "duration": 33,
    "start_time": "2023-07-30T15:12:22.521Z"
   },
   {
    "duration": 34,
    "start_time": "2023-07-30T15:12:22.556Z"
   },
   {
    "duration": 64,
    "start_time": "2023-07-30T15:12:22.594Z"
   },
   {
    "duration": 58,
    "start_time": "2023-07-30T15:12:22.660Z"
   },
   {
    "duration": 28,
    "start_time": "2023-07-30T15:12:22.720Z"
   },
   {
    "duration": 360,
    "start_time": "2023-07-30T15:12:22.750Z"
   },
   {
    "duration": 14,
    "start_time": "2023-07-30T15:12:23.112Z"
   },
   {
    "duration": 19,
    "start_time": "2023-07-30T15:12:23.128Z"
   },
   {
    "duration": 30,
    "start_time": "2023-07-30T15:12:23.148Z"
   },
   {
    "duration": 129,
    "start_time": "2023-07-30T15:12:23.179Z"
   },
   {
    "duration": 161,
    "start_time": "2023-07-30T15:12:23.310Z"
   },
   {
    "duration": 163,
    "start_time": "2023-07-30T15:12:23.473Z"
   },
   {
    "duration": 11,
    "start_time": "2023-07-30T15:12:23.638Z"
   },
   {
    "duration": 212,
    "start_time": "2023-07-30T15:12:23.651Z"
   },
   {
    "duration": 12,
    "start_time": "2023-07-30T15:12:23.865Z"
   },
   {
    "duration": 185,
    "start_time": "2023-07-30T15:12:23.879Z"
   },
   {
    "duration": 14,
    "start_time": "2023-07-30T15:12:24.066Z"
   },
   {
    "duration": 182,
    "start_time": "2023-07-30T15:12:24.082Z"
   },
   {
    "duration": 28,
    "start_time": "2023-07-30T15:12:24.270Z"
   },
   {
    "duration": 20,
    "start_time": "2023-07-30T15:12:24.300Z"
   },
   {
    "duration": 23,
    "start_time": "2023-07-30T15:12:24.321Z"
   },
   {
    "duration": 14,
    "start_time": "2023-07-30T15:12:24.370Z"
   },
   {
    "duration": 222,
    "start_time": "2023-07-30T15:12:24.386Z"
   },
   {
    "duration": 16,
    "start_time": "2023-07-30T15:12:24.611Z"
   },
   {
    "duration": 239,
    "start_time": "2023-07-30T15:12:24.629Z"
   },
   {
    "duration": 16,
    "start_time": "2023-07-30T15:12:24.870Z"
   },
   {
    "duration": 179,
    "start_time": "2023-07-30T15:12:24.888Z"
   },
   {
    "duration": 13,
    "start_time": "2023-07-30T15:12:25.071Z"
   },
   {
    "duration": 215,
    "start_time": "2023-07-30T15:12:25.086Z"
   },
   {
    "duration": 25,
    "start_time": "2023-07-30T15:12:25.306Z"
   },
   {
    "duration": 3,
    "start_time": "2023-07-30T15:12:25.334Z"
   },
   {
    "duration": 22,
    "start_time": "2023-07-30T15:12:25.339Z"
   },
   {
    "duration": 176,
    "start_time": "2023-07-30T15:12:25.370Z"
   },
   {
    "duration": 23,
    "start_time": "2023-07-30T15:12:25.548Z"
   },
   {
    "duration": 1562,
    "start_time": "2023-07-30T15:12:25.573Z"
   },
   {
    "duration": 271,
    "start_time": "2023-07-30T15:13:05.964Z"
   },
   {
    "duration": 4,
    "start_time": "2023-07-30T15:38:29.691Z"
   },
   {
    "duration": 5,
    "start_time": "2023-07-30T15:38:44.852Z"
   },
   {
    "duration": 16,
    "start_time": "2023-07-30T15:40:18.864Z"
   },
   {
    "duration": 1226,
    "start_time": "2023-07-30T15:41:55.037Z"
   },
   {
    "duration": 3,
    "start_time": "2023-07-30T15:41:56.266Z"
   },
   {
    "duration": 80,
    "start_time": "2023-07-30T15:41:56.271Z"
   },
   {
    "duration": 14,
    "start_time": "2023-07-30T15:41:56.354Z"
   },
   {
    "duration": 76,
    "start_time": "2023-07-30T15:41:56.371Z"
   },
   {
    "duration": 13,
    "start_time": "2023-07-30T15:41:56.449Z"
   },
   {
    "duration": 47,
    "start_time": "2023-07-30T15:41:56.464Z"
   },
   {
    "duration": 37,
    "start_time": "2023-07-30T15:41:56.513Z"
   },
   {
    "duration": 14,
    "start_time": "2023-07-30T15:41:56.552Z"
   },
   {
    "duration": 38,
    "start_time": "2023-07-30T15:41:56.568Z"
   },
   {
    "duration": 15,
    "start_time": "2023-07-30T15:41:56.608Z"
   },
   {
    "duration": 10,
    "start_time": "2023-07-30T15:41:56.625Z"
   },
   {
    "duration": 6,
    "start_time": "2023-07-30T15:41:56.637Z"
   },
   {
    "duration": 7,
    "start_time": "2023-07-30T15:41:56.648Z"
   },
   {
    "duration": 10,
    "start_time": "2023-07-30T15:41:56.657Z"
   },
   {
    "duration": 5,
    "start_time": "2023-07-30T15:41:56.671Z"
   },
   {
    "duration": 360,
    "start_time": "2023-07-30T15:41:56.678Z"
   },
   {
    "duration": 20,
    "start_time": "2023-07-30T15:41:57.040Z"
   },
   {
    "duration": 20,
    "start_time": "2023-07-30T15:41:57.062Z"
   },
   {
    "duration": 20,
    "start_time": "2023-07-30T15:41:57.084Z"
   },
   {
    "duration": 132,
    "start_time": "2023-07-30T15:41:57.107Z"
   },
   {
    "duration": 186,
    "start_time": "2023-07-30T15:41:57.240Z"
   },
   {
    "duration": 168,
    "start_time": "2023-07-30T15:41:57.427Z"
   },
   {
    "duration": 11,
    "start_time": "2023-07-30T15:41:57.597Z"
   },
   {
    "duration": 209,
    "start_time": "2023-07-30T15:41:57.610Z"
   },
   {
    "duration": 11,
    "start_time": "2023-07-30T15:41:57.820Z"
   },
   {
    "duration": 222,
    "start_time": "2023-07-30T15:41:57.833Z"
   },
   {
    "duration": 23,
    "start_time": "2023-07-30T15:41:58.056Z"
   },
   {
    "duration": 187,
    "start_time": "2023-07-30T15:41:58.081Z"
   },
   {
    "duration": 33,
    "start_time": "2023-07-30T15:41:58.271Z"
   },
   {
    "duration": 18,
    "start_time": "2023-07-30T15:41:58.306Z"
   },
   {
    "duration": 3,
    "start_time": "2023-07-30T15:41:58.325Z"
   },
   {
    "duration": 51,
    "start_time": "2023-07-30T15:41:58.330Z"
   },
   {
    "duration": 20,
    "start_time": "2023-07-30T15:41:58.384Z"
   },
   {
    "duration": 10,
    "start_time": "2023-07-30T15:41:58.406Z"
   },
   {
    "duration": 208,
    "start_time": "2023-07-30T15:41:58.418Z"
   },
   {
    "duration": 9,
    "start_time": "2023-07-30T15:41:58.628Z"
   },
   {
    "duration": 190,
    "start_time": "2023-07-30T15:41:58.639Z"
   },
   {
    "duration": 17,
    "start_time": "2023-07-30T15:41:58.831Z"
   },
   {
    "duration": 182,
    "start_time": "2023-07-30T15:41:58.850Z"
   },
   {
    "duration": 10,
    "start_time": "2023-07-30T15:41:59.036Z"
   },
   {
    "duration": 219,
    "start_time": "2023-07-30T15:41:59.047Z"
   },
   {
    "duration": 7,
    "start_time": "2023-07-30T15:41:59.268Z"
   },
   {
    "duration": 170,
    "start_time": "2023-07-30T15:41:59.276Z"
   },
   {
    "duration": 234,
    "start_time": "2023-07-30T15:41:59.447Z"
   },
   {
    "duration": 2,
    "start_time": "2023-07-30T15:41:59.683Z"
   },
   {
    "duration": 36,
    "start_time": "2023-07-30T15:41:59.688Z"
   },
   {
    "duration": 11,
    "start_time": "2023-07-30T15:52:14.714Z"
   },
   {
    "duration": 9,
    "start_time": "2023-07-30T15:52:35.016Z"
   },
   {
    "duration": 9,
    "start_time": "2023-07-30T15:54:09.839Z"
   },
   {
    "duration": 12,
    "start_time": "2023-07-30T15:56:02.414Z"
   },
   {
    "duration": 5,
    "start_time": "2023-07-30T15:57:27.460Z"
   },
   {
    "duration": 5,
    "start_time": "2023-07-30T15:57:41.005Z"
   },
   {
    "duration": 9,
    "start_time": "2023-07-30T16:04:09.540Z"
   },
   {
    "duration": 123,
    "start_time": "2023-07-30T16:41:42.841Z"
   },
   {
    "duration": 178,
    "start_time": "2023-07-30T16:41:47.303Z"
   },
   {
    "duration": 179,
    "start_time": "2023-07-30T16:42:03.136Z"
   },
   {
    "duration": 180,
    "start_time": "2023-07-30T16:48:36.108Z"
   },
   {
    "duration": 20,
    "start_time": "2023-07-30T16:48:44.708Z"
   },
   {
    "duration": 23,
    "start_time": "2023-07-30T16:49:41.483Z"
   },
   {
    "duration": 6,
    "start_time": "2023-07-30T16:54:35.048Z"
   },
   {
    "duration": 12,
    "start_time": "2023-07-30T17:01:00.717Z"
   },
   {
    "duration": 5,
    "start_time": "2023-07-30T17:03:37.558Z"
   },
   {
    "duration": 15,
    "start_time": "2023-07-30T17:04:48.510Z"
   },
   {
    "duration": 10,
    "start_time": "2023-07-30T17:04:50.851Z"
   },
   {
    "duration": 16,
    "start_time": "2023-07-30T17:07:06.997Z"
   },
   {
    "duration": 5,
    "start_time": "2023-07-30T17:07:08.444Z"
   },
   {
    "duration": 7,
    "start_time": "2023-07-30T17:07:22.055Z"
   },
   {
    "duration": 5,
    "start_time": "2023-07-30T17:07:23.152Z"
   },
   {
    "duration": 8,
    "start_time": "2023-07-30T17:07:27.989Z"
   },
   {
    "duration": 18,
    "start_time": "2023-07-30T17:07:29.779Z"
   },
   {
    "duration": 7,
    "start_time": "2023-07-30T17:07:44.309Z"
   },
   {
    "duration": 7,
    "start_time": "2023-07-30T17:07:57.040Z"
   },
   {
    "duration": 8,
    "start_time": "2023-07-30T17:09:41.237Z"
   },
   {
    "duration": 7,
    "start_time": "2023-07-30T17:09:47.409Z"
   },
   {
    "duration": 11,
    "start_time": "2023-07-30T17:09:53.541Z"
   },
   {
    "duration": 7,
    "start_time": "2023-07-30T17:12:14.757Z"
   },
   {
    "duration": 7,
    "start_time": "2023-07-30T17:13:43.436Z"
   },
   {
    "duration": 7,
    "start_time": "2023-07-30T17:15:45.107Z"
   },
   {
    "duration": 7,
    "start_time": "2023-07-30T17:15:51.397Z"
   },
   {
    "duration": 22,
    "start_time": "2023-07-30T17:27:33.258Z"
   },
   {
    "duration": 23,
    "start_time": "2023-07-30T17:27:56.693Z"
   },
   {
    "duration": 10,
    "start_time": "2023-07-30T17:28:06.010Z"
   },
   {
    "duration": 9,
    "start_time": "2023-07-30T17:32:05.842Z"
   },
   {
    "duration": 6,
    "start_time": "2023-07-30T17:32:24.855Z"
   },
   {
    "duration": 8,
    "start_time": "2023-07-30T17:40:51.713Z"
   },
   {
    "duration": 7,
    "start_time": "2023-07-30T17:40:56.739Z"
   },
   {
    "duration": 7,
    "start_time": "2023-07-30T18:03:42.849Z"
   },
   {
    "duration": 6,
    "start_time": "2023-07-30T18:03:57.338Z"
   },
   {
    "duration": 6,
    "start_time": "2023-07-30T18:04:11.722Z"
   },
   {
    "duration": 7,
    "start_time": "2023-07-30T18:04:18.837Z"
   },
   {
    "duration": 1053,
    "start_time": "2023-07-31T10:07:13.782Z"
   },
   {
    "duration": 3,
    "start_time": "2023-07-31T10:07:14.837Z"
   },
   {
    "duration": 146,
    "start_time": "2023-07-31T10:07:14.841Z"
   },
   {
    "duration": 14,
    "start_time": "2023-07-31T10:07:14.990Z"
   },
   {
    "duration": 241,
    "start_time": "2023-07-31T10:07:15.006Z"
   },
   {
    "duration": 12,
    "start_time": "2023-07-31T10:07:15.249Z"
   },
   {
    "duration": 41,
    "start_time": "2023-07-31T10:07:15.263Z"
   },
   {
    "duration": 63,
    "start_time": "2023-07-31T10:07:15.306Z"
   },
   {
    "duration": 20,
    "start_time": "2023-07-31T10:07:15.372Z"
   },
   {
    "duration": 29,
    "start_time": "2023-07-31T10:07:15.394Z"
   },
   {
    "duration": 43,
    "start_time": "2023-07-31T10:07:15.426Z"
   },
   {
    "duration": 48,
    "start_time": "2023-07-31T10:07:15.470Z"
   },
   {
    "duration": 24,
    "start_time": "2023-07-31T10:07:15.519Z"
   },
   {
    "duration": 44,
    "start_time": "2023-07-31T10:07:15.547Z"
   },
   {
    "duration": 28,
    "start_time": "2023-07-31T10:07:15.593Z"
   },
   {
    "duration": 23,
    "start_time": "2023-07-31T10:07:15.622Z"
   },
   {
    "duration": 596,
    "start_time": "2023-07-31T10:07:15.646Z"
   },
   {
    "duration": 15,
    "start_time": "2023-07-31T10:07:16.244Z"
   },
   {
    "duration": 29,
    "start_time": "2023-07-31T10:07:16.262Z"
   },
   {
    "duration": 5,
    "start_time": "2023-07-31T10:07:16.294Z"
   },
   {
    "duration": 144,
    "start_time": "2023-07-31T10:07:16.301Z"
   },
   {
    "duration": 168,
    "start_time": "2023-07-31T10:07:16.446Z"
   },
   {
    "duration": 162,
    "start_time": "2023-07-31T10:07:16.615Z"
   },
   {
    "duration": 19,
    "start_time": "2023-07-31T10:07:16.780Z"
   },
   {
    "duration": 232,
    "start_time": "2023-07-31T10:07:16.801Z"
   },
   {
    "duration": 10,
    "start_time": "2023-07-31T10:07:17.035Z"
   },
   {
    "duration": 200,
    "start_time": "2023-07-31T10:07:17.047Z"
   },
   {
    "duration": 11,
    "start_time": "2023-07-31T10:07:17.248Z"
   },
   {
    "duration": 197,
    "start_time": "2023-07-31T10:07:17.260Z"
   },
   {
    "duration": 32,
    "start_time": "2023-07-31T10:07:17.458Z"
   },
   {
    "duration": 21,
    "start_time": "2023-07-31T10:07:17.492Z"
   },
   {
    "duration": 5,
    "start_time": "2023-07-31T10:07:17.515Z"
   },
   {
    "duration": 31,
    "start_time": "2023-07-31T10:07:17.522Z"
   },
   {
    "duration": 30,
    "start_time": "2023-07-31T10:07:17.555Z"
   },
   {
    "duration": 22,
    "start_time": "2023-07-31T10:07:17.587Z"
   },
   {
    "duration": 207,
    "start_time": "2023-07-31T10:07:17.612Z"
   },
   {
    "duration": 9,
    "start_time": "2023-07-31T10:07:17.822Z"
   },
   {
    "duration": 189,
    "start_time": "2023-07-31T10:07:17.833Z"
   },
   {
    "duration": 13,
    "start_time": "2023-07-31T10:07:18.024Z"
   },
   {
    "duration": 323,
    "start_time": "2023-07-31T10:07:18.040Z"
   },
   {
    "duration": 18,
    "start_time": "2023-07-31T10:07:18.366Z"
   },
   {
    "duration": 203,
    "start_time": "2023-07-31T10:07:18.391Z"
   },
   {
    "duration": 4,
    "start_time": "2023-07-31T10:07:18.597Z"
   },
   {
    "duration": 78,
    "start_time": "2023-07-31T10:07:18.603Z"
   },
   {
    "duration": 220,
    "start_time": "2023-07-31T10:07:18.685Z"
   },
   {
    "duration": 5,
    "start_time": "2023-07-31T10:07:18.907Z"
   },
   {
    "duration": 29,
    "start_time": "2023-07-31T10:07:18.914Z"
   },
   {
    "duration": 5,
    "start_time": "2023-07-31T10:12:02.559Z"
   },
   {
    "duration": 118,
    "start_time": "2023-07-31T10:17:35.180Z"
   },
   {
    "duration": 16,
    "start_time": "2023-07-31T10:18:09.650Z"
   },
   {
    "duration": 16,
    "start_time": "2023-07-31T10:18:54.812Z"
   },
   {
    "duration": 7,
    "start_time": "2023-07-31T10:26:41.160Z"
   },
   {
    "duration": 4,
    "start_time": "2023-07-31T10:27:22.821Z"
   },
   {
    "duration": 6,
    "start_time": "2023-07-31T10:27:27.387Z"
   },
   {
    "duration": 152,
    "start_time": "2023-07-31T11:33:48.888Z"
   },
   {
    "duration": 164,
    "start_time": "2023-07-31T11:34:04.891Z"
   },
   {
    "duration": 10,
    "start_time": "2023-07-31T11:54:35.577Z"
   },
   {
    "duration": 9,
    "start_time": "2023-07-31T11:54:48.097Z"
   },
   {
    "duration": 6,
    "start_time": "2023-07-31T11:55:03.052Z"
   },
   {
    "duration": 5,
    "start_time": "2023-07-31T11:55:29.547Z"
   },
   {
    "duration": 5,
    "start_time": "2023-07-31T11:55:35.651Z"
   },
   {
    "duration": 5,
    "start_time": "2023-07-31T12:04:36.810Z"
   },
   {
    "duration": 6,
    "start_time": "2023-07-31T12:04:56.216Z"
   },
   {
    "duration": 5,
    "start_time": "2023-07-31T12:10:32.399Z"
   },
   {
    "duration": 4,
    "start_time": "2023-07-31T12:10:34.251Z"
   },
   {
    "duration": 1165,
    "start_time": "2023-07-31T12:21:24.101Z"
   },
   {
    "duration": 3,
    "start_time": "2023-07-31T12:21:25.269Z"
   },
   {
    "duration": 62,
    "start_time": "2023-07-31T12:21:25.276Z"
   },
   {
    "duration": 26,
    "start_time": "2023-07-31T12:21:25.341Z"
   },
   {
    "duration": 53,
    "start_time": "2023-07-31T12:21:25.369Z"
   },
   {
    "duration": 11,
    "start_time": "2023-07-31T12:21:25.423Z"
   },
   {
    "duration": 24,
    "start_time": "2023-07-31T12:21:25.436Z"
   },
   {
    "duration": 49,
    "start_time": "2023-07-31T12:21:25.462Z"
   },
   {
    "duration": 10,
    "start_time": "2023-07-31T12:21:25.513Z"
   },
   {
    "duration": 19,
    "start_time": "2023-07-31T12:21:25.525Z"
   },
   {
    "duration": 52,
    "start_time": "2023-07-31T12:21:25.546Z"
   },
   {
    "duration": 21,
    "start_time": "2023-07-31T12:21:25.600Z"
   },
   {
    "duration": 36,
    "start_time": "2023-07-31T12:21:25.623Z"
   },
   {
    "duration": 25,
    "start_time": "2023-07-31T12:21:25.662Z"
   },
   {
    "duration": 25,
    "start_time": "2023-07-31T12:21:25.689Z"
   },
   {
    "duration": 10,
    "start_time": "2023-07-31T12:21:25.716Z"
   },
   {
    "duration": 185,
    "start_time": "2023-07-31T12:21:25.728Z"
   },
   {
    "duration": 15,
    "start_time": "2023-07-31T12:21:25.915Z"
   },
   {
    "duration": 14,
    "start_time": "2023-07-31T12:21:25.933Z"
   },
   {
    "duration": 16,
    "start_time": "2023-07-31T12:21:25.949Z"
   },
   {
    "duration": 151,
    "start_time": "2023-07-31T12:21:25.967Z"
   },
   {
    "duration": 188,
    "start_time": "2023-07-31T12:21:26.120Z"
   },
   {
    "duration": 172,
    "start_time": "2023-07-31T12:21:26.309Z"
   },
   {
    "duration": 18,
    "start_time": "2023-07-31T12:21:26.489Z"
   },
   {
    "duration": 201,
    "start_time": "2023-07-31T12:21:26.510Z"
   },
   {
    "duration": 12,
    "start_time": "2023-07-31T12:21:26.712Z"
   },
   {
    "duration": 210,
    "start_time": "2023-07-31T12:21:26.726Z"
   },
   {
    "duration": 10,
    "start_time": "2023-07-31T12:21:26.938Z"
   },
   {
    "duration": 204,
    "start_time": "2023-07-31T12:21:26.950Z"
   },
   {
    "duration": 50,
    "start_time": "2023-07-31T12:21:27.156Z"
   },
   {
    "duration": 18,
    "start_time": "2023-07-31T12:21:27.208Z"
   },
   {
    "duration": 3,
    "start_time": "2023-07-31T12:21:27.227Z"
   },
   {
    "duration": 38,
    "start_time": "2023-07-31T12:21:27.232Z"
   },
   {
    "duration": 141,
    "start_time": "2023-07-31T12:21:27.272Z"
   },
   {
    "duration": 89,
    "start_time": "2023-07-31T12:21:27.414Z"
   },
   {
    "duration": 218,
    "start_time": "2023-07-31T12:21:27.505Z"
   },
   {
    "duration": 13,
    "start_time": "2023-07-31T12:21:27.725Z"
   },
   {
    "duration": 232,
    "start_time": "2023-07-31T12:21:27.739Z"
   },
   {
    "duration": 17,
    "start_time": "2023-07-31T12:21:27.973Z"
   },
   {
    "duration": 278,
    "start_time": "2023-07-31T12:21:28.002Z"
   },
   {
    "duration": 18,
    "start_time": "2023-07-31T12:21:28.286Z"
   },
   {
    "duration": 226,
    "start_time": "2023-07-31T12:21:28.310Z"
   },
   {
    "duration": 4,
    "start_time": "2023-07-31T12:21:28.538Z"
   },
   {
    "duration": 97,
    "start_time": "2023-07-31T12:21:28.543Z"
   },
   {
    "duration": 258,
    "start_time": "2023-07-31T12:21:28.642Z"
   },
   {
    "duration": 10,
    "start_time": "2023-07-31T12:21:28.903Z"
   },
   {
    "duration": 10,
    "start_time": "2023-07-31T12:21:28.915Z"
   },
   {
    "duration": 35,
    "start_time": "2023-07-31T12:21:28.926Z"
   },
   {
    "duration": 46,
    "start_time": "2023-07-31T12:21:28.963Z"
   },
   {
    "duration": 5,
    "start_time": "2023-07-31T12:21:29.011Z"
   },
   {
    "duration": 159,
    "start_time": "2023-07-31T12:23:49.387Z"
   },
   {
    "duration": 276,
    "start_time": "2023-07-31T12:24:31.821Z"
   },
   {
    "duration": 153,
    "start_time": "2023-07-31T12:28:24.516Z"
   },
   {
    "duration": 178,
    "start_time": "2023-07-31T12:28:37.371Z"
   },
   {
    "duration": 170,
    "start_time": "2023-07-31T12:29:01.659Z"
   },
   {
    "duration": 178,
    "start_time": "2023-07-31T12:29:31.758Z"
   },
   {
    "duration": 182,
    "start_time": "2023-07-31T12:29:36.752Z"
   },
   {
    "duration": 187,
    "start_time": "2023-07-31T12:30:59.554Z"
   },
   {
    "duration": 168,
    "start_time": "2023-07-31T12:31:29.681Z"
   },
   {
    "duration": 1109,
    "start_time": "2023-07-31T12:31:52.111Z"
   },
   {
    "duration": 3,
    "start_time": "2023-07-31T12:31:53.222Z"
   },
   {
    "duration": 42,
    "start_time": "2023-07-31T12:31:53.226Z"
   },
   {
    "duration": 17,
    "start_time": "2023-07-31T12:31:53.270Z"
   },
   {
    "duration": 117,
    "start_time": "2023-07-31T12:31:53.289Z"
   },
   {
    "duration": 11,
    "start_time": "2023-07-31T12:31:53.408Z"
   },
   {
    "duration": 21,
    "start_time": "2023-07-31T12:31:53.420Z"
   },
   {
    "duration": 25,
    "start_time": "2023-07-31T12:31:53.443Z"
   },
   {
    "duration": 15,
    "start_time": "2023-07-31T12:31:53.470Z"
   },
   {
    "duration": 10,
    "start_time": "2023-07-31T12:31:53.487Z"
   },
   {
    "duration": 14,
    "start_time": "2023-07-31T12:31:53.498Z"
   },
   {
    "duration": 15,
    "start_time": "2023-07-31T12:31:53.514Z"
   },
   {
    "duration": 5,
    "start_time": "2023-07-31T12:31:53.531Z"
   },
   {
    "duration": 6,
    "start_time": "2023-07-31T12:31:53.538Z"
   },
   {
    "duration": 19,
    "start_time": "2023-07-31T12:31:53.545Z"
   },
   {
    "duration": 11,
    "start_time": "2023-07-31T12:31:53.578Z"
   },
   {
    "duration": 146,
    "start_time": "2023-07-31T12:31:53.591Z"
   },
   {
    "duration": 14,
    "start_time": "2023-07-31T12:31:53.738Z"
   },
   {
    "duration": 43,
    "start_time": "2023-07-31T12:31:53.753Z"
   },
   {
    "duration": 25,
    "start_time": "2023-07-31T12:31:53.798Z"
   },
   {
    "duration": 152,
    "start_time": "2023-07-31T12:31:53.824Z"
   },
   {
    "duration": 173,
    "start_time": "2023-07-31T12:31:53.982Z"
   },
   {
    "duration": 182,
    "start_time": "2023-07-31T12:31:54.157Z"
   },
   {
    "duration": 14,
    "start_time": "2023-07-31T12:31:54.341Z"
   },
   {
    "duration": 204,
    "start_time": "2023-07-31T12:31:54.357Z"
   },
   {
    "duration": 29,
    "start_time": "2023-07-31T12:31:54.562Z"
   },
   {
    "duration": 185,
    "start_time": "2023-07-31T12:31:54.602Z"
   },
   {
    "duration": 19,
    "start_time": "2023-07-31T12:31:54.789Z"
   },
   {
    "duration": 187,
    "start_time": "2023-07-31T12:31:54.809Z"
   },
   {
    "duration": 29,
    "start_time": "2023-07-31T12:31:55.000Z"
   },
   {
    "duration": 24,
    "start_time": "2023-07-31T12:31:55.031Z"
   },
   {
    "duration": 21,
    "start_time": "2023-07-31T12:31:55.057Z"
   },
   {
    "duration": 46,
    "start_time": "2023-07-31T12:31:55.086Z"
   },
   {
    "duration": 19,
    "start_time": "2023-07-31T12:31:55.134Z"
   },
   {
    "duration": 56,
    "start_time": "2023-07-31T12:31:55.155Z"
   },
   {
    "duration": 193,
    "start_time": "2023-07-31T12:31:55.215Z"
   },
   {
    "duration": 10,
    "start_time": "2023-07-31T12:31:55.410Z"
   },
   {
    "duration": 200,
    "start_time": "2023-07-31T12:31:55.421Z"
   },
   {
    "duration": 11,
    "start_time": "2023-07-31T12:31:55.622Z"
   },
   {
    "duration": 267,
    "start_time": "2023-07-31T12:31:55.634Z"
   },
   {
    "duration": 10,
    "start_time": "2023-07-31T12:31:55.905Z"
   },
   {
    "duration": 207,
    "start_time": "2023-07-31T12:31:55.917Z"
   },
   {
    "duration": 4,
    "start_time": "2023-07-31T12:31:56.126Z"
   },
   {
    "duration": 78,
    "start_time": "2023-07-31T12:31:56.131Z"
   },
   {
    "duration": 232,
    "start_time": "2023-07-31T12:31:56.211Z"
   },
   {
    "duration": 5,
    "start_time": "2023-07-31T12:31:56.444Z"
   },
   {
    "duration": 14,
    "start_time": "2023-07-31T12:31:56.451Z"
   },
   {
    "duration": 46,
    "start_time": "2023-07-31T12:31:56.466Z"
   },
   {
    "duration": 40,
    "start_time": "2023-07-31T12:31:56.513Z"
   },
   {
    "duration": 11,
    "start_time": "2023-07-31T12:31:56.555Z"
   },
   {
    "duration": 167,
    "start_time": "2023-07-31T12:36:49.504Z"
   },
   {
    "duration": 116,
    "start_time": "2023-07-31T12:53:39.315Z"
   },
   {
    "duration": 5,
    "start_time": "2023-07-31T12:53:46.907Z"
   },
   {
    "duration": 5,
    "start_time": "2023-07-31T12:56:09.564Z"
   },
   {
    "duration": 5,
    "start_time": "2023-07-31T12:56:17.514Z"
   },
   {
    "duration": 9,
    "start_time": "2023-07-31T12:56:31.697Z"
   },
   {
    "duration": 5,
    "start_time": "2023-07-31T12:56:38.964Z"
   },
   {
    "duration": 7,
    "start_time": "2023-07-31T13:00:58.376Z"
   },
   {
    "duration": 5,
    "start_time": "2023-07-31T13:03:35.805Z"
   },
   {
    "duration": 5,
    "start_time": "2023-07-31T13:05:56.959Z"
   },
   {
    "duration": 7,
    "start_time": "2023-07-31T13:07:49.218Z"
   },
   {
    "duration": 9,
    "start_time": "2023-07-31T13:43:10.861Z"
   },
   {
    "duration": 11,
    "start_time": "2023-07-31T13:43:40.272Z"
   },
   {
    "duration": 8,
    "start_time": "2023-07-31T13:44:21.207Z"
   },
   {
    "duration": 11,
    "start_time": "2023-07-31T13:45:11.177Z"
   },
   {
    "duration": 21,
    "start_time": "2023-07-31T13:47:49.952Z"
   },
   {
    "duration": 24,
    "start_time": "2023-07-31T13:48:06.117Z"
   },
   {
    "duration": 4,
    "start_time": "2023-07-31T13:49:30.953Z"
   },
   {
    "duration": 8,
    "start_time": "2023-07-31T13:54:09.873Z"
   },
   {
    "duration": 8,
    "start_time": "2023-07-31T13:54:14.416Z"
   },
   {
    "duration": 161,
    "start_time": "2023-07-31T13:54:39.599Z"
   },
   {
    "duration": 8,
    "start_time": "2023-07-31T13:54:42.704Z"
   },
   {
    "duration": 5,
    "start_time": "2023-07-31T14:10:47.552Z"
   },
   {
    "duration": 6,
    "start_time": "2023-07-31T14:19:05.852Z"
   },
   {
    "duration": 11,
    "start_time": "2023-07-31T14:21:18.375Z"
   },
   {
    "duration": 5,
    "start_time": "2023-07-31T14:22:05.365Z"
   },
   {
    "duration": 12,
    "start_time": "2023-07-31T14:57:17.420Z"
   },
   {
    "duration": 34,
    "start_time": "2023-07-31T14:57:31.051Z"
   },
   {
    "duration": 9,
    "start_time": "2023-07-31T14:57:51.984Z"
   },
   {
    "duration": 25,
    "start_time": "2023-07-31T14:59:27.171Z"
   },
   {
    "duration": 4,
    "start_time": "2023-07-31T14:59:49.106Z"
   },
   {
    "duration": 23,
    "start_time": "2023-07-31T14:59:57.666Z"
   },
   {
    "duration": 15,
    "start_time": "2023-07-31T15:00:05.098Z"
   },
   {
    "duration": 5,
    "start_time": "2023-07-31T15:02:09.402Z"
   },
   {
    "duration": 7,
    "start_time": "2023-07-31T15:02:13.433Z"
   },
   {
    "duration": 7,
    "start_time": "2023-07-31T15:02:28.400Z"
   },
   {
    "duration": 7,
    "start_time": "2023-07-31T15:02:37.103Z"
   },
   {
    "duration": 9,
    "start_time": "2023-07-31T15:03:21.187Z"
   },
   {
    "duration": 8,
    "start_time": "2023-07-31T15:04:39.447Z"
   },
   {
    "duration": 11,
    "start_time": "2023-07-31T15:04:46.181Z"
   },
   {
    "duration": 5,
    "start_time": "2023-07-31T15:14:26.015Z"
   },
   {
    "duration": 5,
    "start_time": "2023-07-31T15:20:03.014Z"
   },
   {
    "duration": 3,
    "start_time": "2023-07-31T15:21:24.244Z"
   },
   {
    "duration": 1202,
    "start_time": "2023-07-31T16:30:54.022Z"
   },
   {
    "duration": 3,
    "start_time": "2023-07-31T16:30:55.226Z"
   },
   {
    "duration": 119,
    "start_time": "2023-07-31T16:30:55.230Z"
   },
   {
    "duration": 13,
    "start_time": "2023-07-31T16:30:55.351Z"
   },
   {
    "duration": 198,
    "start_time": "2023-07-31T16:30:55.366Z"
   },
   {
    "duration": 12,
    "start_time": "2023-07-31T16:30:55.566Z"
   },
   {
    "duration": 41,
    "start_time": "2023-07-31T16:30:55.584Z"
   },
   {
    "duration": 84,
    "start_time": "2023-07-31T16:30:55.626Z"
   },
   {
    "duration": 12,
    "start_time": "2023-07-31T16:30:55.713Z"
   },
   {
    "duration": 8,
    "start_time": "2023-07-31T16:30:55.727Z"
   },
   {
    "duration": 37,
    "start_time": "2023-07-31T16:30:55.736Z"
   },
   {
    "duration": 32,
    "start_time": "2023-07-31T16:30:55.775Z"
   },
   {
    "duration": 19,
    "start_time": "2023-07-31T16:30:55.809Z"
   },
   {
    "duration": 25,
    "start_time": "2023-07-31T16:30:55.832Z"
   },
   {
    "duration": 32,
    "start_time": "2023-07-31T16:30:55.859Z"
   },
   {
    "duration": 28,
    "start_time": "2023-07-31T16:30:55.893Z"
   },
   {
    "duration": 160,
    "start_time": "2023-07-31T16:30:55.922Z"
   },
   {
    "duration": 17,
    "start_time": "2023-07-31T16:30:56.084Z"
   },
   {
    "duration": 12,
    "start_time": "2023-07-31T16:30:56.103Z"
   },
   {
    "duration": 14,
    "start_time": "2023-07-31T16:30:56.117Z"
   },
   {
    "duration": 135,
    "start_time": "2023-07-31T16:30:56.133Z"
   },
   {
    "duration": 155,
    "start_time": "2023-07-31T16:30:56.270Z"
   },
   {
    "duration": 155,
    "start_time": "2023-07-31T16:30:56.427Z"
   },
   {
    "duration": 12,
    "start_time": "2023-07-31T16:30:56.584Z"
   },
   {
    "duration": 185,
    "start_time": "2023-07-31T16:30:56.597Z"
   },
   {
    "duration": 11,
    "start_time": "2023-07-31T16:30:56.783Z"
   },
   {
    "duration": 170,
    "start_time": "2023-07-31T16:30:56.796Z"
   },
   {
    "duration": 11,
    "start_time": "2023-07-31T16:30:56.967Z"
   },
   {
    "duration": 180,
    "start_time": "2023-07-31T16:30:56.979Z"
   },
   {
    "duration": 29,
    "start_time": "2023-07-31T16:30:57.161Z"
   },
   {
    "duration": 18,
    "start_time": "2023-07-31T16:30:57.192Z"
   },
   {
    "duration": 3,
    "start_time": "2023-07-31T16:30:57.211Z"
   },
   {
    "duration": 44,
    "start_time": "2023-07-31T16:30:57.216Z"
   },
   {
    "duration": 17,
    "start_time": "2023-07-31T16:30:57.262Z"
   },
   {
    "duration": 10,
    "start_time": "2023-07-31T16:30:57.281Z"
   },
   {
    "duration": 181,
    "start_time": "2023-07-31T16:30:57.292Z"
   },
   {
    "duration": 10,
    "start_time": "2023-07-31T16:30:57.475Z"
   },
   {
    "duration": 168,
    "start_time": "2023-07-31T16:30:57.487Z"
   },
   {
    "duration": 10,
    "start_time": "2023-07-31T16:30:57.659Z"
   },
   {
    "duration": 243,
    "start_time": "2023-07-31T16:30:57.671Z"
   },
   {
    "duration": 10,
    "start_time": "2023-07-31T16:30:57.918Z"
   },
   {
    "duration": 188,
    "start_time": "2023-07-31T16:30:57.930Z"
   },
   {
    "duration": 4,
    "start_time": "2023-07-31T16:30:58.120Z"
   },
   {
    "duration": 72,
    "start_time": "2023-07-31T16:30:58.125Z"
   },
   {
    "duration": 197,
    "start_time": "2023-07-31T16:30:58.199Z"
   },
   {
    "duration": 6,
    "start_time": "2023-07-31T16:30:58.397Z"
   },
   {
    "duration": 9,
    "start_time": "2023-07-31T16:30:58.405Z"
   },
   {
    "duration": 19,
    "start_time": "2023-07-31T16:30:58.415Z"
   },
   {
    "duration": 32,
    "start_time": "2023-07-31T16:30:58.436Z"
   },
   {
    "duration": 6,
    "start_time": "2023-07-31T16:30:58.470Z"
   },
   {
    "duration": 5,
    "start_time": "2023-07-31T16:36:03.333Z"
   },
   {
    "duration": 3,
    "start_time": "2023-07-31T17:02:41.163Z"
   },
   {
    "duration": 2,
    "start_time": "2023-07-31T17:02:42.155Z"
   },
   {
    "duration": 71,
    "start_time": "2023-07-31T17:02:42.859Z"
   },
   {
    "duration": 8,
    "start_time": "2023-07-31T17:54:40.066Z"
   },
   {
    "duration": 11,
    "start_time": "2023-07-31T17:54:46.370Z"
   },
   {
    "duration": 8,
    "start_time": "2023-07-31T17:54:57.808Z"
   },
   {
    "duration": 11,
    "start_time": "2023-07-31T17:54:59.218Z"
   },
   {
    "duration": 16,
    "start_time": "2023-07-31T17:55:02.457Z"
   },
   {
    "duration": 7,
    "start_time": "2023-07-31T17:55:11.681Z"
   },
   {
    "duration": 10,
    "start_time": "2023-07-31T17:55:13.008Z"
   },
   {
    "duration": 11,
    "start_time": "2023-07-31T17:56:04.777Z"
   },
   {
    "duration": 10,
    "start_time": "2023-07-31T17:56:26.080Z"
   },
   {
    "duration": 14,
    "start_time": "2023-07-31T18:00:31.038Z"
   },
   {
    "duration": 13,
    "start_time": "2023-07-31T18:00:35.452Z"
   },
   {
    "duration": 14,
    "start_time": "2023-07-31T18:00:36.646Z"
   },
   {
    "duration": 12,
    "start_time": "2023-07-31T18:00:37.662Z"
   },
   {
    "duration": 13,
    "start_time": "2023-07-31T18:00:38.481Z"
   },
   {
    "duration": 13,
    "start_time": "2023-07-31T18:00:40.146Z"
   },
   {
    "duration": 479,
    "start_time": "2023-07-31T18:01:37.868Z"
   },
   {
    "duration": 10,
    "start_time": "2023-07-31T18:01:56.218Z"
   },
   {
    "duration": 10,
    "start_time": "2023-07-31T18:02:29.077Z"
   },
   {
    "duration": 14,
    "start_time": "2023-07-31T19:15:06.597Z"
   },
   {
    "duration": 10,
    "start_time": "2023-07-31T19:16:28.882Z"
   },
   {
    "duration": 5,
    "start_time": "2023-07-31T19:16:45.114Z"
   },
   {
    "duration": 5,
    "start_time": "2023-07-31T19:16:58.618Z"
   },
   {
    "duration": 89,
    "start_time": "2023-07-31T19:19:40.697Z"
   },
   {
    "duration": 94,
    "start_time": "2023-07-31T19:19:46.322Z"
   },
   {
    "duration": 71,
    "start_time": "2023-08-01T07:45:14.044Z"
   },
   {
    "duration": 1499,
    "start_time": "2023-08-01T07:45:23.898Z"
   },
   {
    "duration": 262,
    "start_time": "2023-08-01T07:45:25.400Z"
   },
   {
    "duration": 4,
    "start_time": "2023-08-01T07:45:25.666Z"
   },
   {
    "duration": 65,
    "start_time": "2023-08-01T07:45:25.672Z"
   },
   {
    "duration": 30,
    "start_time": "2023-08-01T07:45:25.741Z"
   },
   {
    "duration": 25,
    "start_time": "2023-08-01T07:45:25.773Z"
   },
   {
    "duration": 54,
    "start_time": "2023-08-01T07:45:25.800Z"
   },
   {
    "duration": 34,
    "start_time": "2023-08-01T07:45:25.856Z"
   },
   {
    "duration": 17,
    "start_time": "2023-08-01T07:45:25.892Z"
   },
   {
    "duration": 44,
    "start_time": "2023-08-01T07:45:25.911Z"
   },
   {
    "duration": 28,
    "start_time": "2023-08-01T07:45:25.957Z"
   },
   {
    "duration": 19,
    "start_time": "2023-08-01T07:45:25.987Z"
   },
   {
    "duration": 45,
    "start_time": "2023-08-01T07:45:26.008Z"
   },
   {
    "duration": 13,
    "start_time": "2023-08-01T07:45:26.057Z"
   },
   {
    "duration": 23,
    "start_time": "2023-08-01T07:45:26.072Z"
   },
   {
    "duration": 59,
    "start_time": "2023-08-01T07:45:26.097Z"
   },
   {
    "duration": 14,
    "start_time": "2023-08-01T07:45:26.157Z"
   },
   {
    "duration": 70,
    "start_time": "2023-08-01T07:45:26.173Z"
   },
   {
    "duration": 24,
    "start_time": "2023-08-01T07:45:26.244Z"
   },
   {
    "duration": 167,
    "start_time": "2023-08-01T07:45:26.270Z"
   },
   {
    "duration": 18,
    "start_time": "2023-08-01T07:45:26.438Z"
   },
   {
    "duration": 17,
    "start_time": "2023-08-01T07:45:26.459Z"
   },
   {
    "duration": 151,
    "start_time": "2023-08-01T07:45:26.478Z"
   },
   {
    "duration": 146,
    "start_time": "2023-08-01T07:45:26.631Z"
   },
   {
    "duration": 162,
    "start_time": "2023-08-01T07:45:26.779Z"
   },
   {
    "duration": 13,
    "start_time": "2023-08-01T07:45:26.943Z"
   },
   {
    "duration": 213,
    "start_time": "2023-08-01T07:45:26.958Z"
   },
   {
    "duration": 133,
    "start_time": "2023-08-01T07:45:27.173Z"
   },
   {
    "duration": 33,
    "start_time": "2023-08-01T07:45:27.307Z"
   },
   {
    "duration": 171,
    "start_time": "2023-08-01T07:45:27.341Z"
   },
   {
    "duration": 308,
    "start_time": "2023-08-01T07:45:27.514Z"
   },
   {
    "duration": 0,
    "start_time": "2023-08-01T07:45:27.824Z"
   },
   {
    "duration": 0,
    "start_time": "2023-08-01T07:45:27.825Z"
   },
   {
    "duration": 0,
    "start_time": "2023-08-01T07:45:27.826Z"
   },
   {
    "duration": 0,
    "start_time": "2023-08-01T07:45:27.827Z"
   },
   {
    "duration": 0,
    "start_time": "2023-08-01T07:45:27.828Z"
   },
   {
    "duration": 0,
    "start_time": "2023-08-01T07:45:27.830Z"
   },
   {
    "duration": 0,
    "start_time": "2023-08-01T07:45:27.831Z"
   },
   {
    "duration": 0,
    "start_time": "2023-08-01T07:45:27.832Z"
   },
   {
    "duration": 0,
    "start_time": "2023-08-01T07:45:27.833Z"
   },
   {
    "duration": 0,
    "start_time": "2023-08-01T07:45:27.835Z"
   },
   {
    "duration": 0,
    "start_time": "2023-08-01T07:45:27.836Z"
   },
   {
    "duration": 0,
    "start_time": "2023-08-01T07:45:27.837Z"
   },
   {
    "duration": 0,
    "start_time": "2023-08-01T07:45:27.838Z"
   },
   {
    "duration": 1,
    "start_time": "2023-08-01T07:45:27.838Z"
   },
   {
    "duration": 0,
    "start_time": "2023-08-01T07:45:27.840Z"
   },
   {
    "duration": 0,
    "start_time": "2023-08-01T07:45:27.841Z"
   },
   {
    "duration": 0,
    "start_time": "2023-08-01T07:45:27.842Z"
   },
   {
    "duration": 0,
    "start_time": "2023-08-01T07:45:27.843Z"
   },
   {
    "duration": 0,
    "start_time": "2023-08-01T07:45:27.844Z"
   },
   {
    "duration": 0,
    "start_time": "2023-08-01T07:45:27.845Z"
   },
   {
    "duration": 0,
    "start_time": "2023-08-01T07:45:27.846Z"
   },
   {
    "duration": 0,
    "start_time": "2023-08-01T07:45:27.847Z"
   },
   {
    "duration": 0,
    "start_time": "2023-08-01T07:45:27.848Z"
   },
   {
    "duration": 105,
    "start_time": "2023-08-01T07:45:56.683Z"
   },
   {
    "duration": 1345,
    "start_time": "2023-08-01T07:46:16.719Z"
   },
   {
    "duration": 102,
    "start_time": "2023-08-01T07:46:18.067Z"
   },
   {
    "duration": 4,
    "start_time": "2023-08-01T07:46:18.171Z"
   },
   {
    "duration": 57,
    "start_time": "2023-08-01T07:46:18.179Z"
   },
   {
    "duration": 40,
    "start_time": "2023-08-01T07:46:18.238Z"
   },
   {
    "duration": 24,
    "start_time": "2023-08-01T07:46:18.281Z"
   },
   {
    "duration": 49,
    "start_time": "2023-08-01T07:46:18.307Z"
   },
   {
    "duration": 29,
    "start_time": "2023-08-01T07:46:18.358Z"
   },
   {
    "duration": 15,
    "start_time": "2023-08-01T07:46:18.389Z"
   },
   {
    "duration": 21,
    "start_time": "2023-08-01T07:46:18.408Z"
   },
   {
    "duration": 29,
    "start_time": "2023-08-01T07:46:18.433Z"
   },
   {
    "duration": 19,
    "start_time": "2023-08-01T07:46:18.464Z"
   },
   {
    "duration": 19,
    "start_time": "2023-08-01T07:46:18.484Z"
   },
   {
    "duration": 18,
    "start_time": "2023-08-01T07:46:18.504Z"
   },
   {
    "duration": 37,
    "start_time": "2023-08-01T07:46:18.523Z"
   },
   {
    "duration": 10,
    "start_time": "2023-08-01T07:46:18.562Z"
   },
   {
    "duration": 12,
    "start_time": "2023-08-01T07:46:18.573Z"
   },
   {
    "duration": 26,
    "start_time": "2023-08-01T07:46:18.587Z"
   },
   {
    "duration": 15,
    "start_time": "2023-08-01T07:46:18.615Z"
   },
   {
    "duration": 161,
    "start_time": "2023-08-01T07:46:18.632Z"
   },
   {
    "duration": 18,
    "start_time": "2023-08-01T07:46:18.795Z"
   },
   {
    "duration": 13,
    "start_time": "2023-08-01T07:46:18.814Z"
   },
   {
    "duration": 143,
    "start_time": "2023-08-01T07:46:18.829Z"
   },
   {
    "duration": 171,
    "start_time": "2023-08-01T07:46:18.974Z"
   },
   {
    "duration": 194,
    "start_time": "2023-08-01T07:46:19.147Z"
   },
   {
    "duration": 19,
    "start_time": "2023-08-01T07:46:19.343Z"
   },
   {
    "duration": 188,
    "start_time": "2023-08-01T07:46:19.365Z"
   },
   {
    "duration": 98,
    "start_time": "2023-08-01T07:46:19.557Z"
   },
   {
    "duration": 13,
    "start_time": "2023-08-01T07:46:19.657Z"
   },
   {
    "duration": 236,
    "start_time": "2023-08-01T07:46:19.672Z"
   },
   {
    "duration": 153,
    "start_time": "2023-08-01T07:46:19.910Z"
   },
   {
    "duration": 12,
    "start_time": "2023-08-01T07:46:20.065Z"
   },
   {
    "duration": 234,
    "start_time": "2023-08-01T07:46:20.079Z"
   },
   {
    "duration": 34,
    "start_time": "2023-08-01T07:46:20.315Z"
   },
   {
    "duration": 38,
    "start_time": "2023-08-01T07:46:20.353Z"
   },
   {
    "duration": 21,
    "start_time": "2023-08-01T07:46:20.393Z"
   },
   {
    "duration": 51,
    "start_time": "2023-08-01T07:46:20.416Z"
   },
   {
    "duration": 96,
    "start_time": "2023-08-01T07:46:20.469Z"
   },
   {
    "duration": 102,
    "start_time": "2023-08-01T07:46:20.567Z"
   },
   {
    "duration": 235,
    "start_time": "2023-08-01T07:46:20.671Z"
   },
   {
    "duration": 35,
    "start_time": "2023-08-01T07:46:20.908Z"
   },
   {
    "duration": 264,
    "start_time": "2023-08-01T07:46:20.945Z"
   },
   {
    "duration": 25,
    "start_time": "2023-08-01T07:46:21.212Z"
   },
   {
    "duration": 252,
    "start_time": "2023-08-01T07:46:21.240Z"
   },
   {
    "duration": 13,
    "start_time": "2023-08-01T07:46:21.494Z"
   },
   {
    "duration": 286,
    "start_time": "2023-08-01T07:46:21.523Z"
   },
   {
    "duration": 5,
    "start_time": "2023-08-01T07:46:21.811Z"
   },
   {
    "duration": 127,
    "start_time": "2023-08-01T07:46:21.821Z"
   },
   {
    "duration": 320,
    "start_time": "2023-08-01T07:46:21.950Z"
   },
   {
    "duration": 7,
    "start_time": "2023-08-01T07:46:22.271Z"
   },
   {
    "duration": 14,
    "start_time": "2023-08-01T07:46:22.282Z"
   },
   {
    "duration": 53,
    "start_time": "2023-08-01T07:46:22.298Z"
   },
   {
    "duration": 32,
    "start_time": "2023-08-01T07:46:22.353Z"
   },
   {
    "duration": 16,
    "start_time": "2023-08-01T07:46:22.388Z"
   },
   {
    "duration": 143,
    "start_time": "2023-08-01T07:47:47.706Z"
   },
   {
    "duration": 14,
    "start_time": "2023-08-01T07:50:16.415Z"
   },
   {
    "duration": 17,
    "start_time": "2023-08-01T07:50:31.399Z"
   },
   {
    "duration": 6,
    "start_time": "2023-08-01T07:51:15.112Z"
   },
   {
    "duration": 4,
    "start_time": "2023-08-01T07:51:24.559Z"
   },
   {
    "duration": 183,
    "start_time": "2023-08-01T08:05:17.825Z"
   },
   {
    "duration": 144,
    "start_time": "2023-08-01T08:05:30.756Z"
   },
   {
    "duration": 139,
    "start_time": "2023-08-01T08:05:36.286Z"
   },
   {
    "duration": 201,
    "start_time": "2023-08-01T08:05:45.093Z"
   },
   {
    "duration": 1092,
    "start_time": "2023-08-01T08:11:12.843Z"
   },
   {
    "duration": 75,
    "start_time": "2023-08-01T08:11:13.937Z"
   },
   {
    "duration": 3,
    "start_time": "2023-08-01T08:11:14.014Z"
   },
   {
    "duration": 29,
    "start_time": "2023-08-01T08:11:14.020Z"
   },
   {
    "duration": 15,
    "start_time": "2023-08-01T08:11:14.052Z"
   },
   {
    "duration": 24,
    "start_time": "2023-08-01T08:11:14.069Z"
   },
   {
    "duration": 18,
    "start_time": "2023-08-01T08:11:14.095Z"
   },
   {
    "duration": 22,
    "start_time": "2023-08-01T08:11:14.115Z"
   },
   {
    "duration": 9,
    "start_time": "2023-08-01T08:11:14.139Z"
   },
   {
    "duration": 26,
    "start_time": "2023-08-01T08:11:14.150Z"
   },
   {
    "duration": 8,
    "start_time": "2023-08-01T08:11:14.177Z"
   },
   {
    "duration": 11,
    "start_time": "2023-08-01T08:11:14.187Z"
   },
   {
    "duration": 38,
    "start_time": "2023-08-01T08:11:14.200Z"
   },
   {
    "duration": 5,
    "start_time": "2023-08-01T08:11:14.242Z"
   },
   {
    "duration": 14,
    "start_time": "2023-08-01T08:11:14.248Z"
   },
   {
    "duration": 22,
    "start_time": "2023-08-01T08:11:14.264Z"
   },
   {
    "duration": 9,
    "start_time": "2023-08-01T08:11:14.288Z"
   },
   {
    "duration": 13,
    "start_time": "2023-08-01T08:11:14.299Z"
   },
   {
    "duration": 9,
    "start_time": "2023-08-01T08:11:14.314Z"
   },
   {
    "duration": 130,
    "start_time": "2023-08-01T08:11:14.325Z"
   },
   {
    "duration": 15,
    "start_time": "2023-08-01T08:11:14.457Z"
   },
   {
    "duration": 22,
    "start_time": "2023-08-01T08:11:14.473Z"
   },
   {
    "duration": 113,
    "start_time": "2023-08-01T08:11:14.497Z"
   },
   {
    "duration": 214,
    "start_time": "2023-08-01T08:11:14.612Z"
   },
   {
    "duration": 152,
    "start_time": "2023-08-01T08:11:14.827Z"
   },
   {
    "duration": 9,
    "start_time": "2023-08-01T08:11:14.981Z"
   },
   {
    "duration": 185,
    "start_time": "2023-08-01T08:11:14.992Z"
   },
   {
    "duration": 114,
    "start_time": "2023-08-01T08:11:15.178Z"
   },
   {
    "duration": 14,
    "start_time": "2023-08-01T08:11:15.296Z"
   },
   {
    "duration": 219,
    "start_time": "2023-08-01T08:11:15.321Z"
   },
   {
    "duration": 158,
    "start_time": "2023-08-01T08:11:15.543Z"
   },
   {
    "duration": 22,
    "start_time": "2023-08-01T08:11:15.703Z"
   },
   {
    "duration": 235,
    "start_time": "2023-08-01T08:11:15.727Z"
   },
   {
    "duration": 232,
    "start_time": "2023-08-01T08:11:15.964Z"
   },
   {
    "duration": 4,
    "start_time": "2023-08-01T08:11:16.198Z"
   },
   {
    "duration": 41,
    "start_time": "2023-08-01T08:11:16.204Z"
   },
   {
    "duration": 4,
    "start_time": "2023-08-01T08:11:16.246Z"
   },
   {
    "duration": 19,
    "start_time": "2023-08-01T08:11:16.252Z"
   },
   {
    "duration": 8,
    "start_time": "2023-08-01T08:11:16.272Z"
   },
   {
    "duration": 25,
    "start_time": "2023-08-01T08:11:16.282Z"
   },
   {
    "duration": 17,
    "start_time": "2023-08-01T08:11:16.311Z"
   },
   {
    "duration": 14,
    "start_time": "2023-08-01T08:11:16.331Z"
   },
   {
    "duration": 282,
    "start_time": "2023-08-01T08:11:16.347Z"
   },
   {
    "duration": 13,
    "start_time": "2023-08-01T08:11:16.632Z"
   },
   {
    "duration": 424,
    "start_time": "2023-08-01T08:11:16.646Z"
   },
   {
    "duration": 12,
    "start_time": "2023-08-01T08:11:17.072Z"
   },
   {
    "duration": 231,
    "start_time": "2023-08-01T08:11:17.086Z"
   },
   {
    "duration": 11,
    "start_time": "2023-08-01T08:11:17.320Z"
   },
   {
    "duration": 223,
    "start_time": "2023-08-01T08:11:17.332Z"
   },
   {
    "duration": 6,
    "start_time": "2023-08-01T08:11:17.557Z"
   },
   {
    "duration": 111,
    "start_time": "2023-08-01T08:11:17.565Z"
   },
   {
    "duration": 237,
    "start_time": "2023-08-01T08:11:17.678Z"
   },
   {
    "duration": 7,
    "start_time": "2023-08-01T08:11:17.920Z"
   },
   {
    "duration": 13,
    "start_time": "2023-08-01T08:11:17.929Z"
   },
   {
    "duration": 24,
    "start_time": "2023-08-01T08:11:17.945Z"
   },
   {
    "duration": 22,
    "start_time": "2023-08-01T08:11:17.971Z"
   },
   {
    "duration": 7,
    "start_time": "2023-08-01T08:11:18.021Z"
   },
   {
    "duration": 6,
    "start_time": "2023-08-01T08:26:40.024Z"
   },
   {
    "duration": 6,
    "start_time": "2023-08-01T08:26:53.567Z"
   },
   {
    "duration": 10,
    "start_time": "2023-08-01T08:27:06.487Z"
   },
   {
    "duration": 158,
    "start_time": "2023-08-01T08:27:18.919Z"
   },
   {
    "duration": 19,
    "start_time": "2023-08-01T08:27:28.054Z"
   },
   {
    "duration": 7,
    "start_time": "2023-08-01T08:27:45.375Z"
   },
   {
    "duration": 12,
    "start_time": "2023-08-01T08:27:46.454Z"
   },
   {
    "duration": 154,
    "start_time": "2023-08-01T08:27:48.136Z"
   },
   {
    "duration": 100,
    "start_time": "2023-08-01T08:27:57.646Z"
   },
   {
    "duration": 12,
    "start_time": "2023-08-01T08:28:03.575Z"
   },
   {
    "duration": 12,
    "start_time": "2023-08-01T08:28:09.991Z"
   },
   {
    "duration": 14,
    "start_time": "2023-08-01T08:28:16.535Z"
   },
   {
    "duration": 153,
    "start_time": "2023-08-01T08:28:21.839Z"
   },
   {
    "duration": 108,
    "start_time": "2023-08-01T08:28:29.094Z"
   },
   {
    "duration": 1055,
    "start_time": "2023-08-01T08:36:08.886Z"
   },
   {
    "duration": 67,
    "start_time": "2023-08-01T08:36:09.943Z"
   },
   {
    "duration": 3,
    "start_time": "2023-08-01T08:36:10.012Z"
   },
   {
    "duration": 31,
    "start_time": "2023-08-01T08:36:10.017Z"
   },
   {
    "duration": 17,
    "start_time": "2023-08-01T08:36:10.051Z"
   },
   {
    "duration": 17,
    "start_time": "2023-08-01T08:36:10.070Z"
   },
   {
    "duration": 22,
    "start_time": "2023-08-01T08:36:10.089Z"
   },
   {
    "duration": 29,
    "start_time": "2023-08-01T08:36:10.113Z"
   },
   {
    "duration": 8,
    "start_time": "2023-08-01T08:36:10.144Z"
   },
   {
    "duration": 21,
    "start_time": "2023-08-01T08:36:10.154Z"
   },
   {
    "duration": 14,
    "start_time": "2023-08-01T08:36:10.177Z"
   },
   {
    "duration": 10,
    "start_time": "2023-08-01T08:36:10.192Z"
   },
   {
    "duration": 12,
    "start_time": "2023-08-01T08:36:10.219Z"
   },
   {
    "duration": 5,
    "start_time": "2023-08-01T08:36:10.233Z"
   },
   {
    "duration": 25,
    "start_time": "2023-08-01T08:36:10.239Z"
   },
   {
    "duration": 14,
    "start_time": "2023-08-01T08:36:10.265Z"
   },
   {
    "duration": 9,
    "start_time": "2023-08-01T08:36:10.280Z"
   },
   {
    "duration": 13,
    "start_time": "2023-08-01T08:36:10.291Z"
   },
   {
    "duration": 5,
    "start_time": "2023-08-01T08:36:10.319Z"
   },
   {
    "duration": 126,
    "start_time": "2023-08-01T08:36:10.326Z"
   },
   {
    "duration": 12,
    "start_time": "2023-08-01T08:36:10.453Z"
   },
   {
    "duration": 22,
    "start_time": "2023-08-01T08:36:10.467Z"
   },
   {
    "duration": 109,
    "start_time": "2023-08-01T08:36:10.490Z"
   },
   {
    "duration": 142,
    "start_time": "2023-08-01T08:36:10.601Z"
   },
   {
    "duration": 134,
    "start_time": "2023-08-01T08:36:10.744Z"
   },
   {
    "duration": 10,
    "start_time": "2023-08-01T08:36:10.880Z"
   },
   {
    "duration": 168,
    "start_time": "2023-08-01T08:36:10.892Z"
   },
   {
    "duration": 93,
    "start_time": "2023-08-01T08:36:11.062Z"
   },
   {
    "duration": 7,
    "start_time": "2023-08-01T08:36:11.157Z"
   },
   {
    "duration": 27,
    "start_time": "2023-08-01T08:36:11.165Z"
   },
   {
    "duration": 152,
    "start_time": "2023-08-01T08:36:11.193Z"
   },
   {
    "duration": 114,
    "start_time": "2023-08-01T08:36:11.346Z"
   },
   {
    "duration": 13,
    "start_time": "2023-08-01T08:36:11.462Z"
   },
   {
    "duration": 179,
    "start_time": "2023-08-01T08:36:11.477Z"
   },
   {
    "duration": 243,
    "start_time": "2023-08-01T08:36:11.659Z"
   },
   {
    "duration": 5,
    "start_time": "2023-08-01T08:36:11.904Z"
   },
   {
    "duration": 34,
    "start_time": "2023-08-01T08:36:11.920Z"
   },
   {
    "duration": 5,
    "start_time": "2023-08-01T08:36:11.955Z"
   },
   {
    "duration": 16,
    "start_time": "2023-08-01T08:36:11.962Z"
   },
   {
    "duration": 6,
    "start_time": "2023-08-01T08:36:11.980Z"
   },
   {
    "duration": 28,
    "start_time": "2023-08-01T08:36:12.023Z"
   },
   {
    "duration": 19,
    "start_time": "2023-08-01T08:36:12.052Z"
   },
   {
    "duration": 23,
    "start_time": "2023-08-01T08:36:12.072Z"
   },
   {
    "duration": 181,
    "start_time": "2023-08-01T08:36:12.096Z"
   },
   {
    "duration": 10,
    "start_time": "2023-08-01T08:36:12.279Z"
   },
   {
    "duration": 174,
    "start_time": "2023-08-01T08:36:12.291Z"
   },
   {
    "duration": 11,
    "start_time": "2023-08-01T08:36:12.467Z"
   },
   {
    "duration": 178,
    "start_time": "2023-08-01T08:36:12.480Z"
   },
   {
    "duration": 13,
    "start_time": "2023-08-01T08:36:12.660Z"
   },
   {
    "duration": 258,
    "start_time": "2023-08-01T08:36:12.676Z"
   },
   {
    "duration": 3,
    "start_time": "2023-08-01T08:36:12.937Z"
   },
   {
    "duration": 66,
    "start_time": "2023-08-01T08:36:12.942Z"
   },
   {
    "duration": 231,
    "start_time": "2023-08-01T08:36:13.020Z"
   },
   {
    "duration": 6,
    "start_time": "2023-08-01T08:36:13.252Z"
   },
   {
    "duration": 10,
    "start_time": "2023-08-01T08:36:13.259Z"
   },
   {
    "duration": 18,
    "start_time": "2023-08-01T08:36:13.271Z"
   },
   {
    "duration": 34,
    "start_time": "2023-08-01T08:36:13.291Z"
   },
   {
    "duration": 7,
    "start_time": "2023-08-01T08:36:13.327Z"
   },
   {
    "duration": 1143,
    "start_time": "2023-08-01T09:45:54.902Z"
   },
   {
    "duration": 66,
    "start_time": "2023-08-01T09:45:56.047Z"
   },
   {
    "duration": 2,
    "start_time": "2023-08-01T09:45:56.115Z"
   },
   {
    "duration": 17,
    "start_time": "2023-08-01T09:45:56.119Z"
   },
   {
    "duration": 11,
    "start_time": "2023-08-01T09:45:56.138Z"
   },
   {
    "duration": 17,
    "start_time": "2023-08-01T09:45:56.150Z"
   },
   {
    "duration": 13,
    "start_time": "2023-08-01T09:45:56.168Z"
   },
   {
    "duration": 25,
    "start_time": "2023-08-01T09:45:56.183Z"
   },
   {
    "duration": 6,
    "start_time": "2023-08-01T09:45:56.209Z"
   },
   {
    "duration": 11,
    "start_time": "2023-08-01T09:45:56.220Z"
   },
   {
    "duration": 7,
    "start_time": "2023-08-01T09:45:56.232Z"
   },
   {
    "duration": 9,
    "start_time": "2023-08-01T09:45:56.240Z"
   },
   {
    "duration": 10,
    "start_time": "2023-08-01T09:45:56.250Z"
   },
   {
    "duration": 4,
    "start_time": "2023-08-01T09:45:56.262Z"
   },
   {
    "duration": 5,
    "start_time": "2023-08-01T09:45:56.267Z"
   },
   {
    "duration": 13,
    "start_time": "2023-08-01T09:45:56.273Z"
   },
   {
    "duration": 6,
    "start_time": "2023-08-01T09:45:56.287Z"
   },
   {
    "duration": 27,
    "start_time": "2023-08-01T09:45:56.294Z"
   },
   {
    "duration": 4,
    "start_time": "2023-08-01T09:45:56.322Z"
   },
   {
    "duration": 130,
    "start_time": "2023-08-01T09:45:56.328Z"
   },
   {
    "duration": 13,
    "start_time": "2023-08-01T09:45:56.460Z"
   },
   {
    "duration": 24,
    "start_time": "2023-08-01T09:45:56.475Z"
   },
   {
    "duration": 103,
    "start_time": "2023-08-01T09:45:56.501Z"
   },
   {
    "duration": 134,
    "start_time": "2023-08-01T09:45:56.606Z"
   },
   {
    "duration": 133,
    "start_time": "2023-08-01T09:45:56.742Z"
   },
   {
    "duration": 9,
    "start_time": "2023-08-01T09:45:56.877Z"
   },
   {
    "duration": 158,
    "start_time": "2023-08-01T09:45:56.887Z"
   },
   {
    "duration": 83,
    "start_time": "2023-08-01T09:45:57.047Z"
   },
   {
    "duration": 6,
    "start_time": "2023-08-01T09:45:57.132Z"
   },
   {
    "duration": 22,
    "start_time": "2023-08-01T09:45:57.139Z"
   },
   {
    "duration": 152,
    "start_time": "2023-08-01T09:45:57.163Z"
   },
   {
    "duration": 103,
    "start_time": "2023-08-01T09:45:57.319Z"
   },
   {
    "duration": 9,
    "start_time": "2023-08-01T09:45:57.423Z"
   },
   {
    "duration": 150,
    "start_time": "2023-08-01T09:45:57.434Z"
   },
   {
    "duration": 156,
    "start_time": "2023-08-01T09:45:57.585Z"
   },
   {
    "duration": 3,
    "start_time": "2023-08-01T09:45:57.743Z"
   },
   {
    "duration": 24,
    "start_time": "2023-08-01T09:45:57.748Z"
   },
   {
    "duration": 3,
    "start_time": "2023-08-01T09:45:57.773Z"
   },
   {
    "duration": 20,
    "start_time": "2023-08-01T09:45:57.778Z"
   },
   {
    "duration": 21,
    "start_time": "2023-08-01T09:45:57.799Z"
   },
   {
    "duration": 17,
    "start_time": "2023-08-01T09:45:57.823Z"
   },
   {
    "duration": 14,
    "start_time": "2023-08-01T09:45:57.842Z"
   },
   {
    "duration": 8,
    "start_time": "2023-08-01T09:45:57.857Z"
   },
   {
    "duration": 165,
    "start_time": "2023-08-01T09:45:57.867Z"
   },
   {
    "duration": 9,
    "start_time": "2023-08-01T09:45:58.033Z"
   },
   {
    "duration": 158,
    "start_time": "2023-08-01T09:45:58.043Z"
   },
   {
    "duration": 18,
    "start_time": "2023-08-01T09:45:58.203Z"
   },
   {
    "duration": 134,
    "start_time": "2023-08-01T09:45:58.223Z"
   },
   {
    "duration": 10,
    "start_time": "2023-08-01T09:45:58.358Z"
   },
   {
    "duration": 157,
    "start_time": "2023-08-01T09:45:58.369Z"
   },
   {
    "duration": 4,
    "start_time": "2023-08-01T09:45:58.527Z"
   },
   {
    "duration": 61,
    "start_time": "2023-08-01T09:45:58.532Z"
   },
   {
    "duration": 204,
    "start_time": "2023-08-01T09:45:58.594Z"
   },
   {
    "duration": 5,
    "start_time": "2023-08-01T09:45:58.799Z"
   },
   {
    "duration": 17,
    "start_time": "2023-08-01T09:45:58.805Z"
   },
   {
    "duration": 20,
    "start_time": "2023-08-01T09:45:58.823Z"
   },
   {
    "duration": 14,
    "start_time": "2023-08-01T09:45:58.844Z"
   },
   {
    "duration": 4,
    "start_time": "2023-08-01T09:45:58.860Z"
   },
   {
    "duration": 1235,
    "start_time": "2023-08-01T12:30:50.438Z"
   },
   {
    "duration": 76,
    "start_time": "2023-08-01T12:30:51.676Z"
   },
   {
    "duration": 4,
    "start_time": "2023-08-01T12:30:51.754Z"
   },
   {
    "duration": 18,
    "start_time": "2023-08-01T12:30:51.762Z"
   },
   {
    "duration": 13,
    "start_time": "2023-08-01T12:30:51.782Z"
   },
   {
    "duration": 18,
    "start_time": "2023-08-01T12:30:51.796Z"
   },
   {
    "duration": 17,
    "start_time": "2023-08-01T12:30:51.816Z"
   },
   {
    "duration": 36,
    "start_time": "2023-08-01T12:30:51.835Z"
   },
   {
    "duration": 8,
    "start_time": "2023-08-01T12:30:51.873Z"
   },
   {
    "duration": 12,
    "start_time": "2023-08-01T12:30:51.885Z"
   },
   {
    "duration": 12,
    "start_time": "2023-08-01T12:30:51.899Z"
   },
   {
    "duration": 22,
    "start_time": "2023-08-01T12:30:51.913Z"
   },
   {
    "duration": 41,
    "start_time": "2023-08-01T12:30:51.937Z"
   },
   {
    "duration": 6,
    "start_time": "2023-08-01T12:30:51.980Z"
   },
   {
    "duration": 8,
    "start_time": "2023-08-01T12:30:51.988Z"
   },
   {
    "duration": 24,
    "start_time": "2023-08-01T12:30:51.999Z"
   },
   {
    "duration": 15,
    "start_time": "2023-08-01T12:30:52.026Z"
   },
   {
    "duration": 12,
    "start_time": "2023-08-01T12:30:52.043Z"
   },
   {
    "duration": 28,
    "start_time": "2023-08-01T12:30:52.057Z"
   },
   {
    "duration": 160,
    "start_time": "2023-08-01T12:30:52.087Z"
   },
   {
    "duration": 25,
    "start_time": "2023-08-01T12:30:52.248Z"
   },
   {
    "duration": 12,
    "start_time": "2023-08-01T12:30:52.275Z"
   },
   {
    "duration": 169,
    "start_time": "2023-08-01T12:30:52.290Z"
   },
   {
    "duration": 185,
    "start_time": "2023-08-01T12:30:52.461Z"
   },
   {
    "duration": 168,
    "start_time": "2023-08-01T12:30:52.648Z"
   },
   {
    "duration": 11,
    "start_time": "2023-08-01T12:30:52.818Z"
   },
   {
    "duration": 184,
    "start_time": "2023-08-01T12:30:52.831Z"
   },
   {
    "duration": 111,
    "start_time": "2023-08-01T12:30:53.019Z"
   },
   {
    "duration": 5,
    "start_time": "2023-08-01T12:30:53.132Z"
   },
   {
    "duration": 25,
    "start_time": "2023-08-01T12:30:53.139Z"
   },
   {
    "duration": 179,
    "start_time": "2023-08-01T12:30:53.166Z"
   },
   {
    "duration": 131,
    "start_time": "2023-08-01T12:30:53.347Z"
   },
   {
    "duration": 11,
    "start_time": "2023-08-01T12:30:53.480Z"
   },
   {
    "duration": 184,
    "start_time": "2023-08-01T12:30:53.493Z"
   },
   {
    "duration": 227,
    "start_time": "2023-08-01T12:30:53.679Z"
   },
   {
    "duration": 4,
    "start_time": "2023-08-01T12:30:53.908Z"
   },
   {
    "duration": 29,
    "start_time": "2023-08-01T12:30:53.913Z"
   },
   {
    "duration": 17,
    "start_time": "2023-08-01T12:30:53.944Z"
   },
   {
    "duration": 27,
    "start_time": "2023-08-01T12:30:53.963Z"
   },
   {
    "duration": 5,
    "start_time": "2023-08-01T12:30:53.993Z"
   },
   {
    "duration": 31,
    "start_time": "2023-08-01T12:30:54.000Z"
   },
   {
    "duration": 26,
    "start_time": "2023-08-01T12:30:54.058Z"
   },
   {
    "duration": 16,
    "start_time": "2023-08-01T12:30:54.086Z"
   },
   {
    "duration": 249,
    "start_time": "2023-08-01T12:30:54.104Z"
   },
   {
    "duration": 11,
    "start_time": "2023-08-01T12:30:54.359Z"
   },
   {
    "duration": 171,
    "start_time": "2023-08-01T12:30:54.372Z"
   },
   {
    "duration": 21,
    "start_time": "2023-08-01T12:30:54.545Z"
   },
   {
    "duration": 176,
    "start_time": "2023-08-01T12:30:54.567Z"
   },
   {
    "duration": 22,
    "start_time": "2023-08-01T12:30:54.745Z"
   },
   {
    "duration": 181,
    "start_time": "2023-08-01T12:30:54.770Z"
   },
   {
    "duration": 5,
    "start_time": "2023-08-01T12:30:54.959Z"
   },
   {
    "duration": 67,
    "start_time": "2023-08-01T12:30:54.965Z"
   },
   {
    "duration": 217,
    "start_time": "2023-08-01T12:30:55.034Z"
   },
   {
    "duration": 9,
    "start_time": "2023-08-01T12:30:55.253Z"
   },
   {
    "duration": 10,
    "start_time": "2023-08-01T12:30:55.263Z"
   },
   {
    "duration": 31,
    "start_time": "2023-08-01T12:30:55.275Z"
   },
   {
    "duration": 17,
    "start_time": "2023-08-01T12:30:55.309Z"
   },
   {
    "duration": 32,
    "start_time": "2023-08-01T12:30:55.329Z"
   },
   {
    "duration": 72,
    "start_time": "2023-08-01T13:10:57.584Z"
   },
   {
    "duration": 1290,
    "start_time": "2023-08-01T13:11:02.579Z"
   },
   {
    "duration": 310,
    "start_time": "2023-08-01T13:11:03.872Z"
   },
   {
    "duration": 5,
    "start_time": "2023-08-01T13:11:04.188Z"
   },
   {
    "duration": 18,
    "start_time": "2023-08-01T13:11:04.196Z"
   },
   {
    "duration": 14,
    "start_time": "2023-08-01T13:11:04.217Z"
   },
   {
    "duration": 21,
    "start_time": "2023-08-01T13:11:04.233Z"
   },
   {
    "duration": 17,
    "start_time": "2023-08-01T13:11:04.256Z"
   },
   {
    "duration": 124,
    "start_time": "2023-08-01T13:11:04.275Z"
   },
   {
    "duration": 7,
    "start_time": "2023-08-01T13:11:04.401Z"
   },
   {
    "duration": 15,
    "start_time": "2023-08-01T13:11:04.410Z"
   },
   {
    "duration": 15,
    "start_time": "2023-08-01T13:11:04.426Z"
   },
   {
    "duration": 19,
    "start_time": "2023-08-01T13:11:04.442Z"
   },
   {
    "duration": 17,
    "start_time": "2023-08-01T13:11:04.464Z"
   },
   {
    "duration": 5,
    "start_time": "2023-08-01T13:11:04.485Z"
   },
   {
    "duration": 6,
    "start_time": "2023-08-01T13:11:04.492Z"
   },
   {
    "duration": 12,
    "start_time": "2023-08-01T13:11:04.500Z"
   },
   {
    "duration": 85,
    "start_time": "2023-08-01T13:11:04.514Z"
   },
   {
    "duration": 158,
    "start_time": "2023-08-01T13:11:04.601Z"
   },
   {
    "duration": 13,
    "start_time": "2023-08-01T13:11:04.760Z"
   },
   {
    "duration": 138,
    "start_time": "2023-08-01T13:11:04.775Z"
   },
   {
    "duration": 14,
    "start_time": "2023-08-01T13:11:04.915Z"
   },
   {
    "duration": 32,
    "start_time": "2023-08-01T13:11:04.931Z"
   },
   {
    "duration": 120,
    "start_time": "2023-08-01T13:11:04.965Z"
   },
   {
    "duration": 166,
    "start_time": "2023-08-01T13:11:05.086Z"
   },
   {
    "duration": 169,
    "start_time": "2023-08-01T13:11:05.259Z"
   },
   {
    "duration": 11,
    "start_time": "2023-08-01T13:11:05.430Z"
   },
   {
    "duration": 178,
    "start_time": "2023-08-01T13:11:05.442Z"
   },
   {
    "duration": 114,
    "start_time": "2023-08-01T13:11:05.621Z"
   },
   {
    "duration": 6,
    "start_time": "2023-08-01T13:11:05.737Z"
   },
   {
    "duration": 26,
    "start_time": "2023-08-01T13:11:05.745Z"
   },
   {
    "duration": 172,
    "start_time": "2023-08-01T13:11:05.773Z"
   },
   {
    "duration": 133,
    "start_time": "2023-08-01T13:11:05.947Z"
   },
   {
    "duration": 12,
    "start_time": "2023-08-01T13:11:06.082Z"
   },
   {
    "duration": 264,
    "start_time": "2023-08-01T13:11:06.095Z"
   },
   {
    "duration": 139,
    "start_time": "2023-08-01T13:11:06.361Z"
   },
   {
    "duration": 8,
    "start_time": "2023-08-01T13:11:06.502Z"
   },
   {
    "duration": 54,
    "start_time": "2023-08-01T13:11:06.511Z"
   },
   {
    "duration": 32,
    "start_time": "2023-08-01T13:11:06.568Z"
   },
   {
    "duration": 57,
    "start_time": "2023-08-01T13:11:06.601Z"
   },
   {
    "duration": 37,
    "start_time": "2023-08-01T13:11:06.660Z"
   },
   {
    "duration": 35,
    "start_time": "2023-08-01T13:11:06.703Z"
   },
   {
    "duration": 19,
    "start_time": "2023-08-01T13:11:06.740Z"
   },
   {
    "duration": 39,
    "start_time": "2023-08-01T13:11:06.761Z"
   },
   {
    "duration": 173,
    "start_time": "2023-08-01T13:11:06.802Z"
   },
   {
    "duration": 11,
    "start_time": "2023-08-01T13:11:06.977Z"
   },
   {
    "duration": 185,
    "start_time": "2023-08-01T13:11:06.990Z"
   },
   {
    "duration": 11,
    "start_time": "2023-08-01T13:11:07.177Z"
   },
   {
    "duration": 277,
    "start_time": "2023-08-01T13:11:07.190Z"
   },
   {
    "duration": 14,
    "start_time": "2023-08-01T13:11:07.469Z"
   },
   {
    "duration": 384,
    "start_time": "2023-08-01T13:11:07.486Z"
   },
   {
    "duration": 4,
    "start_time": "2023-08-01T13:11:07.872Z"
   },
   {
    "duration": 125,
    "start_time": "2023-08-01T13:11:07.878Z"
   },
   {
    "duration": 463,
    "start_time": "2023-08-01T13:11:08.005Z"
   },
   {
    "duration": 6,
    "start_time": "2023-08-01T13:11:08.470Z"
   },
   {
    "duration": 12,
    "start_time": "2023-08-01T13:11:08.477Z"
   },
   {
    "duration": 72,
    "start_time": "2023-08-01T13:11:08.491Z"
   },
   {
    "duration": 16,
    "start_time": "2023-08-01T13:11:08.565Z"
   },
   {
    "duration": 6,
    "start_time": "2023-08-01T13:11:08.582Z"
   },
   {
    "duration": 1502,
    "start_time": "2023-08-04T18:36:59.538Z"
   },
   {
    "duration": 769,
    "start_time": "2023-08-04T18:37:01.042Z"
   },
   {
    "duration": 3,
    "start_time": "2023-08-04T18:37:01.814Z"
   },
   {
    "duration": 32,
    "start_time": "2023-08-04T18:37:01.822Z"
   },
   {
    "duration": 28,
    "start_time": "2023-08-04T18:37:01.856Z"
   },
   {
    "duration": 39,
    "start_time": "2023-08-04T18:37:01.887Z"
   },
   {
    "duration": 73,
    "start_time": "2023-08-04T18:37:01.928Z"
   },
   {
    "duration": 32,
    "start_time": "2023-08-04T18:37:02.005Z"
   },
   {
    "duration": 12,
    "start_time": "2023-08-04T18:37:02.040Z"
   },
   {
    "duration": 51,
    "start_time": "2023-08-04T18:37:02.054Z"
   },
   {
    "duration": 20,
    "start_time": "2023-08-04T18:37:02.107Z"
   },
   {
    "duration": 21,
    "start_time": "2023-08-04T18:37:02.128Z"
   },
   {
    "duration": 54,
    "start_time": "2023-08-04T18:37:02.151Z"
   },
   {
    "duration": 5,
    "start_time": "2023-08-04T18:37:02.207Z"
   },
   {
    "duration": 27,
    "start_time": "2023-08-04T18:37:02.213Z"
   },
   {
    "duration": 49,
    "start_time": "2023-08-04T18:37:02.243Z"
   },
   {
    "duration": 24,
    "start_time": "2023-08-04T18:37:02.293Z"
   },
   {
    "duration": 23,
    "start_time": "2023-08-04T18:37:02.319Z"
   },
   {
    "duration": 11,
    "start_time": "2023-08-04T18:37:02.344Z"
   },
   {
    "duration": 200,
    "start_time": "2023-08-04T18:37:02.356Z"
   },
   {
    "duration": 34,
    "start_time": "2023-08-04T18:37:02.558Z"
   },
   {
    "duration": 18,
    "start_time": "2023-08-04T18:37:02.594Z"
   },
   {
    "duration": 155,
    "start_time": "2023-08-04T18:37:02.616Z"
   },
   {
    "duration": 198,
    "start_time": "2023-08-04T18:37:02.773Z"
   },
   {
    "duration": 178,
    "start_time": "2023-08-04T18:37:02.973Z"
   },
   {
    "duration": 23,
    "start_time": "2023-08-04T18:37:03.153Z"
   },
   {
    "duration": 233,
    "start_time": "2023-08-04T18:37:03.179Z"
   },
   {
    "duration": 126,
    "start_time": "2023-08-04T18:37:03.416Z"
   },
   {
    "duration": 6,
    "start_time": "2023-08-04T18:37:03.544Z"
   },
   {
    "duration": 24,
    "start_time": "2023-08-04T18:37:03.559Z"
   },
   {
    "duration": 230,
    "start_time": "2023-08-04T18:37:03.585Z"
   },
   {
    "duration": 136,
    "start_time": "2023-08-04T18:37:03.817Z"
   },
   {
    "duration": 20,
    "start_time": "2023-08-04T18:37:03.954Z"
   },
   {
    "duration": 243,
    "start_time": "2023-08-04T18:37:03.976Z"
   },
   {
    "duration": 276,
    "start_time": "2023-08-04T18:37:04.223Z"
   },
   {
    "duration": 9,
    "start_time": "2023-08-04T18:37:04.508Z"
   },
   {
    "duration": 36,
    "start_time": "2023-08-04T18:37:04.519Z"
   },
   {
    "duration": 9,
    "start_time": "2023-08-04T18:37:04.557Z"
   },
   {
    "duration": 43,
    "start_time": "2023-08-04T18:37:04.568Z"
   },
   {
    "duration": 4,
    "start_time": "2023-08-04T18:37:04.614Z"
   },
   {
    "duration": 38,
    "start_time": "2023-08-04T18:37:04.620Z"
   },
   {
    "duration": 48,
    "start_time": "2023-08-04T18:37:04.660Z"
   },
   {
    "duration": 11,
    "start_time": "2023-08-04T18:37:04.710Z"
   },
   {
    "duration": 185,
    "start_time": "2023-08-04T18:37:04.723Z"
   },
   {
    "duration": 11,
    "start_time": "2023-08-04T18:37:04.910Z"
   },
   {
    "duration": 213,
    "start_time": "2023-08-04T18:37:04.922Z"
   },
   {
    "duration": 9,
    "start_time": "2023-08-04T18:37:05.137Z"
   },
   {
    "duration": 195,
    "start_time": "2023-08-04T18:37:05.148Z"
   },
   {
    "duration": 28,
    "start_time": "2023-08-04T18:37:05.345Z"
   },
   {
    "duration": 205,
    "start_time": "2023-08-04T18:37:05.375Z"
   },
   {
    "duration": 6,
    "start_time": "2023-08-04T18:37:05.582Z"
   },
   {
    "duration": 94,
    "start_time": "2023-08-04T18:37:05.589Z"
   },
   {
    "duration": 252,
    "start_time": "2023-08-04T18:37:05.685Z"
   },
   {
    "duration": 5,
    "start_time": "2023-08-04T18:37:05.939Z"
   },
   {
    "duration": 42,
    "start_time": "2023-08-04T18:37:05.946Z"
   },
   {
    "duration": 29,
    "start_time": "2023-08-04T18:37:05.994Z"
   },
   {
    "duration": 22,
    "start_time": "2023-08-04T18:37:06.025Z"
   },
   {
    "duration": 9,
    "start_time": "2023-08-04T18:37:06.049Z"
   },
   {
    "duration": 11,
    "start_time": "2023-08-04T18:38:04.855Z"
   },
   {
    "duration": 11,
    "start_time": "2023-08-04T18:38:17.491Z"
   },
   {
    "duration": 6,
    "start_time": "2023-08-04T18:38:25.717Z"
   },
   {
    "duration": 5,
    "start_time": "2023-08-04T18:40:58.534Z"
   },
   {
    "duration": 1503,
    "start_time": "2023-08-05T16:11:31.765Z"
   },
   {
    "duration": 334,
    "start_time": "2023-08-05T16:11:33.270Z"
   },
   {
    "duration": 4,
    "start_time": "2023-08-05T16:11:33.606Z"
   },
   {
    "duration": 26,
    "start_time": "2023-08-05T16:11:33.614Z"
   },
   {
    "duration": 18,
    "start_time": "2023-08-05T16:11:33.642Z"
   },
   {
    "duration": 12,
    "start_time": "2023-08-05T16:11:33.662Z"
   },
   {
    "duration": 34,
    "start_time": "2023-08-05T16:11:33.676Z"
   },
   {
    "duration": 30,
    "start_time": "2023-08-05T16:11:33.712Z"
   },
   {
    "duration": 7,
    "start_time": "2023-08-05T16:11:33.744Z"
   },
   {
    "duration": 17,
    "start_time": "2023-08-05T16:11:33.754Z"
   },
   {
    "duration": 12,
    "start_time": "2023-08-05T16:11:33.773Z"
   },
   {
    "duration": 23,
    "start_time": "2023-08-05T16:11:33.787Z"
   },
   {
    "duration": 23,
    "start_time": "2023-08-05T16:11:33.812Z"
   },
   {
    "duration": 16,
    "start_time": "2023-08-05T16:11:33.838Z"
   },
   {
    "duration": 12,
    "start_time": "2023-08-05T16:11:33.856Z"
   },
   {
    "duration": 10,
    "start_time": "2023-08-05T16:11:33.869Z"
   },
   {
    "duration": 7,
    "start_time": "2023-08-05T16:11:33.883Z"
   },
   {
    "duration": 22,
    "start_time": "2023-08-05T16:11:33.893Z"
   },
   {
    "duration": 6,
    "start_time": "2023-08-05T16:11:33.918Z"
   },
   {
    "duration": 191,
    "start_time": "2023-08-05T16:11:33.926Z"
   },
   {
    "duration": 20,
    "start_time": "2023-08-05T16:11:34.119Z"
   },
   {
    "duration": 28,
    "start_time": "2023-08-05T16:11:34.141Z"
   },
   {
    "duration": 138,
    "start_time": "2023-08-05T16:11:34.171Z"
   },
   {
    "duration": 210,
    "start_time": "2023-08-05T16:11:34.311Z"
   },
   {
    "duration": 178,
    "start_time": "2023-08-05T16:11:34.523Z"
   },
   {
    "duration": 12,
    "start_time": "2023-08-05T16:11:34.703Z"
   },
   {
    "duration": 258,
    "start_time": "2023-08-05T16:11:34.717Z"
   },
   {
    "duration": 117,
    "start_time": "2023-08-05T16:11:34.981Z"
   },
   {
    "duration": 8,
    "start_time": "2023-08-05T16:11:35.101Z"
   },
   {
    "duration": 15,
    "start_time": "2023-08-05T16:11:35.111Z"
   },
   {
    "duration": 200,
    "start_time": "2023-08-05T16:11:35.128Z"
   },
   {
    "duration": 139,
    "start_time": "2023-08-05T16:11:35.330Z"
   },
   {
    "duration": 16,
    "start_time": "2023-08-05T16:11:35.471Z"
   },
   {
    "duration": 211,
    "start_time": "2023-08-05T16:11:35.489Z"
   },
   {
    "duration": 224,
    "start_time": "2023-08-05T16:11:35.702Z"
   },
   {
    "duration": 5,
    "start_time": "2023-08-05T16:11:35.928Z"
   },
   {
    "duration": 53,
    "start_time": "2023-08-05T16:11:35.935Z"
   },
   {
    "duration": 4,
    "start_time": "2023-08-05T16:11:35.990Z"
   },
   {
    "duration": 24,
    "start_time": "2023-08-05T16:11:35.996Z"
   },
   {
    "duration": 4,
    "start_time": "2023-08-05T16:11:36.021Z"
   },
   {
    "duration": 46,
    "start_time": "2023-08-05T16:11:36.027Z"
   },
   {
    "duration": 18,
    "start_time": "2023-08-05T16:11:36.075Z"
   },
   {
    "duration": 30,
    "start_time": "2023-08-05T16:11:36.095Z"
   },
   {
    "duration": 179,
    "start_time": "2023-08-05T16:11:36.126Z"
   },
   {
    "duration": 14,
    "start_time": "2023-08-05T16:11:36.308Z"
   },
   {
    "duration": 205,
    "start_time": "2023-08-05T16:11:36.324Z"
   },
   {
    "duration": 12,
    "start_time": "2023-08-05T16:11:36.531Z"
   },
   {
    "duration": 176,
    "start_time": "2023-08-05T16:11:36.544Z"
   },
   {
    "duration": 12,
    "start_time": "2023-08-05T16:11:36.721Z"
   },
   {
    "duration": 202,
    "start_time": "2023-08-05T16:11:36.735Z"
   },
   {
    "duration": 5,
    "start_time": "2023-08-05T16:11:36.939Z"
   },
   {
    "duration": 83,
    "start_time": "2023-08-05T16:11:36.947Z"
   },
   {
    "duration": 226,
    "start_time": "2023-08-05T16:11:37.032Z"
   },
   {
    "duration": 6,
    "start_time": "2023-08-05T16:11:37.266Z"
   },
   {
    "duration": 26,
    "start_time": "2023-08-05T16:11:37.274Z"
   },
   {
    "duration": 22,
    "start_time": "2023-08-05T16:11:37.301Z"
   },
   {
    "duration": 18,
    "start_time": "2023-08-05T16:11:37.324Z"
   },
   {
    "duration": 6,
    "start_time": "2023-08-05T16:11:37.344Z"
   },
   {
    "duration": 8,
    "start_time": "2023-08-05T16:12:51.890Z"
   },
   {
    "duration": 7,
    "start_time": "2023-08-05T16:13:15.849Z"
   },
   {
    "duration": 5,
    "start_time": "2023-08-05T16:13:54.858Z"
   },
   {
    "duration": 7,
    "start_time": "2023-08-05T16:15:29.018Z"
   },
   {
    "duration": 6,
    "start_time": "2023-08-05T16:17:01.944Z"
   },
   {
    "duration": 7,
    "start_time": "2023-08-05T16:17:03.431Z"
   },
   {
    "duration": 6,
    "start_time": "2023-08-05T16:18:13.168Z"
   },
   {
    "duration": 9,
    "start_time": "2023-08-05T16:18:15.294Z"
   },
   {
    "duration": 6,
    "start_time": "2023-08-05T16:21:42.461Z"
   },
   {
    "duration": 6,
    "start_time": "2023-08-05T16:22:08.150Z"
   },
   {
    "duration": 6,
    "start_time": "2023-08-05T16:22:14.596Z"
   },
   {
    "duration": 1327,
    "start_time": "2023-08-05T16:43:35.140Z"
   },
   {
    "duration": 100,
    "start_time": "2023-08-05T16:43:36.469Z"
   },
   {
    "duration": 4,
    "start_time": "2023-08-05T16:43:36.572Z"
   },
   {
    "duration": 30,
    "start_time": "2023-08-05T16:43:36.578Z"
   },
   {
    "duration": 64,
    "start_time": "2023-08-05T16:43:36.610Z"
   },
   {
    "duration": 21,
    "start_time": "2023-08-05T16:43:36.675Z"
   },
   {
    "duration": 69,
    "start_time": "2023-08-05T16:43:36.698Z"
   },
   {
    "duration": 21,
    "start_time": "2023-08-05T16:43:36.770Z"
   },
   {
    "duration": 16,
    "start_time": "2023-08-05T16:43:36.794Z"
   },
   {
    "duration": 68,
    "start_time": "2023-08-05T16:43:36.812Z"
   },
   {
    "duration": 27,
    "start_time": "2023-08-05T16:43:36.883Z"
   },
   {
    "duration": 57,
    "start_time": "2023-08-05T16:43:36.913Z"
   },
   {
    "duration": 44,
    "start_time": "2023-08-05T16:43:36.973Z"
   },
   {
    "duration": 48,
    "start_time": "2023-08-05T16:43:37.020Z"
   },
   {
    "duration": 5,
    "start_time": "2023-08-05T16:43:37.070Z"
   },
   {
    "duration": 44,
    "start_time": "2023-08-05T16:43:37.077Z"
   },
   {
    "duration": 43,
    "start_time": "2023-08-05T16:43:37.123Z"
   },
   {
    "duration": 10,
    "start_time": "2023-08-05T16:43:37.169Z"
   },
   {
    "duration": 6,
    "start_time": "2023-08-05T16:43:37.181Z"
   },
   {
    "duration": 313,
    "start_time": "2023-08-05T16:43:37.189Z"
   },
   {
    "duration": 73,
    "start_time": "2023-08-05T16:43:37.504Z"
   },
   {
    "duration": 10,
    "start_time": "2023-08-05T16:43:37.579Z"
   },
   {
    "duration": 287,
    "start_time": "2023-08-05T16:43:37.592Z"
   },
   {
    "duration": 322,
    "start_time": "2023-08-05T16:43:37.881Z"
   },
   {
    "duration": 375,
    "start_time": "2023-08-05T16:43:38.205Z"
   },
   {
    "duration": 12,
    "start_time": "2023-08-05T16:43:38.583Z"
   },
   {
    "duration": 211,
    "start_time": "2023-08-05T16:43:38.597Z"
   },
   {
    "duration": 120,
    "start_time": "2023-08-05T16:43:38.810Z"
   },
   {
    "duration": 6,
    "start_time": "2023-08-05T16:43:38.932Z"
   },
   {
    "duration": 29,
    "start_time": "2023-08-05T16:43:38.940Z"
   },
   {
    "duration": 183,
    "start_time": "2023-08-05T16:43:38.971Z"
   },
   {
    "duration": 129,
    "start_time": "2023-08-05T16:43:39.166Z"
   },
   {
    "duration": 13,
    "start_time": "2023-08-05T16:43:39.298Z"
   },
   {
    "duration": 189,
    "start_time": "2023-08-05T16:43:39.312Z"
   },
   {
    "duration": 219,
    "start_time": "2023-08-05T16:43:39.503Z"
   },
   {
    "duration": 4,
    "start_time": "2023-08-05T16:43:39.724Z"
   },
   {
    "duration": 47,
    "start_time": "2023-08-05T16:43:39.730Z"
   },
   {
    "duration": 5,
    "start_time": "2023-08-05T16:43:39.779Z"
   },
   {
    "duration": 37,
    "start_time": "2023-08-05T16:43:39.785Z"
   },
   {
    "duration": 4,
    "start_time": "2023-08-05T16:43:39.823Z"
   },
   {
    "duration": 43,
    "start_time": "2023-08-05T16:43:39.832Z"
   },
   {
    "duration": 28,
    "start_time": "2023-08-05T16:43:39.877Z"
   },
   {
    "duration": 34,
    "start_time": "2023-08-05T16:43:39.907Z"
   },
   {
    "duration": 231,
    "start_time": "2023-08-05T16:43:39.943Z"
   },
   {
    "duration": 11,
    "start_time": "2023-08-05T16:43:40.176Z"
   },
   {
    "duration": 187,
    "start_time": "2023-08-05T16:43:40.189Z"
   },
   {
    "duration": 13,
    "start_time": "2023-08-05T16:43:40.378Z"
   },
   {
    "duration": 222,
    "start_time": "2023-08-05T16:43:40.393Z"
   },
   {
    "duration": 13,
    "start_time": "2023-08-05T16:43:40.617Z"
   },
   {
    "duration": 221,
    "start_time": "2023-08-05T16:43:40.632Z"
   },
   {
    "duration": 15,
    "start_time": "2023-08-05T16:43:40.855Z"
   },
   {
    "duration": 75,
    "start_time": "2023-08-05T16:43:40.873Z"
   },
   {
    "duration": 248,
    "start_time": "2023-08-05T16:43:40.950Z"
   },
   {
    "duration": 6,
    "start_time": "2023-08-05T16:43:41.201Z"
   },
   {
    "duration": 10,
    "start_time": "2023-08-05T16:43:41.209Z"
   },
   {
    "duration": 18,
    "start_time": "2023-08-05T16:43:41.221Z"
   },
   {
    "duration": 38,
    "start_time": "2023-08-05T16:43:41.241Z"
   },
   {
    "duration": 16,
    "start_time": "2023-08-05T16:43:41.282Z"
   },
   {
    "duration": 7,
    "start_time": "2023-08-05T16:43:41.300Z"
   },
   {
    "duration": 10,
    "start_time": "2023-08-05T16:43:41.309Z"
   },
   {
    "duration": 13,
    "start_time": "2023-08-05T16:43:41.321Z"
   },
   {
    "duration": 68,
    "start_time": "2023-08-05T16:44:14.218Z"
   },
   {
    "duration": 220,
    "start_time": "2023-08-05T16:44:44.765Z"
   },
   {
    "duration": 1214,
    "start_time": "2023-08-05T16:54:53.193Z"
   },
   {
    "duration": 80,
    "start_time": "2023-08-05T16:54:54.409Z"
   },
   {
    "duration": 3,
    "start_time": "2023-08-05T16:54:54.491Z"
   },
   {
    "duration": 45,
    "start_time": "2023-08-05T16:54:54.496Z"
   },
   {
    "duration": 27,
    "start_time": "2023-08-05T16:54:54.544Z"
   },
   {
    "duration": 42,
    "start_time": "2023-08-05T16:54:54.573Z"
   },
   {
    "duration": 64,
    "start_time": "2023-08-05T16:54:54.617Z"
   },
   {
    "duration": 70,
    "start_time": "2023-08-05T16:54:54.683Z"
   },
   {
    "duration": 13,
    "start_time": "2023-08-05T16:54:54.755Z"
   },
   {
    "duration": 30,
    "start_time": "2023-08-05T16:54:54.770Z"
   },
   {
    "duration": 17,
    "start_time": "2023-08-05T16:54:54.801Z"
   },
   {
    "duration": 29,
    "start_time": "2023-08-05T16:54:54.821Z"
   },
   {
    "duration": 53,
    "start_time": "2023-08-05T16:54:54.853Z"
   },
   {
    "duration": 6,
    "start_time": "2023-08-05T16:54:54.911Z"
   },
   {
    "duration": 23,
    "start_time": "2023-08-05T16:54:54.919Z"
   },
   {
    "duration": 19,
    "start_time": "2023-08-05T16:54:54.944Z"
   },
   {
    "duration": 12,
    "start_time": "2023-08-05T16:54:54.965Z"
   },
   {
    "duration": 18,
    "start_time": "2023-08-05T16:54:54.979Z"
   },
   {
    "duration": 10,
    "start_time": "2023-08-05T16:54:54.999Z"
   },
   {
    "duration": 188,
    "start_time": "2023-08-05T16:54:55.010Z"
   },
   {
    "duration": 23,
    "start_time": "2023-08-05T16:54:55.215Z"
   },
   {
    "duration": 28,
    "start_time": "2023-08-05T16:54:55.241Z"
   },
   {
    "duration": 169,
    "start_time": "2023-08-05T16:54:55.270Z"
   },
   {
    "duration": 190,
    "start_time": "2023-08-05T16:54:55.441Z"
   },
   {
    "duration": 170,
    "start_time": "2023-08-05T16:54:55.633Z"
   },
   {
    "duration": 12,
    "start_time": "2023-08-05T16:54:55.805Z"
   },
   {
    "duration": 213,
    "start_time": "2023-08-05T16:54:55.820Z"
   },
   {
    "duration": 128,
    "start_time": "2023-08-05T16:54:56.035Z"
   },
   {
    "duration": 8,
    "start_time": "2023-08-05T16:54:56.167Z"
   },
   {
    "duration": 43,
    "start_time": "2023-08-05T16:54:56.177Z"
   },
   {
    "duration": 245,
    "start_time": "2023-08-05T16:54:56.222Z"
   },
   {
    "duration": 201,
    "start_time": "2023-08-05T16:54:56.468Z"
   },
   {
    "duration": 13,
    "start_time": "2023-08-05T16:54:56.672Z"
   },
   {
    "duration": 222,
    "start_time": "2023-08-05T16:54:56.687Z"
   },
   {
    "duration": 225,
    "start_time": "2023-08-05T16:54:56.911Z"
   },
   {
    "duration": 5,
    "start_time": "2023-08-05T16:54:57.138Z"
   },
   {
    "duration": 42,
    "start_time": "2023-08-05T16:54:57.145Z"
   },
   {
    "duration": 5,
    "start_time": "2023-08-05T16:54:57.189Z"
   },
   {
    "duration": 60,
    "start_time": "2023-08-05T16:54:57.195Z"
   },
   {
    "duration": 17,
    "start_time": "2023-08-05T16:54:57.257Z"
   },
   {
    "duration": 28,
    "start_time": "2023-08-05T16:54:57.280Z"
   },
   {
    "duration": 28,
    "start_time": "2023-08-05T16:54:57.310Z"
   },
   {
    "duration": 15,
    "start_time": "2023-08-05T16:54:57.340Z"
   },
   {
    "duration": 216,
    "start_time": "2023-08-05T16:54:57.356Z"
   },
   {
    "duration": 13,
    "start_time": "2023-08-05T16:54:57.574Z"
   },
   {
    "duration": 222,
    "start_time": "2023-08-05T16:54:57.589Z"
   },
   {
    "duration": 17,
    "start_time": "2023-08-05T16:54:57.813Z"
   },
   {
    "duration": 242,
    "start_time": "2023-08-05T16:54:57.832Z"
   },
   {
    "duration": 13,
    "start_time": "2023-08-05T16:54:58.076Z"
   },
   {
    "duration": 222,
    "start_time": "2023-08-05T16:54:58.090Z"
   },
   {
    "duration": 5,
    "start_time": "2023-08-05T16:54:58.315Z"
   },
   {
    "duration": 110,
    "start_time": "2023-08-05T16:54:58.323Z"
   },
   {
    "duration": 284,
    "start_time": "2023-08-05T16:54:58.435Z"
   },
   {
    "duration": 7,
    "start_time": "2023-08-05T16:54:58.722Z"
   },
   {
    "duration": 17,
    "start_time": "2023-08-05T16:54:58.732Z"
   },
   {
    "duration": 48,
    "start_time": "2023-08-05T16:54:58.751Z"
   },
   {
    "duration": 24,
    "start_time": "2023-08-05T16:54:58.801Z"
   },
   {
    "duration": 25,
    "start_time": "2023-08-05T16:54:58.828Z"
   },
   {
    "duration": 22,
    "start_time": "2023-08-05T16:54:58.855Z"
   },
   {
    "duration": 18,
    "start_time": "2023-08-05T16:54:58.881Z"
   },
   {
    "duration": 18,
    "start_time": "2023-08-05T16:54:58.900Z"
   },
   {
    "duration": 1122,
    "start_time": "2023-09-11T11:01:31.409Z"
   },
   {
    "duration": 851,
    "start_time": "2023-09-11T11:01:32.533Z"
   },
   {
    "duration": 5,
    "start_time": "2023-09-11T11:01:33.391Z"
   },
   {
    "duration": 20,
    "start_time": "2023-09-11T11:01:33.398Z"
   },
   {
    "duration": 9,
    "start_time": "2023-09-11T11:01:33.421Z"
   },
   {
    "duration": 12,
    "start_time": "2023-09-11T11:01:33.431Z"
   },
   {
    "duration": 31,
    "start_time": "2023-09-11T11:01:33.449Z"
   },
   {
    "duration": 23,
    "start_time": "2023-09-11T11:01:33.482Z"
   },
   {
    "duration": 15,
    "start_time": "2023-09-11T11:01:33.507Z"
   },
   {
    "duration": 17,
    "start_time": "2023-09-11T11:01:33.523Z"
   },
   {
    "duration": 33,
    "start_time": "2023-09-11T11:01:33.542Z"
   },
   {
    "duration": 10,
    "start_time": "2023-09-11T11:01:33.586Z"
   },
   {
    "duration": 62,
    "start_time": "2023-09-11T11:01:33.598Z"
   },
   {
    "duration": 7,
    "start_time": "2023-09-11T11:01:33.666Z"
   },
   {
    "duration": 18,
    "start_time": "2023-09-11T11:01:33.675Z"
   },
   {
    "duration": 73,
    "start_time": "2023-09-11T11:01:33.694Z"
   },
   {
    "duration": 18,
    "start_time": "2023-09-11T11:01:33.777Z"
   },
   {
    "duration": 15,
    "start_time": "2023-09-11T11:01:33.797Z"
   },
   {
    "duration": 19,
    "start_time": "2023-09-11T11:01:33.813Z"
   },
   {
    "duration": 156,
    "start_time": "2023-09-11T11:01:33.833Z"
   },
   {
    "duration": 13,
    "start_time": "2023-09-11T11:01:33.995Z"
   },
   {
    "duration": 60,
    "start_time": "2023-09-11T11:01:34.010Z"
   },
   {
    "duration": 145,
    "start_time": "2023-09-11T11:01:34.072Z"
   },
   {
    "duration": 199,
    "start_time": "2023-09-11T11:01:34.218Z"
   },
   {
    "duration": 192,
    "start_time": "2023-09-11T11:01:34.419Z"
   },
   {
    "duration": 9,
    "start_time": "2023-09-11T11:01:34.612Z"
   },
   {
    "duration": 199,
    "start_time": "2023-09-11T11:01:34.623Z"
   },
   {
    "duration": 113,
    "start_time": "2023-09-11T11:01:34.824Z"
   },
   {
    "duration": 6,
    "start_time": "2023-09-11T11:01:34.939Z"
   },
   {
    "duration": 36,
    "start_time": "2023-09-11T11:01:34.948Z"
   },
   {
    "duration": 198,
    "start_time": "2023-09-11T11:01:34.986Z"
   },
   {
    "duration": 118,
    "start_time": "2023-09-11T11:01:35.186Z"
   },
   {
    "duration": 9,
    "start_time": "2023-09-11T11:01:35.305Z"
   },
   {
    "duration": 186,
    "start_time": "2023-09-11T11:01:35.315Z"
   },
   {
    "duration": 193,
    "start_time": "2023-09-11T11:01:35.503Z"
   },
   {
    "duration": 4,
    "start_time": "2023-09-11T11:01:35.697Z"
   },
   {
    "duration": 95,
    "start_time": "2023-09-11T11:01:35.702Z"
   },
   {
    "duration": 3,
    "start_time": "2023-09-11T11:01:35.799Z"
   },
   {
    "duration": 34,
    "start_time": "2023-09-11T11:01:35.803Z"
   },
   {
    "duration": 43,
    "start_time": "2023-09-11T11:01:35.839Z"
   },
   {
    "duration": 20,
    "start_time": "2023-09-11T11:01:35.885Z"
   },
   {
    "duration": 14,
    "start_time": "2023-09-11T11:01:35.906Z"
   },
   {
    "duration": 8,
    "start_time": "2023-09-11T11:01:35.922Z"
   },
   {
    "duration": 197,
    "start_time": "2023-09-11T11:01:35.931Z"
   },
   {
    "duration": 30,
    "start_time": "2023-09-11T11:01:36.129Z"
   },
   {
    "duration": 173,
    "start_time": "2023-09-11T11:01:36.161Z"
   },
   {
    "duration": 28,
    "start_time": "2023-09-11T11:01:36.336Z"
   },
   {
    "duration": 157,
    "start_time": "2023-09-11T11:01:36.366Z"
   },
   {
    "duration": 9,
    "start_time": "2023-09-11T11:01:36.524Z"
   },
   {
    "duration": 186,
    "start_time": "2023-09-11T11:01:36.535Z"
   },
   {
    "duration": 3,
    "start_time": "2023-09-11T11:01:36.723Z"
   },
   {
    "duration": 82,
    "start_time": "2023-09-11T11:01:36.727Z"
   },
   {
    "duration": 230,
    "start_time": "2023-09-11T11:01:36.810Z"
   },
   {
    "duration": 15,
    "start_time": "2023-09-11T11:01:37.045Z"
   },
   {
    "duration": 8,
    "start_time": "2023-09-11T11:01:37.061Z"
   },
   {
    "duration": 37,
    "start_time": "2023-09-11T11:01:37.071Z"
   },
   {
    "duration": 16,
    "start_time": "2023-09-11T11:01:37.109Z"
   },
   {
    "duration": 6,
    "start_time": "2023-09-11T11:01:37.127Z"
   },
   {
    "duration": 6,
    "start_time": "2023-09-11T11:01:37.134Z"
   },
   {
    "duration": 19,
    "start_time": "2023-09-11T11:01:37.141Z"
   },
   {
    "duration": 25,
    "start_time": "2023-09-11T11:01:37.161Z"
   },
   {
    "duration": 267,
    "start_time": "2023-09-11T11:06:02.135Z"
   },
   {
    "duration": 249,
    "start_time": "2023-09-11T11:06:25.892Z"
   },
   {
    "duration": 293,
    "start_time": "2023-09-11T11:06:37.203Z"
   },
   {
    "duration": 288,
    "start_time": "2023-09-11T11:06:42.436Z"
   },
   {
    "duration": 406,
    "start_time": "2023-09-11T11:07:08.769Z"
   },
   {
    "duration": 367,
    "start_time": "2023-09-11T11:07:16.187Z"
   },
   {
    "duration": 328,
    "start_time": "2023-09-11T11:08:24.290Z"
   },
   {
    "duration": 312,
    "start_time": "2023-09-11T11:09:12.187Z"
   },
   {
    "duration": 294,
    "start_time": "2023-09-11T11:09:33.684Z"
   },
   {
    "duration": 323,
    "start_time": "2023-09-11T11:11:44.311Z"
   },
   {
    "duration": 316,
    "start_time": "2023-09-11T11:13:59.804Z"
   },
   {
    "duration": 288,
    "start_time": "2023-09-11T11:14:28.932Z"
   },
   {
    "duration": 300,
    "start_time": "2023-09-11T11:19:15.392Z"
   },
   {
    "duration": 330,
    "start_time": "2023-09-11T11:19:21.992Z"
   },
   {
    "duration": 475,
    "start_time": "2023-09-11T11:19:34.580Z"
   },
   {
    "duration": 342,
    "start_time": "2023-09-11T11:22:22.590Z"
   },
   {
    "duration": 348,
    "start_time": "2023-09-11T11:22:42.281Z"
   },
   {
    "duration": 1053,
    "start_time": "2023-09-11T12:45:10.560Z"
   },
   {
    "duration": 66,
    "start_time": "2023-09-11T12:45:11.615Z"
   },
   {
    "duration": 2,
    "start_time": "2023-09-11T12:45:11.682Z"
   },
   {
    "duration": 27,
    "start_time": "2023-09-11T12:45:11.686Z"
   },
   {
    "duration": 22,
    "start_time": "2023-09-11T12:45:11.715Z"
   },
   {
    "duration": 9,
    "start_time": "2023-09-11T12:45:11.739Z"
   },
   {
    "duration": 15,
    "start_time": "2023-09-11T12:45:11.749Z"
   },
   {
    "duration": 15,
    "start_time": "2023-09-11T12:45:11.765Z"
   },
   {
    "duration": 5,
    "start_time": "2023-09-11T12:45:11.782Z"
   },
   {
    "duration": 10,
    "start_time": "2023-09-11T12:45:11.788Z"
   },
   {
    "duration": 27,
    "start_time": "2023-09-11T12:45:11.799Z"
   },
   {
    "duration": 9,
    "start_time": "2023-09-11T12:45:11.828Z"
   },
   {
    "duration": 15,
    "start_time": "2023-09-11T12:45:11.839Z"
   },
   {
    "duration": 4,
    "start_time": "2023-09-11T12:45:11.857Z"
   },
   {
    "duration": 11,
    "start_time": "2023-09-11T12:45:11.862Z"
   },
   {
    "duration": 12,
    "start_time": "2023-09-11T12:45:11.874Z"
   },
   {
    "duration": 15,
    "start_time": "2023-09-11T12:45:11.888Z"
   },
   {
    "duration": 11,
    "start_time": "2023-09-11T12:45:11.904Z"
   },
   {
    "duration": 4,
    "start_time": "2023-09-11T12:45:11.916Z"
   },
   {
    "duration": 124,
    "start_time": "2023-09-11T12:45:11.921Z"
   },
   {
    "duration": 11,
    "start_time": "2023-09-11T12:45:12.047Z"
   },
   {
    "duration": 7,
    "start_time": "2023-09-11T12:45:12.059Z"
   },
   {
    "duration": 123,
    "start_time": "2023-09-11T12:45:12.067Z"
   },
   {
    "duration": 158,
    "start_time": "2023-09-11T12:45:12.192Z"
   },
   {
    "duration": 164,
    "start_time": "2023-09-11T12:45:12.352Z"
   },
   {
    "duration": 10,
    "start_time": "2023-09-11T12:45:12.517Z"
   },
   {
    "duration": 284,
    "start_time": "2023-09-11T12:45:12.528Z"
   },
   {
    "duration": 5,
    "start_time": "2023-09-11T12:45:12.813Z"
   },
   {
    "duration": 24,
    "start_time": "2023-09-11T12:45:12.820Z"
   },
   {
    "duration": 282,
    "start_time": "2023-09-11T12:45:12.846Z"
   },
   {
    "duration": 16,
    "start_time": "2023-09-11T12:45:13.130Z"
   },
   {
    "duration": 512,
    "start_time": "2023-09-11T12:45:13.147Z"
   },
   {
    "duration": 3,
    "start_time": "2023-09-11T12:45:13.660Z"
   },
   {
    "duration": 90,
    "start_time": "2023-09-11T12:45:13.665Z"
   },
   {
    "duration": 3,
    "start_time": "2023-09-11T12:45:13.756Z"
   },
   {
    "duration": 33,
    "start_time": "2023-09-11T12:45:13.761Z"
   },
   {
    "duration": 50,
    "start_time": "2023-09-11T12:45:13.796Z"
   },
   {
    "duration": 206,
    "start_time": "2023-09-11T12:45:13.849Z"
   },
   {
    "duration": 16,
    "start_time": "2023-09-11T12:45:14.057Z"
   },
   {
    "duration": 713,
    "start_time": "2023-09-11T12:45:14.077Z"
   },
   {
    "duration": 463,
    "start_time": "2023-09-11T12:45:14.846Z"
   },
   {
    "duration": 3,
    "start_time": "2023-09-11T12:45:15.311Z"
   },
   {
    "duration": 82,
    "start_time": "2023-09-11T12:45:15.316Z"
   },
   {
    "duration": 208,
    "start_time": "2023-09-11T12:45:15.401Z"
   },
   {
    "duration": 6,
    "start_time": "2023-09-11T12:45:15.610Z"
   },
   {
    "duration": 30,
    "start_time": "2023-09-11T12:45:15.618Z"
   },
   {
    "duration": 27,
    "start_time": "2023-09-11T12:45:15.650Z"
   },
   {
    "duration": 15,
    "start_time": "2023-09-11T12:45:15.679Z"
   },
   {
    "duration": 9,
    "start_time": "2023-09-11T12:45:15.696Z"
   },
   {
    "duration": 27,
    "start_time": "2023-09-11T12:45:15.707Z"
   },
   {
    "duration": 36,
    "start_time": "2023-09-11T12:45:15.736Z"
   },
   {
    "duration": 19,
    "start_time": "2023-09-11T12:45:15.773Z"
   },
   {
    "duration": 5,
    "start_time": "2023-09-11T12:46:04.290Z"
   },
   {
    "duration": 5,
    "start_time": "2023-09-11T12:46:20.241Z"
   },
   {
    "duration": 7,
    "start_time": "2023-09-11T12:47:56.593Z"
   },
   {
    "duration": 8,
    "start_time": "2023-09-11T12:48:04.104Z"
   },
   {
    "duration": 4,
    "start_time": "2023-09-11T12:48:07.799Z"
   },
   {
    "duration": 8,
    "start_time": "2023-09-11T12:48:21.687Z"
   },
   {
    "duration": 6,
    "start_time": "2023-09-11T12:48:29.311Z"
   },
   {
    "duration": 4,
    "start_time": "2023-09-11T12:58:32.928Z"
   },
   {
    "duration": 5,
    "start_time": "2023-09-11T12:59:01.393Z"
   },
   {
    "duration": 14,
    "start_time": "2023-09-11T12:59:57.127Z"
   }
  ],
  "kernelspec": {
   "display_name": "Python 3 (ipykernel)",
   "language": "python",
   "name": "python3"
  },
  "language_info": {
   "codemirror_mode": {
    "name": "ipython",
    "version": 3
   },
   "file_extension": ".py",
   "mimetype": "text/x-python",
   "name": "python",
   "nbconvert_exporter": "python",
   "pygments_lexer": "ipython3",
   "version": "3.9.5"
  },
  "toc": {
   "base_numbering": 1,
   "nav_menu": {},
   "number_sections": true,
   "sideBar": true,
   "skip_h1_title": true,
   "title_cell": "Table of Contents",
   "title_sidebar": "Contents",
   "toc_cell": false,
   "toc_position": {
    "height": "calc(100% - 180px)",
    "left": "10px",
    "top": "150px",
    "width": "284.767px"
   },
   "toc_section_display": true,
   "toc_window_display": true
  }
 },
 "nbformat": 4,
 "nbformat_minor": 5
}
